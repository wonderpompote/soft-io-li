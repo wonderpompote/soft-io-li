{
 "cells": [
  {
   "cell_type": "code",
   "execution_count": null,
   "metadata": {},
   "outputs": [],
   "source": [
    "\"\"\" Remarque:\n",
    "    - on réutilise le même fichier netcdf que dans check_output_FLEXPART --> pourrait peut-être le garder d'un programme à l'autre ?\n",
    "        --> SURTOUT si on veut utiliser argmax\n",
    "         |-> mais peut-être pas la peine, jsp\n",
    "            --> PBM : loop through chaque flight dans check output flexpart\n",
    "                --> could write a new netcdf file avec juste les trucs qui nous sont utiles --> plus léger à reprendre pour comparaisons ?\n",
    "    - on utilise des chunks et tout mais du coup faudrait pas initialiser un client dask ou jsp quoi ??\n",
    "    - <!> lon et lat values en dur\n",
    "    - faire des fonctions pour recup les stats chimiques parce que là c'est du copié-collé des mêmes opérations\n",
    "    - même pour récups les données chimiques, aussi des copié-collés\n",
    "    - pareil pour l'affichage des résultats, easy peasy avec une fonction\n",
    "\"\"\"\n",
    "from netCDF4 import Dataset\n",
    "#from ncdump import ncdump\n",
    "import numpy as np\n",
    "import pandas as pd\n",
    "import xarray as xr\n",
    "import json\n",
    "\n",
    "#for plotting\n",
    "import hvplot.xarray # fancy plotting for xarray\n",
    "import holoviews as hv\n",
    "import matplotlib.pyplot as plt\n",
    "import geoviews as gv # j'ai pas l'impression qu'on s'en serve de ce truc\n",
    "\n",
    "#for stats\n",
    "import statistics\n",
    "from statistics import mean, median, mode, stdev, median_high\n",
    "\n",
    "#for datetime\n",
    "import datetime\n",
    "from datetime import datetime as dt\n",
    "import matplotlib.dates as mdates\n",
    "from matplotlib.dates import date2num\n",
    "\n",
    "#for cartopy\n",
    "import cartopy.crs as ccrs\n",
    "from cartopy.mpl.ticker import LongitudeFormatter, LatitudeFormatter\n",
    "import cartopy.feature as cfeature"
   ]
  },
  {
   "cell_type": "code",
   "execution_count": null,
   "metadata": {},
   "outputs": [],
   "source": [
    "ds = xr.open_dataset('/o3p/macc/flexpart10.4/flexpart_v10.4_3d7eebf/src/exercises/soft-io-li/flight_2018_001_1h_05deg/10j_100k_output/grid_time_20180603150000.nc')"
   ]
  },
  {
   "cell_type": "code",
   "execution_count": null,
   "metadata": {},
   "outputs": [],
   "source": [
    "ds"
   ]
  },
  {
   "cell_type": "code",
   "execution_count": null,
   "metadata": {},
   "outputs": [],
   "source": [
    "ds.spec001_mr.sizes"
   ]
  },
  {
   "cell_type": "code",
   "execution_count": null,
   "metadata": {},
   "outputs": [],
   "source": [
    "da = ds.spec001_mr.chunk(\n",
    "    {'nageclass': 1, 'pointspec': 1, 'time': 40, 'height': -1, 'latitude': -1, 'longitude': -1}\n",
    ") # -1 --> no chunking along this dimension\n",
    "# let's get rid of the auxilary dimension \"nageclass\", for the sake of clarity:\n",
    "da = da.squeeze(dim='nageclass')\n",
    "da #######"
   ]
  },
  {
   "cell_type": "code",
   "execution_count": null,
   "metadata": {},
   "outputs": [],
   "source": [
    "#spec_argmax = da.argmax(dim=['longitude', 'latitude'])"
   ]
  },
  {
   "cell_type": "code",
   "execution_count": null,
   "metadata": {},
   "outputs": [],
   "source": [
    "## let's grab longitudes and latitudes of max. value of spec001_mr:\n",
    "#lon_argmax = spec_argmax['longitude']\n",
    "#lat_argmax = spec_argmax['latitude']\n",
    "## let's see what's in lon_argmax, for example\n",
    "##lon_argmax"
   ]
  },
  {
   "cell_type": "code",
   "execution_count": null,
   "metadata": {},
   "outputs": [],
   "source": [
    "## the data is not yet computed; in order to actually fire the computation (load data from netcdf and process it), we can call a method \"load\"; it will take a couple of seconds to execute:\n",
    "#lon_argmax.load()\n",
    "#lat_argmax.load()\n",
    "## and let's see what's in lon_argmax, for example:\n",
    "##lon_argmax"
   ]
  },
  {
   "cell_type": "code",
   "execution_count": null,
   "metadata": {},
   "outputs": [],
   "source": [
    "#spec_max = da.isel(longitude=lon_argmax, latitude=lat_argmax)\n",
    "## again, we have to actually load spec_max to see results:\n",
    "#spec_max.load()"
   ]
  },
  {
   "cell_type": "code",
   "execution_count": null,
   "metadata": {},
   "outputs": [],
   "source": [
    "#lon_argmax = lon_argmax.where(spec_max > 0)\n",
    "#lat_argmax = lat_argmax.where(spec_max > 0)\n",
    "#spec_max = spec_max.where(spec_max > 0)\n",
    "##spec_max\n",
    "#\n",
    "#print(lon_argmax)"
   ]
  },
  {
   "cell_type": "code",
   "execution_count": null,
   "metadata": {},
   "outputs": [],
   "source": [
    "da = da.assign_coords(pointspec=da.pointspec) # ajoute la variable pointspec (énumère les releases) en coordonnées\n",
    "da\n",
    "da.size"
   ]
  },
  {
   "cell_type": "code",
   "execution_count": null,
   "metadata": {},
   "outputs": [],
   "source": [
    "da.dims"
   ]
  },
  {
   "cell_type": "code",
   "execution_count": null,
   "metadata": {},
   "outputs": [],
   "source": [
    "da.coords"
   ]
  },
  {
   "cell_type": "code",
   "execution_count": null,
   "metadata": {},
   "outputs": [],
   "source": [
    "type(da)"
   ]
  },
  {
   "cell_type": "code",
   "execution_count": null,
   "metadata": {},
   "outputs": [],
   "source": [
    "print(da.latitude.values)"
   ]
  },
  {
   "cell_type": "code",
   "execution_count": null,
   "metadata": {},
   "outputs": [],
   "source": [
    "print(len(da))"
   ]
  },
  {
   "cell_type": "code",
   "execution_count": null,
   "metadata": {},
   "outputs": [],
   "source": [
    "da.where(da>0)"
   ]
  },
  {
   "cell_type": "code",
   "execution_count": null,
   "metadata": {},
   "outputs": [],
   "source": [
    "da.where(da.pointspec==1)"
   ]
  },
  {
   "cell_type": "code",
   "execution_count": null,
   "metadata": {},
   "outputs": [],
   "source": [
    "bogota = hv.Scatter((-74.1461, 4.7010)).opts(color='pink', size=3)"
   ]
  },
  {
   "cell_type": "code",
   "execution_count": null,
   "metadata": {},
   "outputs": [],
   "source": [
    "frankfurt = hv.Scatter((8.5622, 50.0379)).opts(color='pink', size=3)"
   ]
  },
  {
   "cell_type": "markdown",
   "metadata": {},
   "source": [
    "#### Recup valeurs de NOx du vol"
   ]
  },
  {
   "cell_type": "code",
   "execution_count": null,
   "metadata": {},
   "outputs": [],
   "source": [
    "#db = xr.open_dataset('/o3p/macc/test/NOx_synched/NOx_IAGOS_timeseries_2018060302172202.nc')\n",
    "db = xr.open_dataset('/o3p/macc/test/new_NOx_synched_L2/new_NOx_IAGOS_timeseries_2018060302172202.nc')"
   ]
  },
  {
   "cell_type": "code",
   "execution_count": null,
   "metadata": {
    "tags": []
   },
   "outputs": [],
   "source": [
    "db"
   ]
  },
  {
   "cell_type": "markdown",
   "metadata": {},
   "source": [
    "#### Recup itinéraire du vol"
   ]
  },
  {
   "cell_type": "code",
   "execution_count": null,
   "metadata": {},
   "outputs": [],
   "source": [
    "#flight_path = hv.Scatter((lons, lats)).opts(color='red', size=0.5, )\n",
    "flight_path = hv.Scatter((db.lon, db.lat)).opts(color='red', size=0.25, )"
   ]
  },
  {
   "cell_type": "markdown",
   "metadata": {},
   "source": [
    "#### Recup panaches détectés pendant étape 1"
   ]
  },
  {
   "cell_type": "code",
   "execution_count": null,
   "metadata": {},
   "outputs": [],
   "source": [
    "lons_1 = []\n",
    "lons_2 = []\n",
    "lats_1 = []\n",
    "lats_2 = []\n",
    "\"\"\" <!> lon et lat en dur ici !!! valeurs proches mais PAS == valeurs indiquées dans Plume_info\"\"\"\n",
    "for i in range(len(db.lon)):\n",
    "    if db.lon[i] > -73.3314 and db.lon[i]< -66.6724 :\n",
    "        lons_1.append(db.lon[i])\n",
    "        lats_1.append(db.lat[i])\n",
    "    \"\"\" 4 plumes detected mais FLEXPART a dit 2 pointspec DONC là on englobe les lon des 3 derniers panaches (sont proches) \n",
    "        --> du coup faut aussi pouvoir faire ça dans la part 3 ! regrouper des panaches détectés comme différents dans part 1 \"\"\"\n",
    "    if db.lon[i] > -40.1465 and db.lon[i]< -34.1894 : \n",
    "        lons_2.append(db.lon[i])\n",
    "        lats_2.append(db.lat[i])\n",
    "    \n",
    "first_rel =  hv.Scatter((lons_1, lats_1)).opts(color='yellow', size=0.25, ) \n",
    "second_rel =  hv.Scatter((lons_2, lats_2)).opts(color='yellow', size=0.25, ) "
   ]
  },
  {
   "cell_type": "code",
   "execution_count": null,
   "metadata": {},
   "outputs": [],
   "source": [
    "########### test perso\n"
   ]
  },
  {
   "cell_type": "markdown",
   "metadata": {},
   "source": [
    "#### Recup données statistiques chimiques NOx premier panache"
   ]
  },
  {
   "cell_type": "code",
   "execution_count": null,
   "metadata": {
    "tags": []
   },
   "outputs": [],
   "source": [
    "#Calculate median of NOx values in these regions\n",
    "\"\"\" <!> pourrait faire ça en même temps qu'au dessus, c'est la même boucle \"\"\"\n",
    "NOx_1 = []\n",
    "NOx_2 = []\n",
    "for i in range(len(db.lon)):\n",
    "    if db.lon[i] > -73.3314 and db.lon[i]< -66.6724 :\n",
    "        if db.NOx_P2b[i]> 0:\n",
    "            if db.NOx_P2b_val[i]== 0:\n",
    "                NOx_1.append(db.NOx_P2b[i])\n",
    "    if db.lon[i] > -40.1465 and db.lon[i]< -34.1894 :\n",
    "        if db.NOx_P2b[i]> 0:\n",
    "            if db.NOx_P2b_val[i]== 0:\n",
    "                NOx_2.append(db.NOx_P2b[i])"
   ]
  },
  {
   "cell_type": "code",
   "execution_count": null,
   "metadata": {},
   "outputs": [],
   "source": [
    "############\n",
    "print(type(NOx_1[0]))\n",
    "print(NOx_1[0])\n",
    "print(float(NOx_1[0]))"
   ]
  },
  {
   "cell_type": "code",
   "execution_count": null,
   "metadata": {
    "tags": []
   },
   "outputs": [],
   "source": [
    "if len(NOx_1) > 1:\n",
    "    \"\"\" <?> pourquoi NOx_1_list alors que NOx_1 est déja une liste ?? \n",
    "    ==> met en float !! no problemo du coup \"\"\"\n",
    "    NOx_1_list = [float(n) for n in NOx_1]\n",
    "    mean_NOx_1 = statistics.mean(NOx_1_list) \n",
    "    std_NOx_1 = statistics.stdev(NOx_1_list)\n",
    "    fifth_perc_NOx_1 = np.percentile(NOx_1_list, 5)\n",
    "    nintyfifth_perc_NOx_1 = np.percentile(NOx_1_list, 95)\n",
    "    NOx_1_list=sorted(NOx_1_list)\n",
    "    median_NOx_1 = statistics.median(NOx_1_list)\n",
    "    upper_NOx_1_list = []\n",
    "    lower_NOx_1_list = []\n",
    "\n",
    "    for i in range(len(NOx_1_list)):\n",
    "        if NOx_1_list[i]>median_NOx_1:\n",
    "            upper_NOx_1_list.append(NOx_1_list[i])\n",
    "        if NOx_1_list[i]<median_NOx_1:\n",
    "            lower_NOx_1_list.append(NOx_1_list[i])\n",
    "        \n",
    "    upper_quartile_NOx_1 = statistics.median(upper_NOx_1_list)\n",
    "    lower_quartile_NOx_1 = statistics.median(lower_NOx_1_list)\n",
    "#if flights_JUN_EU > 0:\n",
    "print(\"Number of entries NOx excess 1 :\",len(NOx_1))\n",
    "print(\"             Mean NOx excess 1 :\",mean_NOx_1)\n",
    "print(\"            Stdev NOx excess 1 :\",std_NOx_1)\n",
    "print(\"           Median NOx excess 1 :\",median_NOx_1)\n",
    "print(\"               Q3 NOx excess 1 :\",upper_quartile_NOx_1)\n",
    "print(\"               Q1 NOx excess 1 :\",lower_quartile_NOx_1)\n",
    "print(\"              5th NOx excess 1 :\",fifth_perc_NOx_1)\n",
    "print(\"             95th NOx excess 1 :\",nintyfifth_perc_NOx_1)"
   ]
  },
  {
   "cell_type": "markdown",
   "metadata": {},
   "source": [
    "#### Recup données statistiques chimiques NOx deuxième panache"
   ]
  },
  {
   "cell_type": "code",
   "execution_count": null,
   "metadata": {
    "tags": []
   },
   "outputs": [],
   "source": [
    "if len(NOx_2) > 1:\n",
    "    \"\"\" <?> pourquoi NOx_2_list alors que NOx_2 est déja une liste ?? \"\"\"\n",
    "    NOx_2_list = [float(n) for n in NOx_2]\n",
    "    #print(NOx_2_list)\n",
    "    mean_NOx_2 = statistics.mean(NOx_2_list) \n",
    "    std_NOx_2 = statistics.stdev(NOx_2_list)\n",
    "    fifth_perc_NOx_2 = np.percentile(NOx_2_list, 5)\n",
    "    nintyfifth_perc_NOx_2 = np.percentile(NOx_2_list, 95)\n",
    "    NOx_2_list=sorted(NOx_2_list)\n",
    "    median_NOx_2 = statistics.median(NOx_2_list)\n",
    "    upper_NOx_2_list = []\n",
    "    lower_NOx_2_list = []\n",
    "\n",
    "    for i in range(len(NOx_2_list)):\n",
    "        if NOx_2_list[i]>median_NOx_2:\n",
    "            upper_NOx_2_list.append(NOx_2_list[i])\n",
    "        if NOx_2_list[i]<median_NOx_2:\n",
    "            lower_NOx_2_list.append(NOx_2_list[i])\n",
    "        \n",
    "    upper_quartile_NOx_2 = statistics.median(upper_NOx_2_list)\n",
    "    lower_quartile_NOx_2 = statistics.median(lower_NOx_2_list)\n",
    "#if flights_JUN_EU > 0:\n",
    "print(\"Number of entries NOx excess 2 :\",len(NOx_2))\n",
    "print(\"             Mean NOx excess 2 :\",mean_NOx_2)\n",
    "print(\"            Stdev NOx excess 2 :\",std_NOx_2)\n",
    "print(\"           Median NOx excess 2 :\",median_NOx_2)\n",
    "print(\"               Q3 NOx excess 2 :\",upper_quartile_NOx_2)\n",
    "print(\"               Q1 NOx excess 2 :\",lower_quartile_NOx_2)\n",
    "print(\"              5th NOx excess 2 :\",fifth_perc_NOx_2)\n",
    "print(\"             95th NOx excess 2 :\",nintyfifth_perc_NOx_2)"
   ]
  },
  {
   "cell_type": "markdown",
   "metadata": {},
   "source": [
    "#### Recup données statistiques chimiques CO"
   ]
  },
  {
   "cell_type": "code",
   "execution_count": null,
   "metadata": {
    "tags": []
   },
   "outputs": [],
   "source": [
    "#Calculate median of CO values in these regions\n",
    "CO_1 = []\n",
    "CO_2 = []\n",
    "\n",
    "for i in range(len(db.lon)):\n",
    "    if db.lon[i] > -73.3314 and db.lon[i]< -66.6724 :\n",
    "        if db.CO_P1[i]> 0:\n",
    "            #if db.NOx_P2b_val[i]== 0:\n",
    "                CO_1.append(db.CO_P1[i])\n",
    "    if db.lon[i] > -40.1465 and db.lon[i]< -34.1894 :\n",
    "        if db.CO_P1[i]> 0:\n",
    "            #if db.NOx_P2b_val[i]== 0:\n",
    "                CO_2.append(db.CO_P1[i])\n",
    "                "
   ]
  },
  {
   "cell_type": "code",
   "execution_count": null,
   "metadata": {
    "tags": []
   },
   "outputs": [],
   "source": [
    "if len(CO_1) > 1:\n",
    "    CO_1_list = [float(n) for n in CO_1]\n",
    "    mean_CO_1 = statistics.mean(CO_1_list) \n",
    "    std_CO_1 = statistics.stdev(CO_1_list)\n",
    "    fifth_perc_CO_1 = np.percentile(CO_1_list, 5)\n",
    "    nintyfifth_perc_CO_1 = np.percentile(CO_1_list, 95)\n",
    "    CO_1_list=sorted(CO_1_list)\n",
    "    median_CO_1 = statistics.median(CO_1_list)\n",
    "    upper_CO_1_list = []\n",
    "    lower_CO_1_list = []\n",
    "\n",
    "    for i in range(len(CO_1_list)):\n",
    "        if CO_1_list[i]>median_CO_1:\n",
    "            upper_CO_1_list.append(CO_1_list[i])\n",
    "        if CO_1_list[i]<median_CO_1:\n",
    "            lower_CO_1_list.append(CO_1_list[i])\n",
    "        \n",
    "    upper_quartile_CO_1 = statistics.median(upper_CO_1_list)\n",
    "    lower_quartile_CO_1 = statistics.median(lower_CO_1_list)\n",
    "#if flights_JUN_EU > 0:\n",
    "print(\"Number of entries CO excess 1 :\",len(CO_1))\n",
    "print(\"             Mean CO excess 1 :\",mean_CO_1)\n",
    "print(\"            Stdev CO excess 1 :\",std_CO_1)\n",
    "print(\"           Median CO excess 1 :\",median_CO_1)\n",
    "print(\"               Q3 CO excess 1 :\",upper_quartile_CO_1)\n",
    "print(\"               Q1 CO excess 1 :\",lower_quartile_CO_1)\n",
    "print(\"              5th CO excess 1 :\",fifth_perc_CO_1)\n",
    "print(\"             95th CO excess 1 :\",nintyfifth_perc_CO_1)"
   ]
  },
  {
   "cell_type": "code",
   "execution_count": null,
   "metadata": {
    "tags": []
   },
   "outputs": [],
   "source": [
    "if len(CO_2) > 1:\n",
    "    CO_2_list = [float(n) for n in CO_2]\n",
    "    mean_CO_2 = statistics.mean(CO_2_list) \n",
    "    std_CO_2 = statistics.stdev(CO_2_list)\n",
    "    fifth_perc_CO_2 = np.percentile(CO_2_list, 5)\n",
    "    nintyfifth_perc_CO_2 = np.percentile(CO_2_list, 95)\n",
    "    CO_2_list=sorted(CO_2_list)\n",
    "    median_CO_2 = statistics.median(CO_2_list)\n",
    "    upper_CO_2_list = []\n",
    "    lower_CO_2_list = []\n",
    "\n",
    "    for i in range(len(CO_2_list)):\n",
    "        if CO_2_list[i]>median_CO_2:\n",
    "            upper_CO_2_list.append(CO_2_list[i])\n",
    "        if CO_2_list[i]<median_CO_2:\n",
    "            lower_CO_2_list.append(CO_2_list[i])\n",
    "        \n",
    "    upper_quartile_CO_2 = statistics.median(upper_CO_2_list)\n",
    "    lower_quartile_CO_2 = statistics.median(lower_CO_2_list)\n",
    "#if flights_JUN_EU > 0:\n",
    "print(\"Number of entries CO excess 2 :\",len(CO_2))\n",
    "print(\"             Mean CO excess 2 :\",mean_CO_2)\n",
    "print(\"            Stdev CO excess 2 :\",std_CO_2)\n",
    "print(\"           Median CO excess 2 :\",median_CO_2)\n",
    "print(\"               Q3 CO excess 2 :\",upper_quartile_CO_2)\n",
    "print(\"               Q1 CO excess 2 :\",lower_quartile_CO_2)\n",
    "print(\"              5th CO excess 2 :\",fifth_perc_CO_2)\n",
    "print(\"             95th CO excess 2 :\",nintyfifth_perc_CO_2)"
   ]
  },
  {
   "cell_type": "markdown",
   "metadata": {},
   "source": [
    "#### Recup données statistiques chimiques O3"
   ]
  },
  {
   "cell_type": "code",
   "execution_count": null,
   "metadata": {
    "tags": []
   },
   "outputs": [],
   "source": [
    "#Calculate median of NOx values in these regions\n",
    "O3_1 = []\n",
    "O3_2 = []\n",
    "\n",
    "for i in range(len(db.lon)):\n",
    "    if db.lon[i] > -73.3314 and db.lon[i]< -66.6724 :\n",
    "        if db.O3_P1[i]> 0:\n",
    "            #if db.NOx_P2b_val[i]== 0:\n",
    "                O3_1.append(db.O3_P1[i])\n",
    "    if db.lon[i] > -40.1465 and db.lon[i]< -34.1894 :\n",
    "        if db.O3_P1[i]> 0:\n",
    "            #if db.NOx_P2b_val[i]== 0:\n",
    "                O3_2.append(db.O3_P1[i])\n",
    "                "
   ]
  },
  {
   "cell_type": "code",
   "execution_count": null,
   "metadata": {
    "tags": []
   },
   "outputs": [],
   "source": [
    "if len(O3_1) > 1:\n",
    "    O3_1_list = [float(n) for n in O3_1]\n",
    "    mean_O3_1 = statistics.mean(O3_1_list) \n",
    "    std_O3_1 = statistics.stdev(O3_1_list)\n",
    "    fifth_perc_O3_1 = np.percentile(O3_1_list, 5)\n",
    "    nintyfifth_perc_O3_1 = np.percentile(O3_1_list, 95)\n",
    "    O3_1_list=sorted(O3_1_list)\n",
    "    median_O3_1 = statistics.median(O3_1_list)\n",
    "    upper_O3_1_list = []\n",
    "    lower_O3_1_list = []\n",
    "\n",
    "    for i in range(len(O3_1_list)):\n",
    "        if O3_1_list[i]>median_O3_1:\n",
    "            upper_O3_1_list.append(O3_1_list[i])\n",
    "        if O3_1_list[i]<median_O3_1:\n",
    "            lower_O3_1_list.append(O3_1_list[i])\n",
    "        \n",
    "    upper_quartile_O3_1 = statistics.median(upper_O3_1_list)\n",
    "    lower_quartile_O3_1 = statistics.median(lower_O3_1_list)\n",
    "#if flights_JUN_EU > 0:\n",
    "print(\"Number of entries O3 excess 1 :\",len(O3_1))\n",
    "print(\"             Mean O3 excess 1 :\",mean_O3_1)\n",
    "print(\"            Stdev O3 excess 1 :\",std_O3_1)\n",
    "print(\"           Median O3 excess 1 :\",median_O3_1)\n",
    "print(\"               Q3 O3 excess 1 :\",upper_quartile_O3_1)\n",
    "print(\"               Q1 O3 excess 1 :\",lower_quartile_O3_1)\n",
    "print(\"              5th O3 excess 1 :\",fifth_perc_O3_1)\n",
    "print(\"             95th O3 excess 1 :\",nintyfifth_perc_O3_1)"
   ]
  },
  {
   "cell_type": "code",
   "execution_count": null,
   "metadata": {
    "tags": []
   },
   "outputs": [],
   "source": [
    "if len(O3_2) > 1:\n",
    "    O3_2_list = [float(n) for n in O3_2]\n",
    "    mean_O3_2 = statistics.mean(O3_2_list) \n",
    "    std_O3_2 = statistics.stdev(O3_2_list)\n",
    "    fifth_perc_O3_2 = np.percentile(O3_2_list, 5)\n",
    "    nintyfifth_perc_O3_2 = np.percentile(O3_2_list, 95)\n",
    "    O3_2_list=sorted(O3_2_list)\n",
    "    median_O3_2 = statistics.median(O3_2_list)\n",
    "    upper_O3_2_list = []\n",
    "    lower_O3_2_list = []\n",
    "\n",
    "    for i in range(len(O3_2_list)):\n",
    "        if O3_2_list[i]>median_O3_2:\n",
    "            upper_O3_2_list.append(O3_2_list[i])\n",
    "        if O3_2_list[i]<median_O3_2:\n",
    "            lower_O3_2_list.append(O3_2_list[i])\n",
    "        \n",
    "    upper_quartile_O3_2 = statistics.median(upper_O3_2_list)\n",
    "    lower_quartile_O3_2 = statistics.median(lower_O3_2_list)\n",
    "#if flights_JUN_EU > 0:\n",
    "print(\"Number of entries O3 excess 2 :\",len(O3_2))\n",
    "print(\"             Mean O3 excess 2 :\",mean_O3_2)\n",
    "print(\"            Stdev O3 excess 2 :\",std_O3_2)\n",
    "print(\"           Median O3 excess 2 :\",median_O3_2)\n",
    "print(\"               Q3 O3 excess 2 :\",upper_quartile_O3_2)\n",
    "print(\"               Q1 O3 excess 2 :\",lower_quartile_O3_2)\n",
    "print(\"              5th O3 excess 2 :\",fifth_perc_O3_2)\n",
    "print(\"             95th O3 excess 2 :\",nintyfifth_perc_O3_2)"
   ]
  },
  {
   "cell_type": "markdown",
   "metadata": {},
   "source": [
    "#### Recup données statistiques nuages"
   ]
  },
  {
   "cell_type": "code",
   "execution_count": null,
   "metadata": {
    "tags": []
   },
   "outputs": [],
   "source": [
    "#Calculate statistics of Cloud values in these regions\n",
    "\n",
    "Cloud_1 = []\n",
    "Cloud_2 = []\n",
    "\n",
    "Cloud_Pres_1 = 0\n",
    "Cloud_Pres_2 = 0\n",
    "\n",
    "for i in range(len(db.lon)):\n",
    "    if db.lon[i] > -73.3314 and db.lon[i]< -66.6724 :\n",
    "        Cloud_Pres_1 = Cloud_Pres_1 + db.cloud_presence_P1[i]\n",
    "        if db.cloud_P1[i]> 0:\n",
    "            print(\"yes!\")\n",
    "            if db.cloud_P1_val[i]== 0:\n",
    "                print(\"yes!\")\n",
    "                Cloud_1.append(db.cloud_P1[i])\n",
    "    if db.lon[i] > -40.1465 and db.lon[i]< -34.1894 :\n",
    "        Cloud_Pres_2 = Cloud_Pres_2 + db.cloud_presence_P1[i]\n",
    "        if db.cloud_P1[i]> 0:\n",
    "            if db.cloud_P1_val[i]== 0:\n",
    "                Cloud_2.append(db.NOx_P2b[i])"
   ]
  },
  {
   "cell_type": "code",
   "execution_count": null,
   "metadata": {
    "tags": []
   },
   "outputs": [],
   "source": [
    "if Cloud_Pres_1 > 0:\n",
    "    print(\"Cloud presence indicated\")\n",
    "else:\n",
    "    print(\"Cloud presence NOT indicated\")\n",
    "\"\"\" mettre ce if dans cloud_pre_1 > 0 OK non? sert à rien qu'il soit là si sait déjà que <= 0\"\"\"\n",
    "if len(Cloud_1) >= 1:\n",
    "    Cloud_1_list = [float(n) for n in Cloud_1]\n",
    "    mean_Cloud_1 = statistics.mean(Cloud_1_list) \n",
    "    std_Cloud_1 = statistics.stdev(Cloud_1_list)\n",
    "    fifth_perc_Cloud_1 = np.percentile(Cloud_1_list, 5)\n",
    "    nintyfifth_perc_Cloud_1 = np.percentile(Cloud_1_list, 95)\n",
    "    Cloud_1_list=sorted(Cloud_1_list)\n",
    "    median_Cloud_1 = statistics.median(Cloud_1_list)\n",
    "    upper_Cloud_1_list = []\n",
    "    lower_Cloud_1_list = []\n",
    "\n",
    "    for i in range(len(Cloud_1_list)):\n",
    "        if Cloud_1_list[i]>median_Cloud_1:\n",
    "            upper_Cloud_1_list.append(Cloud_1_list[i])\n",
    "        if Cloud_1_list[i]<median_Cloud_1:\n",
    "            lower_Cloud_1_list.append(Cloud_1_list[i])\n",
    "        \n",
    "    upper_quartile_Cloud_1 = statistics.median(upper_Cloud_1_list)\n",
    "    lower_quartile_Cloud_1 = statistics.median(lower_Cloud_1_list)\n",
    "if len(Cloud_1) >= 1:\n",
    "    print(\"Number of entries Cloud 1 :\",len(Cloud_1))\n",
    "    print(\"             Mean Cloud 1 :\",mean_Cloud_1)\n",
    "    print(\"            Stdev Cloud 1 :\",std_Cloud_1)\n",
    "    print(\"           Median Cloud 1 :\",median_Cloud_1)\n",
    "    print(\"               Q3 Cloud 1 :\",upper_quartile_Cloud_1)\n",
    "    print(\"               Q1 Cloud 1 :\",lower_quartile_Cloud_1)\n",
    "    print(\"              5th Cloud 1 :\",fifth_perc_Cloud_1)\n",
    "    print(\"             95th Cloud 1 :\",nintyfifth_perc_Cloud_1)\n",
    "else:\n",
    "    print(\"No cloud data available\")"
   ]
  },
  {
   "cell_type": "code",
   "execution_count": null,
   "metadata": {
    "tags": []
   },
   "outputs": [],
   "source": [
    "if Cloud_Pres_2 > 0:\n",
    "    print(\"Cloud presence indicated\")\n",
    "else:\n",
    "    print(\"Cloud presence NOT indicated\")\n",
    "\n",
    "if len(Cloud_2) >= 1:\n",
    "    Cloud_2_list = [float(n) for n in Cloud_2]\n",
    "    mean_Cloud_2 = statistics.mean(Cloud_2_list) \n",
    "    std_Cloud_2 = statistics.stdev(Cloud_2_list)\n",
    "    fifth_perc_Cloud_2 = np.percentile(Cloud_2_list, 5)\n",
    "    nintyfifth_perc_Cloud_2 = np.percentile(Cloud_2_list, 95)\n",
    "    Cloud_2_list=sorted(Cloud_2_list)\n",
    "    median_Cloud_2 = statistics.median(Cloud_2_list)\n",
    "    upper_Cloud_2_list = []\n",
    "    lower_Cloud_2_list = []\n",
    "\n",
    "    for i in range(len(Cloud_2_list)):\n",
    "        if Cloud_2_list[i]>median_Cloud_2:\n",
    "            upper_Cloud_2_list.append(Cloud_2_list[i])\n",
    "        if Cloud_2_list[i]<median_Cloud_2:\n",
    "            lower_Cloud_2_list.append(Cloud_2_list[i])\n",
    "        \n",
    "    upper_quartile_Cloud_2 = statistics.median(upper_Cloud_2_list)\n",
    "    lower_quartile_Cloud_2 = statistics.median(lower_Cloud_2_list)\n",
    "if len(Cloud_2) >= 1:\n",
    "    print(\"Number of entries Cloud 2 :\",len(Cloud_2))\n",
    "    print(\"             Mean Cloud 2 :\",mean_Cloud_2)\n",
    "    print(\"            Stdev Cloud 2 :\",std_Cloud_2)\n",
    "    print(\"           Median Cloud 2 :\",median_Cloud_2)\n",
    "    print(\"               Q3 Cloud 2 :\",upper_quartile_Cloud_2)\n",
    "    print(\"               Q1 Cloud 2 :\",lower_quartile_Cloud_2)\n",
    "    print(\"              5th Cloud 2 :\",fifth_perc_Cloud_2)\n",
    "    print(\"             95th Cloud 2 :\",nintyfifth_perc_Cloud_2)\n",
    "else:\n",
    "    print(\"No cloud data available\")\n",
    "    "
   ]
  },
  {
   "cell_type": "code",
   "execution_count": null,
   "metadata": {},
   "outputs": [],
   "source": [
    "#Calculate statistics for RHL values in these regions\n",
    "\n",
    "#Data not yet available! Normally at the end of November.\n",
    "\n",
    "#RHL_1 = []\n",
    "#RHL_2 = []\n",
    "\n",
    "#for i in range(len(db.lon)):\n",
    "#    if db.lon[i] > -73.3314 and db.lon[i]< -66.6724 :\n",
    "#        if db.RHL_P1[i]> 0:\n",
    "#            if db.RHL_P1_val[i]== 0:\n",
    "#                RHL_1.append(db.RHL_P1[i])\n",
    "#    if db.lon[i] > -40.1465 and db.lon[i]< -34.1894 :\n",
    "#        if db.RHL_P1[i]> 0:\n",
    "#            if db.RHL_P1_val[i]== 0:\n",
    "#                RHL_2.append(db.RHL_P2b[i])"
   ]
  },
  {
   "cell_type": "code",
   "execution_count": null,
   "metadata": {},
   "outputs": [],
   "source": [
    "#Results of RHL data, need to see it to understand what's required here."
   ]
  },
  {
   "cell_type": "markdown",
   "metadata": {},
   "source": [
    "### Carte avec flight path, releases and plume dispersion over 10 days (sum sur height et pointspec)"
   ]
  },
  {
   "cell_type": "code",
   "execution_count": null,
   "metadata": {
    "tags": []
   },
   "outputs": [],
   "source": [
    "da_all_agregated = da.sum(dim=('height', 'pointspec'))\n",
    "pl = da_all_agregated.hvplot.image(\n",
    "    x='longitude', y='latitude',  title='FLEXPART output: plume dispersion over 10 days',\n",
    "    xlabel='Longitude (°)', ylabel='Latitude (°)', clabel='Res. Time (s)', \n",
    "    frame_height=350, \n",
    "    projection=ccrs.PlateCarree(), \n",
    "    geo=True, project=False, global_extent=True,\n",
    "    framewise=False, coastline=True, dynamic=True,\n",
    "    cmap='coolwarm',\n",
    ")\n",
    "pl * flight_path * first_rel * second_rel * bogota * frankfurt\n"
   ]
  },
  {
   "cell_type": "code",
   "execution_count": null,
   "metadata": {},
   "outputs": [],
   "source": [
    "da_all_agregated = da.sum(dim=('height', 'time', 'pointspec'))\n",
    "pl = da_all_agregated.hvplot.image(\n",
    "    x='longitude', y='latitude',  title='FLEXPART output: plume dispersion over 10 days',\n",
    "    xlabel='Longitude (°)', ylabel='Latitude (°)', clabel='Res. Time (s)', \n",
    "    frame_height=350, \n",
    "    projection=ccrs.PlateCarree(), \n",
    "    geo=True, project=False, global_extent=True,\n",
    "    framewise=False, coastline=True, dynamic=True,\n",
    "    cmap='coolwarm',\n",
    ")\n",
    "pl * flight_path * first_rel * second_rel * bogota * frankfurt\n"
   ]
  },
  {
   "cell_type": "code",
   "execution_count": null,
   "metadata": {},
   "outputs": [],
   "source": [
    "da_all_agregated = da.sum(dim=('height', 'time', 'pointspec'))\n",
    "pl = da_all_agregated.hvplot.image(\n",
    "    x='longitude', y='latitude',  title='FLEXPART output: plume dispersion over 10 days',\n",
    "    xlabel='Longitude (°)', ylabel='Latitude (°)', clabel='Res. Time (s)', \n",
    "    frame_height=350, \n",
    "    projection=ccrs.PlateCarree(), \n",
    "    geo=True, project=False, #global_extent=True,\n",
    "    xlim=(-180, 0), ylim=(-60, 60),\n",
    "    framewise=False, coastline=True, dynamic=True,\n",
    "    cmap='coolwarm',\n",
    ")\n",
    "\"\"\" en fait ça affiche que pl, ça ajoute pas dessus le flight_path ni le reste \"\"\"\n",
    "\"\"\" si en fait, jsp pourquoi c'est ok maintenant \"\"\"\n",
    "plot = (pl * flight_path  * bogota * frankfurt * first_rel * second_rel)\n",
    "plot"
   ]
  },
  {
   "cell_type": "code",
   "execution_count": null,
   "metadata": {},
   "outputs": [],
   "source": [
    "da_all_agregated = da.isel(pointspec=0).sum(dim=('height', 'time'))\n",
    "pl = da_all_agregated.hvplot.image(\n",
    "    x='longitude', y='latitude',  title='Max residence time for all times and altitudes',\n",
    "    xlabel='Longitude (°)', ylabel='Latitude (°)', clabel='Res. Time (s)', \n",
    "    frame_height=350, \n",
    "    projection=ccrs.PlateCarree(), \n",
    "    geo=True, project=False, global_extent=True,\n",
    "    framewise=False, coastline=True, dynamic=True,\n",
    "    cmap='coolwarm',\n",
    ")\n",
    "pl * flight_path  * bogota * frankfurt * first_rel # * second_rel"
   ]
  },
  {
   "cell_type": "code",
   "execution_count": null,
   "metadata": {},
   "outputs": [],
   "source": [
    "da_all_agregated = da.isel(pointspec=1).sum(dim=('height', 'time'))\n",
    "pl = da_all_agregated.hvplot.image(\n",
    "    x='longitude', y='latitude',  title='Plume dispersion over 10 days',\n",
    "    xlabel='Longitude (°)', ylabel='Latitude (°)', clabel='Res. Time (s)', \n",
    "    frame_height=350, \n",
    "    projection=ccrs.PlateCarree(), \n",
    "    geo=True, project=False, global_extent=True,\n",
    "    framewise=False, coastline=True, dynamic=True,\n",
    "    cmap='coolwarm',\n",
    ")\n",
    "pl * flight_path  * bogota * frankfurt * first_rel * second_rel"
   ]
  },
  {
   "cell_type": "code",
   "execution_count": null,
   "metadata": {},
   "outputs": [],
   "source": [
    "da_time_agregated = da.sum(dim='time')\n",
    "pl = da_time_agregated.hvplot.image(\n",
    "    x='longitude', y='latitude', groupby=['height', 'pointspec'], \n",
    "    xlabel='Longitude (°)', ylabel='Latitude (°)', clabel='Res. Time (s)', \n",
    "    frame_height=350, \n",
    "    projection=ccrs.PlateCarree(), \n",
    "    geo=True, project=False, global_extent=True,\n",
    "    framewise=False, coastline=True, dynamic=True,\n",
    "    cmap='coolwarm',\n",
    ")\n",
    "pl * flight_path  * bogota * frankfurt * first_rel * second_rel"
   ]
  },
  {
   "cell_type": "code",
   "execution_count": null,
   "metadata": {},
   "outputs": [],
   "source": [
    "da_all_agregated = da.isel(pointspec=0).sum(dim=('height', 'time'))\n",
    "pl = da_all_agregated.hvplot.image(\n",
    "    x='longitude', y='latitude',  title='Max residence time for all times and altitudes', \n",
    "    xlabel='Longitude (°)', ylabel='Latitude (°)', clabel='Res. Time (s)', \n",
    "    frame_height=350, \n",
    "    projection=ccrs.PlateCarree(), \n",
    "    geo=True, project=False, global_extent=True,\n",
    "    framewise=False, coastline=True, dynamic=True,\n",
    "    cmap='coolwarm',\n",
    ")\n",
    "pl * flight_path  * bogota * frankfurt * first_rel * second_rel"
   ]
  },
  {
   "cell_type": "code",
   "execution_count": null,
   "metadata": {},
   "outputs": [],
   "source": [
    "# Repeat for various heights 8-13km\n",
    "da_all_agregated = da.isel(height=slice(15,25),pointspec=0).sum(dim=('height', 'time'))\n",
    "pl = da_all_agregated.hvplot.image(\n",
    "    x='longitude', y='latitude', title='Max residence time for all times and 8-13 km altitude',\n",
    "    xlabel='Longitude (°)', ylabel='Latitude (°)', clabel='Res. Time (s)', \n",
    "    frame_height=350, \n",
    "    projection=ccrs.PlateCarree(), \n",
    "    geo=True, project=False, #global_extent=True,\n",
    "    xlim=(-150, 30), ylim=(-60, 60),\n",
    "    framewise=False, coastline=True, dynamic=True,\n",
    "    cmap='coolwarm',\n",
    ")\n",
    "pl * flight_path  * bogota * frankfurt * first_rel * second_rel"
   ]
  },
  {
   "cell_type": "code",
   "execution_count": null,
   "metadata": {},
   "outputs": [],
   "source": [
    "# Repeat for various heights 2 - 8km\n",
    "da_all_agregated = da.isel(height=slice(3,15),pointspec=0).sum(dim=('height', 'time'))\n",
    "pl = da_all_agregated.hvplot.image(\n",
    "    x='longitude', y='latitude', title='FLEXPART output: plume dispersion over 10 days, 2-8km',\n",
    "    xlabel='Longitude (°)', ylabel='Latitude (°)', clabel='Res. Time (s)', \n",
    "    frame_height=350, \n",
    "    projection=ccrs.PlateCarree(), \n",
    "    geo=True, project=False, #global_extent=True,\n",
    "    xlim=(-150, 30), ylim=(-60, 60),\n",
    "    framewise=False, coastline=True, dynamic=True,\n",
    "    cmap='coolwarm',\n",
    ")\n",
    "pl * flight_path  * bogota * frankfurt * first_rel * second_rel"
   ]
  },
  {
   "cell_type": "code",
   "execution_count": null,
   "metadata": {},
   "outputs": [],
   "source": [
    "# Repeat for various heights 0 - 2km\n",
    "da_all_agregated = da.isel(height=slice(0,3),pointspec=0).sum(dim=('height', 'time'))\n",
    "pl = da_all_agregated.hvplot.image(\n",
    "    x='longitude', y='latitude', title='FLEXPART output: plume dispersion over 10 days, 0-2km',\n",
    "    xlabel='Longitude (°)', ylabel='Latitude (°)', clabel='Res. Time (s)', \n",
    "    frame_height=350, \n",
    "    projection=ccrs.PlateCarree(), \n",
    "    geo=True, project=False, #global_extent=True,\n",
    "    xlim=(-150, 30), ylim=(-60, 60),\n",
    "    framewise=False, coastline=True, dynamic=True,\n",
    "    cmap='coolwarm',\n",
    ")\n",
    "pl * flight_path  * bogota * frankfurt * first_rel * second_rel"
   ]
  },
  {
   "cell_type": "code",
   "execution_count": null,
   "metadata": {},
   "outputs": [],
   "source": [
    "#da_all_agregated = da.isel(pointspec=0).sum(dim=('height', 'time'))\n",
    "da_all_agregated = da.sum(dim=('height', 'time', 'pointspec'))\n",
    "pl = da_all_agregated.hvplot.image(\n",
    "    x='longitude', y='latitude', title='FLEXPART output: plume dispersion over 10 days',\n",
    "    xlabel='Longitude (°)', ylabel='Latitude (°)', clabel='Res. Time (s)', \n",
    "    frame_height=350, \n",
    "    projection=ccrs.PlateCarree(), \n",
    "    geo=True, project=False, global_extent=True,\n",
    "    framewise=False, coastline=True, dynamic=True,\n",
    "    cmap='coolwarm',\n",
    ")\n",
    "pl * flight_path  * bogota * frankfurt * first_rel * second_rel"
   ]
  },
  {
   "cell_type": "markdown",
   "metadata": {},
   "source": [
    "---"
   ]
  },
  {
   "cell_type": "markdown",
   "metadata": {},
   "source": [
    "### petit test perso pour voir la diff quand sum(dim=('height', 'time', 'pointspec')) et sum(dim=('height', 'time'))"
   ]
  },
  {
   "cell_type": "code",
   "execution_count": null,
   "metadata": {},
   "outputs": [],
   "source": [
    "#da_all_agregated = da.isel(pointspec=0).sum(dim=('height', 'time'))\n",
    "da_all_agregated = da.sum(dim=('height', 'time'))\n",
    "pl = da_all_agregated.hvplot.image(\n",
    "    x='longitude', y='latitude', title='FLEXPART output: plume dispersion over 10 days',\n",
    "    xlabel='Longitude (°)', ylabel='Latitude (°)', clabel='Res. Time (s)', \n",
    "    frame_height=350, \n",
    "    projection=ccrs.PlateCarree(), \n",
    "    geo=True, project=False, global_extent=True,\n",
    "    framewise=False, coastline=True, dynamic=True,\n",
    "    cmap='coolwarm',\n",
    ")\n",
    "pl * flight_path  * bogota * frankfurt * first_rel * second_rel"
   ]
  },
  {
   "cell_type": "code",
   "execution_count": null,
   "metadata": {},
   "outputs": [],
   "source": [
    "type(da.isel(pointspec=1).sum(dim=('height')))"
   ]
  },
  {
   "cell_type": "markdown",
   "metadata": {},
   "source": [
    "---"
   ]
  },
  {
   "cell_type": "code",
   "execution_count": null,
   "metadata": {},
   "outputs": [],
   "source": [
    "da_all_agregated = da.isel(time=slice(11,12)).sum(dim=('height', 'time', 'pointspec'))\n",
    "pl = da_all_agregated.hvplot.image(\n",
    "    x='longitude', y='latitude',  title='Max residence time t-11h all altitudes',\n",
    "    xlabel = 'Longitude (°)', ylabel = 'Latitude (°)', clabel = 'Max Residence Time (s)',\n",
    "    frame_height=350, \n",
    "    projection=ccrs.PlateCarree(), \n",
    "    geo=True, project=False, #global_extent=True,\n",
    "    xlim=(-140, -20), ylim=(-60, 60), \n",
    "    framewise=False, coastline=True, dynamic=True,\n",
    "    cmap='coolwarm',\n",
    ")\n",
    "pl"
   ]
  },
  {
   "cell_type": "code",
   "execution_count": null,
   "metadata": {},
   "outputs": [],
   "source": [
    "dr = xr.open_dataset('/o3p/macc/test/GLM_array_154_05deg/GLM_array_154_04-05_batch_bis.nc')\n",
    "flash_en = dr.num_flash.where(dr.flash_energy > 0)\n",
    "flash_num = dr.num_flash.where(dr.num_flash > 0)\n",
    "#pl2 = (flash_en*100000000000).hvplot.image(\n",
    "pl11 = (flash_en).hvplot.image(\n",
    "    x='longitude', y='latitude',  title='Total flash energy', \n",
    "    xlabel = 'Longitude (°)', ylabel = 'Latitude (°)', clabel = 'Flash energy (J)',\n",
    "    frame_height=350, \n",
    "    projection=ccrs.PlateCarree(), \n",
    "    geo=True, project=False, #global_extent=True,\n",
    "    xlim=(-140, -20), ylim=(-60, 60), \n",
    "    framewise=False, coastline=True, dynamic=True,\n",
    "    cmap='spring'\n",
    "    #cmap='YlOrRd'\n",
    ")\n",
    "pl11 * bogota * flight_path * first_rel * second_rel"
   ]
  },
  {
   "cell_type": "code",
   "execution_count": null,
   "metadata": {},
   "outputs": [],
   "source": [
    "pl * pl11"
   ]
  },
  {
   "cell_type": "code",
   "execution_count": null,
   "metadata": {},
   "outputs": [],
   "source": [
    "da_all_agregated = da.isel(time=slice(12,13)).sum(dim=('height', 'time', 'pointspec'))\n",
    "pl = da_all_agregated.hvplot.image(\n",
    "    x='longitude', y='latitude',  title='Max residence time t-12h all altitudes',\n",
    "    xlabel = 'Longitude (°)', ylabel = 'Latitude (°)', clabel = 'Max Residence Time (s)',\n",
    "    frame_height=350, \n",
    "    projection=ccrs.PlateCarree(), \n",
    "    geo=True, project=False, #global_extent=True,\n",
    "    xlim=(-140, -20), ylim=(-60, 60), \n",
    "    framewise=False, coastline=True, dynamic=True,\n",
    "    cmap='coolwarm',\n",
    ")\n",
    "pl"
   ]
  },
  {
   "cell_type": "code",
   "execution_count": null,
   "metadata": {},
   "outputs": [],
   "source": [
    "dr = xr.open_dataset('/o3p/macc/test/GLM_array_154_05deg/GLM_array_154_03-04_batch_bis.nc')\n",
    "flash_en = dr.num_flash.where(dr.flash_energy > 0)\n",
    "flash_num = dr.num_flash.where(dr.num_flash > 0)\n",
    "#pl2 = (flash_en*100000000000).hvplot.image(\n",
    "pl12 = (flash_en).hvplot.image(\n",
    "    x='longitude', y='latitude',  title='Total flash energy', \n",
    "    xlabel = 'Longitude (°)', ylabel = 'Latitude (°)', clabel = 'Flash energy (J)',\n",
    "    frame_height=350, \n",
    "    projection=ccrs.PlateCarree(), \n",
    "    geo=True, project=False, #global_extent=True,\n",
    "    xlim=(-140, -20), ylim=(-60, 60), \n",
    "    framewise=False, coastline=True, dynamic=True,\n",
    "    cmap='spring'\n",
    "    #cmap='YlOrRd'\n",
    ")\n",
    "pl12 * bogota * flight_path * first_rel * second_rel"
   ]
  },
  {
   "cell_type": "code",
   "execution_count": null,
   "metadata": {},
   "outputs": [],
   "source": [
    "pl * pl12"
   ]
  },
  {
   "cell_type": "code",
   "execution_count": null,
   "metadata": {},
   "outputs": [],
   "source": [
    "da_all_agregated = da.isel(time=slice(13,14)).sum(dim=('height', 'time', 'pointspec'))\n",
    "pl = da_all_agregated.hvplot.image(\n",
    "    x='longitude', y='latitude',  title='Max residence time t-13h all altitudes',\n",
    "    xlabel = 'Longitude (°)', ylabel = 'Latitude (°)', clabel = 'Max Residence Time (s)',\n",
    "    frame_height=350, \n",
    "    projection=ccrs.PlateCarree(), \n",
    "    geo=True, project=False, #global_extent=True,\n",
    "    xlim=(-140, -20), ylim=(-60, 60), \n",
    "    framewise=False, coastline=True, dynamic=True,\n",
    "    cmap='coolwarm',\n",
    ")\n",
    "pl"
   ]
  },
  {
   "cell_type": "code",
   "execution_count": null,
   "metadata": {},
   "outputs": [],
   "source": [
    "dr = xr.open_dataset('/o3p/macc/test/GLM_array_154_05deg/GLM_array_154_02-03_batch_bis.nc')\n",
    "flash_en = dr.num_flash.where(dr.flash_energy > 0)\n",
    "flash_num = dr.num_flash.where(dr.num_flash > 0)\n",
    "#pl2 = (flash_en*100000000000).hvplot.image(\n",
    "pl13 = (flash_en).hvplot.image(\n",
    "    x='longitude', y='latitude',  title='Total flash energy', \n",
    "    xlabel = 'Longitude (°)', ylabel = 'Latitude (°)', clabel = 'Flash energy (J)',\n",
    "    frame_height=350, \n",
    "    projection=ccrs.PlateCarree(), \n",
    "    geo=True, project=False, #global_extent=True,\n",
    "    xlim=(-140, -20), ylim=(-60, 60), \n",
    "    framewise=False, coastline=True, dynamic=True,\n",
    "    cmap='spring'\n",
    "    #cmap='YlOrRd'\n",
    ")\n",
    "pl13 * bogota * flight_path * first_rel * second_rel"
   ]
  },
  {
   "cell_type": "code",
   "execution_count": null,
   "metadata": {},
   "outputs": [],
   "source": [
    "pl * pl13"
   ]
  },
  {
   "cell_type": "code",
   "execution_count": null,
   "metadata": {},
   "outputs": [],
   "source": [
    "da_all_agregated = da.isel(time=slice(14,15)).sum(dim=('height', 'time', 'pointspec'))\n",
    "pl = da_all_agregated.hvplot.image(\n",
    "    x='longitude', y='latitude',  title='Max residence time t-14h all altitudes',\n",
    "    xlabel = 'Longitude (°)', ylabel = 'Latitude (°)', clabel = 'Max Residence Time (s)',\n",
    "    frame_height=350, \n",
    "    projection=ccrs.PlateCarree(), \n",
    "    geo=True, project=False, #global_extent=True,\n",
    "    xlim=(-140, -20), ylim=(-60, 60), \n",
    "    framewise=False, coastline=True, dynamic=True,\n",
    "    cmap='coolwarm',\n",
    ")\n",
    "pl"
   ]
  },
  {
   "cell_type": "code",
   "execution_count": null,
   "metadata": {},
   "outputs": [],
   "source": [
    "dr = xr.open_dataset('/o3p/macc/test/GLM_array_154_05deg/GLM_array_154_01-02_batch_bis.nc')\n",
    "flash_en = dr.num_flash.where(dr.flash_energy > 0)\n",
    "flash_num = dr.num_flash.where(dr.num_flash > 0)\n",
    "#pl2 = (flash_en*100000000000).hvplot.image(\n",
    "pl14 = (flash_en).hvplot.image(\n",
    "    x='longitude', y='latitude',  title='Total flash energy', \n",
    "    xlabel = 'Longitude (°)', ylabel = 'Latitude (°)', clabel = 'Flash energy (J)',\n",
    "    frame_height=350, \n",
    "    projection=ccrs.PlateCarree(), \n",
    "    geo=True, project=False, #global_extent=True,\n",
    "    xlim=(-140, -20), ylim=(-60, 60), \n",
    "    framewise=False, coastline=True, dynamic=True,\n",
    "    cmap='spring'\n",
    "    #cmap='YlOrRd'\n",
    ")\n",
    "pl14 * bogota * flight_path * first_rel * second_rel"
   ]
  },
  {
   "cell_type": "code",
   "execution_count": null,
   "metadata": {},
   "outputs": [],
   "source": [
    "pl * pl14"
   ]
  },
  {
   "cell_type": "code",
   "execution_count": null,
   "metadata": {},
   "outputs": [],
   "source": [
    "da_all_agregated = da.isel(time=slice(15,16)).sum(dim=('height', 'time', 'pointspec'))\n",
    "pl = da_all_agregated.hvplot.image(\n",
    "    x='longitude', y='latitude',  title='Max residence time t-15h all altitudes',\n",
    "    xlabel = 'Longitude (°)', ylabel = 'Latitude (°)', clabel = 'Max Residence Time (s)',\n",
    "    frame_height=350, \n",
    "    projection=ccrs.PlateCarree(), \n",
    "    geo=True, project=False, #global_extent=True,\n",
    "    xlim=(-140, -20), ylim=(-60, 60), \n",
    "    framewise=False, coastline=True, dynamic=True,\n",
    "    cmap='coolwarm',\n",
    ")\n",
    "pl"
   ]
  },
  {
   "cell_type": "code",
   "execution_count": null,
   "metadata": {},
   "outputs": [],
   "source": [
    "dr = xr.open_dataset('/o3p/macc/test/GLM_array_154_05deg/GLM_array_154_00-01_batch_bis.nc')\n",
    "flash_en = dr.num_flash.where(dr.flash_energy > 0)\n",
    "flash_num = dr.num_flash.where(dr.num_flash > 0)\n",
    "#pl2 = (flash_en*100000000000).hvplot.image(\n",
    "pl15 = (flash_en).hvplot.image(\n",
    "    x='longitude', y='latitude',  title='Total flash energy', \n",
    "    xlabel = 'Longitude (°)', ylabel = 'Latitude (°)', clabel = 'Flash energy (J)',\n",
    "    frame_height=350, \n",
    "    projection=ccrs.PlateCarree(), \n",
    "    geo=True, project=False, #global_extent=True,\n",
    "    xlim=(-140, -20), ylim=(-60, 60), \n",
    "    framewise=False, coastline=True, dynamic=True,\n",
    "    cmap='spring'\n",
    "    #cmap='YlOrRd'\n",
    ")\n",
    "pl15 * bogota * flight_path * first_rel * second_rel"
   ]
  },
  {
   "cell_type": "code",
   "execution_count": null,
   "metadata": {},
   "outputs": [],
   "source": [
    "pl * pl15"
   ]
  },
  {
   "cell_type": "code",
   "execution_count": null,
   "metadata": {},
   "outputs": [],
   "source": [
    "da_all_agregated = da.isel(time=slice(16,17)).sum(dim=('height', 'time', 'pointspec'))\n",
    "pl = da_all_agregated.hvplot.image(\n",
    "    x='longitude', y='latitude',  title='Max residence time t-16h all altitudes',\n",
    "    xlabel = 'Longitude (°)', ylabel = 'Latitude (°)', clabel = 'Max Residence Time (s)',\n",
    "    frame_height=350, \n",
    "    projection=ccrs.PlateCarree(), \n",
    "    geo=True, project=False, #global_extent=True,\n",
    "    xlim=(-140, -20), ylim=(-60, 60), \n",
    "    framewise=False, coastline=True, dynamic=True,\n",
    "    cmap='coolwarm',\n",
    ")\n",
    "pl"
   ]
  },
  {
   "cell_type": "code",
   "execution_count": null,
   "metadata": {},
   "outputs": [],
   "source": [
    "dr = xr.open_dataset('/o3p/macc/test/GLM_array_153_05deg/GLM_array_153_23-00_batch_bis.nc')\n",
    "flash_en = dr.num_flash.where(dr.flash_energy > 0)\n",
    "flash_num = dr.num_flash.where(dr.num_flash > 0)\n",
    "#pl2 = (flash_en*100000000000).hvplot.image(\n",
    "pl16 = (flash_en).hvplot.image(\n",
    "    x='longitude', y='latitude',  title='Total flash energy', \n",
    "    xlabel = 'Longitude (°)', ylabel = 'Latitude (°)', clabel = 'Flash energy (J)',\n",
    "    frame_height=350, \n",
    "    projection=ccrs.PlateCarree(), \n",
    "    geo=True, project=False, #global_extent=True,\n",
    "    xlim=(-140, -20), ylim=(-60, 60), \n",
    "    framewise=False, coastline=True, dynamic=True,\n",
    "    cmap='spring'\n",
    "    #cmap='YlOrRd'\n",
    ")\n",
    "pl16 * bogota * flight_path * first_rel * second_rel"
   ]
  },
  {
   "cell_type": "code",
   "execution_count": null,
   "metadata": {},
   "outputs": [],
   "source": [
    "pl * pl16"
   ]
  },
  {
   "cell_type": "code",
   "execution_count": null,
   "metadata": {},
   "outputs": [],
   "source": []
  },
  {
   "cell_type": "code",
   "execution_count": null,
   "metadata": {},
   "outputs": [],
   "source": []
  },
  {
   "cell_type": "code",
   "execution_count": null,
   "metadata": {},
   "outputs": [],
   "source": []
  },
  {
   "cell_type": "code",
   "execution_count": null,
   "metadata": {},
   "outputs": [],
   "source": [
    "# Hourly views from -24 hrs to -48 hrs for release 1\n",
    "# Hour is -24 == 24/05/2015 @ 21h00\n",
    "da_all_agregated = da.isel(time=slice(17,18)).sum(dim=('height', 'time', 'pointspec'))\n",
    "pl = da_all_agregated.hvplot.image(\n",
    "    x='longitude', y='latitude',  title='Zoom: Plume dispersion over 1hr + GLM output',\n",
    "    xlabel = 'Longitude (°)', ylabel = 'Latitude (°)', clabel = 'Res. Time(s)',\n",
    "    frame_height=350, \n",
    "    projection=ccrs.PlateCarree(), \n",
    "    geo=True, project=False, #global_extent=True,\n",
    "    xlim=(-140, -20), ylim=(-60, 60), \n",
    "    framewise=False, coastline=True, dynamic=True,\n",
    "    cmap='coolwarm',\n",
    ")\n",
    "pl * bogota * flight_path * first_rel * second_rel"
   ]
  },
  {
   "cell_type": "code",
   "execution_count": null,
   "metadata": {},
   "outputs": [],
   "source": [
    "dr = xr.open_dataset('/o3p/macc/test/GLM_array_153_05deg/GLM_array_153_22-23_batch_bis.nc')\n",
    "flash_en = dr.num_flash.where(dr.flash_energy > 0)\n",
    "flash_num = dr.num_flash.where(dr.num_flash > 0)\n",
    "#pl2 = (flash_en*100000000000).hvplot.image(\n",
    "pl17 = (flash_en).hvplot.image(\n",
    "    x='longitude', y='latitude',  title='Total flash energy', \n",
    "    xlabel = 'Longitude (°)', ylabel = 'Latitude (°)', clabel = 'Flash energy (J)',\n",
    "    frame_height=350, \n",
    "    projection=ccrs.PlateCarree(), \n",
    "    geo=True, project=False, #global_extent=True,\n",
    "    xlim=(-140, -20), ylim=(-60, 60), \n",
    "    framewise=False, coastline=True, dynamic=True,\n",
    "    cmap='spring'\n",
    "    #cmap='YlOrRd'\n",
    ")\n",
    "pl17 * bogota * flight_path * first_rel * second_rel"
   ]
  },
  {
   "cell_type": "code",
   "execution_count": null,
   "metadata": {},
   "outputs": [],
   "source": [
    "pl * pl17 * bogota * flight_path * first_rel * second_rel #plots them one on top of the other"
   ]
  },
  {
   "cell_type": "code",
   "execution_count": null,
   "metadata": {},
   "outputs": [],
   "source": [
    "da_all_agregated = da.isel(time=slice(18,19)).sum(dim=('height', 'time', 'pointspec'))\n",
    "pl = da_all_agregated.hvplot.image(\n",
    "    x='longitude', y='latitude',  title='t-18h',\n",
    "    xlabel = 'Longitude (°)', ylabel = 'Latitude (°)', clabel = 'Res. Time(s)',\n",
    "    frame_height=350, \n",
    "    projection=ccrs.PlateCarree(), \n",
    "    geo=True, project=False, #global_extent=True,\n",
    "    xlim=(-140, -20), ylim=(-60, 60), \n",
    "    framewise=False, coastline=True, dynamic=True,\n",
    "    cmap='coolwarm',\n",
    ")\n",
    "pl * bogota * flight_path * first_rel * second_rel"
   ]
  },
  {
   "cell_type": "code",
   "execution_count": null,
   "metadata": {},
   "outputs": [],
   "source": [
    "dr = xr.open_dataset('/o3p/macc/test/GLM_array_153_05deg/GLM_array_153_21-22_batch_bis.nc')\n",
    "flash_en = dr.num_flash.where(dr.flash_energy > 0)\n",
    "flash_num = dr.num_flash.where(dr.num_flash > 0)\n",
    "\n",
    "pl18 = (flash_en).hvplot.image(\n",
    "    x='longitude', y='latitude',  title='Total flash energy', \n",
    "    xlabel = 'Longitude (°)', ylabel = 'Latitude (°)', clabel = 'Flash energy (J)',\n",
    "    frame_height=350, \n",
    "    projection=ccrs.PlateCarree(), \n",
    "    geo=True, project=False, #global_extent=True,\n",
    "    xlim=(-140, -20), ylim=(-60, 60), \n",
    "    framewise=False, coastline=True, dynamic=True,\n",
    "    cmap='spring'\n",
    "    #cmap='YlOrRd'\n",
    ")\n",
    "pl18 * bogota * flight_path * first_rel * second_rel"
   ]
  },
  {
   "cell_type": "code",
   "execution_count": null,
   "metadata": {},
   "outputs": [],
   "source": [
    "pl * pl18"
   ]
  },
  {
   "cell_type": "code",
   "execution_count": null,
   "metadata": {},
   "outputs": [],
   "source": [
    "da_all_agregated = da.isel(time=slice(19,20)).sum(dim=('height', 'time', 'pointspec'))\n",
    "pl = da_all_agregated.hvplot.image(\n",
    "    x='longitude', y='latitude',  title='t-19h',\n",
    "    xlabel = 'Longitude (°)', ylabel = 'Latitude (°)', clabel = 'Res. Time(s)',\n",
    "    frame_height=350, \n",
    "    projection=ccrs.PlateCarree(), \n",
    "    geo=True, project=False, #global_extent=True,\n",
    "    xlim=(-140, -20), ylim=(-60, 60), \n",
    "    framewise=False, coastline=True, dynamic=True,\n",
    "    cmap='coolwarm',\n",
    ")\n",
    "pl * bogota * flight_path * first_rel * second_rel"
   ]
  },
  {
   "cell_type": "code",
   "execution_count": null,
   "metadata": {},
   "outputs": [],
   "source": [
    "dr = xr.open_dataset('/o3p/macc/test/GLM_array_153_05deg/GLM_array_153_20-21_batch_bis.nc')\n",
    "flash_en = dr.num_flash.where(dr.flash_energy > 0)\n",
    "flash_num = dr.num_flash.where(dr.num_flash > 0)\n",
    "\n",
    "pl19 = (flash_en).hvplot.image(\n",
    "    x='longitude', y='latitude',  title='Total flash energy', \n",
    "    xlabel = 'Longitude (°)', ylabel = 'Latitude (°)', clabel = 'Flash energy (J)',\n",
    "    frame_height=350, \n",
    "    projection=ccrs.PlateCarree(), \n",
    "    geo=True, project=False, #global_extent=True,\n",
    "    xlim=(-140, -20), ylim=(-60, 60), \n",
    "    framewise=False, coastline=True, dynamic=True,\n",
    "    cmap='spring'\n",
    "    #cmap='YlOrRd'\n",
    ")\n",
    "pl19 * bogota * flight_path * first_rel * second_rel"
   ]
  },
  {
   "cell_type": "code",
   "execution_count": null,
   "metadata": {},
   "outputs": [],
   "source": [
    "pl * pl19"
   ]
  },
  {
   "cell_type": "code",
   "execution_count": null,
   "metadata": {},
   "outputs": [],
   "source": [
    "da_all_agregated = da.isel(time=slice(20,21)).sum(dim=('height', 'time', 'pointspec'))\n",
    "pl = da_all_agregated.hvplot.image(\n",
    "    x='longitude', y='latitude',  title='t-20h',\n",
    "    xlabel = 'Longitude (°)', ylabel = 'Latitude (°)', clabel = 'Res. Time(s)',\n",
    "    frame_height=350, \n",
    "    projection=ccrs.PlateCarree(), \n",
    "    geo=True, project=False, #global_extent=True,\n",
    "    xlim=(-140, -20), ylim=(-60, 60), \n",
    "    framewise=False, coastline=True, dynamic=True,\n",
    "    cmap='coolwarm',\n",
    ")\n",
    "pl * bogota * flight_path * first_rel * second_rel"
   ]
  },
  {
   "cell_type": "code",
   "execution_count": null,
   "metadata": {},
   "outputs": [],
   "source": [
    "dr = xr.open_dataset('/o3p/macc/test/GLM_array_153_05deg/GLM_array_153_19-20_batch_bis.nc')\n",
    "flash_en = dr.num_flash.where(dr.flash_energy > 0)\n",
    "flash_num = dr.num_flash.where(dr.num_flash > 0)\n",
    "\n",
    "pl20 = (flash_en).hvplot.image(\n",
    "    x='longitude', y='latitude',  title='Total flash energy', \n",
    "    xlabel = 'Longitude (°)', ylabel = 'Latitude (°)', clabel = 'Flash energy (J)',\n",
    "    frame_height=350, \n",
    "    projection=ccrs.PlateCarree(), \n",
    "    geo=True, project=False, #global_extent=True,\n",
    "    xlim=(-140, -20), ylim=(-60, 60), \n",
    "    framewise=False, coastline=True, dynamic=True,\n",
    "    cmap='spring'\n",
    "    #cmap='YlOrRd'\n",
    ")\n",
    "pl20 * bogota * flight_path * first_rel * second_rel"
   ]
  },
  {
   "cell_type": "code",
   "execution_count": null,
   "metadata": {},
   "outputs": [],
   "source": [
    "pl * pl20"
   ]
  },
  {
   "cell_type": "code",
   "execution_count": null,
   "metadata": {},
   "outputs": [],
   "source": [
    "da_all_agregated = da.isel(time=slice(21,22)).sum(dim=('height', 'time', 'pointspec'))\n",
    "pl = da_all_agregated.hvplot.image(\n",
    "    x='longitude', y='latitude',  title='t-21h',\n",
    "    xlabel = 'Longitude (°)', ylabel = 'Latitude (°)', clabel = 'Res. Time(s)',\n",
    "    frame_height=350, \n",
    "    projection=ccrs.PlateCarree(), \n",
    "    geo=True, project=False, #global_extent=True,\n",
    "    xlim=(-140, -20), ylim=(-60, 60), \n",
    "    framewise=False, coastline=True, dynamic=True,\n",
    "    cmap='coolwarm',\n",
    ")\n",
    "pl * bogota * flight_path * first_rel * second_rel"
   ]
  },
  {
   "cell_type": "code",
   "execution_count": null,
   "metadata": {},
   "outputs": [],
   "source": [
    "dr = xr.open_dataset('/o3p/macc/test/GLM_array_153_05deg/GLM_array_153_18-19_batch_bis.nc')\n",
    "flash_en = dr.num_flash.where(dr.flash_energy > 0)\n",
    "flash_num = dr.num_flash.where(dr.num_flash > 0)\n",
    "\n",
    "pl21 = (flash_en).hvplot.image(\n",
    "    x='longitude', y='latitude',  title='Total flash energy', \n",
    "    xlabel = 'Longitude (°)', ylabel = 'Latitude (°)', clabel = 'Flash energy (J)',\n",
    "    frame_height=350, \n",
    "    projection=ccrs.PlateCarree(), \n",
    "    geo=True, project=False, #global_extent=True,\n",
    "    xlim=(-140, -20), ylim=(-60, 60), \n",
    "    framewise=False, coastline=True, dynamic=True,\n",
    "    cmap='spring'\n",
    "    #cmap='YlOrRd'\n",
    ")\n",
    "pl21 * bogota * flight_path * first_rel * second_rel"
   ]
  },
  {
   "cell_type": "code",
   "execution_count": null,
   "metadata": {},
   "outputs": [],
   "source": [
    "pl * pl21"
   ]
  },
  {
   "cell_type": "code",
   "execution_count": null,
   "metadata": {},
   "outputs": [],
   "source": [
    "da_all_agregated = da.isel(time=slice(22,23)).sum(dim=('height', 'time', 'pointspec'))\n",
    "pl = da_all_agregated.hvplot.image(\n",
    "    x='longitude', y='latitude',  title='t-22h',\n",
    "    xlabel = 'Longitude (°)', ylabel = 'Latitude (°)', clabel = 'Res. Time(s)',\n",
    "    frame_height=350, \n",
    "    projection=ccrs.PlateCarree(), \n",
    "    geo=True, project=False, #global_extent=True,\n",
    "    xlim=(-140, -20), ylim=(-60, 60), \n",
    "    framewise=False, coastline=True, dynamic=True,\n",
    "    cmap='coolwarm',\n",
    ")\n",
    "pl * bogota * flight_path * first_rel * second_rel"
   ]
  },
  {
   "cell_type": "code",
   "execution_count": null,
   "metadata": {},
   "outputs": [],
   "source": [
    "dr = xr.open_dataset('/o3p/macc/test/GLM_array_153_05deg/GLM_array_153_17-18_batch_bis.nc')\n",
    "flash_en = dr.num_flash.where(dr.flash_energy > 0)\n",
    "flash_num = dr.num_flash.where(dr.num_flash > 0)\n",
    "\n",
    "pl22 = (flash_en).hvplot.image(\n",
    "    x='longitude', y='latitude',  title='Total flash energy', \n",
    "    xlabel = 'Longitude (°)', ylabel = 'Latitude (°)', clabel = 'Flash energy (J)',\n",
    "    frame_height=350, \n",
    "    projection=ccrs.PlateCarree(), \n",
    "    geo=True, project=False, #global_extent=True,\n",
    "    xlim=(-140, -20), ylim=(-60, 60), \n",
    "    framewise=False, coastline=True, dynamic=True,\n",
    "    cmap='spring'\n",
    "    #cmap='YlOrRd'\n",
    ")\n",
    "pl22 * bogota * flight_path * first_rel * second_rel"
   ]
  },
  {
   "cell_type": "code",
   "execution_count": null,
   "metadata": {},
   "outputs": [],
   "source": [
    "pl * pl22"
   ]
  },
  {
   "cell_type": "code",
   "execution_count": null,
   "metadata": {},
   "outputs": [],
   "source": [
    "da_all_agregated = da.isel(time=slice(23,24)).sum(dim=('height', 'time', 'pointspec'))\n",
    "pl = da_all_agregated.hvplot.image(\n",
    "    x='longitude', y='latitude',  title='t-23h',\n",
    "    xlabel = 'Longitude (°)', ylabel = 'Latitude (°)', clabel = 'Res. Time(s)',\n",
    "    frame_height=350, \n",
    "    projection=ccrs.PlateCarree(), \n",
    "    geo=True, project=False, #global_extent=True,\n",
    "    xlim=(-140, -20), ylim=(-60, 60), \n",
    "    framewise=False, coastline=True, dynamic=True,\n",
    "    cmap='coolwarm',\n",
    ")\n",
    "pl * bogota * flight_path * first_rel * second_rel"
   ]
  },
  {
   "cell_type": "code",
   "execution_count": null,
   "metadata": {},
   "outputs": [],
   "source": [
    "dr = xr.open_dataset('/o3p/macc/test/GLM_array_153_05deg/GLM_array_153_16-17_batch_bis.nc')\n",
    "flash_en = dr.num_flash.where(dr.flash_energy > 0)\n",
    "flash_num = dr.num_flash.where(dr.num_flash > 0)\n",
    "\n",
    "pl23 = (flash_en).hvplot.image(\n",
    "    x='longitude', y='latitude',  title='Total flash energy', \n",
    "    xlabel = 'Longitude (°)', ylabel = 'Latitude (°)', clabel = 'Flash energy (J)',\n",
    "    frame_height=350, \n",
    "    projection=ccrs.PlateCarree(), \n",
    "    geo=True, project=False, #global_extent=True,\n",
    "    xlim=(-140, -20), ylim=(-60, 60), \n",
    "    framewise=False, coastline=True, dynamic=True,\n",
    "    cmap='spring'\n",
    "    #cmap='YlOrRd'\n",
    ")\n",
    "pl23 * bogota * flight_path * first_rel * second_rel"
   ]
  },
  {
   "cell_type": "code",
   "execution_count": null,
   "metadata": {},
   "outputs": [],
   "source": [
    "pl * pl23"
   ]
  },
  {
   "cell_type": "code",
   "execution_count": null,
   "metadata": {},
   "outputs": [],
   "source": [
    "da_all_agregated = da.isel(time=slice(24,25)).sum(dim=('height', 'time', 'pointspec'))\n",
    "pl = da_all_agregated.hvplot.image(\n",
    "    x='longitude', y='latitude',  title='t-24h',\n",
    "    xlabel = 'Longitude (°)', ylabel = 'Latitude (°)', clabel = 'Res. Time(s)',\n",
    "    frame_height=350, \n",
    "    projection=ccrs.PlateCarree(), \n",
    "    geo=True, project=False, #global_extent=True,\n",
    "    xlim=(-140, -20), ylim=(-60, 60), \n",
    "    framewise=False, coastline=True, dynamic=True,\n",
    "    cmap='coolwarm',\n",
    ")\n",
    "pl * bogota * flight_path * first_rel * second_rel"
   ]
  },
  {
   "cell_type": "code",
   "execution_count": null,
   "metadata": {},
   "outputs": [],
   "source": [
    "dr = xr.open_dataset('/o3p/macc/test/GLM_array_153_05deg/GLM_array_153_15-16_batch_bis.nc')\n",
    "flash_en = dr.num_flash.where(dr.flash_energy > 0)\n",
    "flash_num = dr.num_flash.where(dr.num_flash > 0)\n",
    "\n",
    "pl24 = (flash_en).hvplot.image(\n",
    "    x='longitude', y='latitude',  title='Total flash energy', \n",
    "    xlabel = 'Longitude (°)', ylabel = 'Latitude (°)', clabel = 'Flash energy (J)',\n",
    "    frame_height=350, \n",
    "    projection=ccrs.PlateCarree(), \n",
    "    geo=True, project=False, #global_extent=True,\n",
    "    xlim=(-140, -20), ylim=(-60, 60), \n",
    "    framewise=False, coastline=True, dynamic=True,\n",
    "    cmap='spring'\n",
    "    #cmap='YlOrRd'\n",
    ")\n",
    "pl24 * bogota * flight_path * first_rel * second_rel"
   ]
  },
  {
   "cell_type": "code",
   "execution_count": null,
   "metadata": {},
   "outputs": [],
   "source": [
    "pl * pl24"
   ]
  },
  {
   "cell_type": "code",
   "execution_count": null,
   "metadata": {},
   "outputs": [],
   "source": [
    "da_all_agregated = da.isel(time=slice(25,26)).sum(dim=('height', 'time', 'pointspec'))\n",
    "pl = da_all_agregated.hvplot.image(\n",
    "    x='longitude', y='latitude',  title='t-25h',\n",
    "    xlabel = 'Longitude (°)', ylabel = 'Latitude (°)', clabel = 'Res. Time(s)',\n",
    "    frame_height=350, \n",
    "    projection=ccrs.PlateCarree(), \n",
    "    geo=True, project=False, #global_extent=True,\n",
    "    xlim=(-140, -20), ylim=(-60, 60), \n",
    "    framewise=False, coastline=True, dynamic=True,\n",
    "    cmap='coolwarm',\n",
    ")\n",
    "pl * bogota * flight_path * first_rel * second_rel"
   ]
  },
  {
   "cell_type": "code",
   "execution_count": null,
   "metadata": {},
   "outputs": [],
   "source": [
    "dr = xr.open_dataset('/o3p/macc/test/GLM_array_153_05deg/GLM_array_153_14-15_batch_bis.nc')\n",
    "flash_en = dr.num_flash.where(dr.flash_energy > 0)\n",
    "flash_num = dr.num_flash.where(dr.num_flash > 0)\n",
    "\n",
    "pl25 = (flash_en).hvplot.image(\n",
    "    x='longitude', y='latitude',  title='Total flash energy', \n",
    "    xlabel = 'Longitude (°)', ylabel = 'Latitude (°)', clabel = 'Flash energy (J)',\n",
    "    frame_height=350, \n",
    "    projection=ccrs.PlateCarree(), \n",
    "    geo=True, project=False, #global_extent=True,\n",
    "    xlim=(-140, -20), ylim=(-60, 60), \n",
    "    framewise=False, coastline=True, dynamic=True,\n",
    "    cmap='spring'\n",
    "    #cmap='YlOrRd'\n",
    ")\n",
    "pl25 * bogota * flight_path * first_rel * second_rel"
   ]
  },
  {
   "cell_type": "code",
   "execution_count": null,
   "metadata": {},
   "outputs": [],
   "source": [
    "pl * pl25"
   ]
  },
  {
   "cell_type": "code",
   "execution_count": null,
   "metadata": {},
   "outputs": [],
   "source": [
    "da_all_agregated = da.isel(time=slice(26,27)).sum(dim=('height', 'time', 'pointspec'))\n",
    "pl = da_all_agregated.hvplot.image(\n",
    "    x='longitude', y='latitude',  title='t-26h',\n",
    "    xlabel = 'Longitude (°)', ylabel = 'Latitude (°)', clabel = 'Res. Time(s)',\n",
    "    frame_height=350, \n",
    "    projection=ccrs.PlateCarree(), \n",
    "    geo=True, project=False, #global_extent=True,\n",
    "    xlim=(-140, -20), ylim=(-60, 60), \n",
    "    framewise=False, coastline=True, dynamic=True,\n",
    "    cmap='coolwarm',\n",
    ")\n",
    "pl * bogota * flight_path * first_rel * second_rel"
   ]
  },
  {
   "cell_type": "code",
   "execution_count": null,
   "metadata": {},
   "outputs": [],
   "source": [
    "dr = xr.open_dataset('/o3p/macc/test/GLM_array_153_05deg/GLM_array_153_13-14_batch_bis.nc')\n",
    "flash_en = dr.num_flash.where(dr.flash_energy > 0)\n",
    "flash_num = dr.num_flash.where(dr.num_flash > 0)\n",
    "\n",
    "pl26 = (flash_en).hvplot.image(\n",
    "    x='longitude', y='latitude',  title='Total flash energy', \n",
    "    xlabel = 'Longitude (°)', ylabel = 'Latitude (°)', clabel = 'Flash energy (J)',\n",
    "    frame_height=350, \n",
    "    projection=ccrs.PlateCarree(), \n",
    "    geo=True, project=False, #global_extent=True,\n",
    "    xlim=(-140, -20), ylim=(-60, 60), \n",
    "    framewise=False, coastline=True, dynamic=True,\n",
    "    cmap='spring'\n",
    "    #cmap='YlOrRd'\n",
    ")\n",
    "pl26 * bogota * flight_path * first_rel * second_rel"
   ]
  },
  {
   "cell_type": "code",
   "execution_count": null,
   "metadata": {},
   "outputs": [],
   "source": [
    "pl * pl26 * bogota"
   ]
  },
  {
   "cell_type": "code",
   "execution_count": null,
   "metadata": {},
   "outputs": [],
   "source": [
    "da_all_agregated = da.isel(time=slice(27,28)).sum(dim=('height', 'time', 'pointspec'))\n",
    "pl = da_all_agregated.hvplot.image(\n",
    "    x='longitude', y='latitude',  title='t-27h',\n",
    "    xlabel = 'Longitude (°)', ylabel = 'Latitude (°)', clabel = 'Res. Time(s)',\n",
    "    frame_height=350, \n",
    "    projection=ccrs.PlateCarree(), \n",
    "    geo=True, project=False, #global_extent=True,\n",
    "    xlim=(-140, -20), ylim=(-60, 60), \n",
    "    framewise=False, coastline=True, dynamic=True,\n",
    "    cmap='coolwarm',\n",
    ")\n",
    "pl * bogota * flight_path * first_rel * second_rel"
   ]
  },
  {
   "cell_type": "code",
   "execution_count": null,
   "metadata": {},
   "outputs": [],
   "source": [
    "dr = xr.open_dataset('/o3p/macc/test/GLM_array_153_05deg/GLM_array_153_12-13_batch_bis.nc')\n",
    "flash_en = dr.num_flash.where(dr.flash_energy > 0)\n",
    "flash_num = dr.num_flash.where(dr.num_flash > 0)\n",
    "\n",
    "pl27 = (flash_en).hvplot.image(\n",
    "    x='longitude', y='latitude',  title='Total flash energy', \n",
    "    xlabel = 'Longitude (°)', ylabel = 'Latitude (°)', clabel = 'Flash energy (J)',\n",
    "    frame_height=350, \n",
    "    projection=ccrs.PlateCarree(), \n",
    "    geo=True, project=False, #global_extent=True,\n",
    "    xlim=(-140, -20), ylim=(-60, 60), \n",
    "    framewise=False, coastline=True, dynamic=True,\n",
    "    cmap='spring'\n",
    "    #cmap='YlOrRd'\n",
    ")\n",
    "pl27 * bogota * flight_path * first_rel * second_rel"
   ]
  },
  {
   "cell_type": "code",
   "execution_count": null,
   "metadata": {},
   "outputs": [],
   "source": [
    "pl * pl27"
   ]
  },
  {
   "cell_type": "code",
   "execution_count": null,
   "metadata": {},
   "outputs": [],
   "source": [
    "da_all_agregated = da.isel(time=slice(28,29)).sum(dim=('height', 'time', 'pointspec'))\n",
    "pl = da_all_agregated.hvplot.image(\n",
    "    x='longitude', y='latitude',  title='t-28h',\n",
    "    xlabel = 'Longitude (°)', ylabel = 'Latitude (°)', clabel = 'Res. Time(s)',\n",
    "    frame_height=350, \n",
    "    projection=ccrs.PlateCarree(), \n",
    "    geo=True, project=False, #global_extent=True,\n",
    "    xlim=(-140, -20), ylim=(-60, 60), \n",
    "    framewise=False, coastline=True, dynamic=True,\n",
    "    cmap='coolwarm',\n",
    ")\n",
    "pl * bogota * flight_path * first_rel * second_rel"
   ]
  },
  {
   "cell_type": "code",
   "execution_count": null,
   "metadata": {},
   "outputs": [],
   "source": [
    "dr = xr.open_dataset('/o3p/macc/test/GLM_array_153_05deg/GLM_array_153_11-12_batch_bis.nc')\n",
    "flash_en = dr.num_flash.where(dr.flash_energy > 0)\n",
    "flash_num = dr.num_flash.where(dr.num_flash > 0)\n",
    "\n",
    "pl28 = (flash_en).hvplot.image(\n",
    "    x='longitude', y='latitude',  title='Total flash energy', \n",
    "    xlabel = 'Longitude (°)', ylabel = 'Latitude (°)', clabel = 'Flash energy (J)',\n",
    "    frame_height=350, \n",
    "    projection=ccrs.PlateCarree(), \n",
    "    geo=True, project=False, #global_extent=True,\n",
    "    xlim=(-140, -20), ylim=(-60, 60), \n",
    "    framewise=False, coastline=True, dynamic=True,\n",
    "    cmap='spring'\n",
    "    #cmap='YlOrRd'\n",
    ")\n",
    "pl28 * bogota * flight_path * first_rel * second_rel"
   ]
  },
  {
   "cell_type": "code",
   "execution_count": null,
   "metadata": {},
   "outputs": [],
   "source": [
    "pl * pl28"
   ]
  },
  {
   "cell_type": "code",
   "execution_count": null,
   "metadata": {},
   "outputs": [],
   "source": [
    "da_all_agregated = da.isel(time=slice(29,30)).sum(dim=('height', 'time', 'pointspec'))\n",
    "pl = da_all_agregated.hvplot.image(\n",
    "    x='longitude', y='latitude',  title='t-29h',\n",
    "    xlabel = 'Longitude (°)', ylabel = 'Latitude (°)', clabel = 'Res. Time(s)',\n",
    "    frame_height=350, \n",
    "    projection=ccrs.PlateCarree(), \n",
    "    geo=True, project=False, #global_extent=True,\n",
    "    xlim=(-140, -20), ylim=(-60, 60), \n",
    "    framewise=False, coastline=True, dynamic=True,\n",
    "    cmap='coolwarm',\n",
    ")\n",
    "pl * bogota * flight_path * first_rel * second_rel"
   ]
  },
  {
   "cell_type": "code",
   "execution_count": null,
   "metadata": {},
   "outputs": [],
   "source": [
    "dr = xr.open_dataset('/o3p/macc/test/GLM_array_153_05deg/GLM_array_153_10-11_batch_bis.nc')\n",
    "flash_en = dr.num_flash.where(dr.flash_energy > 0)\n",
    "flash_num = dr.num_flash.where(dr.num_flash > 0)\n",
    "\n",
    "pl29 = (flash_en).hvplot.image(\n",
    "    x='longitude', y='latitude',  title='Total flash energy', \n",
    "    xlabel = 'Longitude (°)', ylabel = 'Latitude (°)', clabel = 'Flash energy (J)',\n",
    "    frame_height=350, \n",
    "    projection=ccrs.PlateCarree(), \n",
    "    geo=True, project=False, #global_extent=True,\n",
    "    xlim=(-140, -20), ylim=(-60, 60), \n",
    "    framewise=False, coastline=True, dynamic=True,\n",
    "    cmap='spring'\n",
    "    #cmap='YlOrRd'\n",
    ")\n",
    "pl29 * bogota * flight_path * first_rel * second_rel"
   ]
  },
  {
   "cell_type": "code",
   "execution_count": null,
   "metadata": {},
   "outputs": [],
   "source": [
    "pl * pl29"
   ]
  },
  {
   "cell_type": "code",
   "execution_count": null,
   "metadata": {},
   "outputs": [],
   "source": [
    "da_all_agregated = da.isel(time=slice(30,31)).sum(dim=('height', 'time', 'pointspec'))\n",
    "pl = da_all_agregated.hvplot.image(\n",
    "    x='longitude', y='latitude',  title='t-30h',\n",
    "    xlabel = 'Longitude (°)', ylabel = 'Latitude (°)', clabel = 'Res. Time(s)',\n",
    "    frame_height=350, \n",
    "    projection=ccrs.PlateCarree(), \n",
    "    geo=True, project=False, #global_extent=True,\n",
    "    xlim=(-140, -20), ylim=(-60, 60), \n",
    "    framewise=False, coastline=True, dynamic=True,\n",
    "    cmap='coolwarm',\n",
    ")\n",
    "pl * bogota * flight_path * first_rel * second_rel"
   ]
  },
  {
   "cell_type": "code",
   "execution_count": null,
   "metadata": {},
   "outputs": [],
   "source": [
    "dr = xr.open_dataset('/o3p/macc/test/GLM_array_153_05deg/GLM_array_153_09-10_batch_bis.nc')\n",
    "flash_en = dr.num_flash.where(dr.flash_energy > 0)\n",
    "flash_num = dr.num_flash.where(dr.num_flash > 0)\n",
    "\n",
    "pl30 = (flash_en).hvplot.image(\n",
    "    x='longitude', y='latitude',  title='Total flash energy', \n",
    "    xlabel = 'Longitude (°)', ylabel = 'Latitude (°)', clabel = 'Flash energy (J)',\n",
    "    frame_height=350, \n",
    "    projection=ccrs.PlateCarree(), \n",
    "    geo=True, project=False, #global_extent=True,\n",
    "    xlim=(-140, -20), ylim=(-60, 60), \n",
    "    framewise=False, coastline=True, dynamic=True,\n",
    "    cmap='spring'\n",
    "    #cmap='YlOrRd'\n",
    ")\n",
    "pl30 * bogota * flight_path * first_rel * second_rel"
   ]
  },
  {
   "cell_type": "code",
   "execution_count": null,
   "metadata": {},
   "outputs": [],
   "source": [
    "pl * pl30"
   ]
  },
  {
   "cell_type": "code",
   "execution_count": null,
   "metadata": {},
   "outputs": [],
   "source": [
    "da_all_agregated = da.isel(time=slice(31,32)).sum(dim=('height', 'time', 'pointspec'))\n",
    "pl = da_all_agregated.hvplot.image(\n",
    "    x='longitude', y='latitude',  title='t-31h',\n",
    "    xlabel = 'Longitude (°)', ylabel = 'Latitude (°)', clabel = 'Res. Time(s)',\n",
    "    frame_height=350, \n",
    "    projection=ccrs.PlateCarree(), \n",
    "    geo=True, project=False, #global_extent=True,\n",
    "    xlim=(-140, -20), ylim=(-60, 60), \n",
    "    framewise=False, coastline=True, dynamic=True,\n",
    "    cmap='coolwarm',\n",
    ")\n",
    "pl * bogota * flight_path * first_rel * second_rel"
   ]
  },
  {
   "cell_type": "code",
   "execution_count": null,
   "metadata": {},
   "outputs": [],
   "source": [
    "dr = xr.open_dataset('/o3p/macc/test/GLM_array_153_05deg/GLM_array_153_08-09_batch_bis.nc')\n",
    "flash_en = dr.num_flash.where(dr.flash_energy > 0)\n",
    "flash_num = dr.num_flash.where(dr.num_flash > 0)\n",
    "\n",
    "pl31 = (flash_en).hvplot.image(\n",
    "    x='longitude', y='latitude',  title='Total flash energy', \n",
    "    xlabel = 'Longitude (°)', ylabel = 'Latitude (°)', clabel = 'Flash energy (J)',\n",
    "    frame_height=350, \n",
    "    projection=ccrs.PlateCarree(), \n",
    "    geo=True, project=False, #global_extent=True,\n",
    "    xlim=(-140, -20), ylim=(-60, 60), \n",
    "    framewise=False, coastline=True, dynamic=True,\n",
    "    cmap='spring'\n",
    "    #cmap='YlOrRd'\n",
    ")\n",
    "pl31 * bogota * flight_path * first_rel * second_rel"
   ]
  },
  {
   "cell_type": "code",
   "execution_count": null,
   "metadata": {},
   "outputs": [],
   "source": [
    "pl * pl31"
   ]
  },
  {
   "cell_type": "code",
   "execution_count": null,
   "metadata": {},
   "outputs": [],
   "source": [
    "da_all_agregated = da.isel(time=slice(32,33)).sum(dim=('height', 'time', 'pointspec'))\n",
    "pl = da_all_agregated.hvplot.image(\n",
    "    x='longitude', y='latitude',  title='t-32h',\n",
    "    xlabel = 'Longitude (°)', ylabel = 'Latitude (°)', clabel = 'Res. Time(s)',\n",
    "    frame_height=350, \n",
    "    projection=ccrs.PlateCarree(), \n",
    "    geo=True, project=False, #global_extent=True,\n",
    "    xlim=(-140, -20), ylim=(-60, 60), \n",
    "    framewise=False, coastline=True, dynamic=True,\n",
    "    cmap='coolwarm',\n",
    ")\n",
    "pl * bogota * flight_path * first_rel * second_rel"
   ]
  },
  {
   "cell_type": "code",
   "execution_count": null,
   "metadata": {},
   "outputs": [],
   "source": [
    "dr = xr.open_dataset('/o3p/macc/test/GLM_array_153_05deg/GLM_array_153_07-08_batch_bis.nc')\n",
    "flash_en = dr.num_flash.where(dr.flash_energy > 0)\n",
    "flash_num = dr.num_flash.where(dr.num_flash > 0)\n",
    "\n",
    "pl32 = (flash_en).hvplot.image(\n",
    "    x='longitude', y='latitude',  title='Total flash energy', \n",
    "    xlabel = 'Longitude (°)', ylabel = 'Latitude (°)', clabel = 'Flash energy (J)',\n",
    "    frame_height=350, \n",
    "    projection=ccrs.PlateCarree(), \n",
    "    geo=True, project=False, #global_extent=True,\n",
    "    xlim=(-140, -20), ylim=(-60, 60), \n",
    "    framewise=False, coastline=True, dynamic=True,\n",
    "    cmap='spring'\n",
    "    #cmap='YlOrRd'\n",
    ")\n",
    "pl32 * bogota * flight_path * first_rel * second_rel"
   ]
  },
  {
   "cell_type": "code",
   "execution_count": null,
   "metadata": {},
   "outputs": [],
   "source": [
    "pl * pl32"
   ]
  },
  {
   "cell_type": "code",
   "execution_count": null,
   "metadata": {},
   "outputs": [],
   "source": [
    "da_all_agregated = da.isel(time=slice(33,34)).sum(dim=('height', 'time', 'pointspec'))\n",
    "pl = da_all_agregated.hvplot.image(\n",
    "    x='longitude', y='latitude',  title='t-33h',\n",
    "    xlabel = 'Longitude (°)', ylabel = 'Latitude (°)', clabel = 'Res. Time(s)',\n",
    "    frame_height=350, \n",
    "    projection=ccrs.PlateCarree(), \n",
    "    geo=True, project=False, #global_extent=True,\n",
    "    xlim=(-140, -20), ylim=(-60, 60), \n",
    "    framewise=False, coastline=True, dynamic=True,\n",
    "    cmap='coolwarm',\n",
    ")\n",
    "pl * bogota * flight_path * first_rel * second_rel"
   ]
  },
  {
   "cell_type": "code",
   "execution_count": null,
   "metadata": {},
   "outputs": [],
   "source": [
    "dr = xr.open_dataset('/o3p/macc/test/GLM_array_153_05deg/GLM_array_153_06-07_batch_bis.nc')\n",
    "flash_en = dr.num_flash.where(dr.flash_energy > 0)\n",
    "flash_num = dr.num_flash.where(dr.num_flash > 0)\n",
    "\n",
    "pl33 = (flash_en).hvplot.image(\n",
    "    x='longitude', y='latitude',  title='Total flash energy', \n",
    "    xlabel = 'Longitude (°)', ylabel = 'Latitude (°)', clabel = 'Flash energy (J)',\n",
    "    frame_height=350, \n",
    "    projection=ccrs.PlateCarree(), \n",
    "    geo=True, project=False, #global_extent=True,\n",
    "    xlim=(-140, -20), ylim=(-60, 60), \n",
    "    framewise=False, coastline=True, dynamic=True,\n",
    "    cmap='spring'\n",
    "    #cmap='YlOrRd'\n",
    ")\n",
    "pl33 * bogota * flight_path * first_rel * second_rel"
   ]
  },
  {
   "cell_type": "code",
   "execution_count": null,
   "metadata": {},
   "outputs": [],
   "source": [
    "pl * pl33"
   ]
  },
  {
   "cell_type": "code",
   "execution_count": null,
   "metadata": {},
   "outputs": [],
   "source": [
    "da_all_agregated = da.isel(time=slice(34,35)).sum(dim=('height', 'time', 'pointspec'))\n",
    "pl = da_all_agregated.hvplot.image(\n",
    "    x='longitude', y='latitude',  title='t-34h',\n",
    "    xlabel = 'Longitude (°)', ylabel = 'Latitude (°)', clabel = 'Res. Time(s)',\n",
    "    frame_height=350, \n",
    "    projection=ccrs.PlateCarree(), \n",
    "    geo=True, project=False, #global_extent=True,\n",
    "    xlim=(-140, -20), ylim=(-60, 60), \n",
    "    framewise=False, coastline=True, dynamic=True,\n",
    "    cmap='coolwarm',\n",
    ")\n",
    "pl * bogota * flight_path * first_rel * second_rel"
   ]
  },
  {
   "cell_type": "code",
   "execution_count": null,
   "metadata": {},
   "outputs": [],
   "source": [
    "dr = xr.open_dataset('/o3p/macc/test/GLM_array_153_05deg/GLM_array_153_05-06_batch_bis.nc')\n",
    "flash_en = dr.num_flash.where(dr.flash_energy > 0)\n",
    "flash_num = dr.num_flash.where(dr.num_flash > 0)\n",
    "\n",
    "pl34 = (flash_en).hvplot.image(\n",
    "    x='longitude', y='latitude',  title='Total flash energy', \n",
    "    xlabel = 'Longitude (°)', ylabel = 'Latitude (°)', clabel = 'Flash energy (J)',\n",
    "    frame_height=350, \n",
    "    projection=ccrs.PlateCarree(), \n",
    "    geo=True, project=False, #global_extent=True,\n",
    "    xlim=(-140, -20), ylim=(-60, 60), \n",
    "    framewise=False, coastline=True, dynamic=True,\n",
    "    cmap='spring'\n",
    "    #cmap='YlOrRd'\n",
    ")\n",
    "pl34 * bogota * flight_path * first_rel * second_rel"
   ]
  },
  {
   "cell_type": "code",
   "execution_count": null,
   "metadata": {},
   "outputs": [],
   "source": [
    "pl * pl34"
   ]
  },
  {
   "cell_type": "code",
   "execution_count": null,
   "metadata": {},
   "outputs": [],
   "source": [
    "da_all_agregated = da.isel(time=slice(35,36)).sum(dim=('height', 'time', 'pointspec'))\n",
    "pl = da_all_agregated.hvplot.image(\n",
    "    x='longitude', y='latitude',  title='t-35h',\n",
    "    xlabel = 'Longitude (°)', ylabel = 'Latitude (°)', clabel = 'Res. Time(s)',\n",
    "    frame_height=350, \n",
    "    projection=ccrs.PlateCarree(), \n",
    "    geo=True, project=False, #global_extent=True,\n",
    "    xlim=(-140, -20), ylim=(-60, 60), \n",
    "    framewise=False, coastline=True, dynamic=True,\n",
    "    cmap='coolwarm',\n",
    ")\n",
    "pl * bogota * flight_path * first_rel * second_rel"
   ]
  },
  {
   "cell_type": "code",
   "execution_count": null,
   "metadata": {},
   "outputs": [],
   "source": [
    "dr = xr.open_dataset('/o3p/macc/test/GLM_array_153_05deg/GLM_array_153_04-05_batch_bis.nc')\n",
    "flash_en = dr.num_flash.where(dr.flash_energy > 0)\n",
    "flash_num = dr.num_flash.where(dr.num_flash > 0)\n",
    "\n",
    "pl35 = (flash_en).hvplot.image(\n",
    "    x='longitude', y='latitude',  title='Total flash energy', \n",
    "    xlabel = 'Longitude (°)', ylabel = 'Latitude (°)', clabel = 'Flash energy (J)',\n",
    "    frame_height=350, \n",
    "    projection=ccrs.PlateCarree(), \n",
    "    geo=True, project=False, #global_extent=True,\n",
    "    xlim=(-140, -20), ylim=(-60, 60), \n",
    "    framewise=False, coastline=True, dynamic=True,\n",
    "    cmap='spring'\n",
    "    #cmap='YlOrRd'\n",
    ")\n",
    "pl35 * bogota * flight_path * first_rel * second_rel"
   ]
  },
  {
   "cell_type": "code",
   "execution_count": null,
   "metadata": {},
   "outputs": [],
   "source": [
    "pl * pl35"
   ]
  },
  {
   "cell_type": "code",
   "execution_count": null,
   "metadata": {},
   "outputs": [],
   "source": [
    "da_all_agregated = da.isel(time=slice(36,37)).sum(dim=('height', 'time', 'pointspec'))\n",
    "pl = da_all_agregated.hvplot.image(\n",
    "    x='longitude', y='latitude',  title='t-36h',\n",
    "    xlabel = 'Longitude (°)', ylabel = 'Latitude (°)', clabel = 'Res. Time(s)',\n",
    "    frame_height=350, \n",
    "    projection=ccrs.PlateCarree(), \n",
    "    geo=True, project=False, #global_extent=True,\n",
    "    xlim=(-140, -20), ylim=(-60, 60), \n",
    "    framewise=False, coastline=True, dynamic=True,\n",
    "    cmap='coolwarm',\n",
    ")\n",
    "pl * bogota * flight_path * first_rel * second_rel"
   ]
  },
  {
   "cell_type": "code",
   "execution_count": null,
   "metadata": {},
   "outputs": [],
   "source": [
    "dr = xr.open_dataset('/o3p/macc/test/GLM_array_153_05deg/GLM_array_153_03-04_batch_bis.nc')\n",
    "flash_en = dr.num_flash.where(dr.flash_energy > 0)\n",
    "flash_num = dr.num_flash.where(dr.num_flash > 0)\n",
    "\n",
    "pl36 = (flash_en).hvplot.image(\n",
    "    x='longitude', y='latitude',  title='Total flash energy', \n",
    "    xlabel = 'Longitude (°)', ylabel = 'Latitude (°)', clabel = 'Flash energy (J)',\n",
    "    frame_height=350, \n",
    "    projection=ccrs.PlateCarree(), \n",
    "    geo=True, project=False, #global_extent=True,\n",
    "    xlim=(-140, -20), ylim=(-60, 60), \n",
    "    framewise=False, coastline=True, dynamic=True,\n",
    "    cmap='spring'\n",
    "    #cmap='YlOrRd'\n",
    ")\n",
    "pl36 * bogota * flight_path * first_rel * second_rel"
   ]
  },
  {
   "cell_type": "code",
   "execution_count": null,
   "metadata": {},
   "outputs": [],
   "source": [
    "pl * pl36"
   ]
  },
  {
   "cell_type": "code",
   "execution_count": null,
   "metadata": {},
   "outputs": [],
   "source": [
    "da_all_agregated = da.isel(time=slice(37,38)).sum(dim=('height', 'time', 'pointspec'))\n",
    "pl = da_all_agregated.hvplot.image(\n",
    "    x='longitude', y='latitude',  title='t-37h',\n",
    "    xlabel = 'Longitude (°)', ylabel = 'Latitude (°)', clabel = 'Res. Time(s)',\n",
    "    frame_height=350, \n",
    "    projection=ccrs.PlateCarree(), \n",
    "    geo=True, project=False, #global_extent=True,\n",
    "    xlim=(-140, -20), ylim=(-60, 60), \n",
    "    framewise=False, coastline=True, dynamic=True,\n",
    "    cmap='coolwarm',\n",
    ")\n",
    "pl * bogota * flight_path * first_rel * second_rel"
   ]
  },
  {
   "cell_type": "code",
   "execution_count": null,
   "metadata": {},
   "outputs": [],
   "source": [
    "dr = xr.open_dataset('/o3p/macc/test/GLM_array_153_05deg/GLM_array_153_02-03_batch_bis.nc')\n",
    "flash_en = dr.num_flash.where(dr.flash_energy > 0)\n",
    "flash_num = dr.num_flash.where(dr.num_flash > 0)\n",
    "\n",
    "pl37 = (flash_en).hvplot.image(\n",
    "    x='longitude', y='latitude',  title='Total flash energy', \n",
    "    xlabel = 'Longitude (°)', ylabel = 'Latitude (°)', clabel = 'Flash energy (J)',\n",
    "    frame_height=350, \n",
    "    projection=ccrs.PlateCarree(), \n",
    "    geo=True, project=False, #global_extent=True,\n",
    "    xlim=(-140, -20), ylim=(-60, 60), \n",
    "    framewise=False, coastline=True, dynamic=True,\n",
    "    cmap='spring'\n",
    "    #cmap='YlOrRd'\n",
    ")\n",
    "pl37 * bogota * flight_path * first_rel * second_rel"
   ]
  },
  {
   "cell_type": "code",
   "execution_count": null,
   "metadata": {},
   "outputs": [],
   "source": [
    "pl * pl37"
   ]
  },
  {
   "cell_type": "code",
   "execution_count": null,
   "metadata": {},
   "outputs": [],
   "source": [
    "da_all_agregated = da.isel(time=slice(38,39)).sum(dim=('height', 'time', 'pointspec'))\n",
    "pl = da_all_agregated.hvplot.image(\n",
    "    x='longitude', y='latitude',  title='t-38h',\n",
    "    xlabel = 'Longitude (°)', ylabel = 'Latitude (°)', clabel = 'Res. Time(s)',\n",
    "    frame_height=350, \n",
    "    projection=ccrs.PlateCarree(), \n",
    "    geo=True, project=False, #global_extent=True,\n",
    "    xlim=(-140, -20), ylim=(-60, 60), \n",
    "    framewise=False, coastline=True, dynamic=True,\n",
    "    cmap='coolwarm',\n",
    ")\n",
    "pl * bogota * flight_path * first_rel * second_rel"
   ]
  },
  {
   "cell_type": "code",
   "execution_count": null,
   "metadata": {},
   "outputs": [],
   "source": [
    "dr = xr.open_dataset('/o3p/macc/test/GLM_array_153_05deg/GLM_array_153_01-02_batch_bis.nc')\n",
    "flash_en = dr.num_flash.where(dr.flash_energy > 0)\n",
    "flash_num = dr.num_flash.where(dr.num_flash > 0)\n",
    "\n",
    "pl38 = (flash_en).hvplot.image(\n",
    "    x='longitude', y='latitude',  title='Total flash energy', \n",
    "    xlabel = 'Longitude (°)', ylabel = 'Latitude (°)', clabel = 'Flash energy (J)',\n",
    "    frame_height=350, \n",
    "    projection=ccrs.PlateCarree(), \n",
    "    geo=True, project=False, #global_extent=True,\n",
    "    xlim=(-140, -20), ylim=(-60, 60), \n",
    "    framewise=False, coastline=True, dynamic=True,\n",
    "    cmap='spring'\n",
    "    #cmap='YlOrRd'\n",
    ")\n",
    "pl38 * bogota * flight_path * first_rel * second_rel"
   ]
  },
  {
   "cell_type": "code",
   "execution_count": null,
   "metadata": {},
   "outputs": [],
   "source": [
    "pl * pl38"
   ]
  },
  {
   "cell_type": "code",
   "execution_count": null,
   "metadata": {},
   "outputs": [],
   "source": [
    "da_all_agregated = da.isel(time=slice(39,40)).sum(dim=('height', 'time', 'pointspec'))\n",
    "pl = da_all_agregated.hvplot.image(\n",
    "    x='longitude', y='latitude',  title='t-39h',\n",
    "    xlabel = 'Longitude (°)', ylabel = 'Latitude (°)', clabel = 'Res. Time(s)',\n",
    "    frame_height=350, \n",
    "    projection=ccrs.PlateCarree(), \n",
    "    geo=True, project=False, #global_extent=True,\n",
    "    xlim=(-140, -20), ylim=(-60, 60), \n",
    "    framewise=False, coastline=True, dynamic=True,\n",
    "    cmap='coolwarm',\n",
    ")\n",
    "pl * bogota * flight_path * first_rel * second_rel"
   ]
  },
  {
   "cell_type": "code",
   "execution_count": null,
   "metadata": {},
   "outputs": [],
   "source": [
    "dr = xr.open_dataset('/o3p/macc/test/GLM_array_153_05deg/GLM_array_153_00-01_batch_bis.nc')\n",
    "flash_en = dr.num_flash.where(dr.flash_energy > 0)\n",
    "flash_num = dr.num_flash.where(dr.num_flash > 0)\n",
    "\n",
    "pl39 = (flash_en).hvplot.image(\n",
    "    x='longitude', y='latitude',  title='Total flash energy', \n",
    "    xlabel = 'Longitude (°)', ylabel = 'Latitude (°)', clabel = 'Flash energy (J)',\n",
    "    frame_height=350, \n",
    "    projection=ccrs.PlateCarree(), \n",
    "    geo=True, project=False, #global_extent=True,\n",
    "    xlim=(-140, -20), ylim=(-60, 60), \n",
    "    framewise=False, coastline=True, dynamic=True,\n",
    "    cmap='spring'\n",
    "    #cmap='YlOrRd'\n",
    ")\n",
    "pl39 * bogota * flight_path * first_rel * second_rel"
   ]
  },
  {
   "cell_type": "code",
   "execution_count": null,
   "metadata": {},
   "outputs": [],
   "source": [
    "pl * pl39"
   ]
  },
  {
   "cell_type": "code",
   "execution_count": null,
   "metadata": {},
   "outputs": [],
   "source": [
    "da_all_agregated = da.isel(time=slice(40,41)).sum(dim=('height', 'time', 'pointspec'))\n",
    "pl = da_all_agregated.hvplot.image(\n",
    "    x='longitude', y='latitude',  title='t-40h',\n",
    "    xlabel = 'Longitude (°)', ylabel = 'Latitude (°)', clabel = 'Res. Time(s)',\n",
    "    frame_height=350, \n",
    "    projection=ccrs.PlateCarree(), \n",
    "    geo=True, project=False, #global_extent=True,\n",
    "    xlim=(-140, -20), ylim=(-60, 60), \n",
    "    framewise=False, coastline=True, dynamic=True,\n",
    "    cmap='coolwarm',\n",
    ")\n",
    "pl * bogota * flight_path * first_rel * second_rel"
   ]
  },
  {
   "cell_type": "code",
   "execution_count": null,
   "metadata": {},
   "outputs": [],
   "source": [
    "dr = xr.open_dataset('/o3p/macc/test/GLM_array_152_05deg/GLM_array_152_23-00_batch_bis.nc')\n",
    "flash_en = dr.num_flash.where(dr.flash_energy > 0)\n",
    "flash_num = dr.num_flash.where(dr.num_flash > 0)\n",
    "\n",
    "pl40 = (flash_en).hvplot.image(\n",
    "    x='longitude', y='latitude',  title='Total flash energy', \n",
    "    xlabel = 'Longitude (°)', ylabel = 'Latitude (°)', clabel = 'Flash energy (J)',\n",
    "    frame_height=350, \n",
    "    projection=ccrs.PlateCarree(), \n",
    "    geo=True, project=False, #global_extent=True,\n",
    "    xlim=(-140, -20), ylim=(-60, 60), \n",
    "    framewise=False, coastline=True, dynamic=True,\n",
    "    cmap='spring'\n",
    "    #cmap='YlOrRd'\n",
    ")\n",
    "pl40 * bogota * flight_path * first_rel * second_rel"
   ]
  },
  {
   "cell_type": "code",
   "execution_count": null,
   "metadata": {},
   "outputs": [],
   "source": [
    "pl * pl40"
   ]
  },
  {
   "cell_type": "code",
   "execution_count": null,
   "metadata": {},
   "outputs": [],
   "source": [
    "da_all_agregated = da.isel(time=slice(41,42)).sum(dim=('height', 'time', 'pointspec'))\n",
    "pl = da_all_agregated.hvplot.image(\n",
    "    x='longitude', y='latitude',  title='t-41h',\n",
    "    xlabel = 'Longitude (°)', ylabel = 'Latitude (°)', clabel = 'Res. Time(s)',\n",
    "    frame_height=350, \n",
    "    projection=ccrs.PlateCarree(), \n",
    "    geo=True, project=False, #global_extent=True,\n",
    "    xlim=(-140, -20), ylim=(-60, 60), \n",
    "    framewise=False, coastline=True, dynamic=True,\n",
    "    cmap='coolwarm',\n",
    ")\n",
    "pl * bogota * flight_path * first_rel * second_rel"
   ]
  },
  {
   "cell_type": "code",
   "execution_count": null,
   "metadata": {},
   "outputs": [],
   "source": [
    "dr = xr.open_dataset('/o3p/macc/test/GLM_array_152_05deg/GLM_array_152_22-23_batch_bis.nc')\n",
    "flash_en = dr.num_flash.where(dr.flash_energy > 0)\n",
    "flash_num = dr.num_flash.where(dr.num_flash > 0)\n",
    "\n",
    "pl41 = (flash_en).hvplot.image(\n",
    "    x='longitude', y='latitude',  title='Total flash energy', \n",
    "    xlabel = 'Longitude (°)', ylabel = 'Latitude (°)', clabel = 'Flash energy (J)',\n",
    "    frame_height=350, \n",
    "    projection=ccrs.PlateCarree(), \n",
    "    geo=True, project=False, #global_extent=True,\n",
    "    xlim=(-140, -20), ylim=(-60, 60), \n",
    "    framewise=False, coastline=True, dynamic=True,\n",
    "    cmap='spring'\n",
    "    #cmap='YlOrRd'\n",
    ")\n",
    "pl41 * bogota * flight_path * first_rel * second_rel"
   ]
  },
  {
   "cell_type": "code",
   "execution_count": null,
   "metadata": {},
   "outputs": [],
   "source": [
    "pl * pl41"
   ]
  },
  {
   "cell_type": "code",
   "execution_count": null,
   "metadata": {},
   "outputs": [],
   "source": [
    "da_all_agregated = da.isel(time=slice(42,43)).sum(dim=('height', 'time', 'pointspec'))\n",
    "pl = da_all_agregated.hvplot.image(\n",
    "    x='longitude', y='latitude',  title='t-42h',\n",
    "    xlabel = 'Longitude (°)', ylabel = 'Latitude (°)', clabel = 'Res. Time(s)',\n",
    "    frame_height=350, \n",
    "    projection=ccrs.PlateCarree(), \n",
    "    geo=True, project=False, #global_extent=True,\n",
    "    xlim=(-140, -20), ylim=(-60, 60), \n",
    "    framewise=False, coastline=True, dynamic=True,\n",
    "    cmap='coolwarm',\n",
    ")\n",
    "pl * bogota * flight_path * first_rel * second_rel"
   ]
  },
  {
   "cell_type": "code",
   "execution_count": null,
   "metadata": {},
   "outputs": [],
   "source": [
    "dr = xr.open_dataset('/o3p/macc/test/GLM_array_152_05deg/GLM_array_152_21-22_batch_bis.nc')\n",
    "flash_en = dr.num_flash.where(dr.flash_energy > 0)\n",
    "flash_num = dr.num_flash.where(dr.num_flash > 0)\n",
    "\n",
    "pl42 = (flash_en).hvplot.image(\n",
    "    x='longitude', y='latitude',  title='Total flash energy', \n",
    "    xlabel = 'Longitude (°)', ylabel = 'Latitude (°)', clabel = 'Flash energy (J)',\n",
    "    frame_height=350, \n",
    "    projection=ccrs.PlateCarree(), \n",
    "    geo=True, project=False, #global_extent=True,\n",
    "    xlim=(-140, -20), ylim=(-60, 60), \n",
    "    framewise=False, coastline=True, dynamic=True,\n",
    "    cmap='spring'\n",
    "    #cmap='YlOrRd'\n",
    ")\n",
    "pl42 * bogota * flight_path * first_rel * second_rel"
   ]
  },
  {
   "cell_type": "code",
   "execution_count": null,
   "metadata": {},
   "outputs": [],
   "source": [
    "pl * pl42"
   ]
  },
  {
   "cell_type": "code",
   "execution_count": null,
   "metadata": {},
   "outputs": [],
   "source": [
    "da_all_agregated = da.isel(time=slice(43,44)).sum(dim=('height', 'time', 'pointspec'))\n",
    "pl = da_all_agregated.hvplot.image(\n",
    "    x='longitude', y='latitude',  title='t-43h',\n",
    "    xlabel = 'Longitude (°)', ylabel = 'Latitude (°)', clabel = 'Res. Time(s)',\n",
    "    frame_height=350, \n",
    "    projection=ccrs.PlateCarree(), \n",
    "    geo=True, project=False, #global_extent=True,\n",
    "    xlim=(-140, -20), ylim=(-60, 60), \n",
    "    framewise=False, coastline=True, dynamic=True,\n",
    "    cmap='coolwarm',\n",
    ")\n",
    "pl * bogota * flight_path * first_rel * second_rel"
   ]
  },
  {
   "cell_type": "code",
   "execution_count": null,
   "metadata": {},
   "outputs": [],
   "source": [
    "dr = xr.open_dataset('/o3p/macc/test/GLM_array_152_05deg/GLM_array_152_20-21_batch_bis.nc')\n",
    "flash_en = dr.num_flash.where(dr.flash_energy > 0)\n",
    "flash_num = dr.num_flash.where(dr.num_flash > 0)\n",
    "\n",
    "pl43 = (flash_en).hvplot.image(\n",
    "    x='longitude', y='latitude',  title='Total flash energy', \n",
    "    xlabel = 'Longitude (°)', ylabel = 'Latitude (°)', clabel = 'Flash energy (J)',\n",
    "    frame_height=350, \n",
    "    projection=ccrs.PlateCarree(), \n",
    "    geo=True, project=False, #global_extent=True,\n",
    "    xlim=(-140, -20), ylim=(-60, 60), \n",
    "    framewise=False, coastline=True, dynamic=True,\n",
    "    cmap='spring'\n",
    "    #cmap='YlOrRd'\n",
    ")\n",
    "pl43 * bogota * flight_path * first_rel * second_rel"
   ]
  },
  {
   "cell_type": "code",
   "execution_count": null,
   "metadata": {},
   "outputs": [],
   "source": [
    "pl * pl43"
   ]
  },
  {
   "cell_type": "code",
   "execution_count": null,
   "metadata": {},
   "outputs": [],
   "source": [
    "da_all_agregated = da.isel(time=slice(44,45)).sum(dim=('height', 'time', 'pointspec'))\n",
    "pl = da_all_agregated.hvplot.image(\n",
    "    x='longitude', y='latitude',  title='t-44h',\n",
    "    xlabel = 'Longitude (°)', ylabel = 'Latitude (°)', clabel = 'Res. Time(s)',\n",
    "    frame_height=350, \n",
    "    projection=ccrs.PlateCarree(), \n",
    "    geo=True, project=False, #global_extent=True,\n",
    "    xlim=(-140, -20), ylim=(-60, 60), \n",
    "    framewise=False, coastline=True, dynamic=True,\n",
    "    cmap='coolwarm',\n",
    ")\n",
    "pl * bogota * flight_path * first_rel * second_rel"
   ]
  },
  {
   "cell_type": "code",
   "execution_count": null,
   "metadata": {},
   "outputs": [],
   "source": [
    "dr = xr.open_dataset('/o3p/macc/test/GLM_array_152_05deg/GLM_array_152_19-20_batch_bis.nc')\n",
    "flash_en = dr.num_flash.where(dr.flash_energy > 0)\n",
    "flash_num = dr.num_flash.where(dr.num_flash > 0)\n",
    "\n",
    "pl44 = (flash_en).hvplot.image(\n",
    "    x='longitude', y='latitude',  title='Total flash energy', \n",
    "    xlabel = 'Longitude (°)', ylabel = 'Latitude (°)', clabel = 'Flash energy (J)',\n",
    "    frame_height=350, \n",
    "    projection=ccrs.PlateCarree(), \n",
    "    geo=True, project=False, #global_extent=True,\n",
    "    xlim=(-140, -20), ylim=(-60, 60), \n",
    "    framewise=False, coastline=True, dynamic=True,\n",
    "    cmap='spring'\n",
    "    #cmap='YlOrRd'\n",
    ")\n",
    "pl44 * bogota * flight_path * first_rel * second_rel"
   ]
  },
  {
   "cell_type": "code",
   "execution_count": null,
   "metadata": {},
   "outputs": [],
   "source": [
    "pl * pl44"
   ]
  },
  {
   "cell_type": "code",
   "execution_count": null,
   "metadata": {},
   "outputs": [],
   "source": [
    "da_all_agregated = da.isel(time=slice(45,46)).sum(dim=('height', 'time', 'pointspec'))\n",
    "pl = da_all_agregated.hvplot.image(\n",
    "    x='longitude', y='latitude',  title='t-45h',\n",
    "    xlabel = 'Longitude (°)', ylabel = 'Latitude (°)', clabel = 'Res. Time(s)',\n",
    "    frame_height=350, \n",
    "    projection=ccrs.PlateCarree(), \n",
    "    geo=True, project=False, #global_extent=True,\n",
    "    xlim=(-140, -20), ylim=(-60, 60), \n",
    "    framewise=False, coastline=True, dynamic=True,\n",
    "    cmap='coolwarm',\n",
    ")\n",
    "pl * bogota * flight_path * first_rel * second_rel"
   ]
  },
  {
   "cell_type": "code",
   "execution_count": null,
   "metadata": {},
   "outputs": [],
   "source": [
    "da_all_agregated = da.isel(time=slice(46,47)).sum(dim=('height', 'time', 'pointspec'))\n",
    "pl = da_all_agregated.hvplot.image(\n",
    "    x='longitude', y='latitude',  title='t-46h',\n",
    "    xlabel = 'Longitude (°)', ylabel = 'Latitude (°)', clabel = 'Res. Time(s)',\n",
    "    frame_height=350, \n",
    "    projection=ccrs.PlateCarree(), \n",
    "    geo=True, project=False, #global_extent=True,\n",
    "    xlim=(-140, -20), ylim=(-60, 60), \n",
    "    framewise=False, coastline=True, dynamic=True,\n",
    "    cmap='coolwarm',\n",
    ")\n",
    "pl * bogota * flight_path * first_rel * second_rel"
   ]
  },
  {
   "cell_type": "code",
   "execution_count": null,
   "metadata": {},
   "outputs": [],
   "source": [
    "dr = xr.open_dataset('/o3p/macc/test/GLM_array_152_05deg/GLM_array_152_17-18_batch_bis.nc')\n",
    "flash_en = dr.num_flash.where(dr.flash_energy > 0)\n",
    "flash_num = dr.num_flash.where(dr.num_flash > 0)\n",
    "\n",
    "pl46 = (flash_en).hvplot.image(\n",
    "    x='longitude', y='latitude',  title='Total flash energy', \n",
    "    xlabel = 'Longitude (°)', ylabel = 'Latitude (°)', clabel = 'Flash energy (J)',\n",
    "    frame_height=350, \n",
    "    projection=ccrs.PlateCarree(), \n",
    "    geo=True, project=False, #global_extent=True,\n",
    "    xlim=(-140, -20), ylim=(-60, 60), \n",
    "    framewise=False, coastline=True, dynamic=True,\n",
    "    cmap='spring'\n",
    "    #cmap='YlOrRd'\n",
    ")\n",
    "pl46 * bogota * flight_path * first_rel * second_rel"
   ]
  },
  {
   "cell_type": "code",
   "execution_count": null,
   "metadata": {},
   "outputs": [],
   "source": [
    "pl * pl46"
   ]
  },
  {
   "cell_type": "code",
   "execution_count": null,
   "metadata": {},
   "outputs": [],
   "source": [
    "da_all_agregated = da.isel(time=slice(47,48)).sum(dim=('height', 'time', 'pointspec'))\n",
    "pl = da_all_agregated.hvplot.image(\n",
    "    x='longitude', y='latitude',  title='t-47h',\n",
    "    xlabel = 'Longitude (°)', ylabel = 'Latitude (°)', clabel = 'Res. Time(s)',\n",
    "    frame_height=350, \n",
    "    projection=ccrs.PlateCarree(), \n",
    "    geo=True, project=False, #global_extent=True,\n",
    "    xlim=(-140, -20), ylim=(-60, 60), \n",
    "    framewise=False, coastline=True, dynamic=True,\n",
    "    cmap='coolwarm',\n",
    ")\n",
    "pl * bogota * flight_path * first_rel * second_rel"
   ]
  },
  {
   "cell_type": "code",
   "execution_count": null,
   "metadata": {},
   "outputs": [],
   "source": [
    "dr = xr.open_dataset('/o3p/macc/test/GLM_array_152_05deg/GLM_array_152_16-17_batch_bis.nc')\n",
    "flash_en = dr.num_flash.where(dr.flash_energy > 0)\n",
    "flash_num = dr.num_flash.where(dr.num_flash > 0)\n",
    "\n",
    "pl47 = (flash_en).hvplot.image(\n",
    "    x='longitude', y='latitude',  title='Total flash energy', \n",
    "    xlabel = 'Longitude (°)', ylabel = 'Latitude (°)', clabel = 'Flash energy (J)',\n",
    "    frame_height=350, \n",
    "    projection=ccrs.PlateCarree(), \n",
    "    geo=True, project=False, #global_extent=True,\n",
    "    xlim=(-140, -20), ylim=(-60, 60), \n",
    "    framewise=False, coastline=True, dynamic=True,\n",
    "    cmap='spring'\n",
    "    #cmap='YlOrRd'\n",
    ")\n",
    "pl47 * bogota * flight_path * first_rel * second_rel"
   ]
  },
  {
   "cell_type": "code",
   "execution_count": null,
   "metadata": {},
   "outputs": [],
   "source": [
    "pl * pl47"
   ]
  },
  {
   "cell_type": "code",
   "execution_count": null,
   "metadata": {},
   "outputs": [],
   "source": [
    "da_all_agregated = da.isel(time=slice(48,49)).sum(dim=('height', 'time', 'pointspec'))\n",
    "pl = da_all_agregated.hvplot.image(\n",
    "    x='longitude', y='latitude',  title='t-48h',\n",
    "    xlabel = 'Longitude (°)', ylabel = 'Latitude (°)', clabel = 'Res. Time(s)',\n",
    "    frame_height=350, \n",
    "    projection=ccrs.PlateCarree(), \n",
    "    geo=True, project=False, #global_extent=True,\n",
    "    xlim=(-140, -20), ylim=(-60, 60), \n",
    "    framewise=False, coastline=True, dynamic=True,\n",
    "    cmap='coolwarm',\n",
    ")\n",
    "pl * bogota * flight_path * first_rel * second_rel"
   ]
  },
  {
   "cell_type": "code",
   "execution_count": null,
   "metadata": {},
   "outputs": [],
   "source": [
    "dr = xr.open_dataset('/o3p/macc/test/GLM_array_152_05deg/GLM_array_152_15-16_batch_bis.nc')\n",
    "flash_en = dr.num_flash.where(dr.flash_energy > 0)\n",
    "flash_num = dr.num_flash.where(dr.num_flash > 0)\n",
    "\n",
    "pl48 = (flash_en).hvplot.image(\n",
    "    x='longitude', y='latitude',  title='Total flash energy', \n",
    "    xlabel = 'Longitude (°)', ylabel = 'Latitude (°)', clabel = 'Flash energy (J)',\n",
    "    frame_height=350, \n",
    "    projection=ccrs.PlateCarree(), \n",
    "    geo=True, project=False, #global_extent=True,\n",
    "    xlim=(-140, -20), ylim=(-60, 60), \n",
    "    framewise=False, coastline=True, dynamic=True,\n",
    "    cmap='spring'\n",
    "    #cmap='YlOrRd'\n",
    ")\n",
    "pl48 * bogota * flight_path * first_rel * second_rel"
   ]
  },
  {
   "cell_type": "code",
   "execution_count": null,
   "metadata": {},
   "outputs": [],
   "source": [
    "pl * pl48"
   ]
  },
  {
   "cell_type": "code",
   "execution_count": null,
   "metadata": {},
   "outputs": [],
   "source": [
    "da_all_agregated = da.isel(time=slice(40,48)).sum(dim=('height', 'time', 'pointspec'))\n",
    "pl = da_all_agregated.hvplot.image(\n",
    "    x='longitude', y='latitude',  title='t-40h --> t-49h ',\n",
    "    xlabel = 'Longitude (°)', ylabel = 'Latitude (°)', clabel = 'Res. Time(s)',\n",
    "    frame_height=350, \n",
    "    projection=ccrs.PlateCarree(), \n",
    "    geo=True, project=False, #global_extent=True,\n",
    "    #xlim=(-140, -20), ylim=(-60, 60),\n",
    "    xlim=(-85, -45), ylim=(0, 60),\n",
    "    framewise=False, coastline=True, dynamic=True,\n",
    "    cmap='coolwarm',\n",
    ")\n",
    "pl * bogota * flight_path * first_rel * second_rel"
   ]
  },
  {
   "cell_type": "code",
   "execution_count": null,
   "metadata": {},
   "outputs": [],
   "source": [
    "pl * pl40 * pl41 * pl42 * pl43 * pl44 * pl46 * pl47 * pl48"
   ]
  },
  {
   "cell_type": "code",
   "execution_count": null,
   "metadata": {},
   "outputs": [],
   "source": [
    "da_all_agregated = da.isel(time=slice(49,50)).sum(dim=('height', 'time', 'pointspec'))\n",
    "pl = da_all_agregated.hvplot.image(\n",
    "    x='longitude', y='latitude',  title='t-49h',\n",
    "    xlabel = 'Longitude (°)', ylabel = 'Latitude (°)', clabel = 'Res. Time(s)',\n",
    "    frame_height=350, \n",
    "    projection=ccrs.PlateCarree(), \n",
    "    geo=True, project=False, #global_extent=True,\n",
    "    xlim=(-140, -20), ylim=(-60, 60), \n",
    "    framewise=False, coastline=True, dynamic=True,\n",
    "    cmap='coolwarm',\n",
    ")\n",
    "pl * bogota * flight_path * first_rel * second_rel"
   ]
  },
  {
   "cell_type": "code",
   "execution_count": null,
   "metadata": {},
   "outputs": [],
   "source": [
    "dr = xr.open_dataset('/o3p/macc/test/GLM_array_152_05deg/GLM_array_152_14-15_batch_bis.nc')\n",
    "flash_en = dr.num_flash.where(dr.flash_energy > 0)\n",
    "flash_num = dr.num_flash.where(dr.num_flash > 0)\n",
    "\n",
    "pl49 = (flash_en).hvplot.image(\n",
    "    x='longitude', y='latitude',  title='Total flash energy', \n",
    "    xlabel = 'Longitude (°)', ylabel = 'Latitude (°)', clabel = 'Flash energy (J)',\n",
    "    frame_height=350, \n",
    "    projection=ccrs.PlateCarree(), \n",
    "    geo=True, project=False, #global_extent=True,\n",
    "    xlim=(-140, -20), ylim=(-60, 60), \n",
    "    framewise=False, coastline=True, dynamic=True,\n",
    "    cmap='spring'\n",
    "    #cmap='YlOrRd'\n",
    ")\n",
    "pl49 * bogota * flight_path * first_rel * second_rel"
   ]
  },
  {
   "cell_type": "code",
   "execution_count": null,
   "metadata": {},
   "outputs": [],
   "source": [
    "pl * pl49"
   ]
  },
  {
   "cell_type": "code",
   "execution_count": null,
   "metadata": {},
   "outputs": [],
   "source": [
    "da_all_agregated = da.isel(time=slice(50,51)).sum(dim=('height', 'time', 'pointspec'))\n",
    "pl = da_all_agregated.hvplot.image(\n",
    "    x='longitude', y='latitude',  title='t-50h',\n",
    "    xlabel = 'Longitude (°)', ylabel = 'Latitude (°)', clabel = 'Res. Time(s)',\n",
    "    frame_height=350, \n",
    "    projection=ccrs.PlateCarree(), \n",
    "    geo=True, project=False, #global_extent=True,\n",
    "    xlim=(-140, -20), ylim=(-60, 60), \n",
    "    framewise=False, coastline=True, dynamic=True,\n",
    "    cmap='coolwarm',\n",
    ")\n",
    "pl * bogota * flight_path * first_rel * second_rel"
   ]
  },
  {
   "cell_type": "code",
   "execution_count": null,
   "metadata": {},
   "outputs": [],
   "source": [
    "dr = xr.open_dataset('/o3p/macc/test/GLM_array_152_05deg/GLM_array_152_13-14_batch_bis.nc')\n",
    "flash_en = dr.num_flash.where(dr.flash_energy > 0)\n",
    "flash_num = dr.num_flash.where(dr.num_flash > 0)\n",
    "\n",
    "pl50 = (flash_en).hvplot.image(\n",
    "    x='longitude', y='latitude',  title='Total flash energy', \n",
    "    xlabel = 'Longitude (°)', ylabel = 'Latitude (°)', clabel = 'Flash energy (J)',\n",
    "    frame_height=350, \n",
    "    projection=ccrs.PlateCarree(), \n",
    "    geo=True, project=False, #global_extent=True,\n",
    "    xlim=(-140, -20), ylim=(-60, 60), \n",
    "    framewise=False, coastline=True, dynamic=True,\n",
    "    cmap='spring'\n",
    "    #cmap='YlOrRd'\n",
    ")\n",
    "pl50 * bogota * flight_path * first_rel * second_rel"
   ]
  },
  {
   "cell_type": "code",
   "execution_count": null,
   "metadata": {},
   "outputs": [],
   "source": [
    "pl * pl50"
   ]
  },
  {
   "cell_type": "code",
   "execution_count": null,
   "metadata": {},
   "outputs": [],
   "source": [
    "da_all_agregated = da.isel(time=slice(51,52)).sum(dim=('height', 'time', 'pointspec'))\n",
    "pl = da_all_agregated.hvplot.image(\n",
    "    x='longitude', y='latitude',  title='t-51h',\n",
    "    xlabel = 'Longitude (°)', ylabel = 'Latitude (°)', clabel = 'Res. Time(s)',\n",
    "    frame_height=350, \n",
    "    projection=ccrs.PlateCarree(), \n",
    "    geo=True, project=False, #global_extent=True,\n",
    "    xlim=(-140, -20), ylim=(-60, 60), \n",
    "    framewise=False, coastline=True, dynamic=True,\n",
    "    cmap='coolwarm',\n",
    ")\n",
    "pl * bogota * flight_path * first_rel * second_rel"
   ]
  },
  {
   "cell_type": "code",
   "execution_count": null,
   "metadata": {},
   "outputs": [],
   "source": [
    "dr = xr.open_dataset('/o3p/macc/test/GLM_array_152_05deg/GLM_array_152_12-13_batch_bis.nc')\n",
    "flash_en = dr.num_flash.where(dr.flash_energy > 0)\n",
    "flash_num = dr.num_flash.where(dr.num_flash > 0)\n",
    "\n",
    "pl51 = (flash_en).hvplot.image(\n",
    "    x='longitude', y='latitude',  title='Total flash energy', \n",
    "    xlabel = 'Longitude (°)', ylabel = 'Latitude (°)', clabel = 'Flash energy (J)',\n",
    "    frame_height=350, \n",
    "    projection=ccrs.PlateCarree(), \n",
    "    geo=True, project=False, #global_extent=True,\n",
    "    xlim=(-140, -20), ylim=(-60, 60), \n",
    "    framewise=False, coastline=True, dynamic=True,\n",
    "    cmap='spring'\n",
    "    #cmap='YlOrRd'\n",
    ")\n",
    "pl51 * bogota * flight_path * first_rel * second_rel"
   ]
  },
  {
   "cell_type": "code",
   "execution_count": null,
   "metadata": {},
   "outputs": [],
   "source": [
    "pl * pl51"
   ]
  },
  {
   "cell_type": "code",
   "execution_count": null,
   "metadata": {},
   "outputs": [],
   "source": [
    "da_all_agregated = da.isel(time=slice(52,53)).sum(dim=('height', 'time', 'pointspec'))\n",
    "pl = da_all_agregated.hvplot.image(\n",
    "    x='longitude', y='latitude',  title='t-52h',\n",
    "    xlabel = 'Longitude (°)', ylabel = 'Latitude (°)', clabel = 'Res. Time(s)',\n",
    "    frame_height=350, \n",
    "    projection=ccrs.PlateCarree(), \n",
    "    geo=True, project=False, #global_extent=True,\n",
    "    xlim=(-140, -20), ylim=(-60, 60), \n",
    "    framewise=False, coastline=True, dynamic=True,\n",
    "    cmap='coolwarm',\n",
    ")\n",
    "pl * bogota * flight_path * first_rel * second_rel"
   ]
  },
  {
   "cell_type": "code",
   "execution_count": null,
   "metadata": {},
   "outputs": [],
   "source": [
    "dr = xr.open_dataset('/o3p/macc/test/GLM_array_152_05deg/GLM_array_152_11-12_batch_bis.nc')\n",
    "flash_en = dr.num_flash.where(dr.flash_energy > 0)\n",
    "flash_num = dr.num_flash.where(dr.num_flash > 0)\n",
    "\n",
    "pl52 = (flash_en).hvplot.image(\n",
    "    x='longitude', y='latitude',  title='Total flash energy', \n",
    "    xlabel = 'Longitude (°)', ylabel = 'Latitude (°)', clabel = 'Flash energy (J)',\n",
    "    frame_height=350, \n",
    "    projection=ccrs.PlateCarree(), \n",
    "    geo=True, project=False, #global_extent=True,\n",
    "    xlim=(-140, -20), ylim=(-60, 60), \n",
    "    framewise=False, coastline=True, dynamic=True,\n",
    "    cmap='spring'\n",
    "    #cmap='YlOrRd'\n",
    ")\n",
    "pl52 * bogota * flight_path * first_rel * second_rel"
   ]
  },
  {
   "cell_type": "code",
   "execution_count": null,
   "metadata": {},
   "outputs": [],
   "source": [
    "pl * pl52"
   ]
  },
  {
   "cell_type": "code",
   "execution_count": null,
   "metadata": {},
   "outputs": [],
   "source": [
    "da_all_agregated = da.isel(time=slice(53,54)).sum(dim=('height', 'time', 'pointspec'))\n",
    "pl = da_all_agregated.hvplot.image(\n",
    "    x='longitude', y='latitude',  title='t-53h',\n",
    "    xlabel = 'Longitude (°)', ylabel = 'Latitude (°)', clabel = 'Res. Time(s)',\n",
    "    frame_height=350, \n",
    "    projection=ccrs.PlateCarree(), \n",
    "    geo=True, project=False, #global_extent=True,\n",
    "    xlim=(-140, -20), ylim=(-60, 60), \n",
    "    framewise=False, coastline=True, dynamic=True,\n",
    "    cmap='coolwarm',\n",
    ")\n",
    "pl * bogota * flight_path * first_rel * second_rel"
   ]
  },
  {
   "cell_type": "code",
   "execution_count": null,
   "metadata": {},
   "outputs": [],
   "source": [
    "dr = xr.open_dataset('/o3p/macc/test/GLM_array_152_05deg/GLM_array_152_10-11_batch_bis.nc')\n",
    "flash_en = dr.num_flash.where(dr.flash_energy > 0)\n",
    "flash_num = dr.num_flash.where(dr.num_flash > 0)\n",
    "\n",
    "pl53 = (flash_en).hvplot.image(\n",
    "    x='longitude', y='latitude',  title='Total flash energy', \n",
    "    xlabel = 'Longitude (°)', ylabel = 'Latitude (°)', clabel = 'Flash energy (J)',\n",
    "    frame_height=350, \n",
    "    projection=ccrs.PlateCarree(), \n",
    "    geo=True, project=False, #global_extent=True,\n",
    "    xlim=(-140, -20), ylim=(-60, 60), \n",
    "    framewise=False, coastline=True, dynamic=True,\n",
    "    cmap='spring'\n",
    "    #cmap='YlOrRd'\n",
    ")\n",
    "pl53 * bogota * flight_path * first_rel * second_rel"
   ]
  },
  {
   "cell_type": "code",
   "execution_count": null,
   "metadata": {},
   "outputs": [],
   "source": [
    "pl * pl53"
   ]
  },
  {
   "cell_type": "code",
   "execution_count": null,
   "metadata": {},
   "outputs": [],
   "source": [
    "da_all_agregated = da.isel(time=slice(54,55)).sum(dim=('height', 'time', 'pointspec'))\n",
    "pl = da_all_agregated.hvplot.image(\n",
    "    x='longitude', y='latitude',  title='t-54h',\n",
    "    xlabel = 'Longitude (°)', ylabel = 'Latitude (°)', clabel = 'Res. Time(s)',\n",
    "    frame_height=350, \n",
    "    projection=ccrs.PlateCarree(), \n",
    "    geo=True, project=False, #global_extent=True,\n",
    "    xlim=(-140, -20), ylim=(-60, 60), \n",
    "    framewise=False, coastline=True, dynamic=True,\n",
    "    cmap='coolwarm',\n",
    ")\n",
    "pl * bogota * flight_path * first_rel * second_rel"
   ]
  },
  {
   "cell_type": "code",
   "execution_count": null,
   "metadata": {},
   "outputs": [],
   "source": [
    "dr = xr.open_dataset('/o3p/macc/test/GLM_array_152_05deg/GLM_array_152_09-10_batch_bis.nc')\n",
    "flash_en = dr.num_flash.where(dr.flash_energy > 0)\n",
    "flash_num = dr.num_flash.where(dr.num_flash > 0)\n",
    "\n",
    "pl54 = (flash_en).hvplot.image(\n",
    "    x='longitude', y='latitude',  title='Total flash energy', \n",
    "    xlabel = 'Longitude (°)', ylabel = 'Latitude (°)', clabel = 'Flash energy (J)',\n",
    "    frame_height=350, \n",
    "    projection=ccrs.PlateCarree(), \n",
    "    geo=True, project=False, #global_extent=True,\n",
    "    xlim=(-140, -20), ylim=(-60, 60), \n",
    "    framewise=False, coastline=True, dynamic=True,\n",
    "    cmap='spring'\n",
    "    #cmap='YlOrRd'\n",
    ")\n",
    "pl54 * bogota * flight_path * first_rel * second_rel"
   ]
  },
  {
   "cell_type": "code",
   "execution_count": null,
   "metadata": {},
   "outputs": [],
   "source": [
    "pl * pl54"
   ]
  },
  {
   "cell_type": "code",
   "execution_count": null,
   "metadata": {},
   "outputs": [],
   "source": [
    "da_all_agregated = da.isel(time=slice(55,56)).sum(dim=('height', 'time', 'pointspec'))\n",
    "pl = da_all_agregated.hvplot.image(\n",
    "    x='longitude', y='latitude',  title='t-55h',\n",
    "    xlabel = 'Longitude (°)', ylabel = 'Latitude (°)', clabel = 'Res. Time(s)',\n",
    "    frame_height=350, \n",
    "    projection=ccrs.PlateCarree(), \n",
    "    geo=True, project=False, #global_extent=True,\n",
    "    xlim=(-140, -20), ylim=(-60, 60), \n",
    "    framewise=False, coastline=True, dynamic=True,\n",
    "    cmap='coolwarm',\n",
    ")\n",
    "pl * bogota * flight_path * first_rel * second_rel"
   ]
  },
  {
   "cell_type": "code",
   "execution_count": null,
   "metadata": {},
   "outputs": [],
   "source": [
    "dr = xr.open_dataset('/o3p/macc/test/GLM_array_152_05deg/GLM_array_152_08-09_batch_bis.nc')\n",
    "flash_en = dr.num_flash.where(dr.flash_energy > 0)\n",
    "flash_num = dr.num_flash.where(dr.num_flash > 0)\n",
    "\n",
    "pl55 = (flash_en).hvplot.image(\n",
    "    x='longitude', y='latitude',  title='Total flash energy', \n",
    "    xlabel = 'Longitude (°)', ylabel = 'Latitude (°)', clabel = 'Flash energy (J)',\n",
    "    frame_height=350, \n",
    "    projection=ccrs.PlateCarree(), \n",
    "    geo=True, project=False, #global_extent=True,\n",
    "    xlim=(-140, -20), ylim=(-60, 60), \n",
    "    framewise=False, coastline=True, dynamic=True,\n",
    "    cmap='spring'\n",
    "    #cmap='YlOrRd'\n",
    ")\n",
    "pl55 * bogota * flight_path * first_rel * second_rel"
   ]
  },
  {
   "cell_type": "code",
   "execution_count": null,
   "metadata": {},
   "outputs": [],
   "source": [
    "pl * pl55"
   ]
  },
  {
   "cell_type": "code",
   "execution_count": null,
   "metadata": {},
   "outputs": [],
   "source": [
    "da_all_agregated = da.isel(time=slice(56,57)).sum(dim=('height', 'time', 'pointspec'))\n",
    "pl = da_all_agregated.hvplot.image(\n",
    "    x='longitude', y='latitude',  title='t-56h',\n",
    "    xlabel = 'Longitude (°)', ylabel = 'Latitude (°)', clabel = 'Res. Time(s)',\n",
    "    frame_height=350, \n",
    "    projection=ccrs.PlateCarree(), \n",
    "    geo=True, project=False, #global_extent=True,\n",
    "    xlim=(-140, -20), ylim=(-60, 60), \n",
    "    framewise=False, coastline=True, dynamic=True,\n",
    "    cmap='coolwarm',\n",
    ")\n",
    "pl * bogota * flight_path * first_rel * second_rel"
   ]
  },
  {
   "cell_type": "code",
   "execution_count": null,
   "metadata": {},
   "outputs": [],
   "source": [
    "dr = xr.open_dataset('/o3p/macc/test/GLM_array_152_05deg/GLM_array_152_07-08_batch_bis.nc')\n",
    "flash_en = dr.num_flash.where(dr.flash_energy > 0)\n",
    "flash_num = dr.num_flash.where(dr.num_flash > 0)\n",
    "\n",
    "pl56 = (flash_en).hvplot.image(\n",
    "    x='longitude', y='latitude',  title='Total flash energy', \n",
    "    xlabel = 'Longitude (°)', ylabel = 'Latitude (°)', clabel = 'Flash energy (J)',\n",
    "    frame_height=350, \n",
    "    projection=ccrs.PlateCarree(), \n",
    "    geo=True, project=False, #global_extent=True,\n",
    "    xlim=(-140, -20), ylim=(-60, 60), \n",
    "    framewise=False, coastline=True, dynamic=True,\n",
    "    cmap='spring'\n",
    "    #cmap='YlOrRd'\n",
    ")\n",
    "pl56 * bogota * flight_path * first_rel * second_rel"
   ]
  },
  {
   "cell_type": "code",
   "execution_count": null,
   "metadata": {},
   "outputs": [],
   "source": [
    "pl * pl56"
   ]
  },
  {
   "cell_type": "code",
   "execution_count": null,
   "metadata": {},
   "outputs": [],
   "source": [
    "da_all_agregated = da.isel(time=slice(57,58)).sum(dim=('height', 'time', 'pointspec'))\n",
    "pl = da_all_agregated.hvplot.image(\n",
    "    x='longitude', y='latitude',  title='t-57h',\n",
    "    xlabel = 'Longitude (°)', ylabel = 'Latitude (°)', clabel = 'Res. Time(s)',\n",
    "    frame_height=350, \n",
    "    projection=ccrs.PlateCarree(), \n",
    "    geo=True, project=False, #global_extent=True,\n",
    "    xlim=(-140, -20), ylim=(-60, 60), \n",
    "    framewise=False, coastline=True, dynamic=True,\n",
    "    cmap='coolwarm',\n",
    ")\n",
    "pl * bogota * flight_path * first_rel * second_rel"
   ]
  },
  {
   "cell_type": "code",
   "execution_count": null,
   "metadata": {},
   "outputs": [],
   "source": [
    "dr = xr.open_dataset('/o3p/macc/test/GLM_array_152_05deg/GLM_array_152_06-07_batch_bis.nc')\n",
    "flash_en = dr.num_flash.where(dr.flash_energy > 0)\n",
    "flash_num = dr.num_flash.where(dr.num_flash > 0)\n",
    "\n",
    "pl57 = (flash_en).hvplot.image(\n",
    "    x='longitude', y='latitude',  title='Total flash energy', \n",
    "    xlabel = 'Longitude (°)', ylabel = 'Latitude (°)', clabel = 'Flash energy (J)',\n",
    "    frame_height=350, \n",
    "    projection=ccrs.PlateCarree(), \n",
    "    geo=True, project=False, #global_extent=True,\n",
    "    xlim=(-140, -20), ylim=(-60, 60), \n",
    "    framewise=False, coastline=True, dynamic=True,\n",
    "    cmap='spring'\n",
    "    #cmap='YlOrRd'\n",
    ")\n",
    "pl57 * bogota * flight_path * first_rel * second_rel"
   ]
  },
  {
   "cell_type": "code",
   "execution_count": null,
   "metadata": {},
   "outputs": [],
   "source": [
    "pl * pl57"
   ]
  },
  {
   "cell_type": "code",
   "execution_count": null,
   "metadata": {},
   "outputs": [],
   "source": [
    "da_all_agregated = da.isel(time=slice(58,59)).sum(dim=('height', 'time', 'pointspec'))\n",
    "pl = da_all_agregated.hvplot.image(\n",
    "    x='longitude', y='latitude',  title='t-58h',\n",
    "    xlabel = 'Longitude (°)', ylabel = 'Latitude (°)', clabel = 'Res. Time(s)',\n",
    "    frame_height=350, \n",
    "    projection=ccrs.PlateCarree(), \n",
    "    geo=True, project=False, #global_extent=True,\n",
    "    xlim=(-140, -20), ylim=(-60, 60), \n",
    "    framewise=False, coastline=True, dynamic=True,\n",
    "    cmap='coolwarm',\n",
    ")\n",
    "pl * bogota * flight_path * first_rel * second_rel"
   ]
  },
  {
   "cell_type": "code",
   "execution_count": null,
   "metadata": {},
   "outputs": [],
   "source": [
    "dr = xr.open_dataset('/o3p/macc/test/GLM_array_152_05deg/GLM_array_152_05-06_batch_bis.nc')\n",
    "flash_en = dr.num_flash.where(dr.flash_energy > 0)\n",
    "flash_num = dr.num_flash.where(dr.num_flash > 0)\n",
    "\n",
    "pl58 = (flash_en).hvplot.image(\n",
    "    x='longitude', y='latitude',  title='Total flash energy', \n",
    "    xlabel = 'Longitude (°)', ylabel = 'Latitude (°)', clabel = 'Flash energy (J)',\n",
    "    frame_height=350, \n",
    "    projection=ccrs.PlateCarree(), \n",
    "    geo=True, project=False, #global_extent=True,\n",
    "    xlim=(-140, -20), ylim=(-60, 60), \n",
    "    framewise=False, coastline=True, dynamic=True,\n",
    "    cmap='spring'\n",
    "    #cmap='YlOrRd'\n",
    ")\n",
    "pl58 * bogota * flight_path * first_rel * second_rel"
   ]
  },
  {
   "cell_type": "code",
   "execution_count": null,
   "metadata": {},
   "outputs": [],
   "source": [
    "pl * pl58"
   ]
  },
  {
   "cell_type": "code",
   "execution_count": null,
   "metadata": {},
   "outputs": [],
   "source": [
    "da_all_agregated = da.isel(time=slice(59,60)).sum(dim=('height', 'time', 'pointspec'))\n",
    "pl = da_all_agregated.hvplot.image(\n",
    "    x='longitude', y='latitude',  title='t-59h',\n",
    "    xlabel = 'Longitude (°)', ylabel = 'Latitude (°)', clabel = 'Res. Time(s)',\n",
    "    frame_height=350, \n",
    "    projection=ccrs.PlateCarree(), \n",
    "    geo=True, project=False, #global_extent=True,\n",
    "    xlim=(-140, -20), ylim=(-60, 60), \n",
    "    framewise=False, coastline=True, dynamic=True,\n",
    "    cmap='coolwarm',\n",
    ")\n",
    "pl * bogota * flight_path * first_rel * second_rel"
   ]
  },
  {
   "cell_type": "code",
   "execution_count": null,
   "metadata": {},
   "outputs": [],
   "source": [
    "dr = xr.open_dataset('/o3p/macc/test/GLM_array_152_05deg/GLM_array_152_04-05_batch_bis.nc')\n",
    "flash_en = dr.num_flash.where(dr.flash_energy > 0)\n",
    "flash_num = dr.num_flash.where(dr.num_flash > 0)\n",
    "\n",
    "pl59 = (flash_en).hvplot.image(\n",
    "    x='longitude', y='latitude',  title='Total flash energy', \n",
    "    xlabel = 'Longitude (°)', ylabel = 'Latitude (°)', clabel = 'Flash energy (J)',\n",
    "    frame_height=350, \n",
    "    projection=ccrs.PlateCarree(), \n",
    "    geo=True, project=False, #global_extent=True,\n",
    "    xlim=(-140, -20), ylim=(-60, 60), \n",
    "    framewise=False, coastline=True, dynamic=True,\n",
    "    cmap='spring'\n",
    "    #cmap='YlOrRd'\n",
    ")\n",
    "pl59 * bogota * flight_path * first_rel * second_rel"
   ]
  },
  {
   "cell_type": "code",
   "execution_count": null,
   "metadata": {},
   "outputs": [],
   "source": [
    "pl * pl59"
   ]
  },
  {
   "cell_type": "code",
   "execution_count": null,
   "metadata": {},
   "outputs": [],
   "source": [
    "da_all_agregated = da.isel(time=slice(60,61)).sum(dim=('height', 'time', 'pointspec'))\n",
    "pl = da_all_agregated.hvplot.image(\n",
    "    x='longitude', y='latitude',  title='t-60h',\n",
    "    xlabel = 'Longitude (°)', ylabel = 'Latitude (°)', clabel = 'Res. Time(s)',\n",
    "    frame_height=350, \n",
    "    projection=ccrs.PlateCarree(), \n",
    "    geo=True, project=False, #global_extent=True,\n",
    "    xlim=(-140, -20), ylim=(-60, 60), \n",
    "    framewise=False, coastline=True, dynamic=True,\n",
    "    cmap='coolwarm',\n",
    ")\n",
    "pl * bogota * flight_path * first_rel * second_rel"
   ]
  },
  {
   "cell_type": "code",
   "execution_count": null,
   "metadata": {},
   "outputs": [],
   "source": [
    "dr = xr.open_dataset('/o3p/macc/test/GLM_array_152_05deg/GLM_array_152_03-04_batch_bis.nc')\n",
    "flash_en = dr.num_flash.where(dr.flash_energy > 0)\n",
    "flash_num = dr.num_flash.where(dr.num_flash > 0)\n",
    "\n",
    "pl60 = (flash_en).hvplot.image(\n",
    "    x='longitude', y='latitude',  title='Total flash energy', \n",
    "    xlabel = 'Longitude (°)', ylabel = 'Latitude (°)', clabel = 'Flash energy (J)',\n",
    "    frame_height=350, \n",
    "    projection=ccrs.PlateCarree(), \n",
    "    geo=True, project=False, #global_extent=True,\n",
    "    xlim=(-140, -20), ylim=(-60, 60), \n",
    "    framewise=False, coastline=True, dynamic=True,\n",
    "    cmap='spring'\n",
    "    #cmap='YlOrRd'\n",
    ")\n",
    "pl60 * bogota * flight_path * first_rel * second_rel"
   ]
  },
  {
   "cell_type": "code",
   "execution_count": null,
   "metadata": {},
   "outputs": [],
   "source": [
    "pl * pl60"
   ]
  },
  {
   "cell_type": "code",
   "execution_count": null,
   "metadata": {},
   "outputs": [],
   "source": [
    "da_all_agregated = da.isel(time=slice(61,62)).sum(dim=('height', 'time', 'pointspec'))\n",
    "pl = da_all_agregated.hvplot.image(\n",
    "    x='longitude', y='latitude',  title='t-61h',\n",
    "    xlabel = 'Longitude (°)', ylabel = 'Latitude (°)', clabel = 'Res. Time(s)',\n",
    "    frame_height=350, \n",
    "    projection=ccrs.PlateCarree(), \n",
    "    geo=True, project=False, #global_extent=True,\n",
    "    xlim=(-140, -20), ylim=(-60, 60), \n",
    "    framewise=False, coastline=True, dynamic=True,\n",
    "    cmap='coolwarm',\n",
    ")\n",
    "pl * bogota * flight_path * first_rel * second_rel"
   ]
  },
  {
   "cell_type": "code",
   "execution_count": null,
   "metadata": {},
   "outputs": [],
   "source": [
    "dr = xr.open_dataset('/o3p/macc/test/GLM_array_152_05deg/GLM_array_152_02-03_batch_bis.nc')\n",
    "flash_en = dr.num_flash.where(dr.flash_energy > 0)\n",
    "flash_num = dr.num_flash.where(dr.num_flash > 0)\n",
    "\n",
    "pl61 = (flash_en).hvplot.image(\n",
    "    x='longitude', y='latitude',  title='Total flash energy', \n",
    "    xlabel = 'Longitude (°)', ylabel = 'Latitude (°)', clabel = 'Flash energy (J)',\n",
    "    frame_height=350, \n",
    "    projection=ccrs.PlateCarree(), \n",
    "    geo=True, project=False, #global_extent=True,\n",
    "    xlim=(-140, -20), ylim=(-60, 60), \n",
    "    framewise=False, coastline=True, dynamic=True,\n",
    "    cmap='spring'\n",
    "    #cmap='YlOrRd'\n",
    ")\n",
    "pl61 * bogota * flight_path * first_rel * second_rel"
   ]
  },
  {
   "cell_type": "code",
   "execution_count": null,
   "metadata": {},
   "outputs": [],
   "source": [
    "pl * pl61"
   ]
  },
  {
   "cell_type": "code",
   "execution_count": null,
   "metadata": {},
   "outputs": [],
   "source": [
    "da_all_agregated = da.isel(time=slice(62,63)).sum(dim=('height', 'time', 'pointspec'))\n",
    "pl = da_all_agregated.hvplot.image(\n",
    "    x='longitude', y='latitude',  title='t-62h',\n",
    "    xlabel = 'Longitude (°)', ylabel = 'Latitude (°)', clabel = 'Res. Time(s)',\n",
    "    frame_height=350, \n",
    "    projection=ccrs.PlateCarree(), \n",
    "    geo=True, project=False, #global_extent=True,\n",
    "    xlim=(-140, -20), ylim=(-60, 60), \n",
    "    framewise=False, coastline=True, dynamic=True,\n",
    "    cmap='coolwarm',\n",
    ")\n",
    "pl * bogota * flight_path * first_rel * second_rel"
   ]
  },
  {
   "cell_type": "code",
   "execution_count": null,
   "metadata": {},
   "outputs": [],
   "source": [
    "dr = xr.open_dataset('/o3p/macc/test/GLM_array_152_05deg/GLM_array_152_01-02_batch_bis.nc')\n",
    "flash_en = dr.num_flash.where(dr.flash_energy > 0)\n",
    "flash_num = dr.num_flash.where(dr.num_flash > 0)\n",
    "\n",
    "pl62 = (flash_en).hvplot.image(\n",
    "    x='longitude', y='latitude',  title='Total flash energy', \n",
    "    xlabel = 'Longitude (°)', ylabel = 'Latitude (°)', clabel = 'Flash energy (J)',\n",
    "    frame_height=350, \n",
    "    projection=ccrs.PlateCarree(), \n",
    "    geo=True, project=False, #global_extent=True,\n",
    "    xlim=(-140, -20), ylim=(-60, 60), \n",
    "    framewise=False, coastline=True, dynamic=True,\n",
    "    cmap='spring'\n",
    "    #cmap='YlOrRd'\n",
    ")\n",
    "pl62 * bogota * flight_path * first_rel * second_rel"
   ]
  },
  {
   "cell_type": "code",
   "execution_count": null,
   "metadata": {},
   "outputs": [],
   "source": [
    "pl * pl62"
   ]
  },
  {
   "cell_type": "code",
   "execution_count": null,
   "metadata": {},
   "outputs": [],
   "source": [
    "da_all_agregated = da.isel(time=slice(63,64)).sum(dim=('height', 'time', 'pointspec'))\n",
    "pl = da_all_agregated.hvplot.image(\n",
    "    x='longitude', y='latitude',  title='t-63h',\n",
    "    xlabel = 'Longitude (°)', ylabel = 'Latitude (°)', clabel = 'Res. Time(s)',\n",
    "    frame_height=350, \n",
    "    projection=ccrs.PlateCarree(), \n",
    "    geo=True, project=False, #global_extent=True,\n",
    "    xlim=(-140, -20), ylim=(-60, 60), \n",
    "    framewise=False, coastline=True, dynamic=True,\n",
    "    cmap='coolwarm',\n",
    ")\n",
    "pl * bogota * flight_path * first_rel * second_rel"
   ]
  },
  {
   "cell_type": "code",
   "execution_count": null,
   "metadata": {},
   "outputs": [],
   "source": [
    "dr = xr.open_dataset('/o3p/macc/test/GLM_array_152_05deg/GLM_array_152_00-01_batch_bis.nc')\n",
    "flash_en = dr.num_flash.where(dr.flash_energy > 0)\n",
    "flash_num = dr.num_flash.where(dr.num_flash > 0)\n",
    "\n",
    "pl63 = (flash_en).hvplot.image(\n",
    "    x='longitude', y='latitude',  title='Total flash energy', \n",
    "    xlabel = 'Longitude (°)', ylabel = 'Latitude (°)', clabel = 'Flash energy (J)',\n",
    "    frame_height=350, \n",
    "    projection=ccrs.PlateCarree(), \n",
    "    geo=True, project=False, #global_extent=True,\n",
    "    xlim=(-140, -20), ylim=(-60, 60), \n",
    "    framewise=False, coastline=True, dynamic=True,\n",
    "    cmap='spring'\n",
    "    #cmap='YlOrRd'\n",
    ")\n",
    "pl63 * bogota * flight_path * first_rel * second_rel"
   ]
  },
  {
   "cell_type": "code",
   "execution_count": null,
   "metadata": {},
   "outputs": [],
   "source": [
    "pl * pl63"
   ]
  },
  {
   "cell_type": "code",
   "execution_count": null,
   "metadata": {},
   "outputs": [],
   "source": [
    "da_all_agregated = da.isel(time=slice(64,65)).sum(dim=('height', 'time', 'pointspec'))\n",
    "pl = da_all_agregated.hvplot.image(\n",
    "    x='longitude', y='latitude',  title='t-64h',\n",
    "    xlabel = 'Longitude (°)', ylabel = 'Latitude (°)', clabel = 'Res. Time(s)',\n",
    "    frame_height=350, \n",
    "    projection=ccrs.PlateCarree(), \n",
    "    geo=True, project=False, #global_extent=True,\n",
    "    xlim=(-140, -20), ylim=(-60, 60), \n",
    "    framewise=False, coastline=True, dynamic=True,\n",
    "    cmap='coolwarm',\n",
    ")\n",
    "pl * bogota * flight_path * first_rel * second_rel"
   ]
  },
  {
   "cell_type": "code",
   "execution_count": null,
   "metadata": {},
   "outputs": [],
   "source": [
    "dr = xr.open_dataset('/o3p/macc/test/GLM_array_151_05deg/GLM_array_151_23-00_batch_bis.nc')\n",
    "flash_en = dr.num_flash.where(dr.flash_energy > 0)\n",
    "flash_num = dr.num_flash.where(dr.num_flash > 0)\n",
    "\n",
    "pl64 = (flash_en).hvplot.image(\n",
    "    x='longitude', y='latitude',  title='Total flash energy', \n",
    "    xlabel = 'Longitude (°)', ylabel = 'Latitude (°)', clabel = 'Flash energy (J)',\n",
    "    frame_height=350, \n",
    "    projection=ccrs.PlateCarree(), \n",
    "    geo=True, project=False, #global_extent=True,\n",
    "    xlim=(-140, -20), ylim=(-60, 60), \n",
    "    framewise=False, coastline=True, dynamic=True,\n",
    "    cmap='spring'\n",
    "    #cmap='YlOrRd'\n",
    ")\n",
    "pl64 * bogota * flight_path * first_rel * second_rel"
   ]
  },
  {
   "cell_type": "code",
   "execution_count": null,
   "metadata": {},
   "outputs": [],
   "source": [
    "pl * pl64"
   ]
  },
  {
   "cell_type": "code",
   "execution_count": null,
   "metadata": {},
   "outputs": [],
   "source": [
    "da_all_agregated = da.isel(time=slice(65,66)).sum(dim=('height', 'time', 'pointspec'))\n",
    "pl = da_all_agregated.hvplot.image(\n",
    "    x='longitude', y='latitude',  title='t-65h',\n",
    "    xlabel = 'Longitude (°)', ylabel = 'Latitude (°)', clabel = 'Res. Time(s)',\n",
    "    frame_height=350, \n",
    "    projection=ccrs.PlateCarree(), \n",
    "    geo=True, project=False, #global_extent=True,\n",
    "    xlim=(-140, -20), ylim=(-60, 60), \n",
    "    framewise=False, coastline=True, dynamic=True,\n",
    "    cmap='coolwarm',\n",
    ")\n",
    "pl * bogota * flight_path * first_rel * second_rel"
   ]
  },
  {
   "cell_type": "code",
   "execution_count": null,
   "metadata": {},
   "outputs": [],
   "source": [
    "dr = xr.open_dataset('/o3p/macc/test/GLM_array_151_05deg/GLM_array_151_22-23_batch_bis.nc')\n",
    "flash_en = dr.num_flash.where(dr.flash_energy > 0)\n",
    "flash_num = dr.num_flash.where(dr.num_flash > 0)\n",
    "\n",
    "pl65 = (flash_en).hvplot.image(\n",
    "    x='longitude', y='latitude',  title='Total flash energy', \n",
    "    xlabel = 'Longitude (°)', ylabel = 'Latitude (°)', clabel = 'Flash energy (J)',\n",
    "    frame_height=350, \n",
    "    projection=ccrs.PlateCarree(), \n",
    "    geo=True, project=False, #global_extent=True,\n",
    "    xlim=(-140, -20), ylim=(-60, 60), \n",
    "    framewise=False, coastline=True, dynamic=True,\n",
    "    cmap='spring'\n",
    "    #cmap='YlOrRd'\n",
    ")\n",
    "pl65 * bogota * flight_path * first_rel * second_rel"
   ]
  },
  {
   "cell_type": "code",
   "execution_count": null,
   "metadata": {},
   "outputs": [],
   "source": [
    "pl * pl65"
   ]
  },
  {
   "cell_type": "code",
   "execution_count": null,
   "metadata": {},
   "outputs": [],
   "source": [
    "da_all_agregated = da.isel(time=slice(66,67)).sum(dim=('height', 'time', 'pointspec'))\n",
    "pl = da_all_agregated.hvplot.image(\n",
    "    x='longitude', y='latitude',  title='t-66h',\n",
    "    xlabel = 'Longitude (°)', ylabel = 'Latitude (°)', clabel = 'Res. Time(s)',\n",
    "    frame_height=350, \n",
    "    projection=ccrs.PlateCarree(), \n",
    "    geo=True, project=False, #global_extent=True,\n",
    "    xlim=(-140, -20), ylim=(-60, 60), \n",
    "    framewise=False, coastline=True, dynamic=True,\n",
    "    cmap='coolwarm',\n",
    ")\n",
    "pl * bogota * flight_path * first_rel * second_rel"
   ]
  },
  {
   "cell_type": "code",
   "execution_count": null,
   "metadata": {},
   "outputs": [],
   "source": [
    "dr = xr.open_dataset('/o3p/macc/test/GLM_array_151_05deg/GLM_array_151_21-22_batch_bis.nc')\n",
    "flash_en = dr.num_flash.where(dr.flash_energy > 0)\n",
    "flash_num = dr.num_flash.where(dr.num_flash > 0)\n",
    "\n",
    "pl66 = (flash_en).hvplot.image(\n",
    "    x='longitude', y='latitude',  title='Total flash energy', \n",
    "    xlabel = 'Longitude (°)', ylabel = 'Latitude (°)', clabel = 'Flash energy (J)',\n",
    "    frame_height=350, \n",
    "    projection=ccrs.PlateCarree(), \n",
    "    geo=True, project=False, #global_extent=True,\n",
    "    xlim=(-140, -20), ylim=(-60, 60), \n",
    "    framewise=False, coastline=True, dynamic=True,\n",
    "    cmap='spring'\n",
    "    #cmap='YlOrRd'\n",
    ")\n",
    "pl66 * bogota * flight_path * first_rel * second_rel"
   ]
  },
  {
   "cell_type": "code",
   "execution_count": null,
   "metadata": {},
   "outputs": [],
   "source": [
    "pl * pl66"
   ]
  },
  {
   "cell_type": "code",
   "execution_count": null,
   "metadata": {},
   "outputs": [],
   "source": [
    "da_all_agregated = da.isel(time=slice(67,68)).sum(dim=('height', 'time', 'pointspec'))\n",
    "pl = da_all_agregated.hvplot.image(\n",
    "    x='longitude', y='latitude',  title='t-67h',\n",
    "    xlabel = 'Longitude (°)', ylabel = 'Latitude (°)', clabel = 'Res. Time(s)',\n",
    "    frame_height=350, \n",
    "    projection=ccrs.PlateCarree(), \n",
    "    geo=True, project=False, #global_extent=True,\n",
    "    xlim=(-140, -20), ylim=(-60, 60), \n",
    "    framewise=False, coastline=True, dynamic=True,\n",
    "    cmap='coolwarm',\n",
    ")\n",
    "pl * bogota * flight_path * first_rel * second_rel"
   ]
  },
  {
   "cell_type": "code",
   "execution_count": null,
   "metadata": {},
   "outputs": [],
   "source": [
    "dr = xr.open_dataset('/o3p/macc/test/GLM_array_151_05deg/GLM_array_151_20-21_batch_bis.nc')\n",
    "flash_en = dr.num_flash.where(dr.flash_energy > 0)\n",
    "flash_num = dr.num_flash.where(dr.num_flash > 0)\n",
    "\n",
    "pl67 = (flash_en).hvplot.image(\n",
    "    x='longitude', y='latitude',  title='Total flash energy', \n",
    "    xlabel = 'Longitude (°)', ylabel = 'Latitude (°)', clabel = 'Flash energy (J)',\n",
    "    frame_height=350, \n",
    "    projection=ccrs.PlateCarree(), \n",
    "    geo=True, project=False, #global_extent=True,\n",
    "    xlim=(-140, -20), ylim=(-60, 60), \n",
    "    framewise=False, coastline=True, dynamic=True,\n",
    "    cmap='spring'\n",
    "    #cmap='YlOrRd'\n",
    ")\n",
    "pl67 * bogota * flight_path * first_rel * second_rel"
   ]
  },
  {
   "cell_type": "code",
   "execution_count": null,
   "metadata": {},
   "outputs": [],
   "source": [
    "pl * pl67"
   ]
  },
  {
   "cell_type": "code",
   "execution_count": null,
   "metadata": {},
   "outputs": [],
   "source": [
    "da_all_agregated = da.isel(time=slice(68,69)).sum(dim=('height', 'time', 'pointspec'))\n",
    "pl = da_all_agregated.hvplot.image(\n",
    "    x='longitude', y='latitude',  title='t-68h',\n",
    "    xlabel = 'Longitude (°)', ylabel = 'Latitude (°)', clabel = 'Res. Time(s)',\n",
    "    frame_height=350, \n",
    "    projection=ccrs.PlateCarree(), \n",
    "    geo=True, project=False, #global_extent=True,\n",
    "    xlim=(-140, -20), ylim=(-60, 60), \n",
    "    framewise=False, coastline=True, dynamic=True,\n",
    "    cmap='coolwarm',\n",
    ")\n",
    "pl * bogota * flight_path * first_rel * second_rel"
   ]
  },
  {
   "cell_type": "code",
   "execution_count": null,
   "metadata": {},
   "outputs": [],
   "source": [
    "dr = xr.open_dataset('/o3p/macc/test/GLM_array_151_05deg/GLM_array_151_19-20_batch_bis.nc')\n",
    "flash_en = dr.num_flash.where(dr.flash_energy > 0)\n",
    "flash_num = dr.num_flash.where(dr.num_flash > 0)\n",
    "\n",
    "pl68 = (flash_en).hvplot.image(\n",
    "    x='longitude', y='latitude',  title='Total flash energy', \n",
    "    xlabel = 'Longitude (°)', ylabel = 'Latitude (°)', clabel = 'Flash energy (J)',\n",
    "    frame_height=350, \n",
    "    projection=ccrs.PlateCarree(), \n",
    "    geo=True, project=False, #global_extent=True,\n",
    "    xlim=(-140, -20), ylim=(-60, 60), \n",
    "    framewise=False, coastline=True, dynamic=True,\n",
    "    cmap='spring'\n",
    "    #cmap='YlOrRd'\n",
    ")\n",
    "pl68 * bogota * flight_path * first_rel * second_rel"
   ]
  },
  {
   "cell_type": "code",
   "execution_count": null,
   "metadata": {},
   "outputs": [],
   "source": [
    "pl * pl68"
   ]
  },
  {
   "cell_type": "code",
   "execution_count": null,
   "metadata": {},
   "outputs": [],
   "source": [
    "da_all_agregated = da.isel(time=slice(69,70)).sum(dim=('height', 'time', 'pointspec'))\n",
    "pl = da_all_agregated.hvplot.image(\n",
    "    x='longitude', y='latitude',  title='t-69h',\n",
    "    xlabel = 'Longitude (°)', ylabel = 'Latitude (°)', clabel = 'Res. Time(s)',\n",
    "    frame_height=350, \n",
    "    projection=ccrs.PlateCarree(), \n",
    "    geo=True, project=False, #global_extent=True,\n",
    "    xlim=(-140, -20), ylim=(-60, 60), \n",
    "    framewise=False, coastline=True, dynamic=True,\n",
    "    cmap='coolwarm',\n",
    ")\n",
    "pl * bogota * flight_path * first_rel * second_rel"
   ]
  },
  {
   "cell_type": "code",
   "execution_count": null,
   "metadata": {},
   "outputs": [],
   "source": [
    "# No GLM for 18h-19h"
   ]
  },
  {
   "cell_type": "code",
   "execution_count": null,
   "metadata": {},
   "outputs": [],
   "source": [
    "da_all_agregated = da.isel(time=slice(70,71)).sum(dim=('height', 'time', 'pointspec'))\n",
    "pl = da_all_agregated.hvplot.image(\n",
    "    x='longitude', y='latitude',  title='t-70h',\n",
    "    xlabel = 'Longitude (°)', ylabel = 'Latitude (°)', clabel = 'Res. Time(s)',\n",
    "    frame_height=350, \n",
    "    projection=ccrs.PlateCarree(), \n",
    "    geo=True, project=False, #global_extent=True,\n",
    "    xlim=(-140, -20), ylim=(-60, 60), \n",
    "    framewise=False, coastline=True, dynamic=True,\n",
    "    cmap='coolwarm',\n",
    ")\n",
    "pl * bogota * flight_path * first_rel * second_rel"
   ]
  },
  {
   "cell_type": "code",
   "execution_count": null,
   "metadata": {},
   "outputs": [],
   "source": [
    "dr = xr.open_dataset('/o3p/macc/test/GLM_array_151_05deg/GLM_array_151_17-18_batch_bis.nc')\n",
    "flash_en = dr.num_flash.where(dr.flash_energy > 0)\n",
    "flash_num = dr.num_flash.where(dr.num_flash > 0)\n",
    "\n",
    "pl70 = (flash_en).hvplot.image(\n",
    "    x='longitude', y='latitude',  title='Total flash energy', \n",
    "    xlabel = 'Longitude (°)', ylabel = 'Latitude (°)', clabel = 'Flash energy (J)',\n",
    "    frame_height=350, \n",
    "    projection=ccrs.PlateCarree(), \n",
    "    geo=True, project=False, #global_extent=True,\n",
    "    xlim=(-140, -20), ylim=(-60, 60), \n",
    "    framewise=False, coastline=True, dynamic=True,\n",
    "    cmap='spring'\n",
    "    #cmap='YlOrRd'\n",
    ")\n",
    "pl70 * bogota * flight_path * first_rel * second_rel"
   ]
  },
  {
   "cell_type": "code",
   "execution_count": null,
   "metadata": {},
   "outputs": [],
   "source": [
    "pl * pl70"
   ]
  },
  {
   "cell_type": "code",
   "execution_count": null,
   "metadata": {},
   "outputs": [],
   "source": [
    "da_all_agregated = da.isel(time=slice(71,72)).sum(dim=('height', 'time', 'pointspec'))\n",
    "pl = da_all_agregated.hvplot.image(\n",
    "    x='longitude', y='latitude',  title='t-71h',\n",
    "    xlabel = 'Longitude (°)', ylabel = 'Latitude (°)', clabel = 'Res. Time(s)',\n",
    "    frame_height=350, \n",
    "    projection=ccrs.PlateCarree(), \n",
    "    geo=True, project=False, #global_extent=True,\n",
    "    xlim=(-140, -20), ylim=(-60, 60), \n",
    "    framewise=False, coastline=True, dynamic=True,\n",
    "    cmap='coolwarm',\n",
    ")\n",
    "pl * bogota * flight_path * first_rel * second_rel"
   ]
  },
  {
   "cell_type": "code",
   "execution_count": null,
   "metadata": {},
   "outputs": [],
   "source": [
    "dr = xr.open_dataset('/o3p/macc/test/GLM_array_151_05deg/GLM_array_151_16-17_batch_bis.nc')\n",
    "flash_en = dr.num_flash.where(dr.flash_energy > 0)\n",
    "flash_num = dr.num_flash.where(dr.num_flash > 0)\n",
    "\n",
    "pl71 = (flash_en).hvplot.image(\n",
    "    x='longitude', y='latitude',  title='Total flash energy', \n",
    "    xlabel = 'Longitude (°)', ylabel = 'Latitude (°)', clabel = 'Flash energy (J)',\n",
    "    frame_height=350, \n",
    "    projection=ccrs.PlateCarree(), \n",
    "    geo=True, project=False, #global_extent=True,\n",
    "    xlim=(-140, -20), ylim=(-60, 60), \n",
    "    framewise=False, coastline=True, dynamic=True,\n",
    "    cmap='spring'\n",
    "    #cmap='YlOrRd'\n",
    ")\n",
    "pl71 * bogota * flight_path * first_rel * second_rel"
   ]
  },
  {
   "cell_type": "code",
   "execution_count": null,
   "metadata": {},
   "outputs": [],
   "source": [
    "pl * pl71"
   ]
  },
  {
   "cell_type": "code",
   "execution_count": null,
   "metadata": {},
   "outputs": [],
   "source": [
    "da_all_agregated = da.isel(time=slice(72,73)).sum(dim=('height', 'time', 'pointspec'))\n",
    "pl = da_all_agregated.hvplot.image(\n",
    "    x='longitude', y='latitude',  title='t-72h',\n",
    "    xlabel = 'Longitude (°)', ylabel = 'Latitude (°)', clabel = 'Res. Time(s)',\n",
    "    frame_height=350, \n",
    "    projection=ccrs.PlateCarree(), \n",
    "    geo=True, project=False, #global_extent=True,\n",
    "    xlim=(-140, -20), ylim=(-60, 60), \n",
    "    framewise=False, coastline=True, dynamic=True,\n",
    "    cmap='coolwarm',\n",
    ")\n",
    "pl * bogota * flight_path * first_rel * second_rel"
   ]
  },
  {
   "cell_type": "code",
   "execution_count": null,
   "metadata": {},
   "outputs": [],
   "source": [
    "dr = xr.open_dataset('/o3p/macc/test/GLM_array_151_05deg/GLM_array_151_15-16_batch_bis.nc')\n",
    "flash_en = dr.num_flash.where(dr.flash_energy > 0)\n",
    "flash_num = dr.num_flash.where(dr.num_flash > 0)\n",
    "\n",
    "pl72 = (flash_en).hvplot.image(\n",
    "    x='longitude', y='latitude',  title='Total flash energy', \n",
    "    xlabel = 'Longitude (°)', ylabel = 'Latitude (°)', clabel = 'Flash energy (J)',\n",
    "    frame_height=350, \n",
    "    projection=ccrs.PlateCarree(), \n",
    "    geo=True, project=False, #global_extent=True,\n",
    "    xlim=(-140, -20), ylim=(-60, 60), \n",
    "    framewise=False, coastline=True, dynamic=True,\n",
    "    cmap='spring'\n",
    "    #cmap='YlOrRd'\n",
    ")\n",
    "pl72 * bogota * flight_path * first_rel * second_rel"
   ]
  },
  {
   "cell_type": "code",
   "execution_count": null,
   "metadata": {},
   "outputs": [],
   "source": [
    "pl * pl72"
   ]
  },
  {
   "cell_type": "code",
   "execution_count": null,
   "metadata": {},
   "outputs": [],
   "source": [
    "da_all_agregated = da.isel(time=slice(73,74)).sum(dim=('height', 'time', 'pointspec'))\n",
    "pl = da_all_agregated.hvplot.image(\n",
    "    x='longitude', y='latitude',  title='t-73h',\n",
    "    xlabel = 'Longitude (°)', ylabel = 'Latitude (°)', clabel = 'Res. Time(s)',\n",
    "    frame_height=350, \n",
    "    projection=ccrs.PlateCarree(), \n",
    "    geo=True, project=False, #global_extent=True,\n",
    "    xlim=(-140, -20), ylim=(-60, 60), \n",
    "    framewise=False, coastline=True, dynamic=True,\n",
    "    cmap='coolwarm',\n",
    ")\n",
    "pl * bogota * flight_path * first_rel * second_rel"
   ]
  },
  {
   "cell_type": "code",
   "execution_count": null,
   "metadata": {},
   "outputs": [],
   "source": [
    "dr = xr.open_dataset('/o3p/macc/test/GLM_array_151_05deg/GLM_array_151_14-15_batch_bis.nc')\n",
    "flash_en = dr.num_flash.where(dr.flash_energy > 0)\n",
    "flash_num = dr.num_flash.where(dr.num_flash > 0)\n",
    "\n",
    "pl73 = (flash_en).hvplot.image(\n",
    "    x='longitude', y='latitude',  title='Total flash energy', \n",
    "    xlabel = 'Longitude (°)', ylabel = 'Latitude (°)', clabel = 'Flash energy (J)',\n",
    "    frame_height=350, \n",
    "    projection=ccrs.PlateCarree(), \n",
    "    geo=True, project=False, #global_extent=True,\n",
    "    xlim=(-140, -20), ylim=(-60, 60), \n",
    "    framewise=False, coastline=True, dynamic=True,\n",
    "    cmap='spring'\n",
    "    #cmap='YlOrRd'\n",
    ")\n",
    "pl73 * bogota * flight_path * first_rel * second_rel"
   ]
  },
  {
   "cell_type": "code",
   "execution_count": null,
   "metadata": {},
   "outputs": [],
   "source": [
    "pl * pl73"
   ]
  },
  {
   "cell_type": "code",
   "execution_count": null,
   "metadata": {},
   "outputs": [],
   "source": [
    "da_all_agregated = da.isel(time=slice(74,75)).sum(dim=('height', 'time', 'pointspec'))\n",
    "pl = da_all_agregated.hvplot.image(\n",
    "    x='longitude', y='latitude',  title='t-74h',\n",
    "    xlabel = 'Longitude (°)', ylabel = 'Latitude (°)', clabel = 'Res. Time(s)',\n",
    "    frame_height=350, \n",
    "    projection=ccrs.PlateCarree(), \n",
    "    geo=True, project=False, #global_extent=True,\n",
    "    xlim=(-140, -20), ylim=(-60, 60), \n",
    "    framewise=False, coastline=True, dynamic=True,\n",
    "    cmap='coolwarm',\n",
    ")\n",
    "pl * bogota * flight_path * first_rel * second_rel"
   ]
  },
  {
   "cell_type": "code",
   "execution_count": null,
   "metadata": {},
   "outputs": [],
   "source": [
    "dr = xr.open_dataset('/o3p/macc/test/GLM_array_151_05deg/GLM_array_151_13-14_batch_bis.nc')\n",
    "flash_en = dr.num_flash.where(dr.flash_energy > 0)\n",
    "flash_num = dr.num_flash.where(dr.num_flash > 0)\n",
    "\n",
    "pl74 = (flash_en).hvplot.image(\n",
    "    x='longitude', y='latitude',  title='Total flash energy', \n",
    "    xlabel = 'Longitude (°)', ylabel = 'Latitude (°)', clabel = 'Flash energy (J)',\n",
    "    frame_height=350, \n",
    "    projection=ccrs.PlateCarree(), \n",
    "    geo=True, project=False, #global_extent=True,\n",
    "    xlim=(-140, -20), ylim=(-60, 60), \n",
    "    framewise=False, coastline=True, dynamic=True,\n",
    "    cmap='spring'\n",
    "    #cmap='YlOrRd'\n",
    ")\n",
    "pl74 * bogota * flight_path * first_rel * second_rel"
   ]
  },
  {
   "cell_type": "code",
   "execution_count": null,
   "metadata": {},
   "outputs": [],
   "source": [
    "pl * pl74"
   ]
  },
  {
   "cell_type": "code",
   "execution_count": null,
   "metadata": {},
   "outputs": [],
   "source": [
    "da_all_agregated = da.isel(time=slice(75,76)).sum(dim=('height', 'time', 'pointspec'))\n",
    "pl = da_all_agregated.hvplot.image(\n",
    "    x='longitude', y='latitude',  title='t-75h',\n",
    "    xlabel = 'Longitude (°)', ylabel = 'Latitude (°)', clabel = 'Res. Time(s)',\n",
    "    frame_height=350, \n",
    "    projection=ccrs.PlateCarree(), \n",
    "    geo=True, project=False, #global_extent=True,\n",
    "    xlim=(-140, -20), ylim=(-60, 60), \n",
    "    framewise=False, coastline=True, dynamic=True,\n",
    "    cmap='coolwarm',\n",
    ")\n",
    "pl * bogota * flight_path * first_rel * second_rel"
   ]
  },
  {
   "cell_type": "code",
   "execution_count": null,
   "metadata": {},
   "outputs": [],
   "source": [
    "dr = xr.open_dataset('/o3p/macc/test/GLM_array_151_05deg/GLM_array_151_12-13_batch_bis.nc')\n",
    "flash_en = dr.num_flash.where(dr.flash_energy > 0)\n",
    "flash_num = dr.num_flash.where(dr.num_flash > 0)\n",
    "\n",
    "pl75 = (flash_en).hvplot.image(\n",
    "    x='longitude', y='latitude',  title='Total flash energy', \n",
    "    xlabel = 'Longitude (°)', ylabel = 'Latitude (°)', clabel = 'Flash energy (J)',\n",
    "    frame_height=350, \n",
    "    projection=ccrs.PlateCarree(), \n",
    "    geo=True, project=False, #global_extent=True,\n",
    "    xlim=(-140, -20), ylim=(-60, 60), \n",
    "    framewise=False, coastline=True, dynamic=True,\n",
    "    cmap='spring'\n",
    "    #cmap='YlOrRd'\n",
    ")\n",
    "pl75 * bogota * flight_path * first_rel * second_rel"
   ]
  },
  {
   "cell_type": "code",
   "execution_count": null,
   "metadata": {},
   "outputs": [],
   "source": [
    "pl * pl75"
   ]
  },
  {
   "cell_type": "code",
   "execution_count": null,
   "metadata": {},
   "outputs": [],
   "source": [
    "da_all_agregated = da.isel(time=slice(76,77)).sum(dim=('height', 'time', 'pointspec'))\n",
    "pl = da_all_agregated.hvplot.image(\n",
    "    x='longitude', y='latitude',  title='t-76h',\n",
    "    xlabel = 'Longitude (°)', ylabel = 'Latitude (°)', clabel = 'Res. Time(s)',\n",
    "    frame_height=350, \n",
    "    projection=ccrs.PlateCarree(), \n",
    "    geo=True, project=False, #global_extent=True,\n",
    "    xlim=(-140, -20), ylim=(-60, 60), \n",
    "    framewise=False, coastline=True, dynamic=True,\n",
    "    cmap='coolwarm',\n",
    ")\n",
    "pl * bogota * flight_path * first_rel * second_rel"
   ]
  },
  {
   "cell_type": "code",
   "execution_count": null,
   "metadata": {},
   "outputs": [],
   "source": [
    "dr = xr.open_dataset('/o3p/macc/test/GLM_array_151_05deg/GLM_array_151_11-12_batch_bis.nc')\n",
    "flash_en = dr.num_flash.where(dr.flash_energy > 0)\n",
    "flash_num = dr.num_flash.where(dr.num_flash > 0)\n",
    "\n",
    "pl76 = (flash_en).hvplot.image(\n",
    "    x='longitude', y='latitude',  title='Total flash energy', \n",
    "    xlabel = 'Longitude (°)', ylabel = 'Latitude (°)', clabel = 'Flash energy (J)',\n",
    "    frame_height=350, \n",
    "    projection=ccrs.PlateCarree(), \n",
    "    geo=True, project=False, #global_extent=True,\n",
    "    xlim=(-140, -20), ylim=(-60, 60), \n",
    "    framewise=False, coastline=True, dynamic=True,\n",
    "    cmap='spring'\n",
    "    #cmap='YlOrRd'\n",
    ")\n",
    "pl76 * bogota * flight_path * first_rel * second_rel"
   ]
  },
  {
   "cell_type": "code",
   "execution_count": null,
   "metadata": {},
   "outputs": [],
   "source": [
    "pl * pl76"
   ]
  },
  {
   "cell_type": "code",
   "execution_count": null,
   "metadata": {},
   "outputs": [],
   "source": [
    "da_all_agregated = da.isel(time=slice(77,78)).sum(dim=('height', 'time', 'pointspec'))\n",
    "pl = da_all_agregated.hvplot.image(\n",
    "    x='longitude', y='latitude',  title='t-77h',\n",
    "    xlabel = 'Longitude (°)', ylabel = 'Latitude (°)', clabel = 'Res. Time(s)',\n",
    "    frame_height=350, \n",
    "    projection=ccrs.PlateCarree(), \n",
    "    geo=True, project=False, #global_extent=True,\n",
    "    xlim=(-140, -20), ylim=(-60, 60), \n",
    "    framewise=False, coastline=True, dynamic=True,\n",
    "    cmap='coolwarm',\n",
    ")\n",
    "pl * bogota * flight_path * first_rel * second_rel"
   ]
  },
  {
   "cell_type": "code",
   "execution_count": null,
   "metadata": {},
   "outputs": [],
   "source": [
    "dr = xr.open_dataset('/o3p/macc/test/GLM_array_151_05deg/GLM_array_151_10-11_batch_bis.nc')\n",
    "flash_en = dr.num_flash.where(dr.flash_energy > 0)\n",
    "flash_num = dr.num_flash.where(dr.num_flash > 0)\n",
    "\n",
    "pl77 = (flash_en).hvplot.image(\n",
    "    x='longitude', y='latitude',  title='Total flash energy', \n",
    "    xlabel = 'Longitude (°)', ylabel = 'Latitude (°)', clabel = 'Flash energy (J)',\n",
    "    frame_height=350, \n",
    "    projection=ccrs.PlateCarree(), \n",
    "    geo=True, project=False, #global_extent=True,\n",
    "    xlim=(-140, -20), ylim=(-60, 60), \n",
    "    framewise=False, coastline=True, dynamic=True,\n",
    "    cmap='spring'\n",
    "    #cmap='YlOrRd'\n",
    ")\n",
    "pl77 * bogota * flight_path * first_rel * second_rel"
   ]
  },
  {
   "cell_type": "code",
   "execution_count": null,
   "metadata": {},
   "outputs": [],
   "source": [
    "pl * pl77"
   ]
  },
  {
   "cell_type": "code",
   "execution_count": null,
   "metadata": {},
   "outputs": [],
   "source": [
    "da_all_agregated = da.isel(time=slice(78,79)).sum(dim=('height', 'time', 'pointspec'))\n",
    "pl = da_all_agregated.hvplot.image(\n",
    "    x='longitude', y='latitude',  title='t-78h',\n",
    "    xlabel = 'Longitude (°)', ylabel = 'Latitude (°)', clabel = 'Res. Time(s)',\n",
    "    frame_height=350, \n",
    "    projection=ccrs.PlateCarree(), \n",
    "    geo=True, project=False, #global_extent=True,\n",
    "    xlim=(-140, -20), ylim=(-60, 60), \n",
    "    framewise=False, coastline=True, dynamic=True,\n",
    "    cmap='coolwarm',\n",
    ")\n",
    "pl * bogota * flight_path * first_rel * second_rel"
   ]
  },
  {
   "cell_type": "code",
   "execution_count": null,
   "metadata": {},
   "outputs": [],
   "source": [
    "dr = xr.open_dataset('/o3p/macc/test/GLM_array_151_05deg/GLM_array_151_09-10_batch_bis.nc')\n",
    "flash_en = dr.num_flash.where(dr.flash_energy > 0)\n",
    "flash_num = dr.num_flash.where(dr.num_flash > 0)\n",
    "\n",
    "pl78 = (flash_en).hvplot.image(\n",
    "    x='longitude', y='latitude',  title='Total flash energy', \n",
    "    xlabel = 'Longitude (°)', ylabel = 'Latitude (°)', clabel = 'Flash energy (J)',\n",
    "    frame_height=350, \n",
    "    projection=ccrs.PlateCarree(), \n",
    "    geo=True, project=False, #global_extent=True,\n",
    "    xlim=(-140, -20), ylim=(-60, 60), \n",
    "    framewise=False, coastline=True, dynamic=True,\n",
    "    cmap='spring'\n",
    "    #cmap='YlOrRd'\n",
    ")\n",
    "pl78 * bogota * flight_path * first_rel * second_rel"
   ]
  },
  {
   "cell_type": "code",
   "execution_count": null,
   "metadata": {},
   "outputs": [],
   "source": [
    "pl * pl78"
   ]
  },
  {
   "cell_type": "code",
   "execution_count": null,
   "metadata": {},
   "outputs": [],
   "source": [
    "da_all_agregated = da.isel(time=slice(79,80)).sum(dim=('height', 'time', 'pointspec'))\n",
    "pl = da_all_agregated.hvplot.image(\n",
    "    x='longitude', y='latitude',  title='t-79h',\n",
    "    xlabel = 'Longitude (°)', ylabel = 'Latitude (°)', clabel = 'Res. Time(s)',\n",
    "    frame_height=350, \n",
    "    projection=ccrs.PlateCarree(), \n",
    "    geo=True, project=False, #global_extent=True,\n",
    "    xlim=(-140, -20), ylim=(-60, 60), \n",
    "    framewise=False, coastline=True, dynamic=True,\n",
    "    cmap='coolwarm',\n",
    ")\n",
    "pl * bogota * flight_path * first_rel * second_rel"
   ]
  },
  {
   "cell_type": "code",
   "execution_count": null,
   "metadata": {},
   "outputs": [],
   "source": [
    "dr = xr.open_dataset('/o3p/macc/test/GLM_array_151_05deg/GLM_array_151_08-09_batch_bis.nc')\n",
    "flash_en = dr.num_flash.where(dr.flash_energy > 0)\n",
    "flash_num = dr.num_flash.where(dr.num_flash > 0)\n",
    "\n",
    "pl79 = (flash_en).hvplot.image(\n",
    "    x='longitude', y='latitude',  title='Total flash energy', \n",
    "    xlabel = 'Longitude (°)', ylabel = 'Latitude (°)', clabel = 'Flash energy (J)',\n",
    "    frame_height=350, \n",
    "    projection=ccrs.PlateCarree(), \n",
    "    geo=True, project=False, #global_extent=True,\n",
    "    xlim=(-140, -20), ylim=(-60, 60), \n",
    "    framewise=False, coastline=True, dynamic=True,\n",
    "    cmap='spring'\n",
    "    #cmap='YlOrRd'\n",
    ")\n",
    "pl79 * bogota * flight_path * first_rel * second_rel"
   ]
  },
  {
   "cell_type": "code",
   "execution_count": null,
   "metadata": {},
   "outputs": [],
   "source": [
    "pl * pl79"
   ]
  },
  {
   "cell_type": "code",
   "execution_count": null,
   "metadata": {},
   "outputs": [],
   "source": [
    "da_all_agregated = da.isel(time=slice(80,81)).sum(dim=('height', 'time', 'pointspec'))\n",
    "pl = da_all_agregated.hvplot.image(\n",
    "    x='longitude', y='latitude',  title='t-80h',\n",
    "    xlabel = 'Longitude (°)', ylabel = 'Latitude (°)', clabel = 'Res. Time(s)',\n",
    "    frame_height=350, \n",
    "    projection=ccrs.PlateCarree(), \n",
    "    geo=True, project=False, #global_extent=True,\n",
    "    xlim=(-140, -20), ylim=(-60, 60), \n",
    "    framewise=False, coastline=True, dynamic=True,\n",
    "    cmap='coolwarm',\n",
    ")\n",
    "pl * bogota * flight_path * first_rel * second_rel"
   ]
  },
  {
   "cell_type": "code",
   "execution_count": null,
   "metadata": {},
   "outputs": [],
   "source": [
    "dr = xr.open_dataset('/o3p/macc/test/GLM_array_151_05deg/GLM_array_151_07-08_batch_bis.nc')\n",
    "flash_en = dr.num_flash.where(dr.flash_energy > 0)\n",
    "flash_num = dr.num_flash.where(dr.num_flash > 0)\n",
    "\n",
    "pl80 = (flash_en).hvplot.image(\n",
    "    x='longitude', y='latitude',  title='Total flash energy', \n",
    "    xlabel = 'Longitude (°)', ylabel = 'Latitude (°)', clabel = 'Flash energy (J)',\n",
    "    frame_height=350, \n",
    "    projection=ccrs.PlateCarree(), \n",
    "    geo=True, project=False, #global_extent=True,\n",
    "    xlim=(-140, -20), ylim=(-60, 60), \n",
    "    framewise=False, coastline=True, dynamic=True,\n",
    "    cmap='spring'\n",
    "    #cmap='YlOrRd'\n",
    ")\n",
    "pl80 * bogota * flight_path * first_rel * second_rel"
   ]
  },
  {
   "cell_type": "code",
   "execution_count": null,
   "metadata": {},
   "outputs": [],
   "source": [
    "pl * pl80"
   ]
  },
  {
   "cell_type": "code",
   "execution_count": null,
   "metadata": {},
   "outputs": [],
   "source": [
    "da_all_agregated = da.isel(time=slice(81,82)).sum(dim=('height', 'time', 'pointspec'))\n",
    "pl = da_all_agregated.hvplot.image(\n",
    "    x='longitude', y='latitude',  title='t-81h',\n",
    "    xlabel = 'Longitude (°)', ylabel = 'Latitude (°)', clabel = 'Res. Time(s)',\n",
    "    frame_height=350, \n",
    "    projection=ccrs.PlateCarree(), \n",
    "    geo=True, project=False, #global_extent=True,\n",
    "    xlim=(-140, -20), ylim=(-60, 60), \n",
    "    framewise=False, coastline=True, dynamic=True,\n",
    "    cmap='coolwarm',\n",
    ")\n",
    "pl * bogota * flight_path * first_rel * second_rel"
   ]
  },
  {
   "cell_type": "code",
   "execution_count": null,
   "metadata": {},
   "outputs": [],
   "source": [
    "dr = xr.open_dataset('/o3p/macc/test/GLM_array_151_05deg/GLM_array_151_06-07_batch_bis.nc')\n",
    "flash_en = dr.num_flash.where(dr.flash_energy > 0)\n",
    "flash_num = dr.num_flash.where(dr.num_flash > 0)\n",
    "\n",
    "pl81 = (flash_en).hvplot.image(\n",
    "    x='longitude', y='latitude',  title='Total flash energy', \n",
    "    xlabel = 'Longitude (°)', ylabel = 'Latitude (°)', clabel = 'Flash energy (J)',\n",
    "    frame_height=350, \n",
    "    projection=ccrs.PlateCarree(), \n",
    "    geo=True, project=False, #global_extent=True,\n",
    "    xlim=(-140, -20), ylim=(-60, 60), \n",
    "    framewise=False, coastline=True, dynamic=True,\n",
    "    cmap='spring'\n",
    "    #cmap='YlOrRd'\n",
    ")\n",
    "pl81 * bogota * flight_path * first_rel * second_rel"
   ]
  },
  {
   "cell_type": "code",
   "execution_count": null,
   "metadata": {},
   "outputs": [],
   "source": [
    "pl * pl81"
   ]
  },
  {
   "cell_type": "code",
   "execution_count": null,
   "metadata": {},
   "outputs": [],
   "source": [
    "da_all_agregated = da.isel(time=slice(82,83)).sum(dim=('height', 'time', 'pointspec'))\n",
    "pl = da_all_agregated.hvplot.image(\n",
    "    x='longitude', y='latitude',  title='t-82h',\n",
    "    xlabel = 'Longitude (°)', ylabel = 'Latitude (°)', clabel = 'Res. Time(s)',\n",
    "    frame_height=350, \n",
    "    projection=ccrs.PlateCarree(), \n",
    "    geo=True, project=False, #global_extent=True,\n",
    "    xlim=(-140, -20), ylim=(-60, 60), \n",
    "    framewise=False, coastline=True, dynamic=True,\n",
    "    cmap='coolwarm',\n",
    ")\n",
    "pl * bogota * flight_path * first_rel * second_rel"
   ]
  },
  {
   "cell_type": "code",
   "execution_count": null,
   "metadata": {},
   "outputs": [],
   "source": [
    "dr = xr.open_dataset('/o3p/macc/test/GLM_array_151_05deg/GLM_array_151_05-06_batch_bis.nc')\n",
    "flash_en = dr.num_flash.where(dr.flash_energy > 0)\n",
    "flash_num = dr.num_flash.where(dr.num_flash > 0)\n",
    "\n",
    "pl82 = (flash_en).hvplot.image(\n",
    "    x='longitude', y='latitude',  title='Total flash energy', \n",
    "    xlabel = 'Longitude (°)', ylabel = 'Latitude (°)', clabel = 'Flash energy (J)',\n",
    "    frame_height=350, \n",
    "    projection=ccrs.PlateCarree(), \n",
    "    geo=True, project=False, #global_extent=True,\n",
    "    xlim=(-140, -20), ylim=(-60, 60), \n",
    "    framewise=False, coastline=True, dynamic=True,\n",
    "    cmap='spring'\n",
    "    #cmap='YlOrRd'\n",
    ")\n",
    "pl82 * bogota * flight_path * first_rel * second_rel"
   ]
  },
  {
   "cell_type": "code",
   "execution_count": null,
   "metadata": {},
   "outputs": [],
   "source": [
    "pl * pl82"
   ]
  },
  {
   "cell_type": "code",
   "execution_count": null,
   "metadata": {},
   "outputs": [],
   "source": [
    "da_all_agregated = da.isel(time=slice(83,84)).sum(dim=('height', 'time', 'pointspec'))\n",
    "pl = da_all_agregated.hvplot.image(\n",
    "    x='longitude', y='latitude',  title='t-83h',\n",
    "    xlabel = 'Longitude (°)', ylabel = 'Latitude (°)', clabel = 'Res. Time(s)',\n",
    "    frame_height=350, \n",
    "    projection=ccrs.PlateCarree(), \n",
    "    geo=True, project=False, #global_extent=True,\n",
    "    xlim=(-140, -20), ylim=(-60, 60), \n",
    "    framewise=False, coastline=True, dynamic=True,\n",
    "    cmap='coolwarm',\n",
    ")\n",
    "pl * bogota * flight_path * first_rel * second_rel"
   ]
  },
  {
   "cell_type": "code",
   "execution_count": null,
   "metadata": {},
   "outputs": [],
   "source": [
    "dr = xr.open_dataset('/o3p/macc/test/GLM_array_151_05deg/GLM_array_151_04-05_batch_bis.nc')\n",
    "flash_en = dr.num_flash.where(dr.flash_energy > 0)\n",
    "flash_num = dr.num_flash.where(dr.num_flash > 0)\n",
    "\n",
    "pl83 = (flash_en).hvplot.image(\n",
    "    x='longitude', y='latitude',  title='Total flash energy', \n",
    "    xlabel = 'Longitude (°)', ylabel = 'Latitude (°)', clabel = 'Flash energy (J)',\n",
    "    frame_height=350, \n",
    "    projection=ccrs.PlateCarree(), \n",
    "    geo=True, project=False, #global_extent=True,\n",
    "    xlim=(-140, -20), ylim=(-60, 60), \n",
    "    framewise=False, coastline=True, dynamic=True,\n",
    "    cmap='spring'\n",
    "    #cmap='YlOrRd'\n",
    ")\n",
    "pl83 * bogota * flight_path * first_rel * second_rel"
   ]
  },
  {
   "cell_type": "code",
   "execution_count": null,
   "metadata": {},
   "outputs": [],
   "source": [
    "pl * pl83"
   ]
  },
  {
   "cell_type": "code",
   "execution_count": null,
   "metadata": {},
   "outputs": [],
   "source": [
    "da_all_agregated = da.isel(time=slice(84,85)).sum(dim=('height', 'time', 'pointspec'))\n",
    "pl = da_all_agregated.hvplot.image(\n",
    "    x='longitude', y='latitude',  title='t-84h',\n",
    "    xlabel = 'Longitude (°)', ylabel = 'Latitude (°)', clabel = 'Res. Time(s)',\n",
    "    frame_height=350, \n",
    "    projection=ccrs.PlateCarree(), \n",
    "    geo=True, project=False, #global_extent=True,\n",
    "    xlim=(-140, -20), ylim=(-60, 60), \n",
    "    framewise=False, coastline=True, dynamic=True,\n",
    "    cmap='coolwarm',\n",
    ")\n",
    "pl * bogota * flight_path * first_rel * second_rel"
   ]
  },
  {
   "cell_type": "code",
   "execution_count": null,
   "metadata": {},
   "outputs": [],
   "source": [
    "dr = xr.open_dataset('/o3p/macc/test/GLM_array_151_05deg/GLM_array_151_03-04_batch_bis.nc')\n",
    "flash_en = dr.num_flash.where(dr.flash_energy > 0)\n",
    "flash_num = dr.num_flash.where(dr.num_flash > 0)\n",
    "\n",
    "pl84 = (flash_en).hvplot.image(\n",
    "    x='longitude', y='latitude',  title='Total flash energy', \n",
    "    xlabel = 'Longitude (°)', ylabel = 'Latitude (°)', clabel = 'Flash energy (J)',\n",
    "    frame_height=350, \n",
    "    projection=ccrs.PlateCarree(), \n",
    "    geo=True, project=False, #global_extent=True,\n",
    "    xlim=(-140, -20), ylim=(-60, 60), \n",
    "    framewise=False, coastline=True, dynamic=True,\n",
    "    cmap='spring'\n",
    "    #cmap='YlOrRd'\n",
    ")\n",
    "pl84 * bogota * flight_path * first_rel * second_rel"
   ]
  },
  {
   "cell_type": "code",
   "execution_count": null,
   "metadata": {},
   "outputs": [],
   "source": [
    "pl * pl84"
   ]
  },
  {
   "cell_type": "code",
   "execution_count": null,
   "metadata": {},
   "outputs": [],
   "source": [
    "da_all_agregated = da.isel(time=slice(85,86)).sum(dim=('height', 'time', 'pointspec'))\n",
    "pl = da_all_agregated.hvplot.image(\n",
    "    x='longitude', y='latitude',  title='t-85h',\n",
    "    xlabel = 'Longitude (°)', ylabel = 'Latitude (°)', clabel = 'Res. Time(s)',\n",
    "    frame_height=350, \n",
    "    projection=ccrs.PlateCarree(), \n",
    "    geo=True, project=False, #global_extent=True,\n",
    "    xlim=(-140, -20), ylim=(-60, 60), \n",
    "    framewise=False, coastline=True, dynamic=True,\n",
    "    cmap='coolwarm',\n",
    ")\n",
    "pl * bogota * flight_path * first_rel * second_rel"
   ]
  },
  {
   "cell_type": "code",
   "execution_count": null,
   "metadata": {},
   "outputs": [],
   "source": [
    "dr = xr.open_dataset('/o3p/macc/test/GLM_array_151_05deg/GLM_array_151_02-03_batch_bis.nc')\n",
    "flash_en = dr.num_flash.where(dr.flash_energy > 0)\n",
    "flash_num = dr.num_flash.where(dr.num_flash > 0)\n",
    "\n",
    "pl85 = (flash_en).hvplot.image(\n",
    "    x='longitude', y='latitude',  title='Total flash energy', \n",
    "    xlabel = 'Longitude (°)', ylabel = 'Latitude (°)', clabel = 'Flash energy (J)',\n",
    "    frame_height=350, \n",
    "    projection=ccrs.PlateCarree(), \n",
    "    geo=True, project=False, #global_extent=True,\n",
    "    xlim=(-140, -20), ylim=(-60, 60), \n",
    "    framewise=False, coastline=True, dynamic=True,\n",
    "    cmap='spring'\n",
    "    #cmap='YlOrRd'\n",
    ")\n",
    "pl85 * bogota * flight_path * first_rel * second_rel"
   ]
  },
  {
   "cell_type": "code",
   "execution_count": null,
   "metadata": {},
   "outputs": [],
   "source": [
    "pl * pl85"
   ]
  },
  {
   "cell_type": "code",
   "execution_count": null,
   "metadata": {},
   "outputs": [],
   "source": [
    "da_all_agregated = da.isel(time=slice(86,87)).sum(dim=('height', 'time', 'pointspec'))\n",
    "pl = da_all_agregated.hvplot.image(\n",
    "    x='longitude', y='latitude',  title='t-86h',\n",
    "    xlabel = 'Longitude (°)', ylabel = 'Latitude (°)', clabel = 'Res. Time(s)',\n",
    "    frame_height=350, \n",
    "    projection=ccrs.PlateCarree(), \n",
    "    geo=True, project=False, #global_extent=True,\n",
    "    xlim=(-140, -20), ylim=(-60, 60), \n",
    "    framewise=False, coastline=True, dynamic=True,\n",
    "    cmap='coolwarm',\n",
    ")\n",
    "pl * bogota * flight_path * first_rel * second_rel"
   ]
  },
  {
   "cell_type": "code",
   "execution_count": null,
   "metadata": {},
   "outputs": [],
   "source": [
    "dr = xr.open_dataset('/o3p/macc/test/GLM_array_151_05deg/GLM_array_151_01-02_batch_bis.nc')\n",
    "flash_en = dr.num_flash.where(dr.flash_energy > 0)\n",
    "flash_num = dr.num_flash.where(dr.num_flash > 0)\n",
    "\n",
    "pl86 = (flash_en).hvplot.image(\n",
    "    x='longitude', y='latitude',  title='Total flash energy', \n",
    "    xlabel = 'Longitude (°)', ylabel = 'Latitude (°)', clabel = 'Flash energy (J)',\n",
    "    frame_height=350, \n",
    "    projection=ccrs.PlateCarree(), \n",
    "    geo=True, project=False, #global_extent=True,\n",
    "    xlim=(-140, -20), ylim=(-60, 60), \n",
    "    framewise=False, coastline=True, dynamic=True,\n",
    "    cmap='spring'\n",
    "    #cmap='YlOrRd'\n",
    ")\n",
    "pl86 * bogota * flight_path * first_rel * second_rel"
   ]
  },
  {
   "cell_type": "code",
   "execution_count": null,
   "metadata": {},
   "outputs": [],
   "source": [
    "pl * pl86"
   ]
  },
  {
   "cell_type": "code",
   "execution_count": null,
   "metadata": {},
   "outputs": [],
   "source": [
    "da_all_agregated = da.isel(time=slice(87,88)).sum(dim=('height', 'time', 'pointspec'))\n",
    "pl = da_all_agregated.hvplot.image(\n",
    "    x='longitude', y='latitude',  title='t-87h',\n",
    "    xlabel = 'Longitude (°)', ylabel = 'Latitude (°)', clabel = 'Res. Time(s)',\n",
    "    frame_height=350, \n",
    "    projection=ccrs.PlateCarree(), \n",
    "    geo=True, project=False, #global_extent=True,\n",
    "    xlim=(-140, -20), ylim=(-60, 60), \n",
    "    framewise=False, coastline=True, dynamic=True,\n",
    "    cmap='coolwarm',\n",
    ")\n",
    "pl * bogota * flight_path * first_rel * second_rel"
   ]
  },
  {
   "cell_type": "code",
   "execution_count": null,
   "metadata": {},
   "outputs": [],
   "source": [
    "dr = xr.open_dataset('/o3p/macc/test/GLM_array_151_05deg/GLM_array_151_00-01_batch_bis.nc')\n",
    "flash_en = dr.num_flash.where(dr.flash_energy > 0)\n",
    "flash_num = dr.num_flash.where(dr.num_flash > 0)\n",
    "\n",
    "pl87 = (flash_en).hvplot.image(\n",
    "    x='longitude', y='latitude',  title='Total flash energy', \n",
    "    xlabel = 'Longitude (°)', ylabel = 'Latitude (°)', clabel = 'Flash energy (J)',\n",
    "    frame_height=350, \n",
    "    projection=ccrs.PlateCarree(), \n",
    "    geo=True, project=False, #global_extent=True,\n",
    "    xlim=(-140, -20), ylim=(-60, 60), \n",
    "    framewise=False, coastline=True, dynamic=True,\n",
    "    cmap='spring'\n",
    "    #cmap='YlOrRd'\n",
    ")\n",
    "pl87 * bogota * flight_path * first_rel * second_rel"
   ]
  },
  {
   "cell_type": "code",
   "execution_count": null,
   "metadata": {},
   "outputs": [],
   "source": [
    "pl * pl87"
   ]
  },
  {
   "cell_type": "code",
   "execution_count": null,
   "metadata": {},
   "outputs": [],
   "source": [
    "da_all_agregated = da.isel(time=slice(88,89)).sum(dim=('height', 'time', 'pointspec'))\n",
    "pl = da_all_agregated.hvplot.image(\n",
    "    x='longitude', y='latitude',  title='t-88h',\n",
    "    xlabel = 'Longitude (°)', ylabel = 'Latitude (°)', clabel = 'Res. Time(s)',\n",
    "    frame_height=350, \n",
    "    projection=ccrs.PlateCarree(), \n",
    "    geo=True, project=False, #global_extent=True,\n",
    "    xlim=(-140, -20), ylim=(-60, 60), \n",
    "    framewise=False, coastline=True, dynamic=True,\n",
    "    cmap='coolwarm',\n",
    ")\n",
    "pl * bogota * flight_path * first_rel * second_rel"
   ]
  },
  {
   "cell_type": "code",
   "execution_count": null,
   "metadata": {},
   "outputs": [],
   "source": [
    "dr = xr.open_dataset('/o3p/macc/test/GLM_array_150_05deg/GLM_array_150_23-00_batch_bis.nc')\n",
    "flash_en = dr.num_flash.where(dr.flash_energy > 0)\n",
    "flash_num = dr.num_flash.where(dr.num_flash > 0)\n",
    "\n",
    "pl88 = (flash_en).hvplot.image(\n",
    "    x='longitude', y='latitude',  title='Total flash energy', \n",
    "    xlabel = 'Longitude (°)', ylabel = 'Latitude (°)', clabel = 'Flash energy (J)',\n",
    "    frame_height=350, \n",
    "    projection=ccrs.PlateCarree(), \n",
    "    geo=True, project=False, #global_extent=True,\n",
    "    xlim=(-140, -20), ylim=(-60, 60), \n",
    "    framewise=False, coastline=True, dynamic=True,\n",
    "    cmap='spring'\n",
    "    #cmap='YlOrRd'\n",
    ")\n",
    "pl88 * bogota * flight_path * first_rel * second_rel"
   ]
  },
  {
   "cell_type": "code",
   "execution_count": null,
   "metadata": {},
   "outputs": [],
   "source": [
    "pl * pl88"
   ]
  },
  {
   "cell_type": "code",
   "execution_count": null,
   "metadata": {},
   "outputs": [],
   "source": [
    "da_all_agregated = da.isel(time=slice(89,90)).sum(dim=('height', 'time', 'pointspec'))\n",
    "pl = da_all_agregated.hvplot.image(\n",
    "    x='longitude', y='latitude',  title='t-89h',\n",
    "    xlabel = 'Longitude (°)', ylabel = 'Latitude (°)', clabel = 'Res. Time(s)',\n",
    "    frame_height=350, \n",
    "    projection=ccrs.PlateCarree(), \n",
    "    geo=True, project=False, #global_extent=True,\n",
    "    xlim=(-140, -20), ylim=(-60, 60), \n",
    "    framewise=False, coastline=True, dynamic=True,\n",
    "    cmap='coolwarm',\n",
    ")\n",
    "pl * bogota * flight_path * first_rel * second_rel"
   ]
  },
  {
   "cell_type": "code",
   "execution_count": null,
   "metadata": {},
   "outputs": [],
   "source": [
    "dr = xr.open_dataset('/o3p/macc/test/GLM_array_150_05deg/GLM_array_150_22-23_batch_bis.nc')\n",
    "flash_en = dr.num_flash.where(dr.flash_energy > 0)\n",
    "flash_num = dr.num_flash.where(dr.num_flash > 0)\n",
    "\n",
    "pl89 = (flash_en).hvplot.image(\n",
    "    x='longitude', y='latitude',  title='Total flash energy', \n",
    "    xlabel = 'Longitude (°)', ylabel = 'Latitude (°)', clabel = 'Flash energy (J)',\n",
    "    frame_height=350, \n",
    "    projection=ccrs.PlateCarree(), \n",
    "    geo=True, project=False, #global_extent=True,\n",
    "    xlim=(-140, -20), ylim=(-60, 60), \n",
    "    framewise=False, coastline=True, dynamic=True,\n",
    "    cmap='spring'\n",
    "    #cmap='YlOrRd'\n",
    ")\n",
    "pl89 * bogota * flight_path * first_rel * second_rel"
   ]
  },
  {
   "cell_type": "code",
   "execution_count": null,
   "metadata": {},
   "outputs": [],
   "source": [
    "pl * pl89"
   ]
  },
  {
   "cell_type": "code",
   "execution_count": null,
   "metadata": {},
   "outputs": [],
   "source": [
    "da_all_agregated = da.isel(time=slice(90,91)).sum(dim=('height', 'time', 'pointspec'))\n",
    "pl = da_all_agregated.hvplot.image(\n",
    "    x='longitude', y='latitude',  title='t-90h',\n",
    "    xlabel = 'Longitude (°)', ylabel = 'Latitude (°)', clabel = 'Res. Time(s)',\n",
    "    frame_height=350, \n",
    "    projection=ccrs.PlateCarree(), \n",
    "    geo=True, project=False, #global_extent=True,\n",
    "    xlim=(-140, -20), ylim=(-60, 60), \n",
    "    framewise=False, coastline=True, dynamic=True,\n",
    "    cmap='coolwarm',\n",
    ")\n",
    "pl * bogota * flight_path * first_rel * second_rel"
   ]
  },
  {
   "cell_type": "code",
   "execution_count": null,
   "metadata": {},
   "outputs": [],
   "source": [
    "dr = xr.open_dataset('/o3p/macc/test/GLM_array_150_05deg/GLM_array_150_21-22_batch_bis.nc')\n",
    "flash_en = dr.num_flash.where(dr.flash_energy > 0)\n",
    "flash_num = dr.num_flash.where(dr.num_flash > 0)\n",
    "\n",
    "pl90 = (flash_en).hvplot.image(\n",
    "    x='longitude', y='latitude',  title='Total flash energy', \n",
    "    xlabel = 'Longitude (°)', ylabel = 'Latitude (°)', clabel = 'Flash energy (J)',\n",
    "    frame_height=350, \n",
    "    projection=ccrs.PlateCarree(), \n",
    "    geo=True, project=False, #global_extent=True,\n",
    "    xlim=(-140, -20), ylim=(-60, 60), \n",
    "    framewise=False, coastline=True, dynamic=True,\n",
    "    cmap='spring'\n",
    "    #cmap='YlOrRd'\n",
    ")\n",
    "pl90 * bogota * flight_path * first_rel * second_rel"
   ]
  },
  {
   "cell_type": "code",
   "execution_count": null,
   "metadata": {},
   "outputs": [],
   "source": [
    "pl * pl90"
   ]
  },
  {
   "cell_type": "code",
   "execution_count": null,
   "metadata": {},
   "outputs": [],
   "source": [
    "da_all_agregated = da.isel(time=slice(91,92)).sum(dim=('height', 'time', 'pointspec'))\n",
    "pl = da_all_agregated.hvplot.image(\n",
    "    x='longitude', y='latitude',  title='t-91h',\n",
    "    xlabel = 'Longitude (°)', ylabel = 'Latitude (°)', clabel = 'Res. Time(s)',\n",
    "    frame_height=350, \n",
    "    projection=ccrs.PlateCarree(), \n",
    "    geo=True, project=False, #global_extent=True,\n",
    "    xlim=(-140, -20), ylim=(-60, 60), \n",
    "    framewise=False, coastline=True, dynamic=True,\n",
    "    cmap='coolwarm',\n",
    ")\n",
    "pl * bogota * flight_path * first_rel * second_rel"
   ]
  },
  {
   "cell_type": "code",
   "execution_count": null,
   "metadata": {},
   "outputs": [],
   "source": [
    "dr = xr.open_dataset('/o3p/macc/test/GLM_array_150_05deg/GLM_array_150_20-21_batch_bis.nc')\n",
    "flash_en = dr.num_flash.where(dr.flash_energy > 0)\n",
    "flash_num = dr.num_flash.where(dr.num_flash > 0)\n",
    "\n",
    "pl91 = (flash_en).hvplot.image(\n",
    "    x='longitude', y='latitude',  title='Total flash energy', \n",
    "    xlabel = 'Longitude (°)', ylabel = 'Latitude (°)', clabel = 'Flash energy (J)',\n",
    "    frame_height=350, \n",
    "    projection=ccrs.PlateCarree(), \n",
    "    geo=True, project=False, #global_extent=True,\n",
    "    xlim=(-140, -20), ylim=(-60, 60), \n",
    "    framewise=False, coastline=True, dynamic=True,\n",
    "    cmap='spring'\n",
    "    #cmap='YlOrRd'\n",
    ")\n",
    "pl91 * bogota * flight_path * first_rel * second_rel"
   ]
  },
  {
   "cell_type": "code",
   "execution_count": null,
   "metadata": {},
   "outputs": [],
   "source": [
    "pl * pl91"
   ]
  },
  {
   "cell_type": "code",
   "execution_count": null,
   "metadata": {},
   "outputs": [],
   "source": [
    "da_all_agregated = da.isel(time=slice(92,93)).sum(dim=('height', 'time', 'pointspec'))\n",
    "pl = da_all_agregated.hvplot.image(\n",
    "    x='longitude', y='latitude',  title='t-92h',\n",
    "    xlabel = 'Longitude (°)', ylabel = 'Latitude (°)', clabel = 'Res. Time(s)',\n",
    "    frame_height=350, \n",
    "    projection=ccrs.PlateCarree(), \n",
    "    geo=True, project=False, #global_extent=True,\n",
    "    xlim=(-140, -20), ylim=(-60, 60), \n",
    "    framewise=False, coastline=True, dynamic=True,\n",
    "    cmap='coolwarm',\n",
    ")\n",
    "pl * bogota * flight_path * first_rel * second_rel"
   ]
  },
  {
   "cell_type": "code",
   "execution_count": null,
   "metadata": {},
   "outputs": [],
   "source": [
    "#GLM_array_150_19-20_batch_bis.nc does not exist"
   ]
  },
  {
   "cell_type": "code",
   "execution_count": null,
   "metadata": {},
   "outputs": [],
   "source": [
    "#pl * pl92"
   ]
  },
  {
   "cell_type": "code",
   "execution_count": null,
   "metadata": {},
   "outputs": [],
   "source": [
    "da_all_agregated = da.isel(time=slice(93,94)).sum(dim=('height', 'time', 'pointspec'))\n",
    "pl = da_all_agregated.hvplot.image(\n",
    "    x='longitude', y='latitude',  title='t-93h',\n",
    "    xlabel = 'Longitude (°)', ylabel = 'Latitude (°)', clabel = 'Res. Time(s)',\n",
    "    frame_height=350, \n",
    "    projection=ccrs.PlateCarree(), \n",
    "    geo=True, project=False, #global_extent=True,\n",
    "    xlim=(-140, -20), ylim=(-60, 60), \n",
    "    framewise=False, coastline=True, dynamic=True,\n",
    "    cmap='coolwarm',\n",
    ")\n",
    "pl * bogota * flight_path * first_rel * second_rel"
   ]
  },
  {
   "cell_type": "code",
   "execution_count": null,
   "metadata": {},
   "outputs": [],
   "source": [
    "dr = xr.open_dataset('/o3p/macc/test/GLM_array_150_05deg/GLM_array_150_18-19_batch_bis.nc')\n",
    "flash_en = dr.num_flash.where(dr.flash_energy > 0)\n",
    "flash_num = dr.num_flash.where(dr.num_flash > 0)\n",
    "\n",
    "pl93 = (flash_en).hvplot.image(\n",
    "    x='longitude', y='latitude',  title='Total flash energy', \n",
    "    xlabel = 'Longitude (°)', ylabel = 'Latitude (°)', clabel = 'Flash energy (J)',\n",
    "    frame_height=350, \n",
    "    projection=ccrs.PlateCarree(), \n",
    "    geo=True, project=False, #global_extent=True,\n",
    "    xlim=(-140, -20), ylim=(-60, 60), \n",
    "    framewise=False, coastline=True, dynamic=True,\n",
    "    cmap='spring'\n",
    "    #cmap='YlOrRd'\n",
    ")\n",
    "pl93 * bogota * flight_path * first_rel * second_rel"
   ]
  },
  {
   "cell_type": "code",
   "execution_count": null,
   "metadata": {},
   "outputs": [],
   "source": [
    "pl * pl93"
   ]
  },
  {
   "cell_type": "code",
   "execution_count": null,
   "metadata": {},
   "outputs": [],
   "source": [
    "da_all_agregated = da.isel(time=slice(94,95)).sum(dim=('height', 'time', 'pointspec'))\n",
    "pl = da_all_agregated.hvplot.image(\n",
    "    x='longitude', y='latitude',  title='t-94h',\n",
    "    xlabel = 'Longitude (°)', ylabel = 'Latitude (°)', clabel = 'Res. Time(s)',\n",
    "    frame_height=350, \n",
    "    projection=ccrs.PlateCarree(), \n",
    "    geo=True, project=False, #global_extent=True,\n",
    "    xlim=(-140, -20), ylim=(-60, 60), \n",
    "    framewise=False, coastline=True, dynamic=True,\n",
    "    cmap='coolwarm',\n",
    ")\n",
    "pl * bogota * flight_path * first_rel * second_rel"
   ]
  },
  {
   "cell_type": "code",
   "execution_count": null,
   "metadata": {},
   "outputs": [],
   "source": [
    "dr = xr.open_dataset('/o3p/macc/test/GLM_array_150_05deg/GLM_array_150_17-18_batch_bis.nc')\n",
    "flash_en = dr.num_flash.where(dr.flash_energy > 0)\n",
    "flash_num = dr.num_flash.where(dr.num_flash > 0)\n",
    "\n",
    "pl94 = (flash_en).hvplot.image(\n",
    "    x='longitude', y='latitude',  title='Total flash energy', \n",
    "    xlabel = 'Longitude (°)', ylabel = 'Latitude (°)', clabel = 'Flash energy (J)',\n",
    "    frame_height=350, \n",
    "    projection=ccrs.PlateCarree(), \n",
    "    geo=True, project=False, #global_extent=True,\n",
    "    xlim=(-140, -20), ylim=(-60, 60), \n",
    "    framewise=False, coastline=True, dynamic=True,\n",
    "    cmap='spring'\n",
    "    #cmap='YlOrRd'\n",
    ")\n",
    "pl94 * bogota * flight_path * first_rel * second_rel"
   ]
  },
  {
   "cell_type": "code",
   "execution_count": null,
   "metadata": {},
   "outputs": [],
   "source": [
    "pl * pl94"
   ]
  },
  {
   "cell_type": "code",
   "execution_count": null,
   "metadata": {},
   "outputs": [],
   "source": [
    "da_all_agregated = da.isel(time=slice(95,96)).sum(dim=('height', 'time', 'pointspec'))\n",
    "pl = da_all_agregated.hvplot.image(\n",
    "    x='longitude', y='latitude',  title='t-95h',\n",
    "    xlabel = 'Longitude (°)', ylabel = 'Latitude (°)', clabel = 'Res. Time(s)',\n",
    "    frame_height=350, \n",
    "    projection=ccrs.PlateCarree(), \n",
    "    geo=True, project=False, #global_extent=True,\n",
    "    xlim=(-140, -20), ylim=(-60, 60), \n",
    "    framewise=False, coastline=True, dynamic=True,\n",
    "    cmap='coolwarm',\n",
    ")\n",
    "pl * bogota * flight_path * first_rel * second_rel"
   ]
  },
  {
   "cell_type": "code",
   "execution_count": null,
   "metadata": {},
   "outputs": [],
   "source": [
    "dr = xr.open_dataset('/o3p/macc/test/GLM_array_150_05deg/GLM_array_150_16-17_batch_bis.nc')\n",
    "flash_en = dr.num_flash.where(dr.flash_energy > 0)\n",
    "flash_num = dr.num_flash.where(dr.num_flash > 0)\n",
    "\n",
    "pl95 = (flash_en).hvplot.image(\n",
    "    x='longitude', y='latitude',  title='Total flash energy', \n",
    "    xlabel = 'Longitude (°)', ylabel = 'Latitude (°)', clabel = 'Flash energy (J)',\n",
    "    frame_height=350, \n",
    "    projection=ccrs.PlateCarree(), \n",
    "    geo=True, project=False, #global_extent=True,\n",
    "    xlim=(-140, -20), ylim=(-60, 60), \n",
    "    framewise=False, coastline=True, dynamic=True,\n",
    "    cmap='spring'\n",
    "    #cmap='YlOrRd'\n",
    ")\n",
    "pl95 * bogota * flight_path * first_rel * second_rel"
   ]
  },
  {
   "cell_type": "code",
   "execution_count": null,
   "metadata": {},
   "outputs": [],
   "source": [
    "pl * pl95"
   ]
  },
  {
   "cell_type": "code",
   "execution_count": null,
   "metadata": {},
   "outputs": [],
   "source": [
    "da_all_agregated = da.isel(time=slice(96,97)).sum(dim=('height', 'time', 'pointspec'))\n",
    "pl = da_all_agregated.hvplot.image(\n",
    "    x='longitude', y='latitude',  title='t-96h',\n",
    "    xlabel = 'Longitude (°)', ylabel = 'Latitude (°)', clabel = 'Res. Time(s)',\n",
    "    frame_height=350, \n",
    "    projection=ccrs.PlateCarree(), \n",
    "    geo=True, project=False, #global_extent=True,\n",
    "    xlim=(-140, -20), ylim=(-60, 60), \n",
    "    framewise=False, coastline=True, dynamic=True,\n",
    "    cmap='coolwarm',\n",
    ")\n",
    "pl * bogota * flight_path * first_rel * second_rel"
   ]
  },
  {
   "cell_type": "code",
   "execution_count": null,
   "metadata": {},
   "outputs": [],
   "source": [
    "dr = xr.open_dataset('/o3p/macc/test/GLM_array_150_05deg/GLM_array_150_15-16_batch_bis.nc')\n",
    "flash_en = dr.num_flash.where(dr.flash_energy > 0)\n",
    "flash_num = dr.num_flash.where(dr.num_flash > 0)\n",
    "\n",
    "pl96 = (flash_en).hvplot.image(\n",
    "    x='longitude', y='latitude',  title='Total flash energy', \n",
    "    xlabel = 'Longitude (°)', ylabel = 'Latitude (°)', clabel = 'Flash energy (J)',\n",
    "    frame_height=350, \n",
    "    projection=ccrs.PlateCarree(), \n",
    "    geo=True, project=False, #global_extent=True,\n",
    "    xlim=(-140, -20), ylim=(-60, 60), \n",
    "    framewise=False, coastline=True, dynamic=True,\n",
    "    cmap='spring'\n",
    "    #cmap='YlOrRd'\n",
    ")\n",
    "pl96 * bogota * flight_path * first_rel * second_rel"
   ]
  },
  {
   "cell_type": "code",
   "execution_count": null,
   "metadata": {},
   "outputs": [],
   "source": [
    "pl * pl96"
   ]
  },
  {
   "cell_type": "code",
   "execution_count": null,
   "metadata": {},
   "outputs": [],
   "source": [
    "da_all_agregated = da.isel(time=slice(97,98)).sum(dim=('height', 'time', 'pointspec'))\n",
    "pl = da_all_agregated.hvplot.image(\n",
    "    x='longitude', y='latitude',  title='t-97h',\n",
    "    xlabel = 'Longitude (°)', ylabel = 'Latitude (°)', clabel = 'Res. Time(s)',\n",
    "    frame_height=350, \n",
    "    projection=ccrs.PlateCarree(), \n",
    "    geo=True, project=False, #global_extent=True,\n",
    "    xlim=(-140, -20), ylim=(-60, 60), \n",
    "    framewise=False, coastline=True, dynamic=True,\n",
    "    cmap='coolwarm',\n",
    ")\n",
    "pl * bogota * flight_path * first_rel * second_rel"
   ]
  },
  {
   "cell_type": "code",
   "execution_count": null,
   "metadata": {},
   "outputs": [],
   "source": [
    "dr = xr.open_dataset('/o3p/macc/test/GLM_array_150_05deg/GLM_array_150_14-15_batch_bis.nc')\n",
    "flash_en = dr.num_flash.where(dr.flash_energy > 0)\n",
    "flash_num = dr.num_flash.where(dr.num_flash > 0)\n",
    "\n",
    "pl97 = (flash_en).hvplot.image(\n",
    "    x='longitude', y='latitude',  title='Total flash energy', \n",
    "    xlabel = 'Longitude (°)', ylabel = 'Latitude (°)', clabel = 'Flash energy (J)',\n",
    "    frame_height=350, \n",
    "    projection=ccrs.PlateCarree(), \n",
    "    geo=True, project=False, #global_extent=True,\n",
    "    xlim=(-140, -20), ylim=(-60, 60), \n",
    "    framewise=False, coastline=True, dynamic=True,\n",
    "    cmap='spring'\n",
    "    #cmap='YlOrRd'\n",
    ")\n",
    "pl97 * bogota * flight_path * first_rel * second_rel"
   ]
  },
  {
   "cell_type": "code",
   "execution_count": null,
   "metadata": {},
   "outputs": [],
   "source": [
    "pl * pl97"
   ]
  },
  {
   "cell_type": "code",
   "execution_count": null,
   "metadata": {},
   "outputs": [],
   "source": [
    "da_all_agregated = da.isel(time=slice(98,99)).sum(dim=('height', 'time', 'pointspec'))\n",
    "pl = da_all_agregated.hvplot.image(\n",
    "    x='longitude', y='latitude',  title='t-98h',\n",
    "    xlabel = 'Longitude (°)', ylabel = 'Latitude (°)', clabel = 'Res. Time(s)',\n",
    "    frame_height=350, \n",
    "    projection=ccrs.PlateCarree(), \n",
    "    geo=True, project=False, #global_extent=True,\n",
    "    xlim=(-140, -20), ylim=(-60, 60), \n",
    "    framewise=False, coastline=True, dynamic=True,\n",
    "    cmap='coolwarm',\n",
    ")\n",
    "pl * bogota * flight_path * first_rel * second_rel"
   ]
  },
  {
   "cell_type": "code",
   "execution_count": null,
   "metadata": {},
   "outputs": [],
   "source": [
    "dr = xr.open_dataset('/o3p/macc/test/GLM_array_150_05deg/GLM_array_150_13-14_batch_bis.nc')\n",
    "flash_en = dr.num_flash.where(dr.flash_energy > 0)\n",
    "flash_num = dr.num_flash.where(dr.num_flash > 0)\n",
    "\n",
    "pl98 = (flash_en).hvplot.image(\n",
    "    x='longitude', y='latitude',  title='Total flash energy', \n",
    "    xlabel = 'Longitude (°)', ylabel = 'Latitude (°)', clabel = 'Flash energy (J)',\n",
    "    frame_height=350, \n",
    "    projection=ccrs.PlateCarree(), \n",
    "    geo=True, project=False, #global_extent=True,\n",
    "    xlim=(-140, -20), ylim=(-60, 60), \n",
    "    framewise=False, coastline=True, dynamic=True,\n",
    "    cmap='spring'\n",
    "    #cmap='YlOrRd'\n",
    ")\n",
    "pl98 * bogota * flight_path * first_rel * second_rel"
   ]
  },
  {
   "cell_type": "code",
   "execution_count": null,
   "metadata": {},
   "outputs": [],
   "source": [
    "pl * pl98"
   ]
  },
  {
   "cell_type": "code",
   "execution_count": null,
   "metadata": {},
   "outputs": [],
   "source": [
    "da_all_agregated = da.isel(time=slice(99,100)).sum(dim=('height', 'time', 'pointspec'))\n",
    "pl = da_all_agregated.hvplot.image(\n",
    "    x='longitude', y='latitude',  title='t-99h',\n",
    "    xlabel = 'Longitude (°)', ylabel = 'Latitude (°)', clabel = 'Res. Time(s)',\n",
    "    frame_height=350, \n",
    "    projection=ccrs.PlateCarree(), \n",
    "    geo=True, project=False, #global_extent=True,\n",
    "    xlim=(-140, -20), ylim=(-60, 60), \n",
    "    framewise=False, coastline=True, dynamic=True,\n",
    "    cmap='coolwarm',\n",
    ")\n",
    "pl * bogota * flight_path * first_rel * second_rel"
   ]
  },
  {
   "cell_type": "code",
   "execution_count": null,
   "metadata": {},
   "outputs": [],
   "source": [
    "dr = xr.open_dataset('/o3p/macc/test/GLM_array_150_05deg/GLM_array_150_12-13_batch_bis.nc')\n",
    "flash_en = dr.num_flash.where(dr.flash_energy > 0)\n",
    "flash_num = dr.num_flash.where(dr.num_flash > 0)\n",
    "\n",
    "pl99 = (flash_en).hvplot.image(\n",
    "    x='longitude', y='latitude',  title='Total flash energy', \n",
    "    xlabel = 'Longitude (°)', ylabel = 'Latitude (°)', clabel = 'Flash energy (J)',\n",
    "    frame_height=350, \n",
    "    projection=ccrs.PlateCarree(), \n",
    "    geo=True, project=False, #global_extent=True,\n",
    "    xlim=(-140, -20), ylim=(-60, 60), \n",
    "    framewise=False, coastline=True, dynamic=True,\n",
    "    cmap='spring'\n",
    "    #cmap='YlOrRd'\n",
    ")\n",
    "pl99 * bogota * flight_path * first_rel * second_rel"
   ]
  },
  {
   "cell_type": "code",
   "execution_count": null,
   "metadata": {},
   "outputs": [],
   "source": [
    "pl * pl99"
   ]
  },
  {
   "cell_type": "code",
   "execution_count": null,
   "metadata": {},
   "outputs": [],
   "source": [
    "da_all_agregated = da.isel(time=slice(100,101)).sum(dim=('height', 'time', 'pointspec'))\n",
    "pl = da_all_agregated.hvplot.image(\n",
    "    x='longitude', y='latitude',  title='t-100h',\n",
    "    xlabel = 'Longitude (°)', ylabel = 'Latitude (°)', clabel = 'Res. Time(s)',\n",
    "    frame_height=350, \n",
    "    projection=ccrs.PlateCarree(), \n",
    "    geo=True, project=False, #global_extent=True,\n",
    "    xlim=(-140, -20), ylim=(-60, 60), \n",
    "    framewise=False, coastline=True, dynamic=True,\n",
    "    cmap='coolwarm',\n",
    ")\n",
    "pl * bogota * flight_path * first_rel * second_rel"
   ]
  },
  {
   "cell_type": "code",
   "execution_count": null,
   "metadata": {},
   "outputs": [],
   "source": [
    "dr = xr.open_dataset('/o3p/macc/test/GLM_array_150_05deg/GLM_array_150_11-12_batch_bis.nc')\n",
    "flash_en = dr.num_flash.where(dr.flash_energy > 0)\n",
    "flash_num = dr.num_flash.where(dr.num_flash > 0)\n",
    "\n",
    "pl100 = (flash_en).hvplot.image(\n",
    "    x='longitude', y='latitude',  title='Total flash energy', \n",
    "    xlabel = 'Longitude (°)', ylabel = 'Latitude (°)', clabel = 'Flash energy (J)',\n",
    "    frame_height=350, \n",
    "    projection=ccrs.PlateCarree(), \n",
    "    geo=True, project=False, #global_extent=True,\n",
    "    xlim=(-140, -20), ylim=(-60, 60), \n",
    "    framewise=False, coastline=True, dynamic=True,\n",
    "    cmap='spring'\n",
    "    #cmap='YlOrRd'\n",
    ")\n",
    "pl100 * bogota * flight_path * first_rel * second_rel"
   ]
  },
  {
   "cell_type": "code",
   "execution_count": null,
   "metadata": {},
   "outputs": [],
   "source": [
    "pl * pl100"
   ]
  },
  {
   "cell_type": "code",
   "execution_count": null,
   "metadata": {},
   "outputs": [],
   "source": [
    "da_all_agregated = da.isel(time=slice(101,102)).sum(dim=('height', 'time', 'pointspec'))\n",
    "pl = da_all_agregated.hvplot.image(\n",
    "    x='longitude', y='latitude',  title='t-101h',\n",
    "    xlabel = 'Longitude (°)', ylabel = 'Latitude (°)', clabel = 'Res. Time(s)',\n",
    "    frame_height=350, \n",
    "    projection=ccrs.PlateCarree(), \n",
    "    geo=True, project=False, #global_extent=True,\n",
    "    xlim=(-140, -20), ylim=(-60, 60), \n",
    "    framewise=False, coastline=True, dynamic=True,\n",
    "    cmap='coolwarm',\n",
    ")\n",
    "pl * bogota * flight_path * first_rel * second_rel"
   ]
  },
  {
   "cell_type": "code",
   "execution_count": null,
   "metadata": {},
   "outputs": [],
   "source": [
    "dr = xr.open_dataset('/o3p/macc/test/GLM_array_150_05deg/GLM_array_150_10-11_batch_bis.nc')\n",
    "flash_en = dr.num_flash.where(dr.flash_energy > 0)\n",
    "flash_num = dr.num_flash.where(dr.num_flash > 0)\n",
    "\n",
    "pl101 = (flash_en).hvplot.image(\n",
    "    x='longitude', y='latitude',  title='Total flash energy', \n",
    "    xlabel = 'Longitude (°)', ylabel = 'Latitude (°)', clabel = 'Flash energy (J)',\n",
    "    frame_height=350, \n",
    "    projection=ccrs.PlateCarree(), \n",
    "    geo=True, project=False, #global_extent=True,\n",
    "    xlim=(-140, -20), ylim=(-60, 60), \n",
    "    framewise=False, coastline=True, dynamic=True,\n",
    "    cmap='spring'\n",
    "    #cmap='YlOrRd'\n",
    ")\n",
    "pl101 * bogota * flight_path * first_rel * second_rel"
   ]
  },
  {
   "cell_type": "code",
   "execution_count": null,
   "metadata": {},
   "outputs": [],
   "source": [
    "pl * pl101"
   ]
  },
  {
   "cell_type": "code",
   "execution_count": null,
   "metadata": {},
   "outputs": [],
   "source": [
    "da_all_agregated = da.isel(time=slice(102,103)).sum(dim=('height', 'time', 'pointspec'))\n",
    "pl = da_all_agregated.hvplot.image(\n",
    "    x='longitude', y='latitude',  title='t-102h',\n",
    "    xlabel = 'Longitude (°)', ylabel = 'Latitude (°)', clabel = 'Res. Time(s)',\n",
    "    frame_height=350, \n",
    "    projection=ccrs.PlateCarree(), \n",
    "    geo=True, project=False, #global_extent=True,\n",
    "    xlim=(-140, -20), ylim=(-60, 60), \n",
    "    framewise=False, coastline=True, dynamic=True,\n",
    "    cmap='coolwarm',\n",
    ")\n",
    "pl * bogota * flight_path * first_rel * second_rel"
   ]
  },
  {
   "cell_type": "code",
   "execution_count": null,
   "metadata": {},
   "outputs": [],
   "source": [
    "dr = xr.open_dataset('/o3p/macc/test/GLM_array_150_05deg/GLM_array_150_09-10_batch_bis.nc')\n",
    "flash_en = dr.num_flash.where(dr.flash_energy > 0)\n",
    "flash_num = dr.num_flash.where(dr.num_flash > 0)\n",
    "\n",
    "pl102 = (flash_en).hvplot.image(\n",
    "    x='longitude', y='latitude',  title='Total flash energy', \n",
    "    xlabel = 'Longitude (°)', ylabel = 'Latitude (°)', clabel = 'Flash energy (J)',\n",
    "    frame_height=350, \n",
    "    projection=ccrs.PlateCarree(), \n",
    "    geo=True, project=False, #global_extent=True,\n",
    "    xlim=(-140, -20), ylim=(-60, 60), \n",
    "    framewise=False, coastline=True, dynamic=True,\n",
    "    cmap='spring'\n",
    "    #cmap='YlOrRd'\n",
    ")\n",
    "pl102 * bogota * flight_path * first_rel * second_rel"
   ]
  },
  {
   "cell_type": "code",
   "execution_count": null,
   "metadata": {},
   "outputs": [],
   "source": [
    "pl * pl102"
   ]
  },
  {
   "cell_type": "code",
   "execution_count": null,
   "metadata": {},
   "outputs": [],
   "source": [
    "da_all_agregated = da.isel(time=slice(103,104)).sum(dim=('height', 'time', 'pointspec'))\n",
    "pl = da_all_agregated.hvplot.image(\n",
    "    x='longitude', y='latitude',  title='t-103h',\n",
    "    xlabel = 'Longitude (°)', ylabel = 'Latitude (°)', clabel = 'Res. Time(s)',\n",
    "    frame_height=350, \n",
    "    projection=ccrs.PlateCarree(), \n",
    "    geo=True, project=False, #global_extent=True,\n",
    "    xlim=(-140, -20), ylim=(-60, 60), \n",
    "    framewise=False, coastline=True, dynamic=True,\n",
    "    cmap='coolwarm',\n",
    ")\n",
    "pl * bogota * flight_path * first_rel * second_rel"
   ]
  },
  {
   "cell_type": "code",
   "execution_count": null,
   "metadata": {},
   "outputs": [],
   "source": [
    "dr = xr.open_dataset('/o3p/macc/test/GLM_array_150_05deg/GLM_array_150_08-09_batch_bis.nc')\n",
    "flash_en = dr.num_flash.where(dr.flash_energy > 0)\n",
    "flash_num = dr.num_flash.where(dr.num_flash > 0)\n",
    "\n",
    "pl103 = (flash_en).hvplot.image(\n",
    "    x='longitude', y='latitude',  title='Total flash energy', \n",
    "    xlabel = 'Longitude (°)', ylabel = 'Latitude (°)', clabel = 'Flash energy (J)',\n",
    "    frame_height=350, \n",
    "    projection=ccrs.PlateCarree(), \n",
    "    geo=True, project=False, #global_extent=True,\n",
    "    xlim=(-140, -20), ylim=(-60, 60), \n",
    "    framewise=False, coastline=True, dynamic=True,\n",
    "    cmap='spring'\n",
    "    #cmap='YlOrRd'\n",
    ")\n",
    "pl103 * bogota * flight_path * first_rel * second_rel"
   ]
  },
  {
   "cell_type": "code",
   "execution_count": null,
   "metadata": {},
   "outputs": [],
   "source": [
    "pl * pl103"
   ]
  },
  {
   "cell_type": "code",
   "execution_count": null,
   "metadata": {},
   "outputs": [],
   "source": [
    "da_all_agregated = da.isel(time=slice(104,105)).sum(dim=('height', 'time', 'pointspec'))\n",
    "pl = da_all_agregated.hvplot.image(\n",
    "    x='longitude', y='latitude',  title='t-104h',\n",
    "    xlabel = 'Longitude (°)', ylabel = 'Latitude (°)', clabel = 'Res. Time(s)',\n",
    "    frame_height=350, \n",
    "    projection=ccrs.PlateCarree(), \n",
    "    geo=True, project=False, #global_extent=True,\n",
    "    xlim=(-140, -20), ylim=(-60, 60), \n",
    "    framewise=False, coastline=True, dynamic=True,\n",
    "    cmap='coolwarm',\n",
    ")\n",
    "pl * bogota * flight_path * first_rel * second_rel"
   ]
  },
  {
   "cell_type": "code",
   "execution_count": null,
   "metadata": {},
   "outputs": [],
   "source": [
    "dr = xr.open_dataset('/o3p/macc/test/GLM_array_150_05deg/GLM_array_150_07-08_batch_bis.nc')\n",
    "flash_en = dr.num_flash.where(dr.flash_energy > 0)\n",
    "flash_num = dr.num_flash.where(dr.num_flash > 0)\n",
    "\n",
    "pl104 = (flash_en).hvplot.image(\n",
    "    x='longitude', y='latitude',  title='Total flash energy', \n",
    "    xlabel = 'Longitude (°)', ylabel = 'Latitude (°)', clabel = 'Flash energy (J)',\n",
    "    frame_height=350, \n",
    "    projection=ccrs.PlateCarree(), \n",
    "    geo=True, project=False, #global_extent=True,\n",
    "    xlim=(-140, -20), ylim=(-60, 60), \n",
    "    framewise=False, coastline=True, dynamic=True,\n",
    "    cmap='spring'\n",
    "    #cmap='YlOrRd'\n",
    ")\n",
    "pl104 * bogota * flight_path * first_rel * second_rel"
   ]
  },
  {
   "cell_type": "code",
   "execution_count": null,
   "metadata": {},
   "outputs": [],
   "source": [
    "pl * pl104"
   ]
  },
  {
   "cell_type": "code",
   "execution_count": null,
   "metadata": {},
   "outputs": [],
   "source": [
    "da_all_agregated = da.isel(time=slice(105,106)).sum(dim=('height', 'time', 'pointspec'))\n",
    "pl = da_all_agregated.hvplot.image(\n",
    "    x='longitude', y='latitude',  title='t-105h',\n",
    "    xlabel = 'Longitude (°)', ylabel = 'Latitude (°)', clabel = 'Res. Time(s)',\n",
    "    frame_height=350, \n",
    "    projection=ccrs.PlateCarree(), \n",
    "    geo=True, project=False, #global_extent=True,\n",
    "    xlim=(-140, -20), ylim=(-60, 60), \n",
    "    framewise=False, coastline=True, dynamic=True,\n",
    "    cmap='coolwarm',\n",
    ")\n",
    "pl * bogota * flight_path * first_rel * second_rel"
   ]
  },
  {
   "cell_type": "code",
   "execution_count": null,
   "metadata": {},
   "outputs": [],
   "source": [
    "dr = xr.open_dataset('/o3p/macc/test/GLM_array_150_05deg/GLM_array_150_06-07_batch_bis.nc')\n",
    "flash_en = dr.num_flash.where(dr.flash_energy > 0)\n",
    "flash_num = dr.num_flash.where(dr.num_flash > 0)\n",
    "\n",
    "pl105 = (flash_en).hvplot.image(\n",
    "    x='longitude', y='latitude',  title='Total flash energy', \n",
    "    xlabel = 'Longitude (°)', ylabel = 'Latitude (°)', clabel = 'Flash energy (J)',\n",
    "    frame_height=350, \n",
    "    projection=ccrs.PlateCarree(), \n",
    "    geo=True, project=False, #global_extent=True,\n",
    "    xlim=(-140, -20), ylim=(-60, 60), \n",
    "    framewise=False, coastline=True, dynamic=True,\n",
    "    cmap='spring'\n",
    "    #cmap='YlOrRd'\n",
    ")\n",
    "pl105 * bogota * flight_path * first_rel * second_rel"
   ]
  },
  {
   "cell_type": "code",
   "execution_count": null,
   "metadata": {},
   "outputs": [],
   "source": [
    "pl * pl105"
   ]
  },
  {
   "cell_type": "code",
   "execution_count": null,
   "metadata": {},
   "outputs": [],
   "source": [
    "da_all_agregated = da.isel(time=slice(106,107)).sum(dim=('height', 'time', 'pointspec'))\n",
    "pl = da_all_agregated.hvplot.image(\n",
    "    x='longitude', y='latitude',  title='t-106h',\n",
    "    xlabel = 'Longitude (°)', ylabel = 'Latitude (°)', clabel = 'Res. Time(s)',\n",
    "    frame_height=350, \n",
    "    projection=ccrs.PlateCarree(), \n",
    "    geo=True, project=False, #global_extent=True,\n",
    "    xlim=(-140, -20), ylim=(-60, 60), \n",
    "    framewise=False, coastline=True, dynamic=True,\n",
    "    cmap='coolwarm',\n",
    ")\n",
    "pl * bogota * flight_path * first_rel * second_rel"
   ]
  },
  {
   "cell_type": "code",
   "execution_count": null,
   "metadata": {},
   "outputs": [],
   "source": [
    "dr = xr.open_dataset('/o3p/macc/test/GLM_array_150_05deg/GLM_array_150_05-06_batch_bis.nc')\n",
    "flash_en = dr.num_flash.where(dr.flash_energy > 0)\n",
    "flash_num = dr.num_flash.where(dr.num_flash > 0)\n",
    "\n",
    "pl106 = (flash_en).hvplot.image(\n",
    "    x='longitude', y='latitude',  title='Total flash energy', \n",
    "    xlabel = 'Longitude (°)', ylabel = 'Latitude (°)', clabel = 'Flash energy (J)',\n",
    "    frame_height=350, \n",
    "    projection=ccrs.PlateCarree(), \n",
    "    geo=True, project=False, #global_extent=True,\n",
    "    xlim=(-140, -20), ylim=(-60, 60), \n",
    "    framewise=False, coastline=True, dynamic=True,\n",
    "    cmap='spring'\n",
    "    #cmap='YlOrRd'\n",
    ")\n",
    "pl106 * bogota * flight_path * first_rel * second_rel"
   ]
  },
  {
   "cell_type": "code",
   "execution_count": null,
   "metadata": {},
   "outputs": [],
   "source": [
    "pl * pl106"
   ]
  },
  {
   "cell_type": "code",
   "execution_count": null,
   "metadata": {},
   "outputs": [],
   "source": [
    "da_all_agregated = da.isel(time=slice(107,108)).sum(dim=('height', 'time', 'pointspec'))\n",
    "pl = da_all_agregated.hvplot.image(\n",
    "    x='longitude', y='latitude',  title='t-107h',\n",
    "    xlabel = 'Longitude (°)', ylabel = 'Latitude (°)', clabel = 'Res. Time(s)',\n",
    "    frame_height=350, \n",
    "    projection=ccrs.PlateCarree(), \n",
    "    geo=True, project=False, #global_extent=True,\n",
    "    xlim=(-140, -20), ylim=(-60, 60), \n",
    "    framewise=False, coastline=True, dynamic=True,\n",
    "    cmap='coolwarm',\n",
    ")\n",
    "pl * bogota * flight_path * first_rel * second_rel"
   ]
  },
  {
   "cell_type": "code",
   "execution_count": null,
   "metadata": {},
   "outputs": [],
   "source": [
    "dr = xr.open_dataset('/o3p/macc/test/GLM_array_150_05deg/GLM_array_150_04-05_batch_bis.nc')\n",
    "flash_en = dr.num_flash.where(dr.flash_energy > 0)\n",
    "flash_num = dr.num_flash.where(dr.num_flash > 0)\n",
    "\n",
    "pl107 = (flash_en).hvplot.image(\n",
    "    x='longitude', y='latitude',  title='Total flash energy', \n",
    "    xlabel = 'Longitude (°)', ylabel = 'Latitude (°)', clabel = 'Flash energy (J)',\n",
    "    frame_height=350, \n",
    "    projection=ccrs.PlateCarree(), \n",
    "    geo=True, project=False, #global_extent=True,\n",
    "    xlim=(-140, -20), ylim=(-60, 60), \n",
    "    framewise=False, coastline=True, dynamic=True,\n",
    "    cmap='spring'\n",
    "    #cmap='YlOrRd'\n",
    ")\n",
    "pl107 * bogota * flight_path * first_rel * second_rel"
   ]
  },
  {
   "cell_type": "code",
   "execution_count": null,
   "metadata": {},
   "outputs": [],
   "source": [
    "pl * pl107"
   ]
  },
  {
   "cell_type": "code",
   "execution_count": null,
   "metadata": {},
   "outputs": [],
   "source": [
    "da_all_agregated = da.isel(time=slice(108,109)).sum(dim=('height', 'time', 'pointspec'))\n",
    "pl = da_all_agregated.hvplot.image(\n",
    "    x='longitude', y='latitude',  title='t-108h',\n",
    "    xlabel = 'Longitude (°)', ylabel = 'Latitude (°)', clabel = 'Res. Time(s)',\n",
    "    frame_height=350, \n",
    "    projection=ccrs.PlateCarree(), \n",
    "    geo=True, project=False, #global_extent=True,\n",
    "    xlim=(-140, -20), ylim=(-60, 60), \n",
    "    framewise=False, coastline=True, dynamic=True,\n",
    "    cmap='coolwarm',\n",
    ")\n",
    "pl * bogota * flight_path * first_rel * second_rel"
   ]
  },
  {
   "cell_type": "code",
   "execution_count": null,
   "metadata": {},
   "outputs": [],
   "source": [
    "dr = xr.open_dataset('/o3p/macc/test/GLM_array_150_05deg/GLM_array_150_03-04_batch_bis.nc')\n",
    "flash_en = dr.num_flash.where(dr.flash_energy > 0)\n",
    "flash_num = dr.num_flash.where(dr.num_flash > 0)\n",
    "\n",
    "pl108 = (flash_en).hvplot.image(\n",
    "    x='longitude', y='latitude',  title='Total flash energy', \n",
    "    xlabel = 'Longitude (°)', ylabel = 'Latitude (°)', clabel = 'Flash energy (J)',\n",
    "    frame_height=350, \n",
    "    projection=ccrs.PlateCarree(), \n",
    "    geo=True, project=False, #global_extent=True,\n",
    "    xlim=(-140, -20), ylim=(-60, 60), \n",
    "    framewise=False, coastline=True, dynamic=True,\n",
    "    cmap='spring'\n",
    "    #cmap='YlOrRd'\n",
    ")\n",
    "pl108 * bogota * flight_path * first_rel * second_rel"
   ]
  },
  {
   "cell_type": "code",
   "execution_count": null,
   "metadata": {},
   "outputs": [],
   "source": [
    "pl * pl108"
   ]
  },
  {
   "cell_type": "code",
   "execution_count": null,
   "metadata": {},
   "outputs": [],
   "source": [
    "da_all_agregated = da.isel(time=slice(109,110)).sum(dim=('height', 'time', 'pointspec'))\n",
    "pl = da_all_agregated.hvplot.image(\n",
    "    x='longitude', y='latitude',  title='t-109h',\n",
    "    xlabel = 'Longitude (°)', ylabel = 'Latitude (°)', clabel = 'Res. Time(s)',\n",
    "    frame_height=350, \n",
    "    projection=ccrs.PlateCarree(), \n",
    "    geo=True, project=False, #global_extent=True,\n",
    "    xlim=(-140, -20), ylim=(-60, 60), \n",
    "    framewise=False, coastline=True, dynamic=True,\n",
    "    cmap='coolwarm',\n",
    ")\n",
    "pl * bogota * flight_path * first_rel * second_rel"
   ]
  },
  {
   "cell_type": "code",
   "execution_count": null,
   "metadata": {},
   "outputs": [],
   "source": [
    "dr = xr.open_dataset('/o3p/macc/test/GLM_array_150_05deg/GLM_array_150_02-03_batch_bis.nc')\n",
    "flash_en = dr.num_flash.where(dr.flash_energy > 0)\n",
    "flash_num = dr.num_flash.where(dr.num_flash > 0)\n",
    "\n",
    "pl109 = (flash_en).hvplot.image(\n",
    "    x='longitude', y='latitude',  title='Total flash energy', \n",
    "    xlabel = 'Longitude (°)', ylabel = 'Latitude (°)', clabel = 'Flash energy (J)',\n",
    "    frame_height=350, \n",
    "    projection=ccrs.PlateCarree(), \n",
    "    geo=True, project=False, #global_extent=True,\n",
    "    xlim=(-140, -20), ylim=(-60, 60), \n",
    "    framewise=False, coastline=True, dynamic=True,\n",
    "    cmap='spring'\n",
    "    #cmap='YlOrRd'\n",
    ")\n",
    "pl109 * bogota * flight_path * first_rel * second_rel"
   ]
  },
  {
   "cell_type": "code",
   "execution_count": null,
   "metadata": {},
   "outputs": [],
   "source": [
    "pl * pl109"
   ]
  },
  {
   "cell_type": "code",
   "execution_count": null,
   "metadata": {},
   "outputs": [],
   "source": [
    "da_all_agregated = da.isel(time=slice(110,111)).sum(dim=('height', 'time', 'pointspec'))\n",
    "pl = da_all_agregated.hvplot.image(\n",
    "    x='longitude', y='latitude',  title='t-110h',\n",
    "    xlabel = 'Longitude (°)', ylabel = 'Latitude (°)', clabel = 'Res. Time(s)',\n",
    "    frame_height=350, \n",
    "    projection=ccrs.PlateCarree(), \n",
    "    geo=True, project=False, #global_extent=True,\n",
    "    xlim=(-140, -20), ylim=(-60, 60), \n",
    "    framewise=False, coastline=True, dynamic=True,\n",
    "    cmap='coolwarm',\n",
    ")\n",
    "pl * bogota * flight_path * first_rel * second_rel"
   ]
  },
  {
   "cell_type": "code",
   "execution_count": null,
   "metadata": {},
   "outputs": [],
   "source": [
    "dr = xr.open_dataset('/o3p/macc/test/GLM_array_150_05deg/GLM_array_150_01-02_batch_bis.nc')\n",
    "flash_en = dr.num_flash.where(dr.flash_energy > 0)\n",
    "flash_num = dr.num_flash.where(dr.num_flash > 0)\n",
    "\n",
    "pl110 = (flash_en).hvplot.image(\n",
    "    x='longitude', y='latitude',  title='Total flash energy', \n",
    "    xlabel = 'Longitude (°)', ylabel = 'Latitude (°)', clabel = 'Flash energy (J)',\n",
    "    frame_height=350, \n",
    "    projection=ccrs.PlateCarree(), \n",
    "    geo=True, project=False, #global_extent=True,\n",
    "    xlim=(-140, -20), ylim=(-60, 60), \n",
    "    framewise=False, coastline=True, dynamic=True,\n",
    "    cmap='spring'\n",
    "    #cmap='YlOrRd'\n",
    ")\n",
    "pl110 * bogota * flight_path * first_rel * second_rel"
   ]
  },
  {
   "cell_type": "code",
   "execution_count": null,
   "metadata": {},
   "outputs": [],
   "source": [
    "pl * pl110"
   ]
  },
  {
   "cell_type": "code",
   "execution_count": null,
   "metadata": {},
   "outputs": [],
   "source": [
    "da_all_agregated = da.isel(time=slice(111,112)).sum(dim=('height', 'time', 'pointspec'))\n",
    "pl = da_all_agregated.hvplot.image(\n",
    "    x='longitude', y='latitude',  title='t-111h',\n",
    "    xlabel = 'Longitude (°)', ylabel = 'Latitude (°)', clabel = 'Res. Time(s)',\n",
    "    frame_height=350, \n",
    "    projection=ccrs.PlateCarree(), \n",
    "    geo=True, project=False, #global_extent=True,\n",
    "    xlim=(-140, -20), ylim=(-60, 60), \n",
    "    framewise=False, coastline=True, dynamic=True,\n",
    "    cmap='coolwarm',\n",
    ")\n",
    "pl * bogota * flight_path * first_rel * second_rel"
   ]
  },
  {
   "cell_type": "code",
   "execution_count": null,
   "metadata": {},
   "outputs": [],
   "source": [
    "dr = xr.open_dataset('/o3p/macc/test/GLM_array_150_05deg/GLM_array_150_00-01_batch_bis.nc')\n",
    "flash_en = dr.num_flash.where(dr.flash_energy > 0)\n",
    "flash_num = dr.num_flash.where(dr.num_flash > 0)\n",
    "\n",
    "pl111 = (flash_en).hvplot.image(\n",
    "    x='longitude', y='latitude',  title='Total flash energy', \n",
    "    xlabel = 'Longitude (°)', ylabel = 'Latitude (°)', clabel = 'Flash energy (J)',\n",
    "    frame_height=350, \n",
    "    projection=ccrs.PlateCarree(), \n",
    "    geo=True, project=False, #global_extent=True,\n",
    "    xlim=(-140, -20), ylim=(-60, 60), \n",
    "    framewise=False, coastline=True, dynamic=True,\n",
    "    cmap='spring'\n",
    "    #cmap='YlOrRd'\n",
    ")\n",
    "pl111 * bogota * flight_path * first_rel * second_rel"
   ]
  },
  {
   "cell_type": "code",
   "execution_count": null,
   "metadata": {},
   "outputs": [],
   "source": [
    "pl * pl111"
   ]
  },
  {
   "cell_type": "code",
   "execution_count": null,
   "metadata": {},
   "outputs": [],
   "source": [
    "da_all_agregated = da.isel(time=slice(112,113)).sum(dim=('height', 'time', 'pointspec'))\n",
    "pl = da_all_agregated.hvplot.image(\n",
    "    x='longitude', y='latitude',  title='t-112h',\n",
    "    xlabel = 'Longitude (°)', ylabel = 'Latitude (°)', clabel = 'Res. Time(s)',\n",
    "    frame_height=350, \n",
    "    projection=ccrs.PlateCarree(), \n",
    "    geo=True, project=False, #global_extent=True,\n",
    "    xlim=(-140, -20), ylim=(-60, 60), \n",
    "    framewise=False, coastline=True, dynamic=True,\n",
    "    cmap='coolwarm',\n",
    ")\n",
    "pl * bogota * flight_path * first_rel * second_rel"
   ]
  },
  {
   "cell_type": "code",
   "execution_count": null,
   "metadata": {},
   "outputs": [],
   "source": [
    "dr = xr.open_dataset('/o3p/macc/test/GLM_array_149_05deg/GLM_array_149_23-00_batch_bis.nc')\n",
    "flash_en = dr.num_flash.where(dr.flash_energy > 0)\n",
    "flash_num = dr.num_flash.where(dr.num_flash > 0)\n",
    "\n",
    "pl112 = (flash_en).hvplot.image(\n",
    "    x='longitude', y='latitude',  title='Total flash energy', \n",
    "    xlabel = 'Longitude (°)', ylabel = 'Latitude (°)', clabel = 'Flash energy (J)',\n",
    "    frame_height=350, \n",
    "    projection=ccrs.PlateCarree(), \n",
    "    geo=True, project=False, #global_extent=True,\n",
    "    xlim=(-140, -20), ylim=(-60, 60), \n",
    "    framewise=False, coastline=True, dynamic=True,\n",
    "    cmap='spring'\n",
    "    #cmap='YlOrRd'\n",
    ")\n",
    "pl112 * bogota * flight_path * first_rel * second_rel"
   ]
  },
  {
   "cell_type": "code",
   "execution_count": null,
   "metadata": {},
   "outputs": [],
   "source": [
    "pl * pl112"
   ]
  },
  {
   "cell_type": "code",
   "execution_count": null,
   "metadata": {},
   "outputs": [],
   "source": [
    "da_all_agregated = da.isel(time=slice(113,114)).sum(dim=('height', 'time', 'pointspec'))\n",
    "pl = da_all_agregated.hvplot.image(\n",
    "    x='longitude', y='latitude',  title='t-113h',\n",
    "    xlabel = 'Longitude (°)', ylabel = 'Latitude (°)', clabel = 'Res. Time(s)',\n",
    "    frame_height=350, \n",
    "    projection=ccrs.PlateCarree(), \n",
    "    geo=True, project=False, #global_extent=True,\n",
    "    xlim=(-140, -20), ylim=(-60, 60), \n",
    "    framewise=False, coastline=True, dynamic=True,\n",
    "    cmap='coolwarm',\n",
    ")\n",
    "pl * bogota * flight_path * first_rel * second_rel"
   ]
  },
  {
   "cell_type": "code",
   "execution_count": null,
   "metadata": {},
   "outputs": [],
   "source": [
    "dr = xr.open_dataset('/o3p/macc/test/GLM_array_149_05deg/GLM_array_149_22-23_batch_bis.nc')\n",
    "flash_en = dr.num_flash.where(dr.flash_energy > 0)\n",
    "flash_num = dr.num_flash.where(dr.num_flash > 0)\n",
    "\n",
    "pl113 = (flash_en).hvplot.image(\n",
    "    x='longitude', y='latitude',  title='Total flash energy', \n",
    "    xlabel = 'Longitude (°)', ylabel = 'Latitude (°)', clabel = 'Flash energy (J)',\n",
    "    frame_height=350, \n",
    "    projection=ccrs.PlateCarree(), \n",
    "    geo=True, project=False, #global_extent=True,\n",
    "    xlim=(-140, -20), ylim=(-60, 60), \n",
    "    framewise=False, coastline=True, dynamic=True,\n",
    "    cmap='spring'\n",
    "    #cmap='YlOrRd'\n",
    ")\n",
    "pl113 * bogota * flight_path * first_rel * second_rel"
   ]
  },
  {
   "cell_type": "code",
   "execution_count": null,
   "metadata": {},
   "outputs": [],
   "source": [
    "pl * pl113"
   ]
  },
  {
   "cell_type": "code",
   "execution_count": null,
   "metadata": {},
   "outputs": [],
   "source": [
    "da_all_agregated = da.isel(time=slice(114,115)).sum(dim=('height', 'time', 'pointspec'))\n",
    "pl = da_all_agregated.hvplot.image(\n",
    "    x='longitude', y='latitude',  title='t-114h',\n",
    "    xlabel = 'Longitude (°)', ylabel = 'Latitude (°)', clabel = 'Res. Time(s)',\n",
    "    frame_height=350, \n",
    "    projection=ccrs.PlateCarree(), \n",
    "    geo=True, project=False, #global_extent=True,\n",
    "    xlim=(-140, -20), ylim=(-60, 60), \n",
    "    framewise=False, coastline=True, dynamic=True,\n",
    "    cmap='coolwarm',\n",
    ")\n",
    "pl * bogota * flight_path * first_rel * second_rel"
   ]
  },
  {
   "cell_type": "code",
   "execution_count": null,
   "metadata": {},
   "outputs": [],
   "source": [
    "dr = xr.open_dataset('/o3p/macc/test/GLM_array_149_05deg/GLM_array_149_21-22_batch_bis.nc')\n",
    "flash_en = dr.num_flash.where(dr.flash_energy > 0)\n",
    "flash_num = dr.num_flash.where(dr.num_flash > 0)\n",
    "\n",
    "pl114 = (flash_en).hvplot.image(\n",
    "    x='longitude', y='latitude',  title='Total flash energy', \n",
    "    xlabel = 'Longitude (°)', ylabel = 'Latitude (°)', clabel = 'Flash energy (J)',\n",
    "    frame_height=350, \n",
    "    projection=ccrs.PlateCarree(), \n",
    "    geo=True, project=False, #global_extent=True,\n",
    "    xlim=(-140, -20), ylim=(-60, 60), \n",
    "    framewise=False, coastline=True, dynamic=True,\n",
    "    cmap='spring'\n",
    "    #cmap='YlOrRd'\n",
    ")\n",
    "pl114 * bogota * flight_path * first_rel * second_rel"
   ]
  },
  {
   "cell_type": "code",
   "execution_count": null,
   "metadata": {},
   "outputs": [],
   "source": [
    "pl * pl114"
   ]
  },
  {
   "cell_type": "code",
   "execution_count": null,
   "metadata": {},
   "outputs": [],
   "source": [
    "da_all_agregated = da.isel(time=slice(115,116)).sum(dim=('height', 'time', 'pointspec'))\n",
    "pl = da_all_agregated.hvplot.image(\n",
    "    x='longitude', y='latitude',  title='t-115h',\n",
    "    xlabel = 'Longitude (°)', ylabel = 'Latitude (°)', clabel = 'Res. Time(s)',\n",
    "    frame_height=350, \n",
    "    projection=ccrs.PlateCarree(), \n",
    "    geo=True, project=False, #global_extent=True,\n",
    "    xlim=(-140, -20), ylim=(-60, 60), \n",
    "    framewise=False, coastline=True, dynamic=True,\n",
    "    cmap='coolwarm',\n",
    ")\n",
    "pl * bogota * flight_path * first_rel * second_rel"
   ]
  },
  {
   "cell_type": "code",
   "execution_count": null,
   "metadata": {},
   "outputs": [],
   "source": [
    "dr = xr.open_dataset('/o3p/macc/test/GLM_array_149_05deg/GLM_array_149_20-21_batch_bis.nc')\n",
    "flash_en = dr.num_flash.where(dr.flash_energy > 0)\n",
    "flash_num = dr.num_flash.where(dr.num_flash > 0)\n",
    "\n",
    "pl115 = (flash_en).hvplot.image(\n",
    "    x='longitude', y='latitude',  title='Total flash energy', \n",
    "    xlabel = 'Longitude (°)', ylabel = 'Latitude (°)', clabel = 'Flash energy (J)',\n",
    "    frame_height=350, \n",
    "    projection=ccrs.PlateCarree(), \n",
    "    geo=True, project=False, #global_extent=True,\n",
    "    xlim=(-140, -20), ylim=(-60, 60), \n",
    "    framewise=False, coastline=True, dynamic=True,\n",
    "    cmap='spring'\n",
    "    #cmap='YlOrRd'\n",
    ")\n",
    "pl115 * bogota * flight_path * first_rel * second_rel"
   ]
  },
  {
   "cell_type": "code",
   "execution_count": null,
   "metadata": {},
   "outputs": [],
   "source": [
    "pl * pl115"
   ]
  },
  {
   "cell_type": "code",
   "execution_count": null,
   "metadata": {},
   "outputs": [],
   "source": [
    "da_all_agregated = da.isel(time=slice(116,117)).sum(dim=('height', 'time', 'pointspec'))\n",
    "pl = da_all_agregated.hvplot.image(\n",
    "    x='longitude', y='latitude',  title='t-116h',\n",
    "    xlabel = 'Longitude (°)', ylabel = 'Latitude (°)', clabel = 'Res. Time(s)',\n",
    "    frame_height=350, \n",
    "    projection=ccrs.PlateCarree(), \n",
    "    geo=True, project=False, #global_extent=True,\n",
    "    xlim=(-140, -20), ylim=(-60, 60), \n",
    "    framewise=False, coastline=True, dynamic=True,\n",
    "    cmap='coolwarm',\n",
    ")\n",
    "pl * bogota * flight_path * first_rel * second_rel"
   ]
  },
  {
   "cell_type": "code",
   "execution_count": null,
   "metadata": {},
   "outputs": [],
   "source": [
    "dr = xr.open_dataset('/o3p/macc/test/GLM_array_149_05deg/GLM_array_149_19-20_batch_bis.nc')\n",
    "flash_en = dr.num_flash.where(dr.flash_energy > 0)\n",
    "flash_num = dr.num_flash.where(dr.num_flash > 0)\n",
    "\n",
    "pl116 = (flash_en).hvplot.image(\n",
    "    x='longitude', y='latitude',  title='Total flash energy', \n",
    "    xlabel = 'Longitude (°)', ylabel = 'Latitude (°)', clabel = 'Flash energy (J)',\n",
    "    frame_height=350, \n",
    "    projection=ccrs.PlateCarree(), \n",
    "    geo=True, project=False, #global_extent=True,\n",
    "    xlim=(-140, -20), ylim=(-60, 60), \n",
    "    framewise=False, coastline=True, dynamic=True,\n",
    "    cmap='spring'\n",
    "    #cmap='YlOrRd'\n",
    ")\n",
    "pl116 * bogota * flight_path * first_rel * second_rel"
   ]
  },
  {
   "cell_type": "code",
   "execution_count": null,
   "metadata": {},
   "outputs": [],
   "source": [
    "pl * pl116"
   ]
  },
  {
   "cell_type": "code",
   "execution_count": null,
   "metadata": {},
   "outputs": [],
   "source": [
    "da_all_agregated = da.isel(time=slice(117,118)).sum(dim=('height', 'time', 'pointspec'))\n",
    "pl = da_all_agregated.hvplot.image(\n",
    "    x='longitude', y='latitude',  title='t-117h',\n",
    "    xlabel = 'Longitude (°)', ylabel = 'Latitude (°)', clabel = 'Res. Time(s)',\n",
    "    frame_height=350, \n",
    "    projection=ccrs.PlateCarree(), \n",
    "    geo=True, project=False, #global_extent=True,\n",
    "    xlim=(-140, -20), ylim=(-60, 60), \n",
    "    framewise=False, coastline=True, dynamic=True,\n",
    "    cmap='coolwarm',\n",
    ")\n",
    "pl * bogota * flight_path * first_rel * second_rel"
   ]
  },
  {
   "cell_type": "code",
   "execution_count": null,
   "metadata": {},
   "outputs": [],
   "source": [
    "dr = xr.open_dataset('/o3p/macc/test/GLM_array_149_05deg/GLM_array_149_18-19_batch_bis.nc')\n",
    "flash_en = dr.num_flash.where(dr.flash_energy > 0)\n",
    "flash_num = dr.num_flash.where(dr.num_flash > 0)\n",
    "\n",
    "pl117 = (flash_en).hvplot.image(\n",
    "    x='longitude', y='latitude',  title='Total flash energy', \n",
    "    xlabel = 'Longitude (°)', ylabel = 'Latitude (°)', clabel = 'Flash energy (J)',\n",
    "    frame_height=350, \n",
    "    projection=ccrs.PlateCarree(), \n",
    "    geo=True, project=False, #global_extent=True,\n",
    "    xlim=(-140, -20), ylim=(-60, 60), \n",
    "    framewise=False, coastline=True, dynamic=True,\n",
    "    cmap='spring'\n",
    "    #cmap='YlOrRd'\n",
    ")\n",
    "pl117 * bogota * flight_path * first_rel * second_rel"
   ]
  },
  {
   "cell_type": "code",
   "execution_count": null,
   "metadata": {},
   "outputs": [],
   "source": [
    "pl * pl117"
   ]
  },
  {
   "cell_type": "code",
   "execution_count": null,
   "metadata": {},
   "outputs": [],
   "source": [
    "da_all_agregated = da.isel(time=slice(118,119)).sum(dim=('height', 'time', 'pointspec'))\n",
    "pl = da_all_agregated.hvplot.image(\n",
    "    x='longitude', y='latitude',  title='t-118h',\n",
    "    xlabel = 'Longitude (°)', ylabel = 'Latitude (°)', clabel = 'Res. Time(s)',\n",
    "    frame_height=350, \n",
    "    projection=ccrs.PlateCarree(), \n",
    "    geo=True, project=False, #global_extent=True,\n",
    "    xlim=(-140, -20), ylim=(-60, 60), \n",
    "    framewise=False, coastline=True, dynamic=True,\n",
    "    cmap='coolwarm',\n",
    ")\n",
    "pl * bogota * flight_path * first_rel * second_rel"
   ]
  },
  {
   "cell_type": "code",
   "execution_count": null,
   "metadata": {},
   "outputs": [],
   "source": [
    "dr = xr.open_dataset('/o3p/macc/test/GLM_array_149_05deg/GLM_array_149_17-18_batch_bis.nc')\n",
    "flash_en = dr.num_flash.where(dr.flash_energy > 0)\n",
    "flash_num = dr.num_flash.where(dr.num_flash > 0)\n",
    "\n",
    "pl118 = (flash_en).hvplot.image(\n",
    "    x='longitude', y='latitude',  title='Total flash energy', \n",
    "    xlabel = 'Longitude (°)', ylabel = 'Latitude (°)', clabel = 'Flash energy (J)',\n",
    "    frame_height=350, \n",
    "    projection=ccrs.PlateCarree(), \n",
    "    geo=True, project=False, #global_extent=True,\n",
    "    xlim=(-140, -20), ylim=(-60, 60), \n",
    "    framewise=False, coastline=True, dynamic=True,\n",
    "    cmap='spring'\n",
    "    #cmap='YlOrRd'\n",
    ")\n",
    "pl118 * bogota * flight_path * first_rel * second_rel"
   ]
  },
  {
   "cell_type": "code",
   "execution_count": null,
   "metadata": {},
   "outputs": [],
   "source": [
    "pl * pl118"
   ]
  },
  {
   "cell_type": "code",
   "execution_count": null,
   "metadata": {},
   "outputs": [],
   "source": [
    "da_all_agregated = da.isel(time=slice(119,120)).sum(dim=('height', 'time', 'pointspec'))\n",
    "pl = da_all_agregated.hvplot.image(\n",
    "    x='longitude', y='latitude',  title='t-119h',\n",
    "    xlabel = 'Longitude (°)', ylabel = 'Latitude (°)', clabel = 'Res. Time(s)',\n",
    "    frame_height=350, \n",
    "    projection=ccrs.PlateCarree(), \n",
    "    geo=True, project=False, #global_extent=True,\n",
    "    xlim=(-140, -20), ylim=(-60, 60), \n",
    "    framewise=False, coastline=True, dynamic=True,\n",
    "    cmap='coolwarm',\n",
    ")\n",
    "pl * bogota * flight_path * first_rel * second_rel"
   ]
  },
  {
   "cell_type": "code",
   "execution_count": null,
   "metadata": {},
   "outputs": [],
   "source": [
    "dr = xr.open_dataset('/o3p/macc/test/GLM_array_149_05deg/GLM_array_149_16-17_batch_bis.nc')\n",
    "flash_en = dr.num_flash.where(dr.flash_energy > 0)\n",
    "flash_num = dr.num_flash.where(dr.num_flash > 0)\n",
    "\n",
    "pl119 = (flash_en).hvplot.image(\n",
    "    x='longitude', y='latitude',  title='Total flash energy', \n",
    "    xlabel = 'Longitude (°)', ylabel = 'Latitude (°)', clabel = 'Flash energy (J)',\n",
    "    frame_height=350, \n",
    "    projection=ccrs.PlateCarree(), \n",
    "    geo=True, project=False, #global_extent=True,\n",
    "    xlim=(-140, -20), ylim=(-60, 60), \n",
    "    framewise=False, coastline=True, dynamic=True,\n",
    "    cmap='spring'\n",
    "    #cmap='YlOrRd'\n",
    ")\n",
    "pl119 * bogota * flight_path * first_rel * second_rel"
   ]
  },
  {
   "cell_type": "code",
   "execution_count": null,
   "metadata": {},
   "outputs": [],
   "source": [
    "pl * pl119"
   ]
  },
  {
   "cell_type": "code",
   "execution_count": null,
   "metadata": {},
   "outputs": [],
   "source": [
    "da_all_agregated = da.isel(time=slice(120,121)).sum(dim=('height', 'time', 'pointspec'))\n",
    "pl = da_all_agregated.hvplot.image(\n",
    "    x='longitude', y='latitude',  title='t-120h',\n",
    "    xlabel = 'Longitude (°)', ylabel = 'Latitude (°)', clabel = 'Res. Time(s)',\n",
    "    frame_height=350, \n",
    "    projection=ccrs.PlateCarree(), \n",
    "    geo=True, project=False, #global_extent=True,\n",
    "    xlim=(-140, -20), ylim=(-60, 60), \n",
    "    framewise=False, coastline=True, dynamic=True,\n",
    "    cmap='coolwarm',\n",
    ")\n",
    "pl * bogota * flight_path * first_rel * second_rel"
   ]
  },
  {
   "cell_type": "code",
   "execution_count": null,
   "metadata": {},
   "outputs": [],
   "source": [
    "dr = xr.open_dataset('/o3p/macc/test/GLM_array_149_05deg/GLM_array_149_15-16_batch_bis.nc')\n",
    "flash_en = dr.num_flash.where(dr.flash_energy > 0)\n",
    "flash_num = dr.num_flash.where(dr.num_flash > 0)\n",
    "\n",
    "pl120 = (flash_en).hvplot.image(\n",
    "    x='longitude', y='latitude',  title='Total flash energy', \n",
    "    xlabel = 'Longitude (°)', ylabel = 'Latitude (°)', clabel = 'Flash energy (J)',\n",
    "    frame_height=350, \n",
    "    projection=ccrs.PlateCarree(), \n",
    "    geo=True, project=False, #global_extent=True,\n",
    "    xlim=(-140, -20), ylim=(-60, 60), \n",
    "    framewise=False, coastline=True, dynamic=True,\n",
    "    cmap='spring'\n",
    "    #cmap='YlOrRd'\n",
    ")\n",
    "pl120 * bogota * flight_path * first_rel * second_rel"
   ]
  },
  {
   "cell_type": "code",
   "execution_count": null,
   "metadata": {},
   "outputs": [],
   "source": [
    "pl * pl120"
   ]
  },
  {
   "cell_type": "code",
   "execution_count": null,
   "metadata": {},
   "outputs": [],
   "source": [
    "da_all_agregated = da.isel(time=slice(121,122)).sum(dim=('height', 'time', 'pointspec'))\n",
    "pl = da_all_agregated.hvplot.image(\n",
    "    x='longitude', y='latitude',  title='t-121h',\n",
    "    xlabel = 'Longitude (°)', ylabel = 'Latitude (°)', clabel = 'Res. Time(s)',\n",
    "    frame_height=350, \n",
    "    projection=ccrs.PlateCarree(), \n",
    "    geo=True, project=False, #global_extent=True,\n",
    "    xlim=(-140, -20), ylim=(-60, 60), \n",
    "    framewise=False, coastline=True, dynamic=True,\n",
    "    cmap='coolwarm',\n",
    ")\n",
    "pl * bogota * flight_path * first_rel * second_rel"
   ]
  },
  {
   "cell_type": "code",
   "execution_count": null,
   "metadata": {},
   "outputs": [],
   "source": [
    "dr = xr.open_dataset('/o3p/macc/test/GLM_array_149_05deg/GLM_array_149_14-15_batch_bis.nc')\n",
    "flash_en = dr.num_flash.where(dr.flash_energy > 0)\n",
    "flash_num = dr.num_flash.where(dr.num_flash > 0)\n",
    "\n",
    "pl121 = (flash_en).hvplot.image(\n",
    "    x='longitude', y='latitude',  title='Total flash energy', \n",
    "    xlabel = 'Longitude (°)', ylabel = 'Latitude (°)', clabel = 'Flash energy (J)',\n",
    "    frame_height=350, \n",
    "    projection=ccrs.PlateCarree(), \n",
    "    geo=True, project=False, #global_extent=True,\n",
    "    xlim=(-140, -20), ylim=(-60, 60), \n",
    "    framewise=False, coastline=True, dynamic=True,\n",
    "    cmap='spring'\n",
    "    #cmap='YlOrRd'\n",
    ")\n",
    "pl121 * bogota * flight_path * first_rel * second_rel"
   ]
  },
  {
   "cell_type": "code",
   "execution_count": null,
   "metadata": {},
   "outputs": [],
   "source": [
    "pl * pl121"
   ]
  },
  {
   "cell_type": "code",
   "execution_count": null,
   "metadata": {},
   "outputs": [],
   "source": [
    "da_all_agregated = da.isel(time=slice(122,123)).sum(dim=('height', 'time', 'pointspec'))\n",
    "pl = da_all_agregated.hvplot.image(\n",
    "    x='longitude', y='latitude',  title='t-122h',\n",
    "    xlabel = 'Longitude (°)', ylabel = 'Latitude (°)', clabel = 'Res. Time(s)',\n",
    "    frame_height=350, \n",
    "    projection=ccrs.PlateCarree(), \n",
    "    geo=True, project=False, #global_extent=True,\n",
    "    xlim=(-140, -20), ylim=(-60, 60), \n",
    "    framewise=False, coastline=True, dynamic=True,\n",
    "    cmap='coolwarm',\n",
    ")\n",
    "pl * bogota * flight_path * first_rel * second_rel"
   ]
  },
  {
   "cell_type": "code",
   "execution_count": null,
   "metadata": {},
   "outputs": [],
   "source": [
    "dr = xr.open_dataset('/o3p/macc/test/GLM_array_149_05deg/GLM_array_149_13-14_batch_bis.nc')\n",
    "flash_en = dr.num_flash.where(dr.flash_energy > 0)\n",
    "flash_num = dr.num_flash.where(dr.num_flash > 0)\n",
    "\n",
    "pl122 = (flash_en).hvplot.image(\n",
    "    x='longitude', y='latitude',  title='Total flash energy', \n",
    "    xlabel = 'Longitude (°)', ylabel = 'Latitude (°)', clabel = 'Flash energy (J)',\n",
    "    frame_height=350, \n",
    "    projection=ccrs.PlateCarree(), \n",
    "    geo=True, project=False, #global_extent=True,\n",
    "    xlim=(-140, -20), ylim=(-60, 60), \n",
    "    framewise=False, coastline=True, dynamic=True,\n",
    "    cmap='spring'\n",
    "    #cmap='YlOrRd'\n",
    ")\n",
    "pl122 * bogota * flight_path * first_rel * second_rel"
   ]
  },
  {
   "cell_type": "code",
   "execution_count": null,
   "metadata": {},
   "outputs": [],
   "source": [
    "pl * pl122"
   ]
  },
  {
   "cell_type": "code",
   "execution_count": null,
   "metadata": {},
   "outputs": [],
   "source": [
    "da_all_agregated = da.isel(time=slice(123,124)).sum(dim=('height', 'time', 'pointspec'))\n",
    "pl = da_all_agregated.hvplot.image(\n",
    "    x='longitude', y='latitude',  title='t-123h',\n",
    "    xlabel = 'Longitude (°)', ylabel = 'Latitude (°)', clabel = 'Res. Time(s)',\n",
    "    frame_height=350, \n",
    "    projection=ccrs.PlateCarree(), \n",
    "    geo=True, project=False, #global_extent=True,\n",
    "    xlim=(-140, -20), ylim=(-60, 60), \n",
    "    framewise=False, coastline=True, dynamic=True,\n",
    "    cmap='coolwarm',\n",
    ")\n",
    "pl * bogota * flight_path * first_rel * second_rel"
   ]
  },
  {
   "cell_type": "code",
   "execution_count": null,
   "metadata": {},
   "outputs": [],
   "source": [
    "dr = xr.open_dataset('/o3p/macc/test/GLM_array_149_05deg/GLM_array_149_12-13_batch_bis.nc')\n",
    "flash_en = dr.num_flash.where(dr.flash_energy > 0)\n",
    "flash_num = dr.num_flash.where(dr.num_flash > 0)\n",
    "\n",
    "pl123 = (flash_en).hvplot.image(\n",
    "    x='longitude', y='latitude',  title='Total flash energy', \n",
    "    xlabel = 'Longitude (°)', ylabel = 'Latitude (°)', clabel = 'Flash energy (J)',\n",
    "    frame_height=350, \n",
    "    projection=ccrs.PlateCarree(), \n",
    "    geo=True, project=False, #global_extent=True,\n",
    "    xlim=(-140, -20), ylim=(-60, 60), \n",
    "    framewise=False, coastline=True, dynamic=True,\n",
    "    cmap='spring'\n",
    "    #cmap='YlOrRd'\n",
    ")\n",
    "pl123 * bogota * flight_path * first_rel * second_rel"
   ]
  },
  {
   "cell_type": "code",
   "execution_count": null,
   "metadata": {},
   "outputs": [],
   "source": [
    "pl * pl123"
   ]
  },
  {
   "cell_type": "code",
   "execution_count": null,
   "metadata": {},
   "outputs": [],
   "source": [
    "da_all_agregated = da.isel(time=slice(124,125)).sum(dim=('height', 'time', 'pointspec'))\n",
    "pl = da_all_agregated.hvplot.image(\n",
    "    x='longitude', y='latitude',  title='t-124h',\n",
    "    xlabel = 'Longitude (°)', ylabel = 'Latitude (°)', clabel = 'Res. Time(s)',\n",
    "    frame_height=350, \n",
    "    projection=ccrs.PlateCarree(), \n",
    "    geo=True, project=False, #global_extent=True,\n",
    "    xlim=(-140, -20), ylim=(-60, 60), \n",
    "    framewise=False, coastline=True, dynamic=True,\n",
    "    cmap='coolwarm',\n",
    ")\n",
    "pl * bogota * flight_path * first_rel * second_rel"
   ]
  },
  {
   "cell_type": "code",
   "execution_count": null,
   "metadata": {},
   "outputs": [],
   "source": [
    "dr = xr.open_dataset('/o3p/macc/test/GLM_array_149_05deg/GLM_array_149_11-12_batch_bis.nc')\n",
    "flash_en = dr.num_flash.where(dr.flash_energy > 0)\n",
    "flash_num = dr.num_flash.where(dr.num_flash > 0)\n",
    "\n",
    "pl124 = (flash_en).hvplot.image(\n",
    "    x='longitude', y='latitude',  title='Total flash energy', \n",
    "    xlabel = 'Longitude (°)', ylabel = 'Latitude (°)', clabel = 'Flash energy (J)',\n",
    "    frame_height=350, \n",
    "    projection=ccrs.PlateCarree(), \n",
    "    geo=True, project=False, #global_extent=True,\n",
    "    xlim=(-140, -20), ylim=(-60, 60), \n",
    "    framewise=False, coastline=True, dynamic=True,\n",
    "    cmap='spring'\n",
    "    #cmap='YlOrRd'\n",
    ")\n",
    "pl124 * bogota * flight_path * first_rel * second_rel"
   ]
  },
  {
   "cell_type": "code",
   "execution_count": null,
   "metadata": {},
   "outputs": [],
   "source": [
    "pl * pl124"
   ]
  },
  {
   "cell_type": "code",
   "execution_count": null,
   "metadata": {},
   "outputs": [],
   "source": [
    "da_all_agregated = da.isel(time=slice(125,126)).sum(dim=('height', 'time', 'pointspec'))\n",
    "pl = da_all_agregated.hvplot.image(\n",
    "    x='longitude', y='latitude',  title='t-125h',\n",
    "    xlabel = 'Longitude (°)', ylabel = 'Latitude (°)', clabel = 'Res. Time(s)',\n",
    "    frame_height=350, \n",
    "    projection=ccrs.PlateCarree(), \n",
    "    geo=True, project=False, #global_extent=True,\n",
    "    xlim=(-140, -20), ylim=(-60, 60), \n",
    "    framewise=False, coastline=True, dynamic=True,\n",
    "    cmap='coolwarm',\n",
    ")\n",
    "pl * bogota * flight_path * first_rel * second_rel"
   ]
  },
  {
   "cell_type": "code",
   "execution_count": null,
   "metadata": {},
   "outputs": [],
   "source": [
    "dr = xr.open_dataset('/o3p/macc/test/GLM_array_149_05deg/GLM_array_149_10-11_batch_bis.nc')\n",
    "flash_en = dr.num_flash.where(dr.flash_energy > 0)\n",
    "flash_num = dr.num_flash.where(dr.num_flash > 0)\n",
    "\n",
    "pl125 = (flash_en).hvplot.image(\n",
    "    x='longitude', y='latitude',  title='Total flash energy', \n",
    "    xlabel = 'Longitude (°)', ylabel = 'Latitude (°)', clabel = 'Flash energy (J)',\n",
    "    frame_height=350, \n",
    "    projection=ccrs.PlateCarree(), \n",
    "    geo=True, project=False, #global_extent=True,\n",
    "    xlim=(-140, -20), ylim=(-60, 60), \n",
    "    framewise=False, coastline=True, dynamic=True,\n",
    "    cmap='spring'\n",
    "    #cmap='YlOrRd'\n",
    ")\n",
    "pl125 * bogota * flight_path * first_rel * second_rel"
   ]
  },
  {
   "cell_type": "code",
   "execution_count": null,
   "metadata": {},
   "outputs": [],
   "source": [
    "pl * pl125"
   ]
  },
  {
   "cell_type": "code",
   "execution_count": null,
   "metadata": {},
   "outputs": [],
   "source": [
    "da_all_agregated = da.isel(time=slice(126,127)).sum(dim=('height', 'time', 'pointspec'))\n",
    "pl = da_all_agregated.hvplot.image(\n",
    "    x='longitude', y='latitude',  title='t-126h',\n",
    "    xlabel = 'Longitude (°)', ylabel = 'Latitude (°)', clabel = 'Res. Time(s)',\n",
    "    frame_height=350, \n",
    "    projection=ccrs.PlateCarree(), \n",
    "    geo=True, project=False, #global_extent=True,\n",
    "    xlim=(-140, -20), ylim=(-60, 60), \n",
    "    framewise=False, coastline=True, dynamic=True,\n",
    "    cmap='coolwarm',\n",
    ")\n",
    "pl * bogota * flight_path * first_rel * second_rel"
   ]
  },
  {
   "cell_type": "code",
   "execution_count": null,
   "metadata": {},
   "outputs": [],
   "source": [
    "dr = xr.open_dataset('/o3p/macc/test/GLM_array_149_05deg/GLM_array_149_09-10_batch_bis.nc')\n",
    "flash_en = dr.num_flash.where(dr.flash_energy > 0)\n",
    "flash_num = dr.num_flash.where(dr.num_flash > 0)\n",
    "\n",
    "pl126 = (flash_en).hvplot.image(\n",
    "    x='longitude', y='latitude',  title='Total flash energy', \n",
    "    xlabel = 'Longitude (°)', ylabel = 'Latitude (°)', clabel = 'Flash energy (J)',\n",
    "    frame_height=350, \n",
    "    projection=ccrs.PlateCarree(), \n",
    "    geo=True, project=False, #global_extent=True,\n",
    "    xlim=(-140, -20), ylim=(-60, 60), \n",
    "    framewise=False, coastline=True, dynamic=True,\n",
    "    cmap='spring'\n",
    "    #cmap='YlOrRd'\n",
    ")\n",
    "pl126 * bogota * flight_path * first_rel * second_rel"
   ]
  },
  {
   "cell_type": "code",
   "execution_count": null,
   "metadata": {},
   "outputs": [],
   "source": [
    "pl * pl126"
   ]
  },
  {
   "cell_type": "code",
   "execution_count": null,
   "metadata": {},
   "outputs": [],
   "source": [
    "da_all_agregated = da.isel(time=slice(127,128)).sum(dim=('height', 'time', 'pointspec'))\n",
    "pl = da_all_agregated.hvplot.image(\n",
    "    x='longitude', y='latitude',  title='t-127h',\n",
    "    xlabel = 'Longitude (°)', ylabel = 'Latitude (°)', clabel = 'Res. Time(s)',\n",
    "    frame_height=350, \n",
    "    projection=ccrs.PlateCarree(), \n",
    "    geo=True, project=False, #global_extent=True,\n",
    "    xlim=(-140, -20), ylim=(-60, 60), \n",
    "    framewise=False, coastline=True, dynamic=True,\n",
    "    cmap='coolwarm',\n",
    ")\n",
    "pl * bogota * flight_path * first_rel * second_rel"
   ]
  },
  {
   "cell_type": "code",
   "execution_count": null,
   "metadata": {},
   "outputs": [],
   "source": [
    "dr = xr.open_dataset('/o3p/macc/test/GLM_array_149_05deg/GLM_array_149_08-09_batch_bis.nc')\n",
    "flash_en = dr.num_flash.where(dr.flash_energy > 0)\n",
    "flash_num = dr.num_flash.where(dr.num_flash > 0)\n",
    "\n",
    "pl127 = (flash_en).hvplot.image(\n",
    "    x='longitude', y='latitude',  title='Total flash energy', \n",
    "    xlabel = 'Longitude (°)', ylabel = 'Latitude (°)', clabel = 'Flash energy (J)',\n",
    "    frame_height=350, \n",
    "    projection=ccrs.PlateCarree(), \n",
    "    geo=True, project=False, #global_extent=True,\n",
    "    xlim=(-140, -20), ylim=(-60, 60), \n",
    "    framewise=False, coastline=True, dynamic=True,\n",
    "    cmap='spring'\n",
    "    #cmap='YlOrRd'\n",
    ")\n",
    "pl127 * bogota * flight_path * first_rel * second_rel"
   ]
  },
  {
   "cell_type": "code",
   "execution_count": null,
   "metadata": {},
   "outputs": [],
   "source": [
    "pl * pl127"
   ]
  },
  {
   "cell_type": "code",
   "execution_count": null,
   "metadata": {},
   "outputs": [],
   "source": [
    "da_all_agregated = da.isel(time=slice(128,129)).sum(dim=('height', 'time', 'pointspec'))\n",
    "pl = da_all_agregated.hvplot.image(\n",
    "    x='longitude', y='latitude',  title='t-128h',\n",
    "    xlabel = 'Longitude (°)', ylabel = 'Latitude (°)', clabel = 'Res. Time(s)',\n",
    "    frame_height=350, \n",
    "    projection=ccrs.PlateCarree(), \n",
    "    geo=True, project=False, #global_extent=True,\n",
    "    xlim=(-140, -20), ylim=(-60, 60), \n",
    "    framewise=False, coastline=True, dynamic=True,\n",
    "    cmap='coolwarm',\n",
    ")\n",
    "pl * bogota * flight_path * first_rel * second_rel"
   ]
  },
  {
   "cell_type": "code",
   "execution_count": null,
   "metadata": {},
   "outputs": [],
   "source": [
    "dr = xr.open_dataset('/o3p/macc/test/GLM_array_149_05deg/GLM_array_149_07-08_batch_bis.nc')\n",
    "flash_en = dr.num_flash.where(dr.flash_energy > 0)\n",
    "flash_num = dr.num_flash.where(dr.num_flash > 0)\n",
    "\n",
    "pl128 = (flash_en).hvplot.image(\n",
    "    x='longitude', y='latitude',  title='Total flash energy', \n",
    "    xlabel = 'Longitude (°)', ylabel = 'Latitude (°)', clabel = 'Flash energy (J)',\n",
    "    frame_height=350, \n",
    "    projection=ccrs.PlateCarree(), \n",
    "    geo=True, project=False, #global_extent=True,\n",
    "    xlim=(-140, -20), ylim=(-60, 60), \n",
    "    framewise=False, coastline=True, dynamic=True,\n",
    "    cmap='spring'\n",
    "    #cmap='YlOrRd'\n",
    ")\n",
    "pl128 * bogota * flight_path * first_rel * second_rel"
   ]
  },
  {
   "cell_type": "code",
   "execution_count": null,
   "metadata": {},
   "outputs": [],
   "source": [
    "pl * pl128"
   ]
  },
  {
   "cell_type": "code",
   "execution_count": null,
   "metadata": {},
   "outputs": [],
   "source": [
    "da_all_agregated = da.isel(time=slice(129,130)).sum(dim=('height', 'time', 'pointspec'))\n",
    "pl = da_all_agregated.hvplot.image(\n",
    "    x='longitude', y='latitude',  title='t-129h',\n",
    "    xlabel = 'Longitude (°)', ylabel = 'Latitude (°)', clabel = 'Res. Time(s)',\n",
    "    frame_height=350, \n",
    "    projection=ccrs.PlateCarree(), \n",
    "    geo=True, project=False, #global_extent=True,\n",
    "    xlim=(-140, -20), ylim=(-60, 60), \n",
    "    framewise=False, coastline=True, dynamic=True,\n",
    "    cmap='coolwarm',\n",
    ")\n",
    "pl * bogota * flight_path * first_rel * second_rel"
   ]
  },
  {
   "cell_type": "code",
   "execution_count": null,
   "metadata": {},
   "outputs": [],
   "source": [
    "dr = xr.open_dataset('/o3p/macc/test/GLM_array_149_05deg/GLM_array_149_06-07_batch_bis.nc')\n",
    "flash_en = dr.num_flash.where(dr.flash_energy > 0)\n",
    "flash_num = dr.num_flash.where(dr.num_flash > 0)\n",
    "\n",
    "pl129 = (flash_en).hvplot.image(\n",
    "    x='longitude', y='latitude',  title='Total flash energy', \n",
    "    xlabel = 'Longitude (°)', ylabel = 'Latitude (°)', clabel = 'Flash energy (J)',\n",
    "    frame_height=350, \n",
    "    projection=ccrs.PlateCarree(), \n",
    "    geo=True, project=False, #global_extent=True,\n",
    "    xlim=(-140, -20), ylim=(-60, 60), \n",
    "    framewise=False, coastline=True, dynamic=True,\n",
    "    cmap='spring'\n",
    "    #cmap='YlOrRd'\n",
    ")\n",
    "pl129 * bogota * flight_path * first_rel * second_rel"
   ]
  },
  {
   "cell_type": "code",
   "execution_count": null,
   "metadata": {},
   "outputs": [],
   "source": [
    "pl * pl129"
   ]
  },
  {
   "cell_type": "code",
   "execution_count": null,
   "metadata": {},
   "outputs": [],
   "source": [
    "da_all_agregated = da.isel(time=slice(130,131)).sum(dim=('height', 'time', 'pointspec'))\n",
    "pl = da_all_agregated.hvplot.image(\n",
    "    x='longitude', y='latitude',  title='t-130h',\n",
    "    xlabel = 'Longitude (°)', ylabel = 'Latitude (°)', clabel = 'Res. Time(s)',\n",
    "    frame_height=350, \n",
    "    projection=ccrs.PlateCarree(), \n",
    "    geo=True, project=False, #global_extent=True,\n",
    "    xlim=(-140, -20), ylim=(-60, 60), \n",
    "    framewise=False, coastline=True, dynamic=True,\n",
    "    cmap='coolwarm',\n",
    ")\n",
    "pl * bogota * flight_path * first_rel * second_rel"
   ]
  },
  {
   "cell_type": "code",
   "execution_count": null,
   "metadata": {},
   "outputs": [],
   "source": [
    "dr = xr.open_dataset('/o3p/macc/test/GLM_array_149_05deg/GLM_array_149_05-06_batch_bis.nc')\n",
    "flash_en = dr.num_flash.where(dr.flash_energy > 0)\n",
    "flash_num = dr.num_flash.where(dr.num_flash > 0)\n",
    "\n",
    "pl130 = (flash_en).hvplot.image(\n",
    "    x='longitude', y='latitude',  title='Total flash energy', \n",
    "    xlabel = 'Longitude (°)', ylabel = 'Latitude (°)', clabel = 'Flash energy (J)',\n",
    "    frame_height=350, \n",
    "    projection=ccrs.PlateCarree(), \n",
    "    geo=True, project=False, #global_extent=True,\n",
    "    xlim=(-140, -20), ylim=(-60, 60), \n",
    "    framewise=False, coastline=True, dynamic=True,\n",
    "    cmap='spring'\n",
    "    #cmap='YlOrRd'\n",
    ")\n",
    "pl130 * bogota * flight_path * first_rel * second_rel"
   ]
  },
  {
   "cell_type": "code",
   "execution_count": null,
   "metadata": {},
   "outputs": [],
   "source": [
    "pl * pl130"
   ]
  },
  {
   "cell_type": "code",
   "execution_count": null,
   "metadata": {},
   "outputs": [],
   "source": [
    "da_all_agregated = da.isel(time=slice(131,132)).sum(dim=('height', 'time', 'pointspec'))\n",
    "pl = da_all_agregated.hvplot.image(\n",
    "    x='longitude', y='latitude',  title='t-131h',\n",
    "    xlabel = 'Longitude (°)', ylabel = 'Latitude (°)', clabel = 'Res. Time(s)',\n",
    "    frame_height=350, \n",
    "    projection=ccrs.PlateCarree(), \n",
    "    geo=True, project=False, #global_extent=True,\n",
    "    xlim=(-140, -20), ylim=(-60, 60), \n",
    "    framewise=False, coastline=True, dynamic=True,\n",
    "    cmap='coolwarm',\n",
    ")\n",
    "pl * bogota * flight_path * first_rel * second_rel"
   ]
  },
  {
   "cell_type": "code",
   "execution_count": null,
   "metadata": {},
   "outputs": [],
   "source": [
    "dr = xr.open_dataset('/o3p/macc/test/GLM_array_149_05deg/GLM_array_149_04-05_batch_bis.nc')\n",
    "flash_en = dr.num_flash.where(dr.flash_energy > 0)\n",
    "flash_num = dr.num_flash.where(dr.num_flash > 0)\n",
    "\n",
    "pl131 = (flash_en).hvplot.image(\n",
    "    x='longitude', y='latitude',  title='Total flash energy', \n",
    "    xlabel = 'Longitude (°)', ylabel = 'Latitude (°)', clabel = 'Flash energy (J)',\n",
    "    frame_height=350, \n",
    "    projection=ccrs.PlateCarree(), \n",
    "    geo=True, project=False, #global_extent=True,\n",
    "    xlim=(-140, -20), ylim=(-60, 60), \n",
    "    framewise=False, coastline=True, dynamic=True,\n",
    "    cmap='spring'\n",
    "    #cmap='YlOrRd'\n",
    ")\n",
    "pl131 * bogota * flight_path * first_rel * second_rel"
   ]
  },
  {
   "cell_type": "code",
   "execution_count": null,
   "metadata": {},
   "outputs": [],
   "source": [
    "pl * pl131"
   ]
  },
  {
   "cell_type": "code",
   "execution_count": null,
   "metadata": {},
   "outputs": [],
   "source": [
    "da_all_agregated = da.isel(time=slice(132,133)).sum(dim=('height', 'time', 'pointspec'))\n",
    "pl = da_all_agregated.hvplot.image(\n",
    "    x='longitude', y='latitude',  title='t-132h',\n",
    "    xlabel = 'Longitude (°)', ylabel = 'Latitude (°)', clabel = 'Res. Time(s)',\n",
    "    frame_height=350, \n",
    "    projection=ccrs.PlateCarree(), \n",
    "    geo=True, project=False, #global_extent=True,\n",
    "    xlim=(-140, -20), ylim=(-60, 60), \n",
    "    framewise=False, coastline=True, dynamic=True,\n",
    "    cmap='coolwarm',\n",
    ")\n",
    "pl * bogota * flight_path * first_rel * second_rel"
   ]
  },
  {
   "cell_type": "code",
   "execution_count": null,
   "metadata": {},
   "outputs": [],
   "source": [
    "dr = xr.open_dataset('/o3p/macc/test/GLM_array_149_05deg/GLM_array_149_03-04_batch_bis.nc')\n",
    "flash_en = dr.num_flash.where(dr.flash_energy > 0)\n",
    "flash_num = dr.num_flash.where(dr.num_flash > 0)\n",
    "\n",
    "pl132 = (flash_en).hvplot.image(\n",
    "    x='longitude', y='latitude',  title='Total flash energy', \n",
    "    xlabel = 'Longitude (°)', ylabel = 'Latitude (°)', clabel = 'Flash energy (J)',\n",
    "    frame_height=350, \n",
    "    projection=ccrs.PlateCarree(), \n",
    "    geo=True, project=False, #global_extent=True,\n",
    "    xlim=(-140, -20), ylim=(-60, 60), \n",
    "    framewise=False, coastline=True, dynamic=True,\n",
    "    cmap='spring'\n",
    "    #cmap='YlOrRd'\n",
    ")\n",
    "pl132 * bogota * flight_path * first_rel * second_rel"
   ]
  },
  {
   "cell_type": "code",
   "execution_count": null,
   "metadata": {},
   "outputs": [],
   "source": [
    "pl * pl132"
   ]
  },
  {
   "cell_type": "code",
   "execution_count": null,
   "metadata": {},
   "outputs": [],
   "source": [
    "da_all_agregated = da.isel(time=slice(133,134)).sum(dim=('height', 'time', 'pointspec'))\n",
    "pl = da_all_agregated.hvplot.image(\n",
    "    x='longitude', y='latitude',  title='t-133h',\n",
    "    xlabel = 'Longitude (°)', ylabel = 'Latitude (°)', clabel = 'Res. Time(s)',\n",
    "    frame_height=350, \n",
    "    projection=ccrs.PlateCarree(), \n",
    "    geo=True, project=False, #global_extent=True,\n",
    "    xlim=(-140, -20), ylim=(-60, 60), \n",
    "    framewise=False, coastline=True, dynamic=True,\n",
    "    cmap='coolwarm',\n",
    ")\n",
    "pl * bogota * flight_path * first_rel * second_rel"
   ]
  },
  {
   "cell_type": "code",
   "execution_count": null,
   "metadata": {},
   "outputs": [],
   "source": [
    "dr = xr.open_dataset('/o3p/macc/test/GLM_array_149_05deg/GLM_array_149_02-03_batch_bis.nc')\n",
    "flash_en = dr.num_flash.where(dr.flash_energy > 0)\n",
    "flash_num = dr.num_flash.where(dr.num_flash > 0)\n",
    "\n",
    "pl133 = (flash_en).hvplot.image(\n",
    "    x='longitude', y='latitude',  title='Total flash energy', \n",
    "    xlabel = 'Longitude (°)', ylabel = 'Latitude (°)', clabel = 'Flash energy (J)',\n",
    "    frame_height=350, \n",
    "    projection=ccrs.PlateCarree(), \n",
    "    geo=True, project=False, #global_extent=True,\n",
    "    xlim=(-140, -20), ylim=(-60, 60), \n",
    "    framewise=False, coastline=True, dynamic=True,\n",
    "    cmap='spring'\n",
    "    #cmap='YlOrRd'\n",
    ")\n",
    "pl133 * bogota * flight_path * first_rel * second_rel"
   ]
  },
  {
   "cell_type": "code",
   "execution_count": null,
   "metadata": {},
   "outputs": [],
   "source": [
    "pl * pl133"
   ]
  },
  {
   "cell_type": "code",
   "execution_count": null,
   "metadata": {},
   "outputs": [],
   "source": [
    "da_all_agregated = da.isel(time=slice(134,135)).sum(dim=('height', 'time', 'pointspec'))\n",
    "pl = da_all_agregated.hvplot.image(\n",
    "    x='longitude', y='latitude',  title='t-134h',\n",
    "    xlabel = 'Longitude (°)', ylabel = 'Latitude (°)', clabel = 'Res. Time(s)',\n",
    "    frame_height=350, \n",
    "    projection=ccrs.PlateCarree(), \n",
    "    geo=True, project=False, #global_extent=True,\n",
    "    xlim=(-140, -20), ylim=(-60, 60), \n",
    "    framewise=False, coastline=True, dynamic=True,\n",
    "    cmap='coolwarm',\n",
    ")\n",
    "pl * bogota * flight_path * first_rel * second_rel"
   ]
  },
  {
   "cell_type": "code",
   "execution_count": null,
   "metadata": {},
   "outputs": [],
   "source": [
    "dr = xr.open_dataset('/o3p/macc/test/GLM_array_149_05deg/GLM_array_149_01-02_batch_bis.nc')\n",
    "flash_en = dr.num_flash.where(dr.flash_energy > 0)\n",
    "flash_num = dr.num_flash.where(dr.num_flash > 0)\n",
    "\n",
    "pl134 = (flash_en).hvplot.image(\n",
    "    x='longitude', y='latitude',  title='Total flash energy', \n",
    "    xlabel = 'Longitude (°)', ylabel = 'Latitude (°)', clabel = 'Flash energy (J)',\n",
    "    frame_height=350, \n",
    "    projection=ccrs.PlateCarree(), \n",
    "    geo=True, project=False, #global_extent=True,\n",
    "    xlim=(-140, -20), ylim=(-60, 60), \n",
    "    framewise=False, coastline=True, dynamic=True,\n",
    "    cmap='spring'\n",
    "    #cmap='YlOrRd'\n",
    ")\n",
    "pl134 * bogota * flight_path * first_rel * second_rel"
   ]
  },
  {
   "cell_type": "code",
   "execution_count": null,
   "metadata": {},
   "outputs": [],
   "source": [
    "pl * pl134"
   ]
  },
  {
   "cell_type": "code",
   "execution_count": null,
   "metadata": {},
   "outputs": [],
   "source": [
    "da_all_agregated = da.isel(time=slice(135,136)).sum(dim=('height', 'time', 'pointspec'))\n",
    "pl = da_all_agregated.hvplot.image(\n",
    "    x='longitude', y='latitude',  title='t-135h',\n",
    "    xlabel = 'Longitude (°)', ylabel = 'Latitude (°)', clabel = 'Res. Time(s)',\n",
    "    frame_height=350, \n",
    "    projection=ccrs.PlateCarree(), \n",
    "    geo=True, project=False, #global_extent=True,\n",
    "    xlim=(-140, -20), ylim=(-60, 60), \n",
    "    framewise=False, coastline=True, dynamic=True,\n",
    "    cmap='coolwarm',\n",
    ")\n",
    "pl * bogota * flight_path * first_rel * second_rel"
   ]
  },
  {
   "cell_type": "code",
   "execution_count": null,
   "metadata": {},
   "outputs": [],
   "source": [
    "dr = xr.open_dataset('/o3p/macc/test/GLM_array_149_05deg/GLM_array_149_00-01_batch_bis.nc')\n",
    "flash_en = dr.num_flash.where(dr.flash_energy > 0)\n",
    "flash_num = dr.num_flash.where(dr.num_flash > 0)\n",
    "\n",
    "pl135 = (flash_en).hvplot.image(\n",
    "    x='longitude', y='latitude',  title='Total flash energy', \n",
    "    xlabel = 'Longitude (°)', ylabel = 'Latitude (°)', clabel = 'Flash energy (J)',\n",
    "    frame_height=350, \n",
    "    projection=ccrs.PlateCarree(), \n",
    "    geo=True, project=False, #global_extent=True,\n",
    "    xlim=(-140, -20), ylim=(-60, 60), \n",
    "    framewise=False, coastline=True, dynamic=True,\n",
    "    cmap='spring'\n",
    "    #cmap='YlOrRd'\n",
    ")\n",
    "pl135 * bogota * flight_path * first_rel * second_rel"
   ]
  },
  {
   "cell_type": "code",
   "execution_count": null,
   "metadata": {},
   "outputs": [],
   "source": [
    "pl * pl135"
   ]
  },
  {
   "cell_type": "code",
   "execution_count": null,
   "metadata": {},
   "outputs": [],
   "source": [
    "da_all_agregated = da.isel(time=slice(136,137)).sum(dim=('height', 'time', 'pointspec'))\n",
    "pl = da_all_agregated.hvplot.image(\n",
    "    x='longitude', y='latitude',  title='t-136h',\n",
    "    xlabel = 'Longitude (°)', ylabel = 'Latitude (°)', clabel = 'Res. Time(s)',\n",
    "    frame_height=350, \n",
    "    projection=ccrs.PlateCarree(), \n",
    "    geo=True, project=False, #global_extent=True,\n",
    "    xlim=(-140, -20), ylim=(-60, 60), \n",
    "    framewise=False, coastline=True, dynamic=True,\n",
    "    cmap='coolwarm',\n",
    ")\n",
    "pl * bogota * flight_path * first_rel * second_rel"
   ]
  },
  {
   "cell_type": "code",
   "execution_count": null,
   "metadata": {},
   "outputs": [],
   "source": [
    "dr = xr.open_dataset('/o3p/macc/test/GLM_array_148_05deg/GLM_array_148_23-00_batch_bis.nc')\n",
    "flash_en = dr.num_flash.where(dr.flash_energy > 0)\n",
    "flash_num = dr.num_flash.where(dr.num_flash > 0)\n",
    "\n",
    "pl136 = (flash_en).hvplot.image(\n",
    "    x='longitude', y='latitude',  title='Total flash energy', \n",
    "    xlabel = 'Longitude (°)', ylabel = 'Latitude (°)', clabel = 'Flash energy (J)',\n",
    "    frame_height=350, \n",
    "    projection=ccrs.PlateCarree(), \n",
    "    geo=True, project=False, #global_extent=True,\n",
    "    xlim=(-140, -20), ylim=(-60, 60), \n",
    "    framewise=False, coastline=True, dynamic=True,\n",
    "    cmap='spring'\n",
    "    #cmap='YlOrRd'\n",
    ")\n",
    "pl136 * bogota * flight_path * first_rel * second_rel"
   ]
  },
  {
   "cell_type": "code",
   "execution_count": null,
   "metadata": {},
   "outputs": [],
   "source": [
    "pl * pl136"
   ]
  },
  {
   "cell_type": "code",
   "execution_count": null,
   "metadata": {},
   "outputs": [],
   "source": [
    "da_all_agregated = da.isel(time=slice(137,138)).sum(dim=('height', 'time', 'pointspec'))\n",
    "pl = da_all_agregated.hvplot.image(\n",
    "    x='longitude', y='latitude',  title='t-137h',\n",
    "    xlabel = 'Longitude (°)', ylabel = 'Latitude (°)', clabel = 'Res. Time(s)',\n",
    "    frame_height=350, \n",
    "    projection=ccrs.PlateCarree(), \n",
    "    geo=True, project=False, #global_extent=True,\n",
    "    xlim=(-140, -20), ylim=(-60, 60), \n",
    "    framewise=False, coastline=True, dynamic=True,\n",
    "    cmap='coolwarm',\n",
    ")\n",
    "pl * bogota * flight_path * first_rel * second_rel"
   ]
  },
  {
   "cell_type": "code",
   "execution_count": null,
   "metadata": {},
   "outputs": [],
   "source": [
    "dr = xr.open_dataset('/o3p/macc/test/GLM_array_148_05deg/GLM_array_148_22-23_batch_bis.nc')\n",
    "flash_en = dr.num_flash.where(dr.flash_energy > 0)\n",
    "flash_num = dr.num_flash.where(dr.num_flash > 0)\n",
    "\n",
    "pl137 = (flash_en).hvplot.image(\n",
    "    x='longitude', y='latitude',  title='Total flash energy', \n",
    "    xlabel = 'Longitude (°)', ylabel = 'Latitude (°)', clabel = 'Flash energy (J)',\n",
    "    frame_height=350, \n",
    "    projection=ccrs.PlateCarree(), \n",
    "    geo=True, project=False, #global_extent=True,\n",
    "    xlim=(-140, -20), ylim=(-60, 60), \n",
    "    framewise=False, coastline=True, dynamic=True,\n",
    "    cmap='spring'\n",
    "    #cmap='YlOrRd'\n",
    ")\n",
    "pl137 * bogota * flight_path * first_rel * second_rel"
   ]
  },
  {
   "cell_type": "code",
   "execution_count": null,
   "metadata": {},
   "outputs": [],
   "source": [
    "pl * pl137"
   ]
  },
  {
   "cell_type": "code",
   "execution_count": null,
   "metadata": {},
   "outputs": [],
   "source": [
    "da_all_agregated = da.isel(time=slice(138,139)).sum(dim=('height', 'time', 'pointspec'))\n",
    "pl = da_all_agregated.hvplot.image(\n",
    "    x='longitude', y='latitude',  title='t-138h',\n",
    "    xlabel = 'Longitude (°)', ylabel = 'Latitude (°)', clabel = 'Res. Time(s)',\n",
    "    frame_height=350, \n",
    "    projection=ccrs.PlateCarree(), \n",
    "    geo=True, project=False, #global_extent=True,\n",
    "    xlim=(-140, -20), ylim=(-60, 60), \n",
    "    framewise=False, coastline=True, dynamic=True,\n",
    "    cmap='coolwarm',\n",
    ")\n",
    "pl * bogota * flight_path * first_rel * second_rel"
   ]
  },
  {
   "cell_type": "code",
   "execution_count": null,
   "metadata": {},
   "outputs": [],
   "source": [
    "dr = xr.open_dataset('/o3p/macc/test/GLM_array_148_05deg/GLM_array_148_21-22_batch_bis.nc')\n",
    "flash_en = dr.num_flash.where(dr.flash_energy > 0)\n",
    "flash_num = dr.num_flash.where(dr.num_flash > 0)\n",
    "\n",
    "pl138 = (flash_en).hvplot.image(\n",
    "    x='longitude', y='latitude',  title='Total flash energy', \n",
    "    xlabel = 'Longitude (°)', ylabel = 'Latitude (°)', clabel = 'Flash energy (J)',\n",
    "    frame_height=350, \n",
    "    projection=ccrs.PlateCarree(), \n",
    "    geo=True, project=False, #global_extent=True,\n",
    "    xlim=(-140, -20), ylim=(-60, 60), \n",
    "    framewise=False, coastline=True, dynamic=True,\n",
    "    cmap='spring'\n",
    "    #cmap='YlOrRd'\n",
    ")\n",
    "pl138 * bogota * flight_path * first_rel * second_rel"
   ]
  },
  {
   "cell_type": "code",
   "execution_count": null,
   "metadata": {},
   "outputs": [],
   "source": [
    "pl * pl138"
   ]
  },
  {
   "cell_type": "code",
   "execution_count": null,
   "metadata": {},
   "outputs": [],
   "source": [
    "da_all_agregated = da.isel(time=slice(139,140)).sum(dim=('height', 'time', 'pointspec'))\n",
    "pl = da_all_agregated.hvplot.image(\n",
    "    x='longitude', y='latitude',  title='t-139h',\n",
    "    xlabel = 'Longitude (°)', ylabel = 'Latitude (°)', clabel = 'Res. Time(s)',\n",
    "    frame_height=350, \n",
    "    projection=ccrs.PlateCarree(), \n",
    "    geo=True, project=False, #global_extent=True,\n",
    "    xlim=(-140, -20), ylim=(-60, 60), \n",
    "    framewise=False, coastline=True, dynamic=True,\n",
    "    cmap='coolwarm',\n",
    ")\n",
    "pl * bogota * flight_path * first_rel * second_rel"
   ]
  },
  {
   "cell_type": "code",
   "execution_count": null,
   "metadata": {},
   "outputs": [],
   "source": [
    "dr = xr.open_dataset('/o3p/macc/test/GLM_array_148_05deg/GLM_array_148_20-21_batch_bis.nc')\n",
    "flash_en = dr.num_flash.where(dr.flash_energy > 0)\n",
    "flash_num = dr.num_flash.where(dr.num_flash > 0)\n",
    "\n",
    "pl139 = (flash_en).hvplot.image(\n",
    "    x='longitude', y='latitude',  title='Total flash energy', \n",
    "    xlabel = 'Longitude (°)', ylabel = 'Latitude (°)', clabel = 'Flash energy (J)',\n",
    "    frame_height=350, \n",
    "    projection=ccrs.PlateCarree(), \n",
    "    geo=True, project=False, #global_extent=True,\n",
    "    xlim=(-140, -20), ylim=(-60, 60), \n",
    "    framewise=False, coastline=True, dynamic=True,\n",
    "    cmap='spring'\n",
    "    #cmap='YlOrRd'\n",
    ")\n",
    "pl139 * bogota * flight_path * first_rel * second_rel"
   ]
  },
  {
   "cell_type": "code",
   "execution_count": null,
   "metadata": {},
   "outputs": [],
   "source": [
    "pl * pl139"
   ]
  },
  {
   "cell_type": "code",
   "execution_count": null,
   "metadata": {},
   "outputs": [],
   "source": [
    "da_all_agregated = da.isel(time=slice(140,141)).sum(dim=('height', 'time', 'pointspec'))\n",
    "pl = da_all_agregated.hvplot.image(\n",
    "    x='longitude', y='latitude',  title='t-140h',\n",
    "    xlabel = 'Longitude (°)', ylabel = 'Latitude (°)', clabel = 'Res. Time(s)',\n",
    "    frame_height=350, \n",
    "    projection=ccrs.PlateCarree(), \n",
    "    geo=True, project=False, #global_extent=True,\n",
    "    xlim=(-140, -20), ylim=(-60, 60), \n",
    "    framewise=False, coastline=True, dynamic=True,\n",
    "    cmap='coolwarm',\n",
    ")\n",
    "pl * bogota * flight_path * first_rel * second_rel"
   ]
  },
  {
   "cell_type": "code",
   "execution_count": null,
   "metadata": {},
   "outputs": [],
   "source": [
    "dr = xr.open_dataset('/o3p/macc/test/GLM_array_148_05deg/GLM_array_148_19-20_batch_bis.nc')\n",
    "flash_en = dr.num_flash.where(dr.flash_energy > 0)\n",
    "flash_num = dr.num_flash.where(dr.num_flash > 0)\n",
    "\n",
    "pl140 = (flash_en).hvplot.image(\n",
    "    x='longitude', y='latitude',  title='Total flash energy', \n",
    "    xlabel = 'Longitude (°)', ylabel = 'Latitude (°)', clabel = 'Flash energy (J)',\n",
    "    frame_height=350, \n",
    "    projection=ccrs.PlateCarree(), \n",
    "    geo=True, project=False, #global_extent=True,\n",
    "    xlim=(-140, -20), ylim=(-60, 60), \n",
    "    framewise=False, coastline=True, dynamic=True,\n",
    "    cmap='spring'\n",
    "    #cmap='YlOrRd'\n",
    ")\n",
    "pl140 * bogota * flight_path * first_rel * second_rel"
   ]
  },
  {
   "cell_type": "code",
   "execution_count": null,
   "metadata": {},
   "outputs": [],
   "source": [
    "pl * pl140"
   ]
  },
  {
   "cell_type": "code",
   "execution_count": null,
   "metadata": {},
   "outputs": [],
   "source": [
    "da_all_agregated = da.isel(time=slice(141,142)).sum(dim=('height', 'time', 'pointspec'))\n",
    "pl = da_all_agregated.hvplot.image(\n",
    "    x='longitude', y='latitude',  title='t-141h',\n",
    "    xlabel = 'Longitude (°)', ylabel = 'Latitude (°)', clabel = 'Res. Time(s)',\n",
    "    frame_height=350, \n",
    "    projection=ccrs.PlateCarree(), \n",
    "    geo=True, project=False, #global_extent=True,\n",
    "    xlim=(-140, -20), ylim=(-60, 60), \n",
    "    framewise=False, coastline=True, dynamic=True,\n",
    "    cmap='coolwarm',\n",
    ")\n",
    "pl * bogota * flight_path * first_rel * second_rel"
   ]
  },
  {
   "cell_type": "code",
   "execution_count": null,
   "metadata": {},
   "outputs": [],
   "source": [
    "dr = xr.open_dataset('/o3p/macc/test/GLM_array_148_05deg/GLM_array_148_18-19_batch_bis.nc')\n",
    "flash_en = dr.num_flash.where(dr.flash_energy > 0)\n",
    "flash_num = dr.num_flash.where(dr.num_flash > 0)\n",
    "\n",
    "pl141 = (flash_en).hvplot.image(\n",
    "    x='longitude', y='latitude',  title='Total flash energy', \n",
    "    xlabel = 'Longitude (°)', ylabel = 'Latitude (°)', clabel = 'Flash energy (J)',\n",
    "    frame_height=350, \n",
    "    projection=ccrs.PlateCarree(), \n",
    "    geo=True, project=False, #global_extent=True,\n",
    "    xlim=(-140, -20), ylim=(-60, 60), \n",
    "    framewise=False, coastline=True, dynamic=True,\n",
    "    cmap='spring'\n",
    "    #cmap='YlOrRd'\n",
    ")\n",
    "pl141 * bogota * flight_path * first_rel * second_rel"
   ]
  },
  {
   "cell_type": "code",
   "execution_count": null,
   "metadata": {},
   "outputs": [],
   "source": [
    "pl * pl141"
   ]
  },
  {
   "cell_type": "code",
   "execution_count": null,
   "metadata": {},
   "outputs": [],
   "source": [
    "da_all_agregated = da.isel(time=slice(142,143)).sum(dim=('height', 'time', 'pointspec'))\n",
    "pl = da_all_agregated.hvplot.image(\n",
    "    x='longitude', y='latitude',  title='t-142h',\n",
    "    xlabel = 'Longitude (°)', ylabel = 'Latitude (°)', clabel = 'Res. Time(s)',\n",
    "    frame_height=350, \n",
    "    projection=ccrs.PlateCarree(), \n",
    "    geo=True, project=False, #global_extent=True,\n",
    "    xlim=(-140, -20), ylim=(-60, 60), \n",
    "    framewise=False, coastline=True, dynamic=True,\n",
    "    cmap='coolwarm',\n",
    ")\n",
    "pl * bogota * flight_path * first_rel * second_rel"
   ]
  },
  {
   "cell_type": "code",
   "execution_count": null,
   "metadata": {},
   "outputs": [],
   "source": [
    "dr = xr.open_dataset('/o3p/macc/test/GLM_array_148_05deg/GLM_array_148_17-18_batch_bis.nc')\n",
    "flash_en = dr.num_flash.where(dr.flash_energy > 0)\n",
    "flash_num = dr.num_flash.where(dr.num_flash > 0)\n",
    "\n",
    "pl142 = (flash_en).hvplot.image(\n",
    "    x='longitude', y='latitude',  title='Total flash energy', \n",
    "    xlabel = 'Longitude (°)', ylabel = 'Latitude (°)', clabel = 'Flash energy (J)',\n",
    "    frame_height=350, \n",
    "    projection=ccrs.PlateCarree(), \n",
    "    geo=True, project=False, #global_extent=True,\n",
    "    xlim=(-140, -20), ylim=(-60, 60), \n",
    "    framewise=False, coastline=True, dynamic=True,\n",
    "    cmap='spring'\n",
    "    #cmap='YlOrRd'\n",
    ")\n",
    "pl142 * bogota * flight_path * first_rel * second_rel"
   ]
  },
  {
   "cell_type": "code",
   "execution_count": null,
   "metadata": {},
   "outputs": [],
   "source": [
    "pl * pl142"
   ]
  },
  {
   "cell_type": "code",
   "execution_count": null,
   "metadata": {},
   "outputs": [],
   "source": [
    "da_all_agregated = da.isel(time=slice(143,144)).sum(dim=('height', 'time', 'pointspec'))\n",
    "pl = da_all_agregated.hvplot.image(\n",
    "    x='longitude', y='latitude',  title='t-143h',\n",
    "    xlabel = 'Longitude (°)', ylabel = 'Latitude (°)', clabel = 'Res. Time(s)',\n",
    "    frame_height=350, \n",
    "    projection=ccrs.PlateCarree(), \n",
    "    geo=True, project=False, #global_extent=True,\n",
    "    xlim=(-140, -20), ylim=(-60, 60), \n",
    "    framewise=False, coastline=True, dynamic=True,\n",
    "    cmap='coolwarm',\n",
    ")\n",
    "pl * bogota * flight_path * first_rel * second_rel"
   ]
  },
  {
   "cell_type": "code",
   "execution_count": null,
   "metadata": {},
   "outputs": [],
   "source": [
    "dr = xr.open_dataset('/o3p/macc/test/GLM_array_148_05deg/GLM_array_148_16-17_batch_bis.nc')\n",
    "flash_en = dr.num_flash.where(dr.flash_energy > 0)\n",
    "flash_num = dr.num_flash.where(dr.num_flash > 0)\n",
    "\n",
    "pl143 = (flash_en).hvplot.image(\n",
    "    x='longitude', y='latitude',  title='Total flash energy', \n",
    "    xlabel = 'Longitude (°)', ylabel = 'Latitude (°)', clabel = 'Flash energy (J)',\n",
    "    frame_height=350, \n",
    "    projection=ccrs.PlateCarree(), \n",
    "    geo=True, project=False, #global_extent=True,\n",
    "    xlim=(-140, -20), ylim=(-60, 60), \n",
    "    framewise=False, coastline=True, dynamic=True,\n",
    "    cmap='spring'\n",
    "    #cmap='YlOrRd'\n",
    ")\n",
    "pl143 * bogota * flight_path * first_rel * second_rel"
   ]
  },
  {
   "cell_type": "code",
   "execution_count": null,
   "metadata": {},
   "outputs": [],
   "source": [
    "pl * pl143"
   ]
  },
  {
   "cell_type": "code",
   "execution_count": null,
   "metadata": {},
   "outputs": [],
   "source": [
    "da_all_agregated = da.isel(time=slice(144,145)).sum(dim=('height', 'time', 'pointspec'))\n",
    "pl = da_all_agregated.hvplot.image(\n",
    "    x='longitude', y='latitude',  title='t-144h',\n",
    "    xlabel = 'Longitude (°)', ylabel = 'Latitude (°)', clabel = 'Res. Time(s)',\n",
    "    frame_height=350, \n",
    "    projection=ccrs.PlateCarree(), \n",
    "    geo=True, project=False, #global_extent=True,\n",
    "    xlim=(-140, -20), ylim=(-60, 60), \n",
    "    framewise=False, coastline=True, dynamic=True,\n",
    "    cmap='coolwarm',\n",
    ")\n",
    "pl * bogota * flight_path * first_rel * second_rel"
   ]
  },
  {
   "cell_type": "code",
   "execution_count": null,
   "metadata": {},
   "outputs": [],
   "source": [
    "dr = xr.open_dataset('/o3p/macc/test/GLM_array_148_05deg/GLM_array_148_15-16_batch_bis.nc')\n",
    "flash_en = dr.num_flash.where(dr.flash_energy > 0)\n",
    "flash_num = dr.num_flash.where(dr.num_flash > 0)\n",
    "\n",
    "pl144 = (flash_en).hvplot.image(\n",
    "    x='longitude', y='latitude',  title='Total flash energy', \n",
    "    xlabel = 'Longitude (°)', ylabel = 'Latitude (°)', clabel = 'Flash energy (J)',\n",
    "    frame_height=350, \n",
    "    projection=ccrs.PlateCarree(), \n",
    "    geo=True, project=False, #global_extent=True,\n",
    "    xlim=(-140, -20), ylim=(-60, 60), \n",
    "    framewise=False, coastline=True, dynamic=True,\n",
    "    cmap='spring'\n",
    "    #cmap='YlOrRd'\n",
    ")\n",
    "pl144 * bogota * flight_path * first_rel * second_rel"
   ]
  },
  {
   "cell_type": "code",
   "execution_count": null,
   "metadata": {},
   "outputs": [],
   "source": [
    "pl * pl144"
   ]
  },
  {
   "cell_type": "code",
   "execution_count": null,
   "metadata": {},
   "outputs": [],
   "source": [
    "da_all_agregated = da.isel(time=slice(145,146)).sum(dim=('height', 'time', 'pointspec'))\n",
    "pl = da_all_agregated.hvplot.image(\n",
    "    x='longitude', y='latitude',  title='t-145h',\n",
    "    xlabel = 'Longitude (°)', ylabel = 'Latitude (°)', clabel = 'Res. Time(s)',\n",
    "    frame_height=350, \n",
    "    projection=ccrs.PlateCarree(), \n",
    "    geo=True, project=False, #global_extent=True,\n",
    "    xlim=(-140, -20), ylim=(-60, 60), \n",
    "    framewise=False, coastline=True, dynamic=True,\n",
    "    cmap='coolwarm',\n",
    ")\n",
    "pl * bogota * flight_path * first_rel * second_rel"
   ]
  },
  {
   "cell_type": "code",
   "execution_count": null,
   "metadata": {},
   "outputs": [],
   "source": [
    "dr = xr.open_dataset('/o3p/macc/test/GLM_array_148_05deg/GLM_array_148_14-15_batch_bis.nc')\n",
    "flash_en = dr.num_flash.where(dr.flash_energy > 0)\n",
    "flash_num = dr.num_flash.where(dr.num_flash > 0)\n",
    "\n",
    "pl145 = (flash_en).hvplot.image(\n",
    "    x='longitude', y='latitude',  title='Total flash energy', \n",
    "    xlabel = 'Longitude (°)', ylabel = 'Latitude (°)', clabel = 'Flash energy (J)',\n",
    "    frame_height=350, \n",
    "    projection=ccrs.PlateCarree(), \n",
    "    geo=True, project=False, #global_extent=True,\n",
    "    xlim=(-140, -20), ylim=(-60, 60), \n",
    "    framewise=False, coastline=True, dynamic=True,\n",
    "    cmap='spring'\n",
    "    #cmap='YlOrRd'\n",
    ")\n",
    "pl145 * bogota * flight_path * first_rel * second_rel"
   ]
  },
  {
   "cell_type": "code",
   "execution_count": null,
   "metadata": {},
   "outputs": [],
   "source": [
    "pl * pl145"
   ]
  },
  {
   "cell_type": "code",
   "execution_count": null,
   "metadata": {},
   "outputs": [],
   "source": [
    "da_all_agregated = da.isel(time=slice(146,147)).sum(dim=('height', 'time', 'pointspec'))\n",
    "pl = da_all_agregated.hvplot.image(\n",
    "    x='longitude', y='latitude',  title='t-146h',\n",
    "    xlabel = 'Longitude (°)', ylabel = 'Latitude (°)', clabel = 'Res. Time(s)',\n",
    "    frame_height=350, \n",
    "    projection=ccrs.PlateCarree(), \n",
    "    geo=True, project=False, #global_extent=True,\n",
    "    xlim=(-140, -20), ylim=(-60, 60), \n",
    "    framewise=False, coastline=True, dynamic=True,\n",
    "    cmap='coolwarm',\n",
    ")\n",
    "pl * bogota * flight_path * first_rel * second_rel"
   ]
  },
  {
   "cell_type": "code",
   "execution_count": null,
   "metadata": {},
   "outputs": [],
   "source": [
    "dr = xr.open_dataset('/o3p/macc/test/GLM_array_148_05deg/GLM_array_148_13-14_batch_bis.nc')\n",
    "flash_en = dr.num_flash.where(dr.flash_energy > 0)\n",
    "flash_num = dr.num_flash.where(dr.num_flash > 0)\n",
    "\n",
    "pl146 = (flash_en).hvplot.image(\n",
    "    x='longitude', y='latitude',  title='Total flash energy', \n",
    "    xlabel = 'Longitude (°)', ylabel = 'Latitude (°)', clabel = 'Flash energy (J)',\n",
    "    frame_height=350, \n",
    "    projection=ccrs.PlateCarree(), \n",
    "    geo=True, project=False, #global_extent=True,\n",
    "    xlim=(-140, -20), ylim=(-60, 60), \n",
    "    framewise=False, coastline=True, dynamic=True,\n",
    "    cmap='spring'\n",
    "    #cmap='YlOrRd'\n",
    ")\n",
    "pl146 * bogota * flight_path * first_rel * second_rel"
   ]
  },
  {
   "cell_type": "code",
   "execution_count": null,
   "metadata": {},
   "outputs": [],
   "source": [
    "pl * pl146"
   ]
  },
  {
   "cell_type": "code",
   "execution_count": null,
   "metadata": {},
   "outputs": [],
   "source": [
    "da_all_agregated = da.isel(time=slice(147,148)).sum(dim=('height', 'time', 'pointspec'))\n",
    "pl = da_all_agregated.hvplot.image(\n",
    "    x='longitude', y='latitude',  title='t-147h',\n",
    "    xlabel = 'Longitude (°)', ylabel = 'Latitude (°)', clabel = 'Res. Time(s)',\n",
    "    frame_height=350, \n",
    "    projection=ccrs.PlateCarree(), \n",
    "    geo=True, project=False, #global_extent=True,\n",
    "    xlim=(-140, -20), ylim=(-60, 60), \n",
    "    framewise=False, coastline=True, dynamic=True,\n",
    "    cmap='coolwarm',\n",
    ")\n",
    "pl * bogota * flight_path * first_rel * second_rel"
   ]
  },
  {
   "cell_type": "code",
   "execution_count": null,
   "metadata": {},
   "outputs": [],
   "source": [
    "dr = xr.open_dataset('/o3p/macc/test/GLM_array_148_05deg/GLM_array_148_12-13_batch_bis.nc')\n",
    "flash_en = dr.num_flash.where(dr.flash_energy > 0)\n",
    "flash_num = dr.num_flash.where(dr.num_flash > 0)\n",
    "\n",
    "pl147 = (flash_en).hvplot.image(\n",
    "    x='longitude', y='latitude',  title='Total flash energy', \n",
    "    xlabel = 'Longitude (°)', ylabel = 'Latitude (°)', clabel = 'Flash energy (J)',\n",
    "    frame_height=350, \n",
    "    projection=ccrs.PlateCarree(), \n",
    "    geo=True, project=False, #global_extent=True,\n",
    "    xlim=(-140, -20), ylim=(-60, 60), \n",
    "    framewise=False, coastline=True, dynamic=True,\n",
    "    cmap='spring'\n",
    "    #cmap='YlOrRd'\n",
    ")\n",
    "pl147 * bogota * flight_path * first_rel * second_rel"
   ]
  },
  {
   "cell_type": "code",
   "execution_count": null,
   "metadata": {},
   "outputs": [],
   "source": [
    "pl * pl147"
   ]
  },
  {
   "cell_type": "code",
   "execution_count": null,
   "metadata": {},
   "outputs": [],
   "source": [
    "da_all_agregated = da.isel(time=slice(148,149)).sum(dim=('height', 'time', 'pointspec'))\n",
    "pl = da_all_agregated.hvplot.image(\n",
    "    x='longitude', y='latitude',  title='t-148h',\n",
    "    xlabel = 'Longitude (°)', ylabel = 'Latitude (°)', clabel = 'Res. Time(s)',\n",
    "    frame_height=350, \n",
    "    projection=ccrs.PlateCarree(), \n",
    "    geo=True, project=False, #global_extent=True,\n",
    "    xlim=(-140, -20), ylim=(-60, 60), \n",
    "    framewise=False, coastline=True, dynamic=True,\n",
    "    cmap='coolwarm',\n",
    ")\n",
    "pl * bogota * flight_path * first_rel * second_rel"
   ]
  },
  {
   "cell_type": "code",
   "execution_count": null,
   "metadata": {},
   "outputs": [],
   "source": [
    "dr = xr.open_dataset('/o3p/macc/test/GLM_array_148_05deg/GLM_array_148_11-12_batch_bis.nc')\n",
    "flash_en = dr.num_flash.where(dr.flash_energy > 0)\n",
    "flash_num = dr.num_flash.where(dr.num_flash > 0)\n",
    "\n",
    "pl148 = (flash_en).hvplot.image(\n",
    "    x='longitude', y='latitude',  title='Total flash energy', \n",
    "    xlabel = 'Longitude (°)', ylabel = 'Latitude (°)', clabel = 'Flash energy (J)',\n",
    "    frame_height=350, \n",
    "    projection=ccrs.PlateCarree(), \n",
    "    geo=True, project=False, #global_extent=True,\n",
    "    xlim=(-140, -20), ylim=(-60, 60), \n",
    "    framewise=False, coastline=True, dynamic=True,\n",
    "    cmap='spring'\n",
    "    #cmap='YlOrRd'\n",
    ")\n",
    "pl148 * bogota * flight_path * first_rel * second_rel"
   ]
  },
  {
   "cell_type": "code",
   "execution_count": null,
   "metadata": {},
   "outputs": [],
   "source": [
    "pl * pl148"
   ]
  },
  {
   "cell_type": "code",
   "execution_count": null,
   "metadata": {},
   "outputs": [],
   "source": [
    "da_all_agregated = da.isel(time=slice(149,150)).sum(dim=('height', 'time', 'pointspec'))\n",
    "pl = da_all_agregated.hvplot.image(\n",
    "    x='longitude', y='latitude',  title='t-149h',\n",
    "    xlabel = 'Longitude (°)', ylabel = 'Latitude (°)', clabel = 'Res. Time(s)',\n",
    "    frame_height=350, \n",
    "    projection=ccrs.PlateCarree(), \n",
    "    geo=True, project=False, #global_extent=True,\n",
    "    xlim=(-140, -20), ylim=(-60, 60), \n",
    "    framewise=False, coastline=True, dynamic=True,\n",
    "    cmap='coolwarm',\n",
    ")\n",
    "pl * bogota * flight_path * first_rel * second_rel"
   ]
  },
  {
   "cell_type": "code",
   "execution_count": null,
   "metadata": {},
   "outputs": [],
   "source": [
    "dr = xr.open_dataset('/o3p/macc/test/GLM_array_148_05deg/GLM_array_148_10-11_batch_bis.nc')\n",
    "flash_en = dr.num_flash.where(dr.flash_energy > 0)\n",
    "flash_num = dr.num_flash.where(dr.num_flash > 0)\n",
    "\n",
    "pl149 = (flash_en).hvplot.image(\n",
    "    x='longitude', y='latitude',  title='Total flash energy', \n",
    "    xlabel = 'Longitude (°)', ylabel = 'Latitude (°)', clabel = 'Flash energy (J)',\n",
    "    frame_height=350, \n",
    "    projection=ccrs.PlateCarree(), \n",
    "    geo=True, project=False, #global_extent=True,\n",
    "    xlim=(-140, -20), ylim=(-60, 60), \n",
    "    framewise=False, coastline=True, dynamic=True,\n",
    "    cmap='spring'\n",
    "    #cmap='YlOrRd'\n",
    ")\n",
    "pl149 * bogota * flight_path * first_rel * second_rel"
   ]
  },
  {
   "cell_type": "code",
   "execution_count": null,
   "metadata": {},
   "outputs": [],
   "source": [
    "pl * pl149"
   ]
  },
  {
   "cell_type": "code",
   "execution_count": null,
   "metadata": {},
   "outputs": [],
   "source": [
    "da_all_agregated = da.isel(time=slice(150,151)).sum(dim=('height', 'time', 'pointspec'))\n",
    "pl = da_all_agregated.hvplot.image(\n",
    "    x='longitude', y='latitude',  title='t-150h',\n",
    "    xlabel = 'Longitude (°)', ylabel = 'Latitude (°)', clabel = 'Res. Time(s)',\n",
    "    frame_height=350, \n",
    "    projection=ccrs.PlateCarree(), \n",
    "    geo=True, project=False, #global_extent=True,\n",
    "    xlim=(-140, -20), ylim=(-60, 60), \n",
    "    framewise=False, coastline=True, dynamic=True,\n",
    "    cmap='coolwarm',\n",
    ")\n",
    "pl * bogota * flight_path * first_rel * second_rel"
   ]
  },
  {
   "cell_type": "code",
   "execution_count": null,
   "metadata": {},
   "outputs": [],
   "source": [
    "dr = xr.open_dataset('/o3p/macc/test/GLM_array_148_05deg/GLM_array_148_09-10_batch_bis.nc')\n",
    "flash_en = dr.num_flash.where(dr.flash_energy > 0)\n",
    "flash_num = dr.num_flash.where(dr.num_flash > 0)\n",
    "\n",
    "pl150 = (flash_en).hvplot.image(\n",
    "    x='longitude', y='latitude',  title='Total flash energy', \n",
    "    xlabel = 'Longitude (°)', ylabel = 'Latitude (°)', clabel = 'Flash energy (J)',\n",
    "    frame_height=350, \n",
    "    projection=ccrs.PlateCarree(), \n",
    "    geo=True, project=False, #global_extent=True,\n",
    "    xlim=(-140, -20), ylim=(-60, 60), \n",
    "    framewise=False, coastline=True, dynamic=True,\n",
    "    cmap='spring'\n",
    "    #cmap='YlOrRd'\n",
    ")\n",
    "pl150 * bogota * flight_path * first_rel * second_rel"
   ]
  },
  {
   "cell_type": "code",
   "execution_count": null,
   "metadata": {},
   "outputs": [],
   "source": [
    "pl * pl150"
   ]
  },
  {
   "cell_type": "code",
   "execution_count": null,
   "metadata": {},
   "outputs": [],
   "source": [
    "da_all_agregated = da.isel(time=slice(151,152)).sum(dim=('height', 'time', 'pointspec'))\n",
    "pl = da_all_agregated.hvplot.image(\n",
    "    x='longitude', y='latitude',  title='t-151h',\n",
    "    xlabel = 'Longitude (°)', ylabel = 'Latitude (°)', clabel = 'Res. Time(s)',\n",
    "    frame_height=350, \n",
    "    projection=ccrs.PlateCarree(), \n",
    "    geo=True, project=False, #global_extent=True,\n",
    "    xlim=(-140, -20), ylim=(-60, 60), \n",
    "    framewise=False, coastline=True, dynamic=True,\n",
    "    cmap='coolwarm',\n",
    ")\n",
    "pl * bogota * flight_path * first_rel * second_rel"
   ]
  },
  {
   "cell_type": "code",
   "execution_count": null,
   "metadata": {},
   "outputs": [],
   "source": [
    "dr = xr.open_dataset('/o3p/macc/test/GLM_array_148_05deg/GLM_array_148_08-09_batch_bis.nc')\n",
    "flash_en = dr.num_flash.where(dr.flash_energy > 0)\n",
    "flash_num = dr.num_flash.where(dr.num_flash > 0)\n",
    "\n",
    "pl151 = (flash_en).hvplot.image(\n",
    "    x='longitude', y='latitude',  title='Total flash energy', \n",
    "    xlabel = 'Longitude (°)', ylabel = 'Latitude (°)', clabel = 'Flash energy (J)',\n",
    "    frame_height=350, \n",
    "    projection=ccrs.PlateCarree(), \n",
    "    geo=True, project=False, #global_extent=True,\n",
    "    xlim=(-140, -20), ylim=(-60, 60), \n",
    "    framewise=False, coastline=True, dynamic=True,\n",
    "    cmap='spring'\n",
    "    #cmap='YlOrRd'\n",
    ")\n",
    "pl151 * bogota * flight_path * first_rel * second_rel"
   ]
  },
  {
   "cell_type": "code",
   "execution_count": null,
   "metadata": {},
   "outputs": [],
   "source": [
    "pl * pl151"
   ]
  },
  {
   "cell_type": "code",
   "execution_count": null,
   "metadata": {},
   "outputs": [],
   "source": [
    "da_all_agregated = da.isel(time=slice(152,153)).sum(dim=('height', 'time', 'pointspec'))\n",
    "pl = da_all_agregated.hvplot.image(\n",
    "    x='longitude', y='latitude',  title='t-152h',\n",
    "    xlabel = 'Longitude (°)', ylabel = 'Latitude (°)', clabel = 'Res. Time(s)',\n",
    "    frame_height=350, \n",
    "    projection=ccrs.PlateCarree(), \n",
    "    geo=True, project=False, #global_extent=True,\n",
    "    xlim=(-140, -20), ylim=(-60, 60), \n",
    "    framewise=False, coastline=True, dynamic=True,\n",
    "    cmap='coolwarm',\n",
    ")\n",
    "pl * bogota * flight_path * first_rel * second_rel"
   ]
  },
  {
   "cell_type": "code",
   "execution_count": null,
   "metadata": {},
   "outputs": [],
   "source": [
    "dr = xr.open_dataset('/o3p/macc/test/GLM_array_148_05deg/GLM_array_148_07-08_batch_bis.nc')\n",
    "flash_en = dr.num_flash.where(dr.flash_energy > 0)\n",
    "flash_num = dr.num_flash.where(dr.num_flash > 0)\n",
    "\n",
    "pl152 = (flash_en).hvplot.image(\n",
    "    x='longitude', y='latitude',  title='Total flash energy', \n",
    "    xlabel = 'Longitude (°)', ylabel = 'Latitude (°)', clabel = 'Flash energy (J)',\n",
    "    frame_height=350, \n",
    "    projection=ccrs.PlateCarree(), \n",
    "    geo=True, project=False, #global_extent=True,\n",
    "    xlim=(-140, -20), ylim=(-60, 60), \n",
    "    framewise=False, coastline=True, dynamic=True,\n",
    "    cmap='spring'\n",
    "    #cmap='YlOrRd'\n",
    ")\n",
    "pl152 * bogota * flight_path * first_rel * second_rel"
   ]
  },
  {
   "cell_type": "code",
   "execution_count": null,
   "metadata": {},
   "outputs": [],
   "source": [
    "pl * pl152"
   ]
  },
  {
   "cell_type": "code",
   "execution_count": null,
   "metadata": {},
   "outputs": [],
   "source": [
    "da_all_agregated = da.isel(time=slice(153,154)).sum(dim=('height', 'time', 'pointspec'))\n",
    "pl = da_all_agregated.hvplot.image(\n",
    "    x='longitude', y='latitude',  title='t-153h',\n",
    "    xlabel = 'Longitude (°)', ylabel = 'Latitude (°)', clabel = 'Res. Time(s)',\n",
    "    frame_height=350, \n",
    "    projection=ccrs.PlateCarree(), \n",
    "    geo=True, project=False, #global_extent=True,\n",
    "    xlim=(-140, -20), ylim=(-60, 60), \n",
    "    framewise=False, coastline=True, dynamic=True,\n",
    "    cmap='coolwarm',\n",
    ")\n",
    "pl * bogota * flight_path * first_rel * second_rel"
   ]
  },
  {
   "cell_type": "code",
   "execution_count": null,
   "metadata": {},
   "outputs": [],
   "source": [
    "dr = xr.open_dataset('/o3p/macc/test/GLM_array_148_05deg/GLM_array_148_06-07_batch_bis.nc')\n",
    "flash_en = dr.num_flash.where(dr.flash_energy > 0)\n",
    "flash_num = dr.num_flash.where(dr.num_flash > 0)\n",
    "\n",
    "pl153 = (flash_en).hvplot.image(\n",
    "    x='longitude', y='latitude',  title='Total flash energy', \n",
    "    xlabel = 'Longitude (°)', ylabel = 'Latitude (°)', clabel = 'Flash energy (J)',\n",
    "    frame_height=350, \n",
    "    projection=ccrs.PlateCarree(), \n",
    "    geo=True, project=False, #global_extent=True,\n",
    "    xlim=(-140, -20), ylim=(-60, 60), \n",
    "    framewise=False, coastline=True, dynamic=True,\n",
    "    cmap='spring'\n",
    "    #cmap='YlOrRd'\n",
    ")\n",
    "pl153 * bogota * flight_path * first_rel * second_rel"
   ]
  },
  {
   "cell_type": "code",
   "execution_count": null,
   "metadata": {},
   "outputs": [],
   "source": [
    "pl * pl153"
   ]
  },
  {
   "cell_type": "code",
   "execution_count": null,
   "metadata": {},
   "outputs": [],
   "source": [
    "da_all_agregated = da.isel(time=slice(154,155)).sum(dim=('height', 'time', 'pointspec'))\n",
    "pl = da_all_agregated.hvplot.image(\n",
    "    x='longitude', y='latitude',  title='t-154h',\n",
    "    xlabel = 'Longitude (°)', ylabel = 'Latitude (°)', clabel = 'Res. Time(s)',\n",
    "    frame_height=350, \n",
    "    projection=ccrs.PlateCarree(), \n",
    "    geo=True, project=False, #global_extent=True,\n",
    "    xlim=(-140, -20), ylim=(-60, 60), \n",
    "    framewise=False, coastline=True, dynamic=True,\n",
    "    cmap='coolwarm',\n",
    ")\n",
    "pl * bogota * flight_path * first_rel * second_rel"
   ]
  },
  {
   "cell_type": "code",
   "execution_count": null,
   "metadata": {},
   "outputs": [],
   "source": [
    "dr = xr.open_dataset('/o3p/macc/test/GLM_array_148_05deg/GLM_array_148_05-06_batch_bis.nc')\n",
    "flash_en = dr.num_flash.where(dr.flash_energy > 0)\n",
    "flash_num = dr.num_flash.where(dr.num_flash > 0)\n",
    "\n",
    "pl154 = (flash_en).hvplot.image(\n",
    "    x='longitude', y='latitude',  title='Total flash energy', \n",
    "    xlabel = 'Longitude (°)', ylabel = 'Latitude (°)', clabel = 'Flash energy (J)',\n",
    "    frame_height=350, \n",
    "    projection=ccrs.PlateCarree(), \n",
    "    geo=True, project=False, #global_extent=True,\n",
    "    xlim=(-140, -20), ylim=(-60, 60), \n",
    "    framewise=False, coastline=True, dynamic=True,\n",
    "    cmap='spring'\n",
    "    #cmap='YlOrRd'\n",
    ")\n",
    "pl154 * bogota * flight_path * first_rel * second_rel"
   ]
  },
  {
   "cell_type": "code",
   "execution_count": null,
   "metadata": {},
   "outputs": [],
   "source": [
    "pl * pl154"
   ]
  },
  {
   "cell_type": "code",
   "execution_count": null,
   "metadata": {},
   "outputs": [],
   "source": [
    "da_all_agregated = da.isel(time=slice(155,156)).sum(dim=('height', 'time', 'pointspec'))\n",
    "pl = da_all_agregated.hvplot.image(\n",
    "    x='longitude', y='latitude',  title='t-155h',\n",
    "    xlabel = 'Longitude (°)', ylabel = 'Latitude (°)', clabel = 'Res. Time(s)',\n",
    "    frame_height=350, \n",
    "    projection=ccrs.PlateCarree(), \n",
    "    geo=True, project=False, #global_extent=True,\n",
    "    xlim=(-140, -20), ylim=(-60, 60), \n",
    "    framewise=False, coastline=True, dynamic=True,\n",
    "    cmap='coolwarm',\n",
    ")\n",
    "pl * bogota * flight_path * first_rel * second_rel"
   ]
  },
  {
   "cell_type": "code",
   "execution_count": null,
   "metadata": {},
   "outputs": [],
   "source": [
    "dr = xr.open_dataset('/o3p/macc/test/GLM_array_148_05deg/GLM_array_148_04-05_batch_bis.nc')\n",
    "flash_en = dr.num_flash.where(dr.flash_energy > 0)\n",
    "flash_num = dr.num_flash.where(dr.num_flash > 0)\n",
    "\n",
    "pl155 = (flash_en).hvplot.image(\n",
    "    x='longitude', y='latitude',  title='Total flash energy', \n",
    "    xlabel = 'Longitude (°)', ylabel = 'Latitude (°)', clabel = 'Flash energy (J)',\n",
    "    frame_height=350, \n",
    "    projection=ccrs.PlateCarree(), \n",
    "    geo=True, project=False, #global_extent=True,\n",
    "    xlim=(-140, -20), ylim=(-60, 60), \n",
    "    framewise=False, coastline=True, dynamic=True,\n",
    "    cmap='spring'\n",
    "    #cmap='YlOrRd'\n",
    ")\n",
    "pl155 * bogota * flight_path * first_rel * second_rel"
   ]
  },
  {
   "cell_type": "code",
   "execution_count": null,
   "metadata": {},
   "outputs": [],
   "source": [
    "pl * pl155"
   ]
  },
  {
   "cell_type": "code",
   "execution_count": null,
   "metadata": {},
   "outputs": [],
   "source": [
    "da_all_agregated = da.isel(time=slice(156,157)).sum(dim=('height', 'time', 'pointspec'))\n",
    "pl = da_all_agregated.hvplot.image(\n",
    "    x='longitude', y='latitude',  title='t-156h',\n",
    "    xlabel = 'Longitude (°)', ylabel = 'Latitude (°)', clabel = 'Res. Time(s)',\n",
    "    frame_height=350, \n",
    "    projection=ccrs.PlateCarree(), \n",
    "    geo=True, project=False, #global_extent=True,\n",
    "    xlim=(-140, -20), ylim=(-60, 60), \n",
    "    framewise=False, coastline=True, dynamic=True,\n",
    "    cmap='coolwarm',\n",
    ")\n",
    "pl * bogota * flight_path * first_rel * second_rel"
   ]
  },
  {
   "cell_type": "code",
   "execution_count": null,
   "metadata": {},
   "outputs": [],
   "source": [
    "dr = xr.open_dataset('/o3p/macc/test/GLM_array_148_05deg/GLM_array_148_03-04_batch_bis.nc')\n",
    "flash_en = dr.num_flash.where(dr.flash_energy > 0)\n",
    "flash_num = dr.num_flash.where(dr.num_flash > 0)\n",
    "\n",
    "pl156 = (flash_en).hvplot.image(\n",
    "    x='longitude', y='latitude',  title='Total flash energy', \n",
    "    xlabel = 'Longitude (°)', ylabel = 'Latitude (°)', clabel = 'Flash energy (J)',\n",
    "    frame_height=350, \n",
    "    projection=ccrs.PlateCarree(), \n",
    "    geo=True, project=False, #global_extent=True,\n",
    "    xlim=(-140, -20), ylim=(-60, 60), \n",
    "    framewise=False, coastline=True, dynamic=True,\n",
    "    cmap='spring'\n",
    "    #cmap='YlOrRd'\n",
    ")\n",
    "pl156 * bogota * flight_path * first_rel * second_rel"
   ]
  },
  {
   "cell_type": "code",
   "execution_count": null,
   "metadata": {},
   "outputs": [],
   "source": [
    "pl * pl156"
   ]
  },
  {
   "cell_type": "code",
   "execution_count": null,
   "metadata": {},
   "outputs": [],
   "source": []
  },
  {
   "cell_type": "code",
   "execution_count": null,
   "metadata": {},
   "outputs": [],
   "source": []
  },
  {
   "cell_type": "code",
   "execution_count": null,
   "metadata": {},
   "outputs": [],
   "source": []
  },
  {
   "cell_type": "code",
   "execution_count": null,
   "metadata": {},
   "outputs": [],
   "source": [
    "da_all_agregated = da.isel(time=slice(11,33)).sum(dim=('height', 'time', 'pointspec'))\n",
    "pl = da_all_agregated.hvplot.image(\n",
    "    x='longitude', y='latitude',  title='Max residence time t-11 --> -33h all altitudes',\n",
    "    xlabel = 'Longitude (°)', ylabel = 'Latitude (°)', clabel = 'Max Residence Time (s)',\n",
    "    frame_height=350, \n",
    "    projection=ccrs.PlateCarree(), \n",
    "    geo=True, project=False, #global_extent=True,\n",
    "    xlim=(-140, -20), ylim=(-60, 60), \n",
    "    framewise=False, coastline=True, dynamic=True,\n",
    "    cmap='coolwarm',\n",
    ")\n",
    "pl"
   ]
  },
  {
   "cell_type": "code",
   "execution_count": null,
   "metadata": {},
   "outputs": [],
   "source": []
  },
  {
   "cell_type": "code",
   "execution_count": null,
   "metadata": {},
   "outputs": [],
   "source": [
    "pl * pl11 * pl12 * pl13 * pl14 * pl15 * pl16 * pl17 * pl18 * pl19 * pl20 * pl21 * pl22 * pl23 * pl24 * pl25 * pl26 * pl27 * pl28 * pl29 * pl30 * pl31 * pl32"
   ]
  },
  {
   "cell_type": "code",
   "execution_count": null,
   "metadata": {},
   "outputs": [],
   "source": []
  },
  {
   "cell_type": "code",
   "execution_count": null,
   "metadata": {},
   "outputs": [],
   "source": []
  },
  {
   "cell_type": "code",
   "execution_count": null,
   "metadata": {},
   "outputs": [],
   "source": []
  },
  {
   "cell_type": "code",
   "execution_count": null,
   "metadata": {},
   "outputs": [],
   "source": [
    "da_all_agregated = da.isel(time=slice(34,48)).sum(dim=('height', 'time', 'pointspec'))\n",
    "pl = da_all_agregated.hvplot.image(\n",
    "    x='longitude', y='latitude',  title='Max residence time t-34 --> -48h all altitudes',\n",
    "    xlabel = 'Longitude (°)', ylabel = 'Latitude (°)', clabel = 'Max Residence Time (s)',\n",
    "    frame_height=350, \n",
    "    projection=ccrs.PlateCarree(), \n",
    "    geo=True, project=False, #global_extent=True,\n",
    "    xlim=(-140, -20), ylim=(-60, 60), \n",
    "    framewise=False, coastline=True, dynamic=True,\n",
    "    cmap='coolwarm',\n",
    ")\n",
    "pl"
   ]
  },
  {
   "cell_type": "code",
   "execution_count": null,
   "metadata": {},
   "outputs": [],
   "source": [
    "pl * pl34 * pl35 * pl36 * pl37 * pl38 * pl39 * pl40 * pl41 * pl42 * pl43 * pl44 * pl46 * pl47 * pl48"
   ]
  },
  {
   "cell_type": "code",
   "execution_count": null,
   "metadata": {},
   "outputs": [],
   "source": [
    "da_all_agregated = da.isel(time=slice(49,60)).sum(dim=('height', 'time', 'pointspec'))\n",
    "pl = da_all_agregated.hvplot.image(\n",
    "    x='longitude', y='latitude',  title='Max residence time t-49 --> -60h all altitudes',\n",
    "    xlabel = 'Longitude (°)', ylabel = 'Latitude (°)', clabel = 'Max Residence Time (s)',\n",
    "    frame_height=350, \n",
    "    projection=ccrs.PlateCarree(), \n",
    "    geo=True, project=False, #global_extent=True,\n",
    "    xlim=(-140, -20), ylim=(-60, 60), \n",
    "    framewise=False, coastline=True, dynamic=True,\n",
    "    cmap='coolwarm',\n",
    ")\n",
    "pl"
   ]
  },
  {
   "cell_type": "code",
   "execution_count": null,
   "metadata": {},
   "outputs": [],
   "source": [
    "pl * pl49 * pl50 * pl51 * pl52 * pl53 * pl54 * pl55 * pl56 * pl57 * pl58 * pl59 * pl60 "
   ]
  },
  {
   "cell_type": "code",
   "execution_count": null,
   "metadata": {},
   "outputs": [],
   "source": [
    "da_all_agregated = da.isel(time=slice(61,72)).sum(dim=('height', 'time', 'pointspec'))\n",
    "pl = da_all_agregated.hvplot.image(\n",
    "    x='longitude', y='latitude',  title='Max residence time t-61 --> -72h all altitudes',\n",
    "    xlabel = 'Longitude (°)', ylabel = 'Latitude (°)', clabel = 'Max Residence Time (s)',\n",
    "    frame_height=350, \n",
    "    projection=ccrs.PlateCarree(), \n",
    "    geo=True, project=False, #global_extent=True,\n",
    "    xlim=(-140, -20), ylim=(-60, 60), \n",
    "    framewise=False, coastline=True, dynamic=True,\n",
    "    cmap='coolwarm',\n",
    ")\n",
    "pl"
   ]
  },
  {
   "cell_type": "code",
   "execution_count": null,
   "metadata": {},
   "outputs": [],
   "source": [
    "pl * pl61 * pl62 * pl63 * pl64 * pl65 * pl66 * pl67 * pl68  * pl70 * pl71 * pl72"
   ]
  },
  {
   "cell_type": "code",
   "execution_count": null,
   "metadata": {},
   "outputs": [],
   "source": [
    "da_all_agregated = da.isel(time=slice(72,84)).sum(dim=('height', 'time', 'pointspec'))\n",
    "pl = da_all_agregated.hvplot.image(\n",
    "    x='longitude', y='latitude',  title='Max residence time t-72 --> -84h all altitudes',\n",
    "    xlabel = 'Longitude (°)', ylabel = 'Latitude (°)', clabel = 'Max Residence Time (s)',\n",
    "    frame_height=350, \n",
    "    projection=ccrs.PlateCarree(), \n",
    "    geo=True, project=False, #global_extent=True,\n",
    "    xlim=(-140, -20), ylim=(-60, 60), \n",
    "    framewise=False, coastline=True, dynamic=True,\n",
    "    cmap='coolwarm',\n",
    ")\n",
    "pl"
   ]
  },
  {
   "cell_type": "code",
   "execution_count": null,
   "metadata": {},
   "outputs": [],
   "source": [
    "pl * pl72 * pl72 * pl74 * pl75 * pl76 * pl77 * pl78 * pl79  * pl80 * pl81 * pl82 * pl83 * pl84"
   ]
  },
  {
   "cell_type": "code",
   "execution_count": null,
   "metadata": {},
   "outputs": [],
   "source": [
    "da_all_agregated = da.isel(time=slice(84,96)).sum(dim=('height', 'time', 'pointspec'))\n",
    "pl = da_all_agregated.hvplot.image(\n",
    "    x='longitude', y='latitude',  title='Max residence time t-84 --> -96h all altitudes',\n",
    "    xlabel = 'Longitude (°)', ylabel = 'Latitude (°)', clabel = 'Max Residence Time (s)',\n",
    "    frame_height=350, \n",
    "    projection=ccrs.PlateCarree(), \n",
    "    geo=True, project=False, #global_extent=True,\n",
    "    xlim=(-140, -20), ylim=(-60, 60), \n",
    "    framewise=False, coastline=True, dynamic=True,\n",
    "    cmap='coolwarm',\n",
    ")\n",
    "pl"
   ]
  },
  {
   "cell_type": "code",
   "execution_count": null,
   "metadata": {},
   "outputs": [],
   "source": [
    "pl * pl84 * pl85 * pl86 * pl87 * pl88 * pl89 * pl90 * pl94 * pl95 * pl96"
   ]
  },
  {
   "cell_type": "code",
   "execution_count": null,
   "metadata": {},
   "outputs": [],
   "source": [
    "da_all_agregated = da.isel(time=slice(96,108)).sum(dim=('height', 'time', 'pointspec'))\n",
    "pl = da_all_agregated.hvplot.image(\n",
    "    x='longitude', y='latitude',  title='Max residence time t-96 --> -108h all altitudes',\n",
    "    xlabel = 'Longitude (°)', ylabel = 'Latitude (°)', clabel = 'Max Residence Time (s)',\n",
    "    frame_height=350, \n",
    "    projection=ccrs.PlateCarree(), \n",
    "    geo=True, project=False, #global_extent=True,\n",
    "    xlim=(-140, -20), ylim=(-60, 60), \n",
    "    framewise=False, coastline=True, dynamic=True,\n",
    "    cmap='coolwarm',\n",
    ")\n",
    "pl"
   ]
  },
  {
   "cell_type": "code",
   "execution_count": null,
   "metadata": {},
   "outputs": [],
   "source": [
    "pl * pl96 * pl97 * pl98 * pl99 * pl100 * pl101 * pl102 * pl103 * pl104 * pl105 * pl106 * pl107 * pl108"
   ]
  },
  {
   "cell_type": "code",
   "execution_count": null,
   "metadata": {},
   "outputs": [],
   "source": [
    "da_all_agregated = da.isel(time=slice(108,120)).sum(dim=('height', 'time', 'pointspec'))\n",
    "pl = da_all_agregated.hvplot.image(\n",
    "    x='longitude', y='latitude',  title='Max residence time t-108 --> -120h all altitudes',\n",
    "    xlabel = 'Longitude (°)', ylabel = 'Latitude (°)', clabel = 'Max Residence Time (s)',\n",
    "    frame_height=350, \n",
    "    projection=ccrs.PlateCarree(), \n",
    "    geo=True, project=False, #global_extent=True,\n",
    "    xlim=(-140, -20), ylim=(-60, 60), \n",
    "    framewise=False, coastline=True, dynamic=True,\n",
    "    cmap='coolwarm',\n",
    ")\n",
    "pl"
   ]
  },
  {
   "cell_type": "code",
   "execution_count": null,
   "metadata": {},
   "outputs": [],
   "source": [
    "pl * pl108 * pl109 * pl110 * pl111 * pl112 * pl113 * pl114 * pl115 * pl116 * pl117 * pl118 * pl119 * pl120"
   ]
  },
  {
   "cell_type": "code",
   "execution_count": null,
   "metadata": {},
   "outputs": [],
   "source": [
    "da_all_agregated = da.isel(time=slice(120,132)).sum(dim=('height', 'time', 'pointspec'))\n",
    "pl = da_all_agregated.hvplot.image(\n",
    "    x='longitude', y='latitude',  title='Max residence time t-120 --> -132h all altitudes',\n",
    "    xlabel = 'Longitude (°)', ylabel = 'Latitude (°)', clabel = 'Max Residence Time (s)',\n",
    "    frame_height=350, \n",
    "    projection=ccrs.PlateCarree(), \n",
    "    geo=True, project=False, #global_extent=True,\n",
    "    xlim=(-140, -20), ylim=(-60, 60), \n",
    "    framewise=False, coastline=True, dynamic=True,\n",
    "    cmap='coolwarm',\n",
    ")\n",
    "pl"
   ]
  },
  {
   "cell_type": "code",
   "execution_count": null,
   "metadata": {},
   "outputs": [],
   "source": [
    "pl * pl120 * pl121 * pl122 * pl123 * pl124 * pl125 * pl126 * pl127 * pl128 * pl129 * pl130 * pl131 * pl132"
   ]
  },
  {
   "cell_type": "code",
   "execution_count": null,
   "metadata": {},
   "outputs": [],
   "source": [
    "da_all_agregated = da.isel(time=slice(132,144)).sum(dim=('height', 'time', 'pointspec'))\n",
    "pl = da_all_agregated.hvplot.image(\n",
    "    x='longitude', y='latitude',  title='Max residence time t-132 --> -144h all altitudes',\n",
    "    xlabel = 'Longitude (°)', ylabel = 'Latitude (°)', clabel = 'Max Residence Time (s)',\n",
    "    frame_height=350, \n",
    "    projection=ccrs.PlateCarree(), \n",
    "    geo=True, project=False, #global_extent=True,\n",
    "    xlim=(-140, -20), ylim=(-60, 60), \n",
    "    framewise=False, coastline=True, dynamic=True,\n",
    "    cmap='coolwarm',\n",
    ")\n",
    "pl"
   ]
  },
  {
   "cell_type": "code",
   "execution_count": null,
   "metadata": {},
   "outputs": [],
   "source": [
    "pl * pl132 * pl133 * pl134 * pl135 * pl136 * pl137 * pl138 * pl139 * pl140 * pl141 * pl142 * pl143 * pl144"
   ]
  },
  {
   "cell_type": "code",
   "execution_count": null,
   "metadata": {},
   "outputs": [],
   "source": [
    "da_all_agregated = da.isel(time=slice(144,156)).sum(dim=('height', 'time', 'pointspec'))\n",
    "pl = da_all_agregated.hvplot.image(\n",
    "    x='longitude', y='latitude',  title='Max residence time t-144 --> -156h all altitudes',\n",
    "    xlabel = 'Longitude (°)', ylabel = 'Latitude (°)', clabel = 'Max Residence Time (s)',\n",
    "    frame_height=350, \n",
    "    projection=ccrs.PlateCarree(), \n",
    "    geo=True, project=False, #global_extent=True,\n",
    "    xlim=(-140, -20), ylim=(-60, 60), \n",
    "    framewise=False, coastline=True, dynamic=True,\n",
    "    cmap='coolwarm',\n",
    ")\n",
    "pl"
   ]
  },
  {
   "cell_type": "code",
   "execution_count": null,
   "metadata": {},
   "outputs": [],
   "source": [
    "pl * pl144 * pl145 * pl146 * pl147 * pl148 * pl149 * pl150 #* pl151 * pl152 * pl153 * pl154 * pl155 * pl156"
   ]
  },
  {
   "cell_type": "code",
   "execution_count": null,
   "metadata": {},
   "outputs": [],
   "source": [
    "pl * pl144 * pl145 * pl146 * pl147 * pl148 * pl149 * pl150 * pl151 * pl152 * pl153 * pl154 * pl155 * pl156"
   ]
  },
  {
   "cell_type": "code",
   "execution_count": null,
   "metadata": {},
   "outputs": [],
   "source": []
  },
  {
   "cell_type": "code",
   "execution_count": null,
   "metadata": {},
   "outputs": [],
   "source": [
    "# comparison flash/group 1°, 1h"
   ]
  },
  {
   "cell_type": "code",
   "execution_count": null,
   "metadata": {},
   "outputs": [],
   "source": [
    "dr = xr.open_dataset('/o3p/macc/test/GLM_array_148/GLM_array_148_04-05_batch_bis.nc')\n",
    "flash_en = dr.num_flash.where(dr.flash_energy > 0)\n",
    "flash_num = dr.num_flash.where(dr.num_flash > 0)\n",
    "\n",
    "pl155 = (flash_en).hvplot.image(\n",
    "    x='longitude', y='latitude',  title='Total flash energy', \n",
    "    xlabel = 'Longitude (°)', ylabel = 'Latitude (°)', clabel = 'Flash energy (J)',\n",
    "    frame_height=350, \n",
    "    projection=ccrs.PlateCarree(), \n",
    "    geo=True, project=False, #global_extent=True,\n",
    "    xlim=(-140, -20), ylim=(-60, 60), \n",
    "    framewise=False, coastline=True, dynamic=True,\n",
    "    cmap='spring'\n",
    "    #cmap='YlOrRd'\n",
    ")\n",
    "pl155 * bogota * flight_path * first_rel * second_rel"
   ]
  },
  {
   "cell_type": "code",
   "execution_count": null,
   "metadata": {},
   "outputs": [],
   "source": [
    "dr = xr.open_dataset('/o3p/macc/test/GLM_array_148_group/GLM_array_148_04-05_batch_bis.nc')\n",
    "group_en = dr.num_group.where(dr.group_energy > 0)\n",
    "group_num = dr.num_group.where(dr.num_group > 0)\n",
    "\n",
    "pl155g = (group_en).hvplot.image(\n",
    "    x='longitude', y='latitude',  title='Total group energy', \n",
    "    xlabel = 'Longitude (°)', ylabel = 'Latitude (°)', clabel = 'Group energy (J)',\n",
    "    frame_height=350, \n",
    "    projection=ccrs.PlateCarree(), \n",
    "    geo=True, project=False, #global_extent=True,\n",
    "    xlim=(-140, -20), ylim=(-60, 60), \n",
    "    framewise=False, coastline=True, dynamic=True,\n",
    "    cmap='ocean'\n",
    "    #cmap='YlOrRd'\n",
    ")\n",
    "pl155g * bogota * flight_path * first_rel * second_rel"
   ]
  },
  {
   "cell_type": "code",
   "execution_count": null,
   "metadata": {},
   "outputs": [],
   "source": [
    "pl155 + pl155g "
   ]
  },
  {
   "cell_type": "code",
   "execution_count": null,
   "metadata": {},
   "outputs": [],
   "source": [
    "pl155 * pl155g "
   ]
  },
  {
   "cell_type": "code",
   "execution_count": null,
   "metadata": {},
   "outputs": [],
   "source": [
    "pl155g * pl155 "
   ]
  },
  {
   "cell_type": "code",
   "execution_count": null,
   "metadata": {},
   "outputs": [],
   "source": []
  }
 ],
 "metadata": {
  "kernelspec": {
   "display_name": "Python 3 (ipykernel)",
   "language": "python",
   "name": "python3"
  },
  "language_info": {
   "codemirror_mode": {
    "name": "ipython",
    "version": 3
   },
   "file_extension": ".py",
   "mimetype": "text/x-python",
   "name": "python",
   "nbconvert_exporter": "python",
   "pygments_lexer": "ipython3",
   "version": "3.10.11"
  }
 },
 "nbformat": 4,
 "nbformat_minor": 4
}
