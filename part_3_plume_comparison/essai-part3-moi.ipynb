{
 "cells": [
  {
   "cell_type": "code",
   "execution_count": 2,
   "id": "31f7fc58-8834-4697-a3f1-06bc4d77827e",
   "metadata": {
    "jupyter": {
     "source_hidden": true
    },
    "tags": []
   },
   "outputs": [],
   "source": [
    "\"\"\" Essai partie 3 \"automatisée\" par moi en récupérant des trucs d'un peu partout\n",
    "Etapes principales:\n",
    "1- check_FP_output_loc (ou truc appelé différemment) pour regarder dans quelle(s) zone(s) géo se trouvent les résultats FP\n",
    "<!> SI intéressant quand spec001_mr > max(spec001_mr)/2 --> <!!> PAS spec001_mr, c'est aggrégation de spec001_mr sur height et time par ex\n",
    "    2- trouver les zones d'intérets (spec001_mr > max(spec001_mr)/2) dans le FP output\n",
    "    3- récup les données GLM, ABI etc. qui correspondent à ces zones et moments d'intérêts\n",
    "    4- regarde si correspondance entre FP output et les données satellite + réseau au sol etc.\n",
    "    <!> SI correspondance entre FP et données éclairs\n",
    "    5- récup les informations d'intérêt (infos chimiques et électriques)\n",
    "    6- (plus tard) flag les vols et tout pour la db IAGOS (mais on verra plus tard pour ça)\n",
    "\n",
    "-?- Remarques:\n",
    "- est-ce qu'on garderait pas juste les infos intéressantes (max rt) dans un nouv nc au lieu de faire argmax etc. tout le temps dans chq nouveau nb ?\n",
    "    \n",
    "En cours en ce moment:\n",
    "- refonte de check_FP_output\n",
    "\"\"\";"
   ]
  },
  {
   "cell_type": "code",
   "execution_count": null,
   "id": "c6ac3121-fa9c-4525-bbb6-01adff205534",
   "metadata": {
    "jupyter": {
     "source_hidden": true
    },
    "tags": []
   },
   "outputs": [],
   "source": [
    "\"\"\"\n",
    "Check_FP_output goal: find which geographical area is covered by max residence time in FP output to determine which satallite data etc. should be used\n",
    "NON 1- Get the extreme lon and lat for each geographical area and CONVERT IT to FP grid\n",
    "NON 2- (???) Add extra column to FP output nc with geographical area indicator (like GEO_REGIONS in soft-io ?) for max res time values \n",
    "1- Open netcdf\n",
    "2- Recup argmax lon-lat\n",
    "3- regarder dans quelle zone géo ça se trouve\n",
    "    --> how ? regarder les min et les max des lat et des lon ?\n",
    "        --> si chevauche deux zones on récup les données des deux zones du coup j'imagine ?\n",
    "    --> connaître les zones de couverture des satellites\n",
    "    --> OBJ = savoir quelles données de satellites aller récupérer \n",
    "        --> doit savoir quel satellite couvre quelle zone\n",
    "        --> trouver un moyen pas trop dégueu de déterminer quelles zones couvertes par les temps de res max FP\n",
    "    \n",
    "PS: pour ce qui est du spec001_mr > max/2 est-ce que j'en ai besoin ou pas?\n",
    "    --> si utilise ici peut permettre de réduire la zone géographique où on veut récup des données satellites (mais est-ce que utile?)\n",
    "    --> si utilise ailleurs --> comme aggregated over time and height, how can I use it to OOOOH maybe using argmax ?\n",
    "        --> add time to list of dim over which finding argmax ?? or maybe just put time and not lon lat ? JSP \n",
    "\"\"\";"
   ]
  },
  {
   "cell_type": "code",
   "execution_count": 1,
   "id": "cb1a4030-c4ec-430c-876a-b48413c796a9",
   "metadata": {},
   "outputs": [],
   "source": [
    "# imports\n",
    "from pathlib import Path\n",
    "import xarray as xr\n",
    "import fpout\n",
    "import xarray_extras as xrx"
   ]
  },
  {
   "cell_type": "code",
   "execution_count": 2,
   "id": "cfc758a2-c964-451c-9fc3-a2be0a73ba5d",
   "metadata": {
    "tags": []
   },
   "outputs": [],
   "source": [
    "def check_str_to_Path(path_to_check):\n",
    "    \"\"\"\n",
    "    Function to check if path_to_check is Path instance. \n",
    "    If not, check if path_to_check is a str and convert it to pathlib.Path object\n",
    "    :path_to_check: should be Path or str\n",
    "    :return: path_to_check as a pathlib.Path object or raise exception if path_to_check not Path nor str\n",
    "    \"\"\"\n",
    "    if not isinstance(path_to_check, Path):\n",
    "        if isinstance(path_to_check, str):\n",
    "            path_to_check = Path(path_to_check)\n",
    "        else:\n",
    "            raise TypeError(f'given path should be str or Path object, not {type(path_to_check)}')\n",
    "    return path_to_check"
   ]
  },
  {
   "cell_type": "code",
   "execution_count": 3,
   "id": "5f8f2f63-b40c-44bb-9dce-5aad4c6a5398",
   "metadata": {},
   "outputs": [],
   "source": [
    "def find_FP_output_flight_dirs(flexpart_output_path):\n",
    "    \"\"\"\n",
    "    Function returning a list of directories containing FLEXPART outputs for each flight analysed\n",
    "    :flexpart_output_path: PosixPath or str, directory containing FP outputs\n",
    "    :return: sorted list of directory paths containing the FP results for each flight (one directory per flight analysed)  \n",
    "    :rtype: <list>[ <PosixPath>, ... ]\n",
    "    \"\"\"\n",
    "    # check if flexpart_output_path is instance of Path class\n",
    "    flexpart_output_path = check_str_to_Path(flexpart_output_path)\n",
    "    # return list of directories in flexpart_output_path\n",
    "    return sorted(flexpart_output_path.glob(\"*/\"))"
   ]
  },
  {
   "cell_type": "code",
   "execution_count": 11,
   "id": "2a0a768d-809f-4a27-ac1b-f2c7e9fb1e0c",
   "metadata": {},
   "outputs": [],
   "source": [
    "def find_FP_output_netcdf_files(FP_out_flight_dir, nc_output_dir_name='10j_100k_output'):\n",
    "    \"\"\"\n",
    "    Function to find path of netcdf files in a FP output result directory\n",
    "    :FP_out_flight_dir: PosixPath, path to FP output directory for the flight\n",
    "    :nc_output_dir_name: str, name of subdirectory in which netcdf file is supposed to be stored\n",
    "    :return: list of netcdf files in the FP output subdirectory (usually only one nc file per flight)\n",
    "    :rtype: <list>[ <PosixPath>, ... ]\n",
    "    \"\"\"\n",
    "    FP_out_flight_dir = check_str_to_Path(FP_out_flight_dir)\n",
    "    dir_path = FP_out_flight_dir / nc_output_dir_name\n",
    "    # if nc_output_dir_name is in the FP output directory, we look for netcdf file\n",
    "    if dir_path in sorted(FP_out_flight_dir.iterdir()):\n",
    "        return sorted(dir_path.glob(\"*.nc\"))\n",
    "    else:\n",
    "        raise FileNotFoundError(f'Directory {dir_path} does not exist')"
   ]
  },
  {
   "cell_type": "markdown",
   "id": "c371aac9-a3fe-4900-80ec-151cb52cd991",
   "metadata": {},
   "source": [
    "#### <!> might not work if nested directories for FP output --> see 2015 directory structure in /o3p/macc flexpart output"
   ]
  },
  {
   "cell_type": "code",
   "execution_count": 7,
   "id": "ae8c884e-308e-4a0d-9198-aea172cae7b3",
   "metadata": {
    "tags": []
   },
   "outputs": [],
   "source": [
    "def find_all_FP_output_netcdf_files(FP_out_flights_dirs):\n",
    "    \"\"\"\n",
    "    Function to get all FP output netcdf files\n",
    "    :FP_out_flights_dirs: PosixPath or str, base directory contanining FP output directories\n",
    "    :return: list of all netcdf files paths\n",
    "    :rtype: <list>[ <PosixPath>, ... ]\n",
    "    \"\"\"\n",
    "    FP_out_nc_files = []\n",
    "    FP_out_flights_dirs = check_str_to_Path(FP_out_flights_dirs)\n",
    "    for FP_out_dir in FP_out_flights_dirs:\n",
    "        FP_out_nc_files += find_FP_output_netcdf_files(FP_out_dir)\n",
    "    return sorted(FP_out_nc_files)"
   ]
  },
  {
   "cell_type": "code",
   "execution_count": null,
   "id": "607059c0-667b-4874-9fb3-97a06e7cfb08",
   "metadata": {},
   "outputs": [],
   "source": [
    "def get_spec001_mr_argmax_dataArray(FP_out_nc_path):\n",
    "    FP_out_nc_path = check_str_to_Path(FP_out_nc_path) # convert potential str path to PosixPath\n",
    "    # check that we got a netcdf file\n",
    "    if not FP_out_nc_path.endswith(\".nc\"):\n",
    "        raise ValueError(f'Invalid file {FP_out_nc_path}, expecting netcdf file (path ending with .nc)')\n",
    "    else:\n",
    "        ds = fpout.open_fp_dataset(FP_out_nc_path) # use open_dataset in the future (when dev finished)\n",
    "        da = ds.spec001_mr\n",
    "    "
   ]
  },
  {
   "cell_type": "markdown",
   "id": "382bdf47-00a7-4001-8643-3013b763c73b",
   "metadata": {},
   "source": [
    "---"
   ]
  },
  {
   "cell_type": "code",
   "execution_count": 4,
   "id": "c7e80722-6c8a-4f10-98b1-6661f613fd04",
   "metadata": {},
   "outputs": [
    {
     "data": {
      "text/plain": [
       "28"
      ]
     },
     "execution_count": 4,
     "metadata": {},
     "output_type": "execute_result"
    }
   ],
   "source": [
    "FP_out_dirs = find_FP_output_flight_dirs('/o3p/patj/SOFT-IO-LI/flexpart10.4/flexpart_v10.4_3d7eebf/src/exercises/soft-io-li/')\n",
    "len(FP_out_dirs)"
   ]
  },
  {
   "cell_type": "code",
   "execution_count": 6,
   "id": "fc56fac4-a35c-471f-9386-e9e0bb910103",
   "metadata": {},
   "outputs": [
    {
     "data": {
      "text/plain": [
       "[PosixPath('/o3p/patj/SOFT-IO-LI/flexpart10.4/flexpart_v10.4_3d7eebf/src/exercises/soft-io-li/flight_2018_001_1h_05deg/10j_100k_output/grid_time_20180603150000.nc')]"
      ]
     },
     "execution_count": 6,
     "metadata": {},
     "output_type": "execute_result"
    }
   ],
   "source": [
    "find_FP_output_netcdf_files(FP_out_dirs[0])"
   ]
  },
  {
   "cell_type": "code",
   "execution_count": 8,
   "id": "39d6c89c-7c73-4eec-afc0-6c90a392d9f3",
   "metadata": {
    "tags": []
   },
   "outputs": [
    {
     "data": {
      "text/plain": [
       "28"
      ]
     },
     "execution_count": 8,
     "metadata": {},
     "output_type": "execute_result"
    }
   ],
   "source": [
    "FP_out_nc_files = find_all_FP_output_netcdf_files(FP_out_dirs)\n",
    "len(FP_out_nc_files)"
   ]
  },
  {
   "cell_type": "code",
   "execution_count": 9,
   "id": "73a95a5f-b580-42ad-a5d7-ee925cede615",
   "metadata": {
    "tags": []
   },
   "outputs": [
    {
     "data": {
      "text/plain": [
       "PosixPath('/o3p/patj/SOFT-IO-LI/flexpart10.4/flexpart_v10.4_3d7eebf/src/exercises/soft-io-li/flight_2018_001_1h_05deg/10j_100k_output/grid_time_20180603150000.nc')"
      ]
     },
     "execution_count": 9,
     "metadata": {},
     "output_type": "execute_result"
    }
   ],
   "source": [
    "FP_out_nc_files[0]"
   ]
  },
  {
   "cell_type": "code",
   "execution_count": null,
   "id": "3b8727c6-a64a-4f71-bdb3-d4617982aa6d",
   "metadata": {},
   "outputs": [],
   "source": []
  }
 ],
 "metadata": {
  "kernelspec": {
   "display_name": "Python 3 (ipykernel)",
   "language": "python",
   "name": "python3"
  },
  "language_info": {
   "codemirror_mode": {
    "name": "ipython",
    "version": 3
   },
   "file_extension": ".py",
   "mimetype": "text/x-python",
   "name": "python",
   "nbconvert_exporter": "python",
   "pygments_lexer": "ipython3",
   "version": "3.10.11"
  }
 },
 "nbformat": 4,
 "nbformat_minor": 5
}
