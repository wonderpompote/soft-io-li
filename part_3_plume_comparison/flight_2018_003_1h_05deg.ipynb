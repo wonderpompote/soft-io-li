{
 "cells": [
  {
   "cell_type": "code",
   "execution_count": null,
   "metadata": {},
   "outputs": [],
   "source": [
    "from netCDF4 import Dataset\n",
    "#from ncdump import ncdump\n",
    "import numpy as np\n",
    "import pandas as pd\n",
    "import xarray as xr\n",
    "import json\n",
    "\n",
    "#for plotting\n",
    "import hvplot.xarray # fancy plotting for xarray\n",
    "import holoviews as hv\n",
    "import matplotlib.pyplot as plt\n",
    "import geoviews as gv\n",
    "\n",
    "#for stats\n",
    "import statistics\n",
    "from statistics import mean, median, mode, stdev, median_high\n",
    "\n",
    "#for datetime\n",
    "import datetime\n",
    "from datetime import datetime as dt\n",
    "import matplotlib.dates as mdates\n",
    "from matplotlib.dates import date2num\n",
    "\n",
    "#for cartopy\n",
    "import cartopy.crs as ccrs\n",
    "from cartopy.mpl.ticker import LongitudeFormatter, LatitudeFormatter\n",
    "import cartopy.feature as cfeature"
   ]
  },
  {
   "cell_type": "code",
   "execution_count": null,
   "metadata": {},
   "outputs": [],
   "source": [
    "ds = xr.open_dataset('/o3p/macc/flexpart10.4/flexpart_v10.4_3d7eebf/src/exercises/soft-io-li/flight_2018_003_1h_05deg/10j_100k_output/grid_time_20180605210000.nc')"
   ]
  },
  {
   "cell_type": "code",
   "execution_count": null,
   "metadata": {},
   "outputs": [],
   "source": [
    "ds"
   ]
  },
  {
   "cell_type": "code",
   "execution_count": null,
   "metadata": {},
   "outputs": [],
   "source": [
    "ds.spec001_mr.sizes"
   ]
  },
  {
   "cell_type": "code",
   "execution_count": null,
   "metadata": {},
   "outputs": [],
   "source": [
    "da = ds.spec001_mr.chunk(\n",
    "    {'nageclass': 1, 'pointspec': 1, 'time': 40, 'height': -1, 'latitude': -1, 'longitude': -1}\n",
    ")\n",
    "# let's get rid of the auxilary dimension \"nageclass\", for the sake of clarity:\n",
    "da = da.squeeze(dim='nageclass')\n",
    "#da"
   ]
  },
  {
   "cell_type": "code",
   "execution_count": null,
   "metadata": {},
   "outputs": [],
   "source": [
    "spec_argmax = da.argmax(dim=['longitude', 'latitude'])"
   ]
  },
  {
   "cell_type": "code",
   "execution_count": null,
   "metadata": {},
   "outputs": [],
   "source": [
    "# let's grab longitudes and latitudes of max. value of spec001_mr:\n",
    "lon_argmax = spec_argmax['longitude']\n",
    "lat_argmax = spec_argmax['latitude']\n",
    "# let's see what's in lon_argmax, for example\n",
    "#lon_argmax"
   ]
  },
  {
   "cell_type": "code",
   "execution_count": null,
   "metadata": {},
   "outputs": [],
   "source": [
    "# the data is not yet computed; in order to actually fire the computation (load data from netcdf and process it), we can call a method \"load\"; it will take a couple of seconds to execute:\n",
    "lon_argmax.load()\n",
    "lat_argmax.load()\n",
    "# and let's see what's in lon_argmax, for example:\n",
    "#lon_argmax"
   ]
  },
  {
   "cell_type": "code",
   "execution_count": null,
   "metadata": {},
   "outputs": [],
   "source": [
    "spec_max = da.isel(longitude=lon_argmax, latitude=lat_argmax)\n",
    "# again, we have to actually load spec_max to see results:\n",
    "spec_max.load()"
   ]
  },
  {
   "cell_type": "code",
   "execution_count": null,
   "metadata": {},
   "outputs": [],
   "source": [
    "lon_argmax = lon_argmax.where(spec_max > 0)\n",
    "lat_argmax = lat_argmax.where(spec_max > 0)\n",
    "spec_max = spec_max.where(spec_max > 0)\n",
    "#spec_max\n",
    "\n",
    "print(lon_argmax)"
   ]
  },
  {
   "cell_type": "code",
   "execution_count": null,
   "metadata": {},
   "outputs": [],
   "source": [
    "da = da.assign_coords(pointspec=da.pointspec)\n",
    "da\n",
    "da.size"
   ]
  },
  {
   "cell_type": "code",
   "execution_count": null,
   "metadata": {},
   "outputs": [],
   "source": [
    "da.coords"
   ]
  },
  {
   "cell_type": "code",
   "execution_count": null,
   "metadata": {},
   "outputs": [],
   "source": [
    "#print(da.latitude.values)"
   ]
  },
  {
   "cell_type": "code",
   "execution_count": null,
   "metadata": {},
   "outputs": [],
   "source": [
    "san_diego = hv.Scatter((-117.1933, 32.7338)).opts(color='pink', size=3)"
   ]
  },
  {
   "cell_type": "code",
   "execution_count": null,
   "metadata": {},
   "outputs": [],
   "source": [
    "frankfurt = hv.Scatter((8.5622, 50.0379)).opts(color='pink', size=3)"
   ]
  },
  {
   "cell_type": "code",
   "execution_count": null,
   "metadata": {},
   "outputs": [],
   "source": [
    "db = xr.open_dataset('/o3p/macc/test/NOx_synched/NOx_IAGOS_timeseries_2018060508235702.nc')"
   ]
  },
  {
   "cell_type": "code",
   "execution_count": null,
   "metadata": {},
   "outputs": [],
   "source": [
    "#flight_path = hv.Scatter((lons, lats)).opts(color='red', size=0.5, )\n",
    "flight_path = hv.Scatter((db.lon, db.lat)).opts(color='red', size=0.25, )"
   ]
  },
  {
   "cell_type": "code",
   "execution_count": null,
   "metadata": {},
   "outputs": [],
   "source": [
    "lons_1 = []\n",
    "lats_1 = []\n",
    "rel_time = []\n",
    "\n",
    "for i in range(len(db.lon)):\n",
    "    if db.lon[i] > -95.1336 and db.lon[i]< -90.6562 :\n",
    "        lons_1.append(db.lon[i])\n",
    "        lats_1.append(db.lat[i])\n",
    "        rel_time.append(db.UTC_time[i])\n",
    "first_rel =  hv.Scatter((lons_1, lats_1)).opts(color='yellow', size=0.25, ) \n"
   ]
  },
  {
   "cell_type": "code",
   "execution_count": null,
   "metadata": {},
   "outputs": [],
   "source": [
    "print(\"Plume extent (time)     : \", rel_time[0].values,\" -->\", rel_time[len(rel_time)-1].values)\n",
    "print(\"Plume extent (longitude): \", lons_1[0].values,\"° -->\", lons_1[len(lons_1)-1].values,\"°\")\n",
    "print(\"Plume extent (latitude) :  \",  lats_1[0].values,\"° --> \", lats_1[len(lats_1)-1].values,\"°\")"
   ]
  },
  {
   "cell_type": "code",
   "execution_count": null,
   "metadata": {},
   "outputs": [],
   "source": [
    "#Calculate median of NOx values in these regions\n",
    "NOx_1 = []\n",
    "\n",
    "for i in range(len(db.lon)):\n",
    "    if db.lon[i] > -95.1336 and db.lon[i]< -90.6562 :\n",
    "        if db.NOx_P2b[i]> 0:\n",
    "            if db.NOx_P2b_val[i]== 0:\n",
    "                NOx_1.append(db.NOx_P2b[i])"
   ]
  },
  {
   "cell_type": "code",
   "execution_count": null,
   "metadata": {},
   "outputs": [],
   "source": [
    "if len(NOx_1) > 1:\n",
    "    NOx_1_list = [float(n) for n in NOx_1]\n",
    "    mean_NOx_1 = statistics.mean(NOx_1_list) \n",
    "    std_NOx_1 = statistics.stdev(NOx_1_list)\n",
    "    fifth_perc_NOx_1 = np.percentile(NOx_1_list, 5)\n",
    "    nintyfifth_perc_NOx_1 = np.percentile(NOx_1_list, 95)\n",
    "    NOx_1_list=sorted(NOx_1_list)\n",
    "    median_NOx_1 = statistics.median(NOx_1_list)\n",
    "    upper_NOx_1_list = []\n",
    "    lower_NOx_1_list = []\n",
    "\n",
    "    for i in range(len(NOx_1_list)):\n",
    "        if NOx_1_list[i]>median_NOx_1:\n",
    "            upper_NOx_1_list.append(NOx_1_list[i])\n",
    "        if NOx_1_list[i]<median_NOx_1:\n",
    "            lower_NOx_1_list.append(NOx_1_list[i])\n",
    "        \n",
    "    upper_quartile_NOx_1 = statistics.median(upper_NOx_1_list)\n",
    "    lower_quartile_NOx_1 = statistics.median(lower_NOx_1_list)\n",
    "#if flights_JUN_EU > 0:\n",
    "print(\"Number of entries NOx excess 1 :\",len(NOx_1))\n",
    "print(\"             Mean NOx excess 1 :\",mean_NOx_1)\n",
    "print(\"            Stdev NOx excess 1 :\",std_NOx_1)\n",
    "print(\"           Median NOx excess 1 :\",median_NOx_1)\n",
    "print(\"               Q3 NOx excess 1 :\",upper_quartile_NOx_1)\n",
    "print(\"               Q1 NOx excess 1 :\",lower_quartile_NOx_1)\n",
    "print(\"              5th NOx excess 1 :\",fifth_perc_NOx_1)\n",
    "print(\"             95th NOx excess 1 :\",nintyfifth_perc_NOx_1)"
   ]
  },
  {
   "cell_type": "code",
   "execution_count": null,
   "metadata": {},
   "outputs": [],
   "source": [
    "mean_float = \"{:.3f}\".format(mean_NOx_1)\n",
    "std_float = \"{:.3f}\".format(std_NOx_1)\n",
    "fifth_float = \"{:.3f}\".format(fifth_perc_NOx_1)\n",
    "nintyfifth_float = \"{:.3f}\".format(nintyfifth_perc_NOx_1)\n",
    "\n",
    "print(\"NOx Plume 1\")\n",
    "print(\"Mean NOx   :\",mean_float)\n",
    "print(\"Stdev NOx  :\",std_float)\n",
    "print(\"Median NOx :\",median_NOx_1)\n",
    "print(\"Q3 NOx     :\",upper_quartile_NOx_1)\n",
    "print(\"Q1 NOx     :\",lower_quartile_NOx_1)\n",
    "print(\"5th NOx    :\",fifth_float)\n",
    "print(\"95th NOx   :\",nintyfifth_float)"
   ]
  },
  {
   "cell_type": "code",
   "execution_count": null,
   "metadata": {},
   "outputs": [],
   "source": [
    "#Calculate median of NOx values in these regions\n",
    "CO_1 = []\n",
    "\n",
    "for i in range(len(db.lon)):\n",
    "    if db.lon[i] > -95.1336 and db.lon[i]< -90.6562 :\n",
    "        if db.CO_P1[i]> 0:\n",
    "            #if db.NOx_P2b_val[i]== 0:\n",
    "                CO_1.append(db.CO_P1[i])"
   ]
  },
  {
   "cell_type": "code",
   "execution_count": null,
   "metadata": {},
   "outputs": [],
   "source": [
    "if len(CO_1) > 1:\n",
    "    CO_1_list = [float(n) for n in CO_1]\n",
    "    mean_CO_1 = statistics.mean(CO_1_list) \n",
    "    std_CO_1 = statistics.stdev(CO_1_list)\n",
    "    fifth_perc_CO_1 = np.percentile(CO_1_list, 5)\n",
    "    nintyfifth_perc_CO_1 = np.percentile(CO_1_list, 95)\n",
    "    CO_1_list=sorted(CO_1_list)\n",
    "    median_CO_1 = statistics.median(CO_1_list)\n",
    "    upper_CO_1_list = []\n",
    "    lower_CO_1_list = []\n",
    "\n",
    "    for i in range(len(CO_1_list)):\n",
    "        if CO_1_list[i]>median_CO_1:\n",
    "            upper_CO_1_list.append(CO_1_list[i])\n",
    "        if CO_1_list[i]<median_CO_1:\n",
    "            lower_CO_1_list.append(CO_1_list[i])\n",
    "        \n",
    "    upper_quartile_CO_1 = statistics.median(upper_CO_1_list)\n",
    "    lower_quartile_CO_1 = statistics.median(lower_CO_1_list)\n",
    "#if flights_JUN_EU > 0:\n",
    "print(\"Number of entries CO excess 1 :\",len(CO_1))\n",
    "print(\"             Mean CO excess 1 :\",mean_CO_1)\n",
    "print(\"            Stdev CO excess 1 :\",std_CO_1)\n",
    "print(\"           Median CO excess 1 :\",median_CO_1)\n",
    "print(\"               Q3 CO excess 1 :\",upper_quartile_CO_1)\n",
    "print(\"               Q1 CO excess 1 :\",lower_quartile_CO_1)\n",
    "print(\"              5th CO excess 1 :\",fifth_perc_CO_1)\n",
    "print(\"             95th CO excess 1 :\",nintyfifth_perc_CO_1)"
   ]
  },
  {
   "cell_type": "code",
   "execution_count": null,
   "metadata": {},
   "outputs": [],
   "source": [
    "mean_float = \"{:.3f}\".format(mean_CO_1)\n",
    "std_float = \"{:.3f}\".format(std_CO_1)\n",
    "fifth_float = \"{:.3f}\".format(fifth_perc_CO_1)\n",
    "nintyfifth_float = \"{:.3f}\".format(nintyfifth_perc_CO_1)\n",
    "\n",
    "print(\"CO Plume 1\")\n",
    "print(\"Mean CO   :\",mean_float)\n",
    "print(\"Stdev CO  :\",std_float)\n",
    "print(\"Median CO :\",median_CO_1)\n",
    "print(\"Q3 CO     :\",upper_quartile_CO_1)\n",
    "print(\"Q1 CO     :\",lower_quartile_CO_1)\n",
    "print(\"5th CO    :\",fifth_float)\n",
    "print(\"95th CO   :\",nintyfifth_float)"
   ]
  },
  {
   "cell_type": "code",
   "execution_count": null,
   "metadata": {},
   "outputs": [],
   "source": [
    "#Calculate median of NOx values in these regions\n",
    "O3_1 = []\n",
    "\n",
    "for i in range(len(db.lon)):\n",
    "    if db.lon[i] > -95.1336 and db.lon[i]< -90.6562 :\n",
    "        if db.O3_P1[i]> 0:\n",
    "            #if db.NOx_P2b_val[i]== 0:\n",
    "                O3_1.append(db.O3_P1[i])"
   ]
  },
  {
   "cell_type": "code",
   "execution_count": null,
   "metadata": {},
   "outputs": [],
   "source": [
    "if len(O3_1) > 1:\n",
    "    O3_1_list = [float(n) for n in O3_1]\n",
    "    mean_O3_1 = statistics.mean(O3_1_list) \n",
    "    std_O3_1 = statistics.stdev(O3_1_list)\n",
    "    fifth_perc_O3_1 = np.percentile(O3_1_list, 5)\n",
    "    nintyfifth_perc_O3_1 = np.percentile(O3_1_list, 95)\n",
    "    O3_1_list=sorted(O3_1_list)\n",
    "    median_O3_1 = statistics.median(O3_1_list)\n",
    "    upper_O3_1_list = []\n",
    "    lower_O3_1_list = []\n",
    "\n",
    "    for i in range(len(O3_1_list)):\n",
    "        if O3_1_list[i]>median_O3_1:\n",
    "            upper_O3_1_list.append(O3_1_list[i])\n",
    "        if O3_1_list[i]<median_O3_1:\n",
    "            lower_O3_1_list.append(O3_1_list[i])\n",
    "        \n",
    "    upper_quartile_O3_1 = statistics.median(upper_O3_1_list)\n",
    "    lower_quartile_O3_1 = statistics.median(lower_O3_1_list)\n",
    "#if flights_JUN_EU > 0:\n",
    "print(\"Number of entries O3 excess 1 :\",len(O3_1))\n",
    "print(\"             Mean O3 excess 1 :\",mean_O3_1)\n",
    "print(\"            Stdev O3 excess 1 :\",std_O3_1)\n",
    "print(\"           Median O3 excess 1 :\",median_O3_1)\n",
    "print(\"               Q3 O3 excess 1 :\",upper_quartile_O3_1)\n",
    "print(\"               Q1 O3 excess 1 :\",lower_quartile_O3_1)\n",
    "print(\"              5th O3 excess 1 :\",fifth_perc_O3_1)\n",
    "print(\"             95th O3 excess 1 :\",nintyfifth_perc_O3_1)"
   ]
  },
  {
   "cell_type": "code",
   "execution_count": null,
   "metadata": {},
   "outputs": [],
   "source": [
    "mean_float = \"{:.3f}\".format(mean_O3_1)\n",
    "std_float = \"{:.3f}\".format(std_O3_1)\n",
    "fifth_float = \"{:.3f}\".format(fifth_perc_O3_1)\n",
    "nintyfifth_float = \"{:.3f}\".format(nintyfifth_perc_O3_1)\n",
    "\n",
    "print(\"O3 Plume 1\")\n",
    "print(\"Mean O3   :\",mean_float)\n",
    "print(\"Stdev O3  :\",std_float)\n",
    "print(\"Median O3 :\",median_O3_1)\n",
    "print(\"Q3 O3     :\",upper_quartile_O3_1)\n",
    "print(\"Q1 O3     :\",lower_quartile_O3_1)\n",
    "print(\"5th O3    :\",fifth_float)\n",
    "print(\"95th O3   :\",nintyfifth_float)"
   ]
  },
  {
   "cell_type": "markdown",
   "metadata": {},
   "source": [
    "#### \\############ tests perso \\############"
   ]
  },
  {
   "cell_type": "code",
   "execution_count": null,
   "metadata": {},
   "outputs": [],
   "source": [
    "da_all_agregated = da.isel(pointspec=0).sum(dim=('height', 'time'))\n",
    "da_all_agregated"
   ]
  },
  {
   "cell_type": "code",
   "execution_count": null,
   "metadata": {},
   "outputs": [],
   "source": [
    "import cartopy\n",
    "cartopy.config['data_dir'] "
   ]
  },
  {
   "cell_type": "code",
   "execution_count": null,
   "metadata": {},
   "outputs": [],
   "source": [
    "pl = da_all_agregated.hvplot.image(\n",
    "    x='longitude', y='latitude', title='Plume dispersion over 10 days',\n",
    "    xlabel='Longitude (°)', ylabel='Latitude (°)', clabel='Res. Time (s)',\n",
    "    frame_height=350,\n",
    "    #projection=ccrs.PlateCarree(),\n",
    "    geo=True,\n",
    "    coastline=True, \n",
    "    project=False,\n",
    "    global_extent=True,\n",
    "    framewise=False, \n",
    "    cmap='coolwarm',\n",
    "    tiles='CartoLight'\n",
    ").opts(fontsize={'title': 16, 'xlabel': 12, 'xticks': 6, 'yticks': 12, 'legend': 12})\n",
    "\"\"\"\n",
    "    frame_height=350,\n",
    "    projection=ccrs.PlateCarree(), \n",
    "    geo=True, \n",
    "    project=False, \n",
    "    global_extent=True,\n",
    "    framewise=False, \n",
    "    coastline=True,  <!> c'est ça le pbm\n",
    "    dynamic=True,\n",
    "    cmap='coolwarm',\n",
    ").opts(fontsize={'title': 16, 'xlabel': 20, 'xticks': 6, 'yticks': 12, 'legend': 12})\n",
    "\"\"\"\n",
    "pl * san_diego * frankfurt * flight_path * first_rel"
   ]
  },
  {
   "cell_type": "markdown",
   "metadata": {},
   "source": [
    "#### \\############ fin tests perso \\############"
   ]
  },
  {
   "cell_type": "code",
   "execution_count": null,
   "metadata": {},
   "outputs": [],
   "source": [
    "da_all_agregated = da.isel(pointspec=0).sum(dim=('height', 'time'))\n",
    "pl = da_all_agregated.hvplot.image(\n",
    "    #x='longitude', y='latitude',  title='Max residence time for all times and altitudes',\n",
    "    x='longitude', y='latitude',  title='Plume dispersion over 10 days',\n",
    "    xlabel='Longitude (°)', ylabel='Latitude (°)', clabel='Res. Time (s)', \n",
    "    frame_height=350, \n",
    "    projection=ccrs.PlateCarree(), \n",
    "    geo=True, project=False, global_extent=True,\n",
    "    framewise=False, coastline=True, dynamic=True,\n",
    "    cmap='coolwarm',\n",
    ").opts(fontsize={'title': 16, 'xlabel': 20, 'xticks': 6, 'yticks': 12, 'legend': 12})\n",
    "\n",
    "pl * san_diego * frankfurt * flight_path * first_rel"
   ]
  },
  {
   "cell_type": "code",
   "execution_count": null,
   "metadata": {},
   "outputs": [],
   "source": [
    "#hv.Store.options.image = hv.Options('plot',  fig_rcparams={'axes.labelsize':40,\n",
    "#                                                           'axes.titlesize':40})"
   ]
  },
  {
   "cell_type": "code",
   "execution_count": null,
   "metadata": {},
   "outputs": [],
   "source": [
    "da_time_agregated = da.sum(dim='time')\n",
    "pl = da_time_agregated.hvplot.image(\n",
    "    x='longitude', y='latitude', groupby=['height'],\n",
    "    xlabel='Longitude (°)', ylabel='Latitude (°)', clabel='Res. Time (s)', \n",
    "    frame_height=350, \n",
    "    projection=ccrs.PlateCarree(), \n",
    "    geo=True, project=False, global_extent=True,\n",
    "    framewise=False, coastline=True, dynamic=True,\n",
    "    cmap='coolwarm',\n",
    ").opts(fontscale=2)\n",
    "pl#.fig_rcparams={'axes.labelsize':40, 'axes.titlesize':40} #* san_diego * frankfurt * flight_path * first_rel"
   ]
  },
  {
   "cell_type": "code",
   "execution_count": null,
   "metadata": {},
   "outputs": [],
   "source": [
    "pl"
   ]
  },
  {
   "cell_type": "code",
   "execution_count": null,
   "metadata": {},
   "outputs": [],
   "source": [
    "pl * san_diego * frankfurt * flight_path * first_rel"
   ]
  },
  {
   "cell_type": "code",
   "execution_count": null,
   "metadata": {},
   "outputs": [],
   "source": [
    "(pl* san_diego * frankfurt * flight_path * first_rel).opts(fontscale=1.5) #this works!!!"
   ]
  },
  {
   "cell_type": "code",
   "execution_count": null,
   "metadata": {},
   "outputs": [],
   "source": [
    "temp = pl* san_diego * frankfurt * flight_path * first_rel"
   ]
  },
  {
   "cell_type": "code",
   "execution_count": null,
   "metadata": {},
   "outputs": [],
   "source": [
    "temp.fig_rcparams={'axes.labelsize':40, 'axes.titlesize':40}"
   ]
  },
  {
   "cell_type": "code",
   "execution_count": null,
   "metadata": {},
   "outputs": [],
   "source": [
    "temp"
   ]
  },
  {
   "cell_type": "code",
   "execution_count": null,
   "metadata": {},
   "outputs": [],
   "source": [
    "da_all_agregated = da.isel(pointspec=0).sum(dim=('height', 'time'))\n",
    "pl = da_all_agregated.hvplot.image(\n",
    "    x='longitude', y='latitude',  title='FLEXPART Output: Plume dispersion over 10 days and all altitudes', \n",
    "    xlabel='Longitude (°)', ylabel='Latitude (°)', clabel='Res. Time (s)', \n",
    "    frame_height=350, \n",
    "    projection=ccrs.PlateCarree(), \n",
    "    geo=True, project=False, global_extent=True,\n",
    "    framewise=False, coastline=True, dynamic=True,\n",
    "    cmap='coolwarm',\n",
    ")\n",
    "pl * san_diego * frankfurt * flight_path * first_rel"
   ]
  },
  {
   "cell_type": "code",
   "execution_count": null,
   "metadata": {},
   "outputs": [],
   "source": [
    "# Repeat for various heights 8-13km\n",
    "da_all_agregated = da.isel(height=slice(15,25),pointspec=0).sum(dim=('height', 'time'))\n",
    "pl = da_all_agregated.hvplot.image(\n",
    "    x='longitude', y='latitude', title='Plume dispersion over 10 days at 8-13 km altitude',\n",
    "    xlabel='Longitude (°)', ylabel='Latitude (°)', clabel='Res. Time (s)', \n",
    "    frame_height=350, \n",
    "    projection=ccrs.PlateCarree(), \n",
    "    geo=True, project=False, global_extent=True,\n",
    "    framewise=False, coastline=True, dynamic=True,\n",
    "    cmap='coolwarm',\n",
    ")\n",
    "pl * san_diego * frankfurt * flight_path * first_rel"
   ]
  },
  {
   "cell_type": "code",
   "execution_count": null,
   "metadata": {},
   "outputs": [],
   "source": [
    "# Repeat for various heights 2 - 8km\n",
    "da_all_agregated = da.isel(height=slice(3,15),pointspec=0).sum(dim=('height', 'time'))\n",
    "pl = da_all_agregated.hvplot.image(\n",
    "    x='longitude', y='latitude', title='Plume dispersion over 10 days at 2-8 km altitude',\n",
    "    xlabel='Longitude (°)', ylabel='Latitude (°)', clabel='Res. Time (s)', \n",
    "    frame_height=350, \n",
    "    projection=ccrs.PlateCarree(), \n",
    "    geo=True, project=False, global_extent=True,\n",
    "    framewise=False, coastline=True, dynamic=True,\n",
    "    cmap='coolwarm',\n",
    ")\n",
    "pl * san_diego * frankfurt * flight_path * first_rel"
   ]
  },
  {
   "cell_type": "code",
   "execution_count": null,
   "metadata": {},
   "outputs": [],
   "source": [
    "# Repeat for various heights 0 - 2km\n",
    "da_all_agregated = da.isel(height=slice(0,3),pointspec=0).sum(dim=('height', 'time'))\n",
    "pl = da_all_agregated.hvplot.image(\n",
    "    x='longitude', y='latitude', title='Plume dispersion over 10 days at 0-2 km altitude',\n",
    "    xlabel='Longitude (°)', ylabel='Latitude (°)', clabel='Res. Time (s)', \n",
    "    frame_height=350, \n",
    "    projection=ccrs.PlateCarree(), \n",
    "    geo=True, project=False, global_extent=True,\n",
    "    framewise=False, coastline=True, dynamic=True,\n",
    "    cmap='coolwarm',\n",
    ")\n",
    "pl * san_diego * frankfurt * flight_path * first_rel"
   ]
  },
  {
   "cell_type": "code",
   "execution_count": null,
   "metadata": {},
   "outputs": [],
   "source": [
    "# Repeat for various heights 0 - 2km\n",
    "da_all_agregated = da.isel(pointspec=0).sum(dim=('height', 'time'))\n",
    "pl = da_all_agregated.hvplot.image(\n",
    "    x='longitude', y='latitude', title='FLEXPART output: plume dispersion over 10 days',\n",
    "    xlabel='Longitude (°)', ylabel='Latitude (°)', clabel='Res. Time (s)', \n",
    "    frame_height=350, \n",
    "    projection=ccrs.PlateCarree(), \n",
    "    geo=True, project=False, global_extent=True,\n",
    "    framewise=False, coastline=True, dynamic=True,\n",
    "    cmap='coolwarm',\n",
    ")\n",
    "pl * san_diego * frankfurt * flight_path * first_rel"
   ]
  },
  {
   "cell_type": "code",
   "execution_count": null,
   "metadata": {},
   "outputs": [],
   "source": [
    "####Find GLM data"
   ]
  },
  {
   "cell_type": "code",
   "execution_count": null,
   "metadata": {},
   "outputs": [],
   "source": [
    "da_all_agregated = da.isel(pointspec=0, time=slice(70,90)).sum(dim=('height', 'time'))\n",
    "pl = da_all_agregated.hvplot.image(\n",
    "    x='longitude', y='latitude',  title='Max residence time @ t-70-->90 hrs', \n",
    "    xlabel='Longitude (°)', ylabel='Latitude (°)', clabel='Res. Time (s)', \n",
    "    frame_height=350, \n",
    "    projection=ccrs.PlateCarree(), \n",
    "    geo=True, project=False, global_extent=True,\n",
    "    #xlim=(-140, -20), ylim=(-60, 60), \n",
    "    framewise=False, coastline=True, dynamic=True,\n",
    "    cmap='coolwarm',\n",
    ")\n",
    "pl * san_diego * flight_path * first_rel * frankfurt"
   ]
  },
  {
   "cell_type": "code",
   "execution_count": null,
   "metadata": {},
   "outputs": [],
   "source": [
    "da_all_agregated = da.isel(pointspec=0, time=slice(69,72)).sum(dim=('height', 'time'))\n",
    "pl = da_all_agregated.hvplot.image(\n",
    "    x='longitude', y='latitude',  title='Max residence time @ t-69-->72 hrs', \n",
    "    xlabel='Longitude (°)', ylabel='Latitude (°)', clabel='Res. Time (s)', \n",
    "    frame_height=350, \n",
    "    projection=ccrs.PlateCarree(), \n",
    "    geo=True, project=False, global_extent=True,\n",
    "    #xlim=(-140, -20), ylim=(-60, 60), \n",
    "    framewise=False, coastline=True, dynamic=True,\n",
    "    cmap='coolwarm',\n",
    ")\n",
    "pl * san_diego * flight_path * first_rel * frankfurt"
   ]
  },
  {
   "cell_type": "code",
   "execution_count": null,
   "metadata": {},
   "outputs": [],
   "source": [
    "da_all_agregated = da.isel(pointspec=0, time=slice(88,91)).sum(dim=('height', 'time'))\n",
    "pl = da_all_agregated.hvplot.image(\n",
    "    x='longitude', y='latitude',  title='Max residence time @ t-88-->91 hrs', \n",
    "    xlabel='Longitude (°)', ylabel='Latitude (°)', clabel='Res. Time (s)', \n",
    "    frame_height=350, \n",
    "    projection=ccrs.PlateCarree(), \n",
    "    geo=True, project=False, global_extent=True,\n",
    "    #xlim=(-140, -20), ylim=(-60, 60), \n",
    "    framewise=False, coastline=True, dynamic=True,\n",
    "    cmap='coolwarm',\n",
    ")\n",
    "pl * san_diego * flight_path * first_rel * frankfurt"
   ]
  },
  {
   "cell_type": "code",
   "execution_count": null,
   "metadata": {},
   "outputs": [],
   "source": [
    "da_all_agregated = da.isel(pointspec=0, time=slice(110,120)).sum(dim=('height', 'time'))\n",
    "pl = da_all_agregated.hvplot.image(\n",
    "    x='longitude', y='latitude',  title='Max residence time @ t-110-->120 hrs', \n",
    "    xlabel='Longitude (°)', ylabel='Latitude (°)', clabel='Res. Time (s)', \n",
    "    frame_height=350, \n",
    "    projection=ccrs.PlateCarree(), \n",
    "    geo=True, project=False, global_extent=True,\n",
    "    #xlim=(-140, -20), ylim=(-60, 60), \n",
    "    framewise=False, coastline=True, dynamic=True,\n",
    "    cmap='coolwarm',\n",
    ")\n",
    "pl * san_diego * flight_path * first_rel * frankfurt"
   ]
  },
  {
   "cell_type": "code",
   "execution_count": null,
   "metadata": {},
   "outputs": [],
   "source": [
    "da_all_agregated = da.isel(pointspec=0, time=slice(130,150)).sum(dim=('height', 'time'))\n",
    "pl = da_all_agregated.hvplot.image(\n",
    "    x='longitude', y='latitude',  title='Max residence time @ t-130-->150 hrs', \n",
    "    xlabel='Longitude (°)', ylabel='Latitude (°)', clabel='Res. Time (s)', \n",
    "    frame_height=350, \n",
    "    projection=ccrs.PlateCarree(), \n",
    "    geo=True, project=False, global_extent=True,\n",
    "    #xlim=(-140, -20), ylim=(-60, 60), \n",
    "    framewise=False, coastline=True, dynamic=True,\n",
    "    cmap='coolwarm',\n",
    ")\n",
    "pl * san_diego * flight_path * first_rel * frankfurt"
   ]
  },
  {
   "cell_type": "code",
   "execution_count": null,
   "metadata": {},
   "outputs": [],
   "source": [
    "da_all_agregated = da.isel(pointspec=0, time=slice(180,200)).sum(dim=('height', 'time'))\n",
    "pl = da_all_agregated.hvplot.image(\n",
    "    x='longitude', y='latitude',  title='Max residence time @ t-180 --> 200 hrs', \n",
    "    xlabel='Longitude (°)', ylabel='Latitude (°)', clabel='Res. Time (s)', \n",
    "    frame_height=350, \n",
    "    projection=ccrs.PlateCarree(), \n",
    "    geo=True, project=False, global_extent=True,\n",
    "    #xlim=(-140, -20), ylim=(-60, 60), \n",
    "    framewise=False, coastline=True, dynamic=True,\n",
    "    cmap='coolwarm',\n",
    ")\n",
    "pl * san_diego * flight_path * first_rel * frankfurt"
   ]
  },
  {
   "cell_type": "code",
   "execution_count": null,
   "metadata": {},
   "outputs": [],
   "source": []
  },
  {
   "cell_type": "code",
   "execution_count": null,
   "metadata": {},
   "outputs": [],
   "source": [
    "# Hourly views from -24 hrs to -48 hrs for release 1\n",
    "# Hour is -24 == 24/05/2015 @ 21h00\n",
    "da_all_agregated = da.isel(pointspec=0, time=slice(4,5)).sum(dim=('height', 'time'))\n",
    "pl = da_all_agregated.hvplot.image(\n",
    "    x='longitude', y='latitude',  title='Max residence time @ t-4hrs and all altitudes', \n",
    "    xlabel='Longitude (°)', ylabel='Latitude (°)', clabel='Res. Time (s)', \n",
    "    frame_height=350, \n",
    "    projection=ccrs.PlateCarree(), \n",
    "    geo=True, project=False, global_extent=True,\n",
    "    #xlim=(-140, -20), ylim=(-60, 60), \n",
    "    framewise=False, coastline=True, dynamic=True,\n",
    "    cmap='coolwarm',\n",
    ")\n",
    "pl * san_diego * flight_path * first_rel * frankfurt"
   ]
  },
  {
   "cell_type": "code",
   "execution_count": null,
   "metadata": {},
   "outputs": [],
   "source": [
    "# Hourly views from -24 hrs to -48 hrs for release 1\n",
    "# Hour is -24 == 24/05/2015 @ 21h00\n",
    "da_all_agregated = da.isel(pointspec=0, time=slice(5,6)).sum(dim=('height', 'time'))\n",
    "pl = da_all_agregated.hvplot.image(\n",
    "    x='longitude', y='latitude',  title='Max residence time @ t-5hrs and all altitudes', \n",
    "    xlabel='Longitude (°)', ylabel='Latitude (°)', clabel='Res. Time (s)', \n",
    "    frame_height=350, \n",
    "    projection=ccrs.PlateCarree(), \n",
    "    geo=True, project=False, #global_extent=True,\n",
    "    xlim=(-140, -20), ylim=(-40, 80), \n",
    "    framewise=False, coastline=True, dynamic=True,\n",
    "    cmap='coolwarm',\n",
    ")\n",
    "pl * san_diego * flight_path * first_rel * frankfurt"
   ]
  },
  {
   "cell_type": "code",
   "execution_count": null,
   "metadata": {},
   "outputs": [],
   "source": [
    "dr = xr.open_dataset('/o3p/macc/test/GLM_array_156_05deg/GLM_array_156_15-16_batch_bis.nc')"
   ]
  },
  {
   "cell_type": "code",
   "execution_count": null,
   "metadata": {},
   "outputs": [],
   "source": [
    "###########\n",
    "dr"
   ]
  },
  {
   "cell_type": "code",
   "execution_count": null,
   "metadata": {},
   "outputs": [],
   "source": [
    "flash_en = dr.flash_energy.where(dr.flash_energy > 0)"
   ]
  },
  {
   "cell_type": "code",
   "execution_count": null,
   "metadata": {},
   "outputs": [],
   "source": [
    "flash_num = dr.num_flash.where(dr.num_flash > 0)"
   ]
  },
  {
   "cell_type": "code",
   "execution_count": null,
   "metadata": {},
   "outputs": [],
   "source": [
    "pl2 = (flash_en).hvplot.image(\n",
    "    x='longitude', y='latitude',  title='Total flash energy',\n",
    "    xlabel = 'Longitude (°)', ylabel = 'Latitude (°)', clabel = 'Flash energy (J)',\n",
    "    frame_height=350, \n",
    "    projection=ccrs.PlateCarree(),\n",
    "    geo=True, project=False, #global_extent=True,\n",
    "    xlim=(-140, -20), ylim=(-40, 80),       #get_extent(-170, -20, -60, 60),\n",
    "    framewise=False, coastline=True, dynamic=True,\n",
    "    cmap='magma'\n",
    ")\n",
    "pl2  * san_diego * flight_path * first_rel"
   ]
  },
  {
   "cell_type": "code",
   "execution_count": null,
   "metadata": {},
   "outputs": [],
   "source": [
    "pl3 = (flash_num).hvplot.image(\n",
    "    x='longitude', y='latitude',  title='Total flash number',\n",
    "    xlabel = 'Longitude (°)', ylabel = 'Latitude (°)', clabel = 'Flash number',\n",
    "    frame_height=350, \n",
    "    projection=ccrs.PlateCarree(),\n",
    "    geo=True, project=False, #global_extent=True,\n",
    "    xlim=(-140, -20), ylim=(-60, 60),       #get_extent(-170, -20, -60, 60),\n",
    "    framewise=False, coastline=True, dynamic=True,\n",
    "    cmap='magma'\n",
    ")\n",
    "pl3  * san_diego * flight_path * first_rel"
   ]
  },
  {
   "cell_type": "code",
   "execution_count": null,
   "metadata": {},
   "outputs": [],
   "source": [
    "pl * pl2 * flight_path * san_diego\n",
    "# pl * pl2 * flight_path * san_diego"
   ]
  },
  {
   "cell_type": "code",
   "execution_count": null,
   "metadata": {},
   "outputs": [],
   "source": [
    "# Hourly views from -24 hrs to -48 hrs for release 1\n",
    "# Hour is -24 == 24/05/2015 @ 21h00\n",
    "da_all_agregated = da.isel(pointspec=0, time=slice(6,7)).sum(dim=('height', 'time'))\n",
    "pl = da_all_agregated.hvplot.image(\n",
    "    x='longitude', y='latitude',  title='Max residence time @ t-6hrs and all altitudes', \n",
    "    xlabel='Longitude (°)', ylabel='Latitude (°)', clabel='Res. Time (s)', \n",
    "    frame_height=350, \n",
    "    projection=ccrs.PlateCarree(), \n",
    "    geo=True, project=False, #global_extent=True,\n",
    "    #xlim=(-140, -20), ylim=(-40, 80), \n",
    "    framewise=False, coastline=True, dynamic=True,\n",
    "    cmap='coolwarm',\n",
    ")\n",
    "pl * san_diego * flight_path * first_rel * frankfurt"
   ]
  },
  {
   "cell_type": "code",
   "execution_count": null,
   "metadata": {},
   "outputs": [],
   "source": [
    "dr = xr.open_dataset('/o3p/macc/test/GLM_array_156_05deg/GLM_array_156_14-15_batch_bis.nc')\n",
    "flash_en = dr.flash_energy.where(dr.flash_energy > 0)\n",
    "flash_num = dr.num_flash.where(dr.num_flash > 0)"
   ]
  },
  {
   "cell_type": "code",
   "execution_count": null,
   "metadata": {},
   "outputs": [],
   "source": [
    "pl2 = (flash_en).hvplot.image(\n",
    "    x='longitude', y='latitude',  title='Total flash energy',\n",
    "    xlabel = 'Longitude (°)', ylabel = 'Latitude (°)', clabel = 'Flash energy (J)',\n",
    "    frame_height=350, \n",
    "    projection=ccrs.PlateCarree(),\n",
    "    geo=True, project=False, #global_extent=True,\n",
    "    xlim=(-140, -20), ylim=(-40, 80),       #get_extent(-170, -20, -60, 60),\n",
    "    framewise=False, coastline=True, dynamic=True,\n",
    "    cmap='magma'\n",
    ")\n",
    "pl2  * san_diego * flight_path * first_rel"
   ]
  },
  {
   "cell_type": "code",
   "execution_count": null,
   "metadata": {},
   "outputs": [],
   "source": [
    "# Hourly views from -24 hrs to -48 hrs for release 1\n",
    "# Hour is -24 == 24/05/2015 @ 21h00\n",
    "da_all_agregated = da.isel(pointspec=0, time=slice(7,8)).sum(dim=('height', 'time'))\n",
    "pl = da_all_agregated.hvplot.image(\n",
    "    x='longitude', y='latitude',  title='Max residence time @ t-7hrs and all altitudes', \n",
    "    xlabel='Longitude (°)', ylabel='Latitude (°)', clabel='Res. Time (s)', \n",
    "    frame_height=350, \n",
    "    projection=ccrs.PlateCarree(), \n",
    "    geo=True, project=False, #global_extent=True,\n",
    "    xlim=(-140, -20), ylim=(-40, 80), \n",
    "    framewise=False, coastline=True, dynamic=True,\n",
    "    cmap='coolwarm',\n",
    ")\n",
    "pl * san_diego * flight_path * first_rel * frankfurt"
   ]
  },
  {
   "cell_type": "code",
   "execution_count": null,
   "metadata": {},
   "outputs": [],
   "source": [
    "dr = xr.open_dataset('/o3p/macc/test/GLM_array_156_05deg/GLM_array_156_13-14_batch_bis.nc')\n",
    "flash_en = dr.flash_energy.where(dr.flash_energy > 0)\n",
    "flash_num = dr.num_flash.where(dr.num_flash > 0)"
   ]
  },
  {
   "cell_type": "code",
   "execution_count": null,
   "metadata": {},
   "outputs": [],
   "source": [
    "pl2 = (flash_en).hvplot.image(\n",
    "    x='longitude', y='latitude',  title='Total flash energy',\n",
    "    xlabel = 'Longitude (°)', ylabel = 'Latitude (°)', clabel = 'Flash energy (J)',\n",
    "    frame_height=350, \n",
    "    projection=ccrs.PlateCarree(),\n",
    "    geo=True, project=False, #global_extent=True,\n",
    "    xlim=(-140, -20), ylim=(-40, 80),       #get_extent(-170, -20, -60, 60),\n",
    "    framewise=False, coastline=True, dynamic=True,\n",
    "    cmap='magma'\n",
    ")\n",
    "pl2  * san_diego * flight_path * first_rel"
   ]
  },
  {
   "cell_type": "code",
   "execution_count": null,
   "metadata": {},
   "outputs": [],
   "source": [
    "pl * pl2 * flight_path * san_diego\n",
    "# pl * pl3 * flight_path * san_diego"
   ]
  },
  {
   "cell_type": "code",
   "execution_count": null,
   "metadata": {},
   "outputs": [],
   "source": []
  },
  {
   "cell_type": "code",
   "execution_count": null,
   "metadata": {},
   "outputs": [],
   "source": [
    "# Hourly views from -24 hrs to -48 hrs for release 1\n",
    "# Hour is -24 == 24/05/2015 @ 21h00\n",
    "da_all_agregated = da.isel(pointspec=0, time=slice(8,9)).sum(dim=('height', 'time'))\n",
    "pl = da_all_agregated.hvplot.image(\n",
    "    x='longitude', y='latitude',  title='Max residence time @ t-8hrs and all altitudes', \n",
    "    xlabel='Longitude (°)', ylabel='Latitude (°)', clabel='Res. Time (s)', \n",
    "    frame_height=350, \n",
    "    projection=ccrs.PlateCarree(), \n",
    "    geo=True, project=False, #global_extent=True,\n",
    "    xlim=(-140, -20), ylim=(-40, 80), \n",
    "    framewise=False, coastline=True, dynamic=True,\n",
    "    cmap='coolwarm',\n",
    ")\n",
    "pl * san_diego * flight_path * first_rel * frankfurt"
   ]
  },
  {
   "cell_type": "code",
   "execution_count": null,
   "metadata": {},
   "outputs": [],
   "source": [
    "dr = xr.open_dataset('/o3p/macc/test/GLM_array_156_05deg/GLM_array_156_12-13_batch_bis.nc')\n",
    "flash_en = dr.flash_energy.where(dr.flash_energy > 0)\n",
    "flash_num = dr.num_flash.where(dr.num_flash > 0)"
   ]
  },
  {
   "cell_type": "code",
   "execution_count": null,
   "metadata": {},
   "outputs": [],
   "source": [
    "pl2 = (flash_en).hvplot.image(\n",
    "    x='longitude', y='latitude',  title='Total flash energy',\n",
    "    xlabel = 'Longitude (°)', ylabel = 'Latitude (°)', clabel = 'Flash energy (J)',\n",
    "    frame_height=350, \n",
    "    projection=ccrs.PlateCarree(),\n",
    "    geo=True, project=False, #global_extent=True,\n",
    "    xlim=(-140, -20), ylim=(-40, 80),       #get_extent(-170, -20, -60, 60),\n",
    "    framewise=False, coastline=True, dynamic=True,\n",
    "    cmap='magma'\n",
    ")\n",
    "pl2  * san_diego * flight_path * first_rel"
   ]
  },
  {
   "cell_type": "code",
   "execution_count": null,
   "metadata": {},
   "outputs": [],
   "source": [
    "pl * pl2 * flight_path * san_diego\n",
    "# pl * pl3 * flight_path * san_diego"
   ]
  },
  {
   "cell_type": "code",
   "execution_count": null,
   "metadata": {},
   "outputs": [],
   "source": [
    "# Hourly views from -24 hrs to -48 hrs for release 1\n",
    "# Hour is -24 == 24/05/2015 @ 21h00\n",
    "da_all_agregated = da.isel(pointspec=0, time=slice(9,10)).sum(dim=('height', 'time'))\n",
    "pl = da_all_agregated.hvplot.image(\n",
    "    x='longitude', y='latitude',  title='Max residence time @ t-9hrs and all altitudes', \n",
    "    xlabel='Longitude (°)', ylabel='Latitude (°)', clabel='Res. Time (s)', \n",
    "    frame_height=350, \n",
    "    projection=ccrs.PlateCarree(), \n",
    "    geo=True, project=False, #global_extent=True,\n",
    "    xlim=(-140, -20), ylim=(-40, 80), \n",
    "    framewise=False, coastline=True, dynamic=True,\n",
    "    cmap='coolwarm',\n",
    ")\n",
    "pl * san_diego * flight_path * first_rel * frankfurt"
   ]
  },
  {
   "cell_type": "code",
   "execution_count": null,
   "metadata": {},
   "outputs": [],
   "source": [
    "hv.extension('bokeh')\n",
    "da_all_agregated = da.isel(pointspec=0, time=slice(10,21)).sum(dim=('height', 'time'))\n",
    "pl = da_all_agregated.hvplot.image(\n",
    "    x='longitude', y='latitude',  title='Plume dispersion t-10 -> t-21 h + NLDN data', \n",
    "    xlabel='Longitude (°)', ylabel='Latitude (°)', clabel='Res. Time (s)', \n",
    "    frame_height=350, \n",
    "    projection=ccrs.PlateCarree(),\n",
    "    geo=True, project=False, #global_extent=True,\n",
    "    xlim=(-140, -20), ylim=(-40, 80), \n",
    "    framewise=False, coastline=True, dynamic=True,\n",
    "    cmap='coolwarm', #location='bottom',\n",
    ").opts(fontscale=1.2)\n",
    "pl "
   ]
  },
  {
   "cell_type": "code",
   "execution_count": null,
   "metadata": {},
   "outputs": [],
   "source": [
    "hv.save(pl, 'test_dpi300.png', dpi=300)\n"
   ]
  },
  {
   "cell_type": "code",
   "execution_count": null,
   "metadata": {},
   "outputs": [],
   "source": []
  },
  {
   "cell_type": "code",
   "execution_count": null,
   "metadata": {},
   "outputs": [],
   "source": []
  },
  {
   "cell_type": "code",
   "execution_count": null,
   "metadata": {},
   "outputs": [],
   "source": []
  },
  {
   "cell_type": "code",
   "execution_count": null,
   "metadata": {},
   "outputs": [],
   "source": [
    "#TEST\n",
    "#this changes the backend to mathplotlib but introduces many incompatabilities\n",
    "#\n",
    "hv.extension('matplotlib')\n"
   ]
  },
  {
   "cell_type": "code",
   "execution_count": null,
   "metadata": {},
   "outputs": [],
   "source": [
    "#TEST\n",
    "# Add Boarders to map\n",
    "# features=(cfeature.BORDERS),\n",
    "da_all_agregated = da.isel(pointspec=0, time=slice(10,21)).sum(dim=('height', 'time'))\n",
    "pl = da_all_agregated.hvplot.image(\n",
    "    x='longitude', y='latitude',  title='Plume dispersion t-10 -> t-21 h + NLDN data', \n",
    "    xlabel='Longitude (°)', ylabel='Latitude (°)', clabel='Res. Time (s)', \n",
    "    frame_height=350, \n",
    "    projection=ccrs.PlateCarree(),\n",
    "    geo=True, project=False, #global_extent=True,\n",
    "    xlim=(-140, -20), ylim=(-40, 80), \n",
    "    framewise=False, coastline=True, dynamic=True,\n",
    "    cmap='coolwarm', #location='bottom',\n",
    ").opts(fontscale=1.2)\n",
    "pl "
   ]
  },
  {
   "cell_type": "code",
   "execution_count": null,
   "metadata": {},
   "outputs": [],
   "source": [
    "#pl.savefig(\"/o3p/macc/test/plots/dpi_test.png\")"
   ]
  },
  {
   "cell_type": "code",
   "execution_count": null,
   "metadata": {},
   "outputs": [],
   "source": [
    "#pl.colorbar(orientation='horizontal') "
   ]
  },
  {
   "cell_type": "code",
   "execution_count": null,
   "metadata": {},
   "outputs": [],
   "source": [
    "#color_bar = hv.colorbar(\n",
    "#    color_mapper=color_mapper, \n",
    "#    label_standoff=8,\n",
    "#    width = 425,\n",
    "#    height = 20,\n",
    "#    location = (0,0),\n",
    "#    orientation = 'horizontal',\n",
    "#    formatter = NumeralTickFormatter(format='0.00 a'),\n",
    "#    ticker=BasicTicker(desired_num_ticks=len(palette)+1),\n",
    "#    bar_line_color='black',\n",
    "#    major_tick_line_color='black'\n",
    "#)\n",
    "#pl.add_layout(color_bar, 'below')\n",
    "#show(pl)"
   ]
  },
  {
   "cell_type": "code",
   "execution_count": null,
   "metadata": {},
   "outputs": [],
   "source": []
  },
  {
   "cell_type": "code",
   "execution_count": null,
   "metadata": {},
   "outputs": [],
   "source": [
    "pl * san_diego * flight_path * first_rel * frankfurt# * gv.feature.borders,"
   ]
  },
  {
   "cell_type": "code",
   "execution_count": null,
   "metadata": {},
   "outputs": [],
   "source": [
    "pl * gv.feature.borders * san_diego * flight_path * first_rel"
   ]
  },
  {
   "cell_type": "code",
   "execution_count": null,
   "metadata": {},
   "outputs": [],
   "source": [
    "# Hourly views from -24 hrs to -48 hrs for release 1\n",
    "# Hour is -24 == 24/05/2015 @ 21h00\n",
    "da_all_agregated = da.isel(pointspec=0, time=slice(10,21)).sum(dim=('height', 'time'))\n",
    "pl = da_all_agregated.hvplot.image(\n",
    "    x='longitude', y='latitude',  title='Plume dispersion t-10 -> t-21 h', \n",
    "    xlabel='Longitude (°)', ylabel='Latitude (°)', clabel='Res. Time (s)', \n",
    "    frame_height=350, \n",
    "    projection=ccrs.PlateCarree(), \n",
    "    geo=True, project=False, #global_extent=True,\n",
    "    xlim=(-140, -60), ylim=(0, 80), \n",
    "    framewise=False, coastline=True, dynamic=True,\n",
    "    cmap='coolwarm',\n",
    ")\n",
    "pl * san_diego * flight_path * first_rel * frankfurt * gv.feature.coastline(line_width=1) * gv.feature.borders(line_width=1) "
   ]
  },
  {
   "cell_type": "code",
   "execution_count": null,
   "metadata": {},
   "outputs": [],
   "source": [
    "pl * hv.HLine(43.5) * hv.HLine(52.5) * hv.VLine(-117.5) * hv.VLine(-92.5)"
   ]
  },
  {
   "cell_type": "code",
   "execution_count": null,
   "metadata": {},
   "outputs": [],
   "source": [
    "pl * hv.HLine(45.5) * hv.HLine(50.5) * hv.VLine(-109.5) * hv.VLine(-98.5)"
   ]
  },
  {
   "cell_type": "code",
   "execution_count": null,
   "metadata": {},
   "outputs": [],
   "source": [
    "da_all_agregated = da.isel(pointspec=0, time=slice(10,11)).sum(dim=('height', 'time'))\n",
    "pl = da_all_agregated.hvplot.image(\n",
    "    x='longitude', y='latitude',  title='Plume dispersion t-10 + GLM & NLDN', \n",
    "    xlabel='Longitude (°)', ylabel='Latitude (°)', clabel='Res. Time (s)', \n",
    "    frame_height=350, \n",
    "    projection=ccrs.PlateCarree(), \n",
    "    geo=True, project=False, #global_extent=True,\n",
    "    xlim=(-140, -60), ylim=(0, 80), \n",
    "    framewise=False, coastline=True, dynamic=True,\n",
    "    cmap='coolwarm', clim=(0,100),\n",
    ")\n",
    "pl * san_diego * flight_path * first_rel * frankfurt"
   ]
  },
  {
   "cell_type": "code",
   "execution_count": null,
   "metadata": {},
   "outputs": [],
   "source": [
    "dr = xr.open_dataset('/o3p/macc/test/GLM_array_156_05deg/GLM_array_156_10-11_batch_bis.nc')\n",
    "flash_en = dr.flash_energy.where(dr.flash_energy > 0)\n",
    "flash_num = dr.num_flash.where(dr.num_flash > 0)\n",
    "pl2 = (flash_en).hvplot.image(\n",
    "    x='longitude', y='latitude',  #title='Total flash energy',\n",
    "    xlabel = 'Longitude (°)', ylabel = 'Latitude (°)', clabel = 'Flash energy (J)',\n",
    "    frame_height=350, \n",
    "    projection=ccrs.PlateCarree(),\n",
    "    geo=True, project=False, #global_extent=True,\n",
    "    xlim=(-140, -60), ylim=(0, 80),       #get_extent(-170, -20, -60, 60),\n",
    "    framewise=False, coastline=True, dynamic=True,\n",
    "    cmap='spring'\n",
    ")\n",
    "pl2  * san_diego * flight_path * first_rel"
   ]
  },
  {
   "cell_type": "code",
   "execution_count": null,
   "metadata": {},
   "outputs": [],
   "source": [
    "pl * pl2 * san_diego * flight_path * first_rel"
   ]
  },
  {
   "cell_type": "code",
   "execution_count": null,
   "metadata": {},
   "outputs": [],
   "source": [
    "dr = xr.open_dataset('/o3p/macc/nldn/data_netcdf_hours_1deg/2018_6_5_10.nc')\n",
    "amp = dr.amplitude.where(dr.amplitude > 0)\n",
    "\n",
    "plnl10 = (amp).hvplot.image(\n",
    "    x='longitude', y='latitude',  #title='NLDN Peak Current', \n",
    "    xlabel = 'Longitude (°)', ylabel = 'Latitude (°)', clabel = 'Peak Current (kA)',\n",
    "    frame_height=350, \n",
    "    projection=ccrs.PlateCarree(), \n",
    "    geo=True, project=False, #global_extent=True,\n",
    "    xlim=(-140, -60), ylim=(0, 80), \n",
    "    framewise=False, coastline=True, dynamic=True,\n",
    "    #cmap='Gnuplot'\n",
    "    cmap='cool'\n",
    ")\n",
    "plnl10 * san_diego * flight_path * first_rel"
   ]
  },
  {
   "cell_type": "code",
   "execution_count": null,
   "metadata": {},
   "outputs": [],
   "source": [
    "pl * plnl10 * san_diego * flight_path * first_rel"
   ]
  },
  {
   "cell_type": "code",
   "execution_count": null,
   "metadata": {},
   "outputs": [],
   "source": [
    "pl * pl2 * san_diego * flight_path * first_rel"
   ]
  },
  {
   "cell_type": "code",
   "execution_count": null,
   "metadata": {},
   "outputs": [],
   "source": [
    "pl * pl2 * plnl10"
   ]
  },
  {
   "cell_type": "code",
   "execution_count": null,
   "metadata": {},
   "outputs": [],
   "source": [
    "import geoviews as gv\n",
    "\n",
    "dt = xr.open_dataset('/o3p/macc/test/BTemp/156/BT-156-10-00-00.nc')\n",
    "dt2 = xr.open_dataset('/o3p/macc/test/BTemp/156/BT-156-10-15-00.nc')\n",
    "dt3 = xr.open_dataset('/o3p/macc/test/BTemp/156/BT-156-10-30-00.nc')\n",
    "dt4 = xr.open_dataset('/o3p/macc/test/BTemp/156/BT-156-10-45-00.nc')\n",
    "\n",
    "b_temp = dt.brightness_temperature.where(dt.brightness_temperature > 0) * 0.01\n",
    "b_temp2 = dt2.brightness_temperature.where(dt2.brightness_temperature > 0) * 0.01\n",
    "b_temp3 = dt3.brightness_temperature.where(dt3.brightness_temperature > 0) * 0.01\n",
    "b_temp4 = dt4.brightness_temperature.where(dt4.brightness_temperature > 0) * 0.01\n",
    "b_all = (b_temp+b_temp2+b_temp3+b_temp4)/4\n",
    "pb10 = (b_all).hvplot.image(\n",
    "    x='longitude', y='latitude',  #title='Brightness Temperature',\n",
    "    xlabel = 'Longitude (°)', ylabel = 'Latitude (°)', clabel = 'B temp (K)',\n",
    "    frame_height=350, \n",
    "    projection=ccrs.PlateCarree(),\n",
    "    geo=True, project=False, #global_extent=True,\n",
    "    xlim=(-140, -60), ylim=(0, 80),  #get_extent(-170, -20, -60, 60),\n",
    "    framewise=False, coastline=True, dynamic=True,\n",
    "    cmap='greys'\n",
    ")\n",
    "pb10  * san_diego * flight_path * first_rel * gv.feature.coastline(line_width=3)"
   ]
  },
  {
   "cell_type": "code",
   "execution_count": null,
   "metadata": {},
   "outputs": [],
   "source": [
    "pb10  * san_diego * flight_path * first_rel * gv.feature.coastline(line_width=3) * pl2"
   ]
  },
  {
   "cell_type": "code",
   "execution_count": null,
   "metadata": {},
   "outputs": [],
   "source": [
    "pb10  * san_diego * flight_path * first_rel * gv.feature.coastline(line_width=3) * plnl10"
   ]
  },
  {
   "cell_type": "code",
   "execution_count": null,
   "metadata": {},
   "outputs": [],
   "source": [
    "pb10  * san_diego * flight_path * first_rel * gv.feature.coastline(line_width=3) * pl2 * plnl10"
   ]
  },
  {
   "cell_type": "code",
   "execution_count": null,
   "metadata": {},
   "outputs": [],
   "source": [
    "da_all_agregated = da.isel(pointspec=0, time=slice(11,12)).sum(dim=('height', 'time'))\n",
    "pl = da_all_agregated.hvplot.image(\n",
    "    x='longitude', y='latitude',  title='Plume dispersion t-11 + GLM & NLDN', \n",
    "    xlabel='Longitude (°)', ylabel='Latitude (°)', clabel='Res. Time (s)', \n",
    "    frame_height=350, \n",
    "    projection=ccrs.PlateCarree(), \n",
    "    geo=True, project=False, #global_extent=True,\n",
    "    xlim=(-140, -60), ylim=(0, 80), \n",
    "    framewise=False, coastline=True, dynamic=True,\n",
    "    cmap='coolwarm', clim=(0,100)\n",
    ")\n",
    "pl * san_diego * flight_path * first_rel * frankfurt"
   ]
  },
  {
   "cell_type": "code",
   "execution_count": null,
   "metadata": {},
   "outputs": [],
   "source": [
    "dr = xr.open_dataset('/o3p/macc/test/GLM_array_156_05deg/GLM_array_156_09-10_batch_bis.nc')\n",
    "flash_en = dr.flash_energy.where(dr.flash_energy > 0)\n",
    "flash_num = dr.num_flash.where(dr.num_flash > 0)\n",
    "pl3 = (flash_en).hvplot.image(\n",
    "    x='longitude', y='latitude',  #title='Total flash energy',\n",
    "    xlabel = 'Longitude (°)', ylabel = 'Latitude (°)', clabel = 'Flash energy (J)',\n",
    "    frame_height=350, \n",
    "    projection=ccrs.PlateCarree(),\n",
    "    geo=True, project=False, #global_extent=True,\n",
    "    xlim=(-140, -20), ylim=(-40, 80),       #get_extent(-170, -20, -60, 60),\n",
    "    framewise=False, coastline=True, dynamic=True,\n",
    "    cmap='spring'\n",
    ")\n",
    "pl3  * san_diego * flight_path * first_rel"
   ]
  },
  {
   "cell_type": "code",
   "execution_count": null,
   "metadata": {},
   "outputs": [],
   "source": [
    "pl * pl3  * san_diego * flight_path * first_rel"
   ]
  },
  {
   "cell_type": "code",
   "execution_count": null,
   "metadata": {},
   "outputs": [],
   "source": [
    "import geoviews as gv\n",
    "\n",
    "dt = xr.open_dataset('/o3p/macc/test/BTemp/156/BT-156-09-00-00.nc')\n",
    "dt2 = xr.open_dataset('/o3p/macc/test/BTemp/156/BT-156-09-15-00.nc')\n",
    "dt3 = xr.open_dataset('/o3p/macc/test/BTemp/156/BT-156-09-30-00.nc')\n",
    "dt4 = xr.open_dataset('/o3p/macc/test/BTemp/156/BT-156-09-45-00.nc')\n",
    "\n",
    "b_temp = dt.brightness_temperature.where(dt.brightness_temperature > 0) * 0.01\n",
    "b_temp2 = dt2.brightness_temperature.where(dt2.brightness_temperature > 0) * 0.01\n",
    "b_temp3 = dt3.brightness_temperature.where(dt3.brightness_temperature > 0) * 0.01\n",
    "b_temp4 = dt4.brightness_temperature.where(dt4.brightness_temperature > 0) * 0.01\n",
    "b_1 = np.minimum(b_temp,b_temp2)\n",
    "b_2 = np.minimum(b_temp3,b_temp4)\n",
    "b_all = np.minimum(b_1, b_2)\n",
    "pb9 = (b_all).hvplot.image(\n",
    "    x='longitude', y='latitude',  #title='Brightness Temperature',\n",
    "    xlabel = 'Longitude (°)', ylabel = 'Latitude (°)', clabel = 'B temp (K)',\n",
    "    frame_height=350, \n",
    "    projection=ccrs.PlateCarree(),\n",
    "    geo=True, project=False, #global_extent=True,\n",
    "    xlim=(-140, -60), ylim=(0, 80),       #get_extent(-170, -20, -60, 60),\n",
    "    framewise=False, coastline=True, dynamic=True,\n",
    "    cmap='greys'\n",
    ")\n",
    "pb9  * san_diego * flight_path * first_rel * gv.feature.coastline(line_width=3)"
   ]
  },
  {
   "cell_type": "code",
   "execution_count": null,
   "metadata": {},
   "outputs": [],
   "source": []
  },
  {
   "cell_type": "code",
   "execution_count": null,
   "metadata": {},
   "outputs": [],
   "source": [
    "pl * pl3 "
   ]
  },
  {
   "cell_type": "code",
   "execution_count": null,
   "metadata": {},
   "outputs": [],
   "source": [
    "pb9 * san_diego * flight_path * first_rel * gv.feature.coastline(line_width=3) * pl3"
   ]
  },
  {
   "cell_type": "code",
   "execution_count": null,
   "metadata": {},
   "outputs": [],
   "source": [
    "da_all_agregated = da.isel(pointspec=0, time=slice(11,12)).sum(dim=('height', 'time'))\n",
    "pl = da_all_agregated.where(da_all_agregated>0).hvplot.image(\n",
    "    x='longitude', y='latitude',  title='Plume dispersion t-11', \n",
    "    xlabel='Longitude (°)', ylabel='Latitude (°)', clabel='Res. Time (s)', \n",
    "    frame_height=350, \n",
    "    projection=ccrs.PlateCarree(), \n",
    "    geo=True, project=False, #global_extent=True,\n",
    "    xlim=(-140, -20), ylim=(-40, 80), \n",
    "    framewise=False, coastline=True, dynamic=True,\n",
    "    cmap='coolwarm', clim=(0,10)\n",
    ")\n",
    "pl * san_diego * flight_path * first_rel * frankfurt"
   ]
  },
  {
   "cell_type": "code",
   "execution_count": null,
   "metadata": {},
   "outputs": [],
   "source": [
    "pb9 * pl * pl3"
   ]
  },
  {
   "cell_type": "code",
   "execution_count": null,
   "metadata": {},
   "outputs": [],
   "source": [
    "#No data for 9h"
   ]
  },
  {
   "cell_type": "code",
   "execution_count": null,
   "metadata": {},
   "outputs": [],
   "source": []
  },
  {
   "cell_type": "code",
   "execution_count": null,
   "metadata": {},
   "outputs": [],
   "source": []
  },
  {
   "cell_type": "code",
   "execution_count": null,
   "metadata": {},
   "outputs": [],
   "source": [
    "#pl * pl3 + pb9 * pl3"
   ]
  },
  {
   "cell_type": "code",
   "execution_count": null,
   "metadata": {},
   "outputs": [],
   "source": [
    "da_all_agregated = da.isel(pointspec=0, time=slice(12,13)).sum(dim=('height', 'time'))\n",
    "pl = da_all_agregated.hvplot.image(\n",
    "    x='longitude', y='latitude',  title='Plume dispersion t-12 + GLM & NLDN', \n",
    "    xlabel='Longitude (°)', ylabel='Latitude (°)', clabel='Res. Time (s)', \n",
    "    frame_height=350, \n",
    "    projection=ccrs.PlateCarree(), \n",
    "    geo=True, project=False, #global_extent=True,\n",
    "    xlim=(-140, -60), ylim=(0, 80), \n",
    "    framewise=False, coastline=True, dynamic=True,\n",
    "    cmap='coolwarm', clim = (0,100)\n",
    ")\n",
    "pl * san_diego * flight_path * first_rel * frankfurt"
   ]
  },
  {
   "cell_type": "code",
   "execution_count": null,
   "metadata": {},
   "outputs": [],
   "source": [
    "dr = xr.open_dataset('/o3p/macc/test/GLM_array_156_05deg/GLM_array_156_08-09_batch_bis.nc')\n",
    "flash_en = dr.flash_energy.where(dr.flash_energy > 0)\n",
    "flash_num = dr.num_flash.where(dr.num_flash > 0)\n",
    "pl4 = (flash_en).hvplot.image(\n",
    "    x='longitude', y='latitude',  #title='Total flash energy',\n",
    "    xlabel = 'Longitude (°)', ylabel = 'Latitude (°)', clabel = 'Flash energy (J)',\n",
    "    frame_height=350, \n",
    "    projection=ccrs.PlateCarree(),\n",
    "    geo=True, project=False, #global_extent=True,\n",
    "    xlim=(-140, -20), ylim=(-40, 80),       #get_extent(-170, -20, -60, 60),\n",
    "    framewise=False, coastline=True, dynamic=True,\n",
    "    cmap='spring'\n",
    ")\n",
    "pl4  * san_diego * flight_path * first_rel"
   ]
  },
  {
   "cell_type": "code",
   "execution_count": null,
   "metadata": {},
   "outputs": [],
   "source": [
    "pl * pl4  * san_diego * flight_path * first_rel"
   ]
  },
  {
   "cell_type": "code",
   "execution_count": null,
   "metadata": {},
   "outputs": [],
   "source": [
    "import geoviews as gv\n",
    "\n",
    "dt = xr.open_dataset('/o3p/macc/test/BTemp/156/BT-156-08-00-00.nc')\n",
    "dt2 = xr.open_dataset('/o3p/macc/test/BTemp/156/BT-156-08-15-00.nc')\n",
    "dt3 = xr.open_dataset('/o3p/macc/test/BTemp/156/BT-156-08-30-00.nc')\n",
    "dt4 = xr.open_dataset('/o3p/macc/test/BTemp/156/BT-156-08-45-00.nc')\n",
    "\n",
    "b_temp = dt.brightness_temperature.where(dt.brightness_temperature > 0) * 0.01\n",
    "b_temp2 = dt2.brightness_temperature.where(dt2.brightness_temperature > 0) * 0.01\n",
    "b_temp3 = dt3.brightness_temperature.where(dt3.brightness_temperature > 0) * 0.01\n",
    "b_temp4 = dt4.brightness_temperature.where(dt4.brightness_temperature > 0) * 0.01\n",
    "b_1 = np.minimum(b_temp,b_temp2)\n",
    "b_2 = np.minimum(b_temp3,b_temp4)\n",
    "b_all = np.minimum(b_1, b_2)\n",
    "pb8 = (b_all).hvplot.image(\n",
    "    x='longitude', y='latitude',  #title='Brightness Temperature',\n",
    "    xlabel = 'Longitude (°)', ylabel = 'Latitude (°)', clabel = 'B temp (K)',\n",
    "    frame_height=350, \n",
    "    projection=ccrs.PlateCarree(),\n",
    "    geo=True, project=False, #global_extent=True,\n",
    "    xlim=(-140, -60), ylim=(0, 80),       #get_extent(-170, -20, -60, 60),\n",
    "    framewise=False, coastline=True, dynamic=True,\n",
    "    cmap='greys'\n",
    ")\n",
    "pb8  * san_diego * flight_path * first_rel * gv.feature.coastline(line_width=3)"
   ]
  },
  {
   "cell_type": "code",
   "execution_count": null,
   "metadata": {},
   "outputs": [],
   "source": [
    "pl * pl4 + pb8 * pl4"
   ]
  },
  {
   "cell_type": "code",
   "execution_count": null,
   "metadata": {},
   "outputs": [],
   "source": [
    "pl * san_diego * flight_path * first_rel * gv.feature.coastline(line_width=3) * pl4"
   ]
  },
  {
   "cell_type": "code",
   "execution_count": null,
   "metadata": {},
   "outputs": [],
   "source": [
    "pb8 * san_diego * flight_path * first_rel * gv.feature.coastline(line_width=3) * pl4"
   ]
  },
  {
   "cell_type": "code",
   "execution_count": null,
   "metadata": {},
   "outputs": [],
   "source": [
    "da_all_agregated = da.isel(pointspec=0, time=slice(13,14)).sum(dim=('height', 'time'))\n",
    "pl = da_all_agregated.hvplot.image(\n",
    "    x='longitude', y='latitude',  title='Plume dispersion t-13 + GLM & NLDN', \n",
    "    xlabel='Longitude (°)', ylabel='Latitude (°)', clabel='Res. Time (s)', \n",
    "    frame_height=350, \n",
    "    projection=ccrs.PlateCarree(), \n",
    "    geo=True, project=False, #global_extent=True,\n",
    "    xlim=(-140, -60), ylim=(0, 80), \n",
    "    framewise=False, coastline=True, dynamic=True,\n",
    "    cmap='coolwarm', clim=(0,100),\n",
    ")\n",
    "pl * san_diego * flight_path * first_rel * frankfurt"
   ]
  },
  {
   "cell_type": "code",
   "execution_count": null,
   "metadata": {},
   "outputs": [],
   "source": [
    "dr = xr.open_dataset('/o3p/macc/test/GLM_array_156_05deg/GLM_array_156_07-08_batch_bis.nc')\n",
    "flash_en = dr.flash_energy.where(dr.flash_energy > 0)\n",
    "flash_num = dr.num_flash.where(dr.num_flash > 0)\n",
    "pl5 = (flash_en).hvplot.image(\n",
    "    x='longitude', y='latitude',  #title='Total flash energy',\n",
    "    xlabel = 'Longitude (°)', ylabel = 'Latitude (°)', clabel = 'Flash energy (J)',\n",
    "    frame_height=350, \n",
    "    projection=ccrs.PlateCarree(),\n",
    "    geo=True, project=False, #global_extent=True,\n",
    "    xlim=(-140, -20), ylim=(-40, 80),       #get_extent(-170, -20, -60, 60),\n",
    "    framewise=False, coastline=True, dynamic=True,\n",
    "    cmap='spring'\n",
    ")\n",
    "pl5  * san_diego * flight_path * first_rel"
   ]
  },
  {
   "cell_type": "code",
   "execution_count": null,
   "metadata": {},
   "outputs": [],
   "source": [
    "pl * pl5  * san_diego * flight_path * first_rel"
   ]
  },
  {
   "cell_type": "code",
   "execution_count": null,
   "metadata": {},
   "outputs": [],
   "source": [
    "import geoviews as gv\n",
    "\n",
    "dt = xr.open_dataset('/o3p/macc/test/BTemp/156/BT-156-07-00-00.nc')\n",
    "dt2 = xr.open_dataset('/o3p/macc/test/BTemp/156/BT-156-07-15-00.nc')\n",
    "dt3 = xr.open_dataset('/o3p/macc/test/BTemp/156/BT-156-07-30-00.nc')\n",
    "dt4 = xr.open_dataset('/o3p/macc/test/BTemp/156/BT-156-07-45-00.nc')\n",
    "\n",
    "b_temp = dt.brightness_temperature.where(dt.brightness_temperature > 0) * 0.01\n",
    "b_temp2 = dt2.brightness_temperature.where(dt2.brightness_temperature > 0) * 0.01\n",
    "b_temp3 = dt3.brightness_temperature.where(dt3.brightness_temperature > 0) * 0.01\n",
    "b_temp4 = dt4.brightness_temperature.where(dt4.brightness_temperature > 0) * 0.01\n",
    "b_1 = np.minimum(b_temp,b_temp2)\n",
    "b_2 = np.minimum(b_temp3,b_temp4)\n",
    "b_all = np.minimum(b_1, b_2)\n",
    "pb7 = (b_all).hvplot.image(\n",
    "    x='longitude', y='latitude',  #title='Brightness Temperature',\n",
    "    xlabel = 'Longitude (°)', ylabel = 'Latitude (°)', clabel = 'B temp (K)',\n",
    "    frame_height=350, \n",
    "    projection=ccrs.PlateCarree(),\n",
    "    geo=True, project=False, #global_extent=True,\n",
    "    xlim=(-140, -60), ylim=(0, 80),        #get_extent(-170, -20, -60, 60),\n",
    "    framewise=False, coastline=True, dynamic=True,\n",
    "    cmap='greys'\n",
    ")\n",
    "pb7  * san_diego * flight_path * first_rel * gv.feature.coastline(line_width=3)"
   ]
  },
  {
   "cell_type": "code",
   "execution_count": null,
   "metadata": {},
   "outputs": [],
   "source": [
    "dr = xr.open_dataset('/o3p/macc/nldn/data_netcdf_hours_05deg/2018_6_5_7.nc')\n",
    "amp = dr.amplitude.where(dr.amplitude > 0)\n",
    "\n",
    "plnl13 = (amp).hvplot.image(\n",
    "    x='longitude', y='latitude',  #title='NLDN Peak Current', \n",
    "    xlabel = 'Longitude (°)', ylabel = 'Latitude (°)', clabel = 'Peak Current (kA)',\n",
    "    frame_height=350, \n",
    "    projection=ccrs.PlateCarree(), \n",
    "    geo=True, project=False, #global_extent=True,\n",
    "    xlim=(-140, -60), ylim=(0, 80),  \n",
    "    framewise=False, coastline=True, dynamic=True,\n",
    "    #cmap='Gnuplot'\n",
    "    cmap='cool'\n",
    ")\n",
    "plnl13 * san_diego * flight_path * first_rel"
   ]
  },
  {
   "cell_type": "code",
   "execution_count": null,
   "metadata": {},
   "outputs": [],
   "source": [
    "pl * pl5"
   ]
  },
  {
   "cell_type": "code",
   "execution_count": null,
   "metadata": {},
   "outputs": [],
   "source": [
    "pl * plnl13* san_diego * flight_path * first_rel"
   ]
  },
  {
   "cell_type": "code",
   "execution_count": null,
   "metadata": {},
   "outputs": [],
   "source": [
    "pl * pl5 * plnl13* san_diego * flight_path * first_rel"
   ]
  },
  {
   "cell_type": "code",
   "execution_count": null,
   "metadata": {},
   "outputs": [],
   "source": [
    "pb7 * san_diego * flight_path * first_rel * gv.feature.coastline(line_width=3) * pl5"
   ]
  },
  {
   "cell_type": "code",
   "execution_count": null,
   "metadata": {},
   "outputs": [],
   "source": [
    "pb7 * san_diego * flight_path * first_rel * gv.feature.coastline(line_width=3) * plnl13"
   ]
  },
  {
   "cell_type": "code",
   "execution_count": null,
   "metadata": {},
   "outputs": [],
   "source": [
    "pb7 * san_diego * flight_path * first_rel * gv.feature.coastline(line_width=3) * pl5  * plnl13"
   ]
  },
  {
   "cell_type": "code",
   "execution_count": null,
   "metadata": {},
   "outputs": [],
   "source": [
    "pl * pl5  * plnl13 + pb7 * pl5  * plnl13"
   ]
  },
  {
   "cell_type": "code",
   "execution_count": null,
   "metadata": {},
   "outputs": [],
   "source": [
    "da_all_agregated = da.isel(pointspec=0, time=slice(14,15)).sum(dim=('height', 'time'))\n",
    "pl = da_all_agregated.hvplot.image(\n",
    "    x='longitude', y='latitude',  title='Plume dispersion t-14 + GLM & NLDN', \n",
    "    xlabel='Longitude (°)', ylabel='Latitude (°)', clabel='Res. Time (s)', \n",
    "    frame_height=350, \n",
    "    projection=ccrs.PlateCarree(), \n",
    "    geo=True, project=False, #global_extent=True,\n",
    "    xlim=(-140, -60), ylim=(0, 80), \n",
    "    framewise=False, coastline=True, dynamic=True,\n",
    "    cmap='coolwarm',\n",
    ")\n",
    "pl * san_diego * flight_path * first_rel * frankfurt"
   ]
  },
  {
   "cell_type": "code",
   "execution_count": null,
   "metadata": {},
   "outputs": [],
   "source": [
    "dr = xr.open_dataset('/o3p/macc/test/GLM_array_156_05deg/GLM_array_156_06-07_batch_bis.nc')\n",
    "flash_en = dr.flash_energy.where(dr.flash_energy > 0)\n",
    "flash_num = dr.num_flash.where(dr.num_flash > 0)\n",
    "pl6 = (flash_en).hvplot.image(\n",
    "    x='longitude', y='latitude',  #title='Total flash energy',\n",
    "    xlabel = 'Longitude (°)', ylabel = 'Latitude (°)', clabel = 'Flash energy (J)',\n",
    "    frame_height=350, \n",
    "    projection=ccrs.PlateCarree(),\n",
    "    geo=True, project=False, #global_extent=True,\n",
    "    xlim=(-140, -20), ylim=(-40, 80),       #get_extent(-170, -20, -60, 60),\n",
    "    framewise=False, coastline=True, dynamic=True,\n",
    "    cmap='spring'\n",
    ")\n",
    "pl6  * san_diego * flight_path * first_rel"
   ]
  },
  {
   "cell_type": "code",
   "execution_count": null,
   "metadata": {},
   "outputs": [],
   "source": [
    "pl * pl6  * san_diego * flight_path * first_rel"
   ]
  },
  {
   "cell_type": "code",
   "execution_count": null,
   "metadata": {},
   "outputs": [],
   "source": [
    "import geoviews as gv\n",
    "\n",
    "dt = xr.open_dataset('/o3p/macc/test/BTemp/156/BT-156-06-00-00.nc')\n",
    "dt2 = xr.open_dataset('/o3p/macc/test/BTemp/156/BT-156-06-15-00.nc')\n",
    "dt3 = xr.open_dataset('/o3p/macc/test/BTemp/156/BT-156-06-30-00.nc')\n",
    "dt4 = xr.open_dataset('/o3p/macc/test/BTemp/156/BT-156-06-45-00.nc')\n",
    "\n",
    "b_temp = dt.brightness_temperature.where(dt.brightness_temperature > 0) * 0.01\n",
    "b_temp2 = dt2.brightness_temperature.where(dt2.brightness_temperature > 0) * 0.01\n",
    "b_temp3 = dt3.brightness_temperature.where(dt3.brightness_temperature > 0) * 0.01\n",
    "b_temp4 = dt4.brightness_temperature.where(dt4.brightness_temperature > 0) * 0.01\n",
    "b_1 = np.minimum(b_temp,b_temp2)\n",
    "b_2 = np.minimum(b_temp3,b_temp4)\n",
    "b_all = np.minimum(b_1, b_2)\n",
    "pb6 = (b_all).hvplot.image(\n",
    "    x='longitude', y='latitude',  #title='Brightness Temperature',\n",
    "    xlabel = 'Longitude (°)', ylabel = 'Latitude (°)', clabel = 'B temp (K)',\n",
    "    frame_height=350, \n",
    "    projection=ccrs.PlateCarree(),\n",
    "    geo=True, project=False, #global_extent=True,\n",
    "    xlim=(-140, -60), ylim=(0, 80), #get_extent(-170, -20, -60, 60),\n",
    "    framewise=False, coastline=True, dynamic=True,\n",
    "    cmap='greys'\n",
    ")\n",
    "pb6  * san_diego * flight_path * first_rel * gv.feature.coastline(line_width=3)"
   ]
  },
  {
   "cell_type": "code",
   "execution_count": null,
   "metadata": {},
   "outputs": [],
   "source": [
    "dr = xr.open_dataset('/o3p/macc/nldn/data_netcdf_hours_05deg/2018_6_5_6.nc')\n",
    "amp = dr.amplitude.where(dr.amplitude > 0)\n",
    "\n",
    "plnl14 = (amp).hvplot.image(\n",
    "    x='longitude', y='latitude',  #title='NLDN Peak Current', \n",
    "    xlabel = 'Longitude (°)', ylabel = 'Latitude (°)', clabel = 'Peak Current (kA)',\n",
    "    frame_height=350, \n",
    "    projection=ccrs.PlateCarree(), \n",
    "    geo=True, project=False, #global_extent=True,\n",
    "    xlim=(-140, -20), ylim=(-60, 60), \n",
    "    framewise=False, coastline=True, dynamic=True,\n",
    "    #cmap='Gnuplot'\n",
    "    cmap='cool'\n",
    ")\n",
    "plnl14 * san_diego * flight_path * first_rel"
   ]
  },
  {
   "cell_type": "code",
   "execution_count": null,
   "metadata": {},
   "outputs": [],
   "source": [
    "pl * plnl14 * san_diego * flight_path * first_rel"
   ]
  },
  {
   "cell_type": "code",
   "execution_count": null,
   "metadata": {},
   "outputs": [],
   "source": [
    "pl * pl6 * plnl14 * san_diego * flight_path * first_rel"
   ]
  },
  {
   "cell_type": "code",
   "execution_count": null,
   "metadata": {},
   "outputs": [],
   "source": [
    "pl * pl6 * plnl14 + pb6 * pl6 * plnl14"
   ]
  },
  {
   "cell_type": "code",
   "execution_count": null,
   "metadata": {},
   "outputs": [],
   "source": [
    "pb6 * san_diego * flight_path * first_rel * gv.feature.coastline(line_width=3) * pl6"
   ]
  },
  {
   "cell_type": "code",
   "execution_count": null,
   "metadata": {},
   "outputs": [],
   "source": [
    "pb6 * san_diego * flight_path * first_rel * gv.feature.coastline(line_width=3) * plnl14"
   ]
  },
  {
   "cell_type": "code",
   "execution_count": null,
   "metadata": {},
   "outputs": [],
   "source": [
    "pb6 * san_diego * flight_path * first_rel * gv.feature.coastline(line_width=3) * pl6 * plnl14"
   ]
  },
  {
   "cell_type": "code",
   "execution_count": null,
   "metadata": {},
   "outputs": [],
   "source": [
    "da_all_agregated = da.isel(pointspec=0, time=slice(15,16)).sum(dim=('height', 'time'))\n",
    "pl = da_all_agregated.hvplot.image(\n",
    "    x='longitude', y='latitude',  title='Plume dispersion t-15 + GLM & NLDN', \n",
    "    xlabel='Longitude (°)', ylabel='Latitude (°)', clabel='Res. Time (s)', \n",
    "    frame_height=350, \n",
    "    projection=ccrs.PlateCarree(), \n",
    "    geo=True, project=False, #global_extent=True,\n",
    "    xlim=(-140, -60), ylim=(0, 80), \n",
    "    framewise=False, coastline=True, dynamic=True,\n",
    "    cmap='coolwarm',\n",
    ")\n",
    "pl * san_diego * flight_path * first_rel * frankfurt"
   ]
  },
  {
   "cell_type": "code",
   "execution_count": null,
   "metadata": {},
   "outputs": [],
   "source": [
    "dr = xr.open_dataset('/o3p/macc/test/GLM_array_156_05deg/GLM_array_156_05-06_batch_bis.nc')\n",
    "flash_en = dr.flash_energy.where(dr.flash_energy > 0)\n",
    "flash_num = dr.num_flash.where(dr.num_flash > 0)\n",
    "pl7 = (flash_en).hvplot.image(\n",
    "    x='longitude', y='latitude',  #title='Total flash energy',\n",
    "    xlabel = 'Longitude (°)', ylabel = 'Latitude (°)', clabel = 'Flash energy (J)',\n",
    "    frame_height=350, \n",
    "    projection=ccrs.PlateCarree(),\n",
    "    geo=True, project=False, #global_extent=True,\n",
    "    xlim=(-140, -20), ylim=(-40, 80),       #get_extent(-170, -20, -60, 60),\n",
    "    framewise=False, coastline=True, dynamic=True,\n",
    "    cmap='spring'\n",
    ")\n",
    "pl7  * san_diego * flight_path * first_rel"
   ]
  },
  {
   "cell_type": "code",
   "execution_count": null,
   "metadata": {},
   "outputs": [],
   "source": [
    "pl * pl7  * san_diego * flight_path * first_rel"
   ]
  },
  {
   "cell_type": "code",
   "execution_count": null,
   "metadata": {},
   "outputs": [],
   "source": [
    "import geoviews as gv\n",
    "\n",
    "dt = xr.open_dataset('/o3p/macc/test/BTemp/156/BT-156-05-00-00.nc')\n",
    "dt2 = xr.open_dataset('/o3p/macc/test/BTemp/156/BT-156-05-15-00.nc')\n",
    "dt3 = xr.open_dataset('/o3p/macc/test/BTemp/156/BT-156-05-30-00.nc')\n",
    "dt4 = xr.open_dataset('/o3p/macc/test/BTemp/156/BT-156-05-45-00.nc')\n",
    "\n",
    "b_temp = dt.brightness_temperature.where(dt.brightness_temperature > 0) * 0.01\n",
    "b_temp2 = dt2.brightness_temperature.where(dt2.brightness_temperature > 0) * 0.01\n",
    "b_temp3 = dt3.brightness_temperature.where(dt3.brightness_temperature > 0) * 0.01\n",
    "b_temp4 = dt4.brightness_temperature.where(dt4.brightness_temperature > 0) * 0.01\n",
    "b_1 = np.minimum(b_temp,b_temp2)\n",
    "b_2 = np.minimum(b_temp3,b_temp4)\n",
    "b_all = np.minimum(b_1, b_2)\n",
    "pb5 = (b_all).hvplot.image(\n",
    "    x='longitude', y='latitude',  #title='Brightness Temperature',\n",
    "    xlabel = 'Longitude (°)', ylabel = 'Latitude (°)', clabel = 'B temp (K)',\n",
    "    frame_height=350, \n",
    "    projection=ccrs.PlateCarree(),\n",
    "    geo=True, project=False, #global_extent=True,\n",
    "    xlim=(-140, -60), ylim=(0, 80),       #get_extent(-170, -20, -60, 60),\n",
    "    framewise=False, coastline=True, dynamic=True,\n",
    "    cmap='greys'\n",
    ")\n",
    "pb5  * san_diego * flight_path * first_rel * gv.feature.coastline(line_width=3)"
   ]
  },
  {
   "cell_type": "code",
   "execution_count": null,
   "metadata": {},
   "outputs": [],
   "source": [
    "dr = xr.open_dataset('/o3p/macc/nldn/data_netcdf_hours_05deg/2018_6_5_5.nc')\n",
    "amp = dr.amplitude.where(dr.amplitude > 0)\n",
    "\n",
    "plnl15 = (amp).hvplot.image(\n",
    "    x='longitude', y='latitude',  #title='NLDN Peak Current', \n",
    "    xlabel = 'Longitude (°)', ylabel = 'Latitude (°)', clabel = 'Peak Current (kA)',\n",
    "    frame_height=350, \n",
    "    projection=ccrs.PlateCarree(), \n",
    "    geo=True, project=False, #global_extent=True,\n",
    "    xlim=(-140, -20), ylim=(-60, 60), \n",
    "    framewise=False, coastline=True, dynamic=True,\n",
    "    #cmap='Gnuplot'\n",
    "    cmap='cool'\n",
    ")\n",
    "plnl15 * san_diego * flight_path * first_rel"
   ]
  },
  {
   "cell_type": "code",
   "execution_count": null,
   "metadata": {},
   "outputs": [],
   "source": [
    "pl * plnl15 * san_diego * flight_path * first_rel"
   ]
  },
  {
   "cell_type": "code",
   "execution_count": null,
   "metadata": {},
   "outputs": [],
   "source": [
    "pl * pl7 * plnl15 + pb5 * pl7 * plnl15"
   ]
  },
  {
   "cell_type": "code",
   "execution_count": null,
   "metadata": {},
   "outputs": [],
   "source": [
    "pl * pl7 * plnl15* san_diego * flight_path * first_rel"
   ]
  },
  {
   "cell_type": "code",
   "execution_count": null,
   "metadata": {},
   "outputs": [],
   "source": [
    "pb5 * san_diego * flight_path * first_rel * gv.feature.coastline(line_width=3) * pl7"
   ]
  },
  {
   "cell_type": "code",
   "execution_count": null,
   "metadata": {},
   "outputs": [],
   "source": [
    "pb5 * san_diego * flight_path * first_rel * gv.feature.coastline(line_width=3) * plnl15"
   ]
  },
  {
   "cell_type": "code",
   "execution_count": null,
   "metadata": {},
   "outputs": [],
   "source": [
    "pb5 * san_diego * flight_path * first_rel * gv.feature.coastline(line_width=3) * pl7 * plnl15"
   ]
  },
  {
   "cell_type": "code",
   "execution_count": null,
   "metadata": {},
   "outputs": [],
   "source": [
    "da_all_agregated = da.isel(pointspec=0, time=slice(16,17)).sum(dim=('height', 'time'))\n",
    "pl = da_all_agregated.hvplot.image(\n",
    "    x='longitude', y='latitude',  title='Plume dispersion t-16 + GLM & NLDN', \n",
    "    xlabel='Longitude (°)', ylabel='Latitude (°)', clabel='Res. Time (s)', \n",
    "    frame_height=350, \n",
    "    projection=ccrs.PlateCarree(), \n",
    "    geo=True, project=False, #global_extent=True,\n",
    "    xlim=(-140, -60), ylim=(0, 80), \n",
    "    framewise=False, coastline=True, dynamic=True,\n",
    "    cmap='coolwarm',\n",
    ")\n",
    "pl * san_diego * flight_path * first_rel * frankfurt"
   ]
  },
  {
   "cell_type": "code",
   "execution_count": null,
   "metadata": {},
   "outputs": [],
   "source": [
    "dr = xr.open_dataset('/o3p/macc/test/GLM_array_156_05deg/GLM_array_156_04-05_batch_bis.nc')\n",
    "flash_en = dr.flash_energy.where(dr.flash_energy > 0)\n",
    "flash_num = dr.num_flash.where(dr.num_flash > 0)\n",
    "pl8 = (flash_en).hvplot.image(\n",
    "    x='longitude', y='latitude',  #title='Total flash energy',\n",
    "    xlabel = 'Longitude (°)', ylabel = 'Latitude (°)', clabel = 'Flash energy (J)',\n",
    "    frame_height=350, \n",
    "    projection=ccrs.PlateCarree(),\n",
    "    geo=True, project=False, #global_extent=True,\n",
    "    xlim=(-140, -20), ylim=(-40, 80),       #get_extent(-170, -20, -60, 60),\n",
    "    framewise=False, coastline=True, dynamic=True,\n",
    "    cmap='spring'\n",
    ")\n",
    "pl8  * san_diego * flight_path * first_rel"
   ]
  },
  {
   "cell_type": "code",
   "execution_count": null,
   "metadata": {},
   "outputs": [],
   "source": [
    "pl * pl8  * san_diego * flight_path * first_rel"
   ]
  },
  {
   "cell_type": "code",
   "execution_count": null,
   "metadata": {},
   "outputs": [],
   "source": [
    "import geoviews as gv\n",
    "\n",
    "dt = xr.open_dataset('/o3p/macc/test/BTemp/156/BT-156-04-00-00.nc')\n",
    "dt2 = xr.open_dataset('/o3p/macc/test/BTemp/156/BT-156-04-15-00.nc')\n",
    "dt3 = xr.open_dataset('/o3p/macc/test/BTemp/156/BT-156-04-30-00.nc')\n",
    "dt4 = xr.open_dataset('/o3p/macc/test/BTemp/156/BT-156-04-45-00.nc')\n",
    "\n",
    "b_temp = dt.brightness_temperature.where(dt.brightness_temperature > 0) * 0.01\n",
    "b_temp2 = dt2.brightness_temperature.where(dt2.brightness_temperature > 0) * 0.01\n",
    "b_temp3 = dt3.brightness_temperature.where(dt3.brightness_temperature > 0) * 0.01\n",
    "b_temp4 = dt4.brightness_temperature.where(dt4.brightness_temperature > 0) * 0.01\n",
    "b_1 = np.minimum(b_temp,b_temp2)\n",
    "b_2 = np.minimum(b_temp3,b_temp4)\n",
    "b_all = np.minimum(b_1, b_2)\n",
    "pb4 = (b_all).hvplot.image(\n",
    "    x='longitude', y='latitude',  #title='Brightness Temperature',\n",
    "    xlabel = 'Longitude (°)', ylabel = 'Latitude (°)', clabel = 'B temp (K)',\n",
    "    frame_height=350, \n",
    "    projection=ccrs.PlateCarree(),\n",
    "    geo=True, project=False, #global_extent=True,\n",
    "    xlim=(-140, -60), ylim=(0, 80),       #get_extent(-170, -20, -60, 60),\n",
    "    framewise=False, coastline=True, dynamic=True,\n",
    "    cmap='greys'\n",
    ")\n",
    "pb4  * san_diego * flight_path * first_rel * gv.feature.coastline(line_width=3)"
   ]
  },
  {
   "cell_type": "code",
   "execution_count": null,
   "metadata": {},
   "outputs": [],
   "source": [
    "dr = xr.open_dataset('/o3p/macc/nldn/data_netcdf_hours_05deg/2018_6_5_4.nc')\n",
    "amp = dr.amplitude.where(dr.amplitude > 0)\n",
    "\n",
    "plnl16 = (amp).hvplot.image(\n",
    "    x='longitude', y='latitude',  #title='NLDN Peak Current', \n",
    "    xlabel = 'Longitude (°)', ylabel = 'Latitude (°)', clabel = 'Peak Current (kA)',\n",
    "    frame_height=350, \n",
    "    projection=ccrs.PlateCarree(), \n",
    "    geo=True, project=False, #global_extent=True,\n",
    "    xlim=(-140, -60), ylim=(0, 80),\n",
    "    framewise=False, coastline=True, dynamic=True,\n",
    "    #cmap='Gnuplot'\n",
    "    cmap='cool'\n",
    ")\n",
    "plnl16 * san_diego * flight_path * first_rel"
   ]
  },
  {
   "cell_type": "code",
   "execution_count": null,
   "metadata": {},
   "outputs": [],
   "source": [
    "pl * plnl16* san_diego * flight_path * first_rel"
   ]
  },
  {
   "cell_type": "code",
   "execution_count": null,
   "metadata": {},
   "outputs": [],
   "source": [
    "pl * pl8 + pb4 * pl8"
   ]
  },
  {
   "cell_type": "code",
   "execution_count": null,
   "metadata": {},
   "outputs": [],
   "source": [
    "pl * pl8 * plnl16 + pb4 * pl8 * plnl16"
   ]
  },
  {
   "cell_type": "code",
   "execution_count": null,
   "metadata": {},
   "outputs": [],
   "source": [
    "pl * pl8  * plnl16 *  san_diego * flight_path * first_rel"
   ]
  },
  {
   "cell_type": "code",
   "execution_count": null,
   "metadata": {},
   "outputs": [],
   "source": [
    "pb4  * san_diego * flight_path * first_rel * gv.feature.coastline(line_width=3) * pl8"
   ]
  },
  {
   "cell_type": "code",
   "execution_count": null,
   "metadata": {},
   "outputs": [],
   "source": [
    "pb4  * san_diego * flight_path * first_rel * gv.feature.coastline(line_width=3) * plnl16"
   ]
  },
  {
   "cell_type": "code",
   "execution_count": null,
   "metadata": {},
   "outputs": [],
   "source": [
    "pb4  * san_diego * flight_path * first_rel * gv.feature.coastline(line_width=3) * pl8 * plnl16"
   ]
  },
  {
   "cell_type": "code",
   "execution_count": null,
   "metadata": {},
   "outputs": [],
   "source": [
    "da_all_agregated = da.isel(pointspec=0, time=slice(17,18)).sum(dim=('height', 'time'))\n",
    "pl = da_all_agregated.hvplot.image(\n",
    "    x='longitude', y='latitude',  title='Plume dispersion t-17 + GLM & NLDN', \n",
    "    xlabel='Longitude (°)', ylabel='Latitude (°)', clabel='Res. Time (s)', \n",
    "    frame_height=350, \n",
    "    projection=ccrs.PlateCarree(), \n",
    "    geo=True, project=False, #global_extent=True,\n",
    "    xlim=(-140, -60), ylim=(0, 80), \n",
    "    framewise=False, coastline=True, dynamic=True,\n",
    "    cmap='coolwarm',\n",
    ")\n",
    "pl * san_diego * flight_path * first_rel * frankfurt"
   ]
  },
  {
   "cell_type": "code",
   "execution_count": null,
   "metadata": {},
   "outputs": [],
   "source": [
    "dr = xr.open_dataset('/o3p/macc/test/GLM_array_156_05deg/GLM_array_156_03-04_batch_bis.nc')\n",
    "flash_en = dr.flash_energy.where(dr.flash_energy > 0)\n",
    "flash_num = dr.num_flash.where(dr.num_flash > 0)\n",
    "pl9 = (flash_en).hvplot.image(\n",
    "    x='longitude', y='latitude',  #title='Total flash energy',\n",
    "    xlabel = 'Longitude (°)', ylabel = 'Latitude (°)', clabel = 'Flash energy (J)',\n",
    "    frame_height=350, \n",
    "    projection=ccrs.PlateCarree(),\n",
    "    geo=True, project=False, #global_extent=True,\n",
    "    xlim=(-140, -60), ylim=(0, 80),        #get_extent(-170, -20, -60, 60),\n",
    "    framewise=False, coastline=True, dynamic=True,\n",
    "    cmap='spring'\n",
    ")\n",
    "pl9  * san_diego * flight_path * first_rel"
   ]
  },
  {
   "cell_type": "code",
   "execution_count": null,
   "metadata": {},
   "outputs": [],
   "source": [
    "pl * pl9  * san_diego * flight_path * first_rel"
   ]
  },
  {
   "cell_type": "code",
   "execution_count": null,
   "metadata": {},
   "outputs": [],
   "source": [
    "import geoviews as gv\n",
    "\n",
    "dt = xr.open_dataset('/o3p/macc/test/BTemp/156/BT-156-03-00-00.nc')\n",
    "dt2 = xr.open_dataset('/o3p/macc/test/BTemp/156/BT-156-03-15-00.nc')\n",
    "dt3 = xr.open_dataset('/o3p/macc/test/BTemp/156/BT-156-03-30-00.nc')\n",
    "dt4 = xr.open_dataset('/o3p/macc/test/BTemp/156/BT-156-03-45-00.nc')\n",
    "\n",
    "b_temp = dt.brightness_temperature.where(dt.brightness_temperature > 0) * 0.01\n",
    "b_temp2 = dt2.brightness_temperature.where(dt2.brightness_temperature > 0) * 0.01\n",
    "b_temp3 = dt3.brightness_temperature.where(dt3.brightness_temperature > 0) * 0.01\n",
    "b_temp4 = dt4.brightness_temperature.where(dt4.brightness_temperature > 0) * 0.01\n",
    "b_1 = np.minimum(b_temp,b_temp2)\n",
    "b_2 = np.minimum(b_temp3,b_temp4)\n",
    "b_all = np.minimum(b_1, b_2)\n",
    "pb3 = (b_all).hvplot.image(\n",
    "    x='longitude', y='latitude',  #title='Brightness Temperature',\n",
    "    xlabel = 'Longitude (°)', ylabel = 'Latitude (°)', clabel = 'B temp (K)',\n",
    "    frame_height=350, \n",
    "    projection=ccrs.PlateCarree(),\n",
    "    geo=True, project=False, #global_extent=True,\n",
    "    xlim=(-140, -60), ylim=(0, 80),        #get_extent(-170, -20, -60, 60),\n",
    "    framewise=False, coastline=True, dynamic=True,\n",
    "    cmap='greys'\n",
    ")\n",
    "pb3  * san_diego * flight_path * first_rel * gv.feature.coastline(line_width=3)"
   ]
  },
  {
   "cell_type": "code",
   "execution_count": null,
   "metadata": {},
   "outputs": [],
   "source": [
    "dr = xr.open_dataset('/o3p/macc/nldn/data_netcdf_hours_05deg/2018_6_5_3.nc')\n",
    "amp = dr.amplitude.where(dr.amplitude > 0)\n",
    "\n",
    "plnl17 = (amp).hvplot.image(\n",
    "    x='longitude', y='latitude',  #title='NLDN Peak Current', \n",
    "    xlabel = 'Longitude (°)', ylabel = 'Latitude (°)', clabel = 'Peak Current (kA)',\n",
    "    frame_height=350, \n",
    "    projection=ccrs.PlateCarree(), \n",
    "    geo=True, project=False, #global_extent=True,\n",
    "    xlim=(-140, -60), ylim=(0, 80), \n",
    "    framewise=False, coastline=True, dynamic=True,\n",
    "    #cmap='Gnuplot'\n",
    "    cmap='cool'\n",
    ")\n",
    "plnl17 * san_diego * flight_path * first_rel"
   ]
  },
  {
   "cell_type": "code",
   "execution_count": null,
   "metadata": {},
   "outputs": [],
   "source": [
    "pl * plnl17 * san_diego * flight_path * first_rel"
   ]
  },
  {
   "cell_type": "code",
   "execution_count": null,
   "metadata": {},
   "outputs": [],
   "source": [
    "pl * pl9 * plnl17* san_diego * flight_path * first_rel"
   ]
  },
  {
   "cell_type": "code",
   "execution_count": null,
   "metadata": {},
   "outputs": [],
   "source": [
    "pb3  * san_diego * flight_path * first_rel * gv.feature.coastline(line_width=3)* pl9"
   ]
  },
  {
   "cell_type": "code",
   "execution_count": null,
   "metadata": {},
   "outputs": [],
   "source": [
    "pb3  * san_diego * flight_path * first_rel * gv.feature.coastline(line_width=3)* plnl17"
   ]
  },
  {
   "cell_type": "code",
   "execution_count": null,
   "metadata": {},
   "outputs": [],
   "source": [
    "pb3  * san_diego * flight_path * first_rel * gv.feature.coastline(line_width=3) * pl9 * plnl17"
   ]
  },
  {
   "cell_type": "code",
   "execution_count": null,
   "metadata": {},
   "outputs": [],
   "source": [
    "da_all_agregated = da.isel(pointspec=0, time=slice(18,19)).sum(dim=('height', 'time'))\n",
    "pl = da_all_agregated.hvplot.image(\n",
    "    x='longitude', y='latitude',  title='Plume dispersion t-18 + GLM & NLDN', \n",
    "    xlabel='Longitude (°)', ylabel='Latitude (°)', clabel='Res. Time (s)', \n",
    "    frame_height=350, \n",
    "    projection=ccrs.PlateCarree(), \n",
    "    geo=True, project=False, #global_extent=True,\n",
    "    xlim=(-140, -60), ylim=(0, 80), \n",
    "    framewise=False, coastline=True, dynamic=True,\n",
    "    cmap='coolwarm',\n",
    ")\n",
    "pl * san_diego * flight_path * first_rel * frankfurt"
   ]
  },
  {
   "cell_type": "code",
   "execution_count": null,
   "metadata": {},
   "outputs": [],
   "source": [
    "dr = xr.open_dataset('/o3p/macc/test/GLM_array_156_05deg/GLM_array_156_02-03_batch_bis.nc')\n",
    "flash_en = dr.flash_energy.where(dr.flash_energy > 0)\n",
    "flash_num = dr.num_flash.where(dr.num_flash > 0)\n",
    "pl10 = (flash_en).hvplot.image(\n",
    "    x='longitude', y='latitude',  #title='Total flash energy',\n",
    "    xlabel = 'Longitude (°)', ylabel = 'Latitude (°)', clabel = 'Flash energy (J)',\n",
    "    frame_height=350, \n",
    "    projection=ccrs.PlateCarree(),\n",
    "    geo=True, project=False, #global_extent=True,\n",
    "    xlim=(-140, -60), ylim=(0, 80),      #get_extent(-170, -20, -60, 60),\n",
    "    framewise=False, coastline=True, dynamic=True,\n",
    "    cmap='spring'\n",
    ")\n",
    "pl10  * san_diego * flight_path * first_rel"
   ]
  },
  {
   "cell_type": "code",
   "execution_count": null,
   "metadata": {},
   "outputs": [],
   "source": [
    "pl * pl10  * san_diego * flight_path * first_rel"
   ]
  },
  {
   "cell_type": "code",
   "execution_count": null,
   "metadata": {},
   "outputs": [],
   "source": [
    "import geoviews as gv\n",
    "\n",
    "dt = xr.open_dataset('/o3p/macc/test/BTemp/156/BT-156-02-00-00.nc')\n",
    "dt2 = xr.open_dataset('/o3p/macc/test/BTemp/156/BT-156-02-15-00.nc')\n",
    "dt3 = xr.open_dataset('/o3p/macc/test/BTemp/156/BT-156-02-30-00.nc')\n",
    "dt4 = xr.open_dataset('/o3p/macc/test/BTemp/156/BT-156-02-45-00.nc')\n",
    "\n",
    "b_temp = dt.brightness_temperature.where(dt.brightness_temperature > 0) * 0.01\n",
    "b_temp2 = dt2.brightness_temperature.where(dt2.brightness_temperature > 0) * 0.01\n",
    "b_temp3 = dt3.brightness_temperature.where(dt3.brightness_temperature > 0) * 0.01\n",
    "b_temp4 = dt4.brightness_temperature.where(dt4.brightness_temperature > 0) * 0.01\n",
    "b_1 = np.minimum(b_temp,b_temp2)\n",
    "b_2 = np.minimum(b_temp3,b_temp4)\n",
    "b_all = np.minimum(b_1, b_2)\n",
    "pb2 = (b_all).hvplot.image(\n",
    "    x='longitude', y='latitude',  #title='Brightness Temperature',\n",
    "    xlabel = 'Longitude (°)', ylabel = 'Latitude (°)', clabel = 'B temp (K)',\n",
    "    frame_height=350, \n",
    "    projection=ccrs.PlateCarree(),\n",
    "    geo=True, project=False, #global_extent=True,\n",
    "    xlim=(-140, -60), ylim=(0, 80),        #get_extent(-170, -20, -60, 60),\n",
    "    framewise=False, coastline=True, dynamic=True,\n",
    "    cmap='greys'\n",
    ")\n",
    "pb2  * san_diego * flight_path * first_rel * gv.feature.coastline(line_width=3)"
   ]
  },
  {
   "cell_type": "code",
   "execution_count": null,
   "metadata": {},
   "outputs": [],
   "source": [
    "dr = xr.open_dataset('/o3p/macc/nldn/data_netcdf_hours_05deg/2018_6_5_2.nc')\n",
    "amp = dr.amplitude.where(dr.amplitude > 0)\n",
    "\n",
    "plnl18 = (amp).hvplot.image(\n",
    "    x='longitude', y='latitude',  #title='NLDN Peak Current', \n",
    "    xlabel = 'Longitude (°)', ylabel = 'Latitude (°)', clabel = 'Peak Current (kA)',\n",
    "    frame_height=350, \n",
    "    projection=ccrs.PlateCarree(), \n",
    "    geo=True, project=False, #global_extent=True,\n",
    "    xlim=(-140, -60), ylim=(0, 80),  \n",
    "    framewise=False, coastline=True, dynamic=True,\n",
    "    #cmap='Gnuplot'\n",
    "    cmap='cool'\n",
    ")\n",
    "plnl18 * san_diego * flight_path * first_rel"
   ]
  },
  {
   "cell_type": "code",
   "execution_count": null,
   "metadata": {},
   "outputs": [],
   "source": [
    "pl * plnl18 * san_diego * flight_path * first_rel"
   ]
  },
  {
   "cell_type": "code",
   "execution_count": null,
   "metadata": {},
   "outputs": [],
   "source": [
    "pl * pl10 * plnl18 * san_diego * flight_path * first_rel"
   ]
  },
  {
   "cell_type": "code",
   "execution_count": null,
   "metadata": {},
   "outputs": [],
   "source": [
    "pb2  * san_diego * flight_path * first_rel * gv.feature.coastline(line_width=3)* pl10"
   ]
  },
  {
   "cell_type": "code",
   "execution_count": null,
   "metadata": {},
   "outputs": [],
   "source": [
    "pb2  * san_diego * flight_path * first_rel * gv.feature.coastline(line_width=3)* plnl18"
   ]
  },
  {
   "cell_type": "code",
   "execution_count": null,
   "metadata": {},
   "outputs": [],
   "source": [
    "pb2  * san_diego * flight_path * first_rel * gv.feature.coastline(line_width=3)* pl10 * plnl18"
   ]
  },
  {
   "cell_type": "code",
   "execution_count": null,
   "metadata": {},
   "outputs": [],
   "source": [
    "da_all_agregated = da.isel(pointspec=0, time=slice(19,20)).sum(dim=('height', 'time'))\n",
    "pl = da_all_agregated.hvplot.image(\n",
    "    x='longitude', y='latitude',  title='Plume dispersion t-19 + GLM & NLDN', \n",
    "    xlabel='Longitude (°)', ylabel='Latitude (°)', clabel='Res. Time (s)', \n",
    "    frame_height=350, \n",
    "    projection=ccrs.PlateCarree(), \n",
    "    geo=True, project=False, #global_extent=True,\n",
    "    xlim=(-140, -60), ylim=(0, 80), \n",
    "    framewise=False, coastline=True, dynamic=True,\n",
    "    cmap='coolwarm',\n",
    ")\n",
    "pl * san_diego * flight_path * first_rel * frankfurt"
   ]
  },
  {
   "cell_type": "code",
   "execution_count": null,
   "metadata": {},
   "outputs": [],
   "source": [
    "dr = xr.open_dataset('/o3p/macc/test/GLM_array_156_05deg/GLM_array_156_01-02_batch_bis.nc')\n",
    "flash_en = dr.flash_energy.where(dr.flash_energy > 0)\n",
    "flash_num = dr.num_flash.where(dr.num_flash > 0)\n",
    "pl11 = (flash_en).hvplot.image(\n",
    "    x='longitude', y='latitude',  #title='Total flash energy',\n",
    "    xlabel = 'Longitude (°)', ylabel = 'Latitude (°)', clabel = 'Flash energy (J)',\n",
    "    frame_height=350, \n",
    "    projection=ccrs.PlateCarree(),\n",
    "    geo=True, project=False, #global_extent=True,\n",
    "    xlim=(-140, -60), ylim=(0, 80),       #get_extent(-170, -20, -60, 60),\n",
    "    framewise=False, coastline=True, dynamic=True,\n",
    "    cmap='spring'\n",
    ")\n",
    "pl11  * san_diego * flight_path * first_rel"
   ]
  },
  {
   "cell_type": "code",
   "execution_count": null,
   "metadata": {},
   "outputs": [],
   "source": [
    "pl * pl11  * san_diego * flight_path * first_rel"
   ]
  },
  {
   "cell_type": "code",
   "execution_count": null,
   "metadata": {},
   "outputs": [],
   "source": [
    "import geoviews as gv\n",
    "\n",
    "dt = xr.open_dataset('/o3p/macc/test/BTemp/156/BT-156-01-00-00.nc')\n",
    "dt2 = xr.open_dataset('/o3p/macc/test/BTemp/156/BT-156-01-15-00.nc')\n",
    "dt3 = xr.open_dataset('/o3p/macc/test/BTemp/156/BT-156-01-30-00.nc')\n",
    "dt4 = xr.open_dataset('/o3p/macc/test/BTemp/156/BT-156-01-45-00.nc')\n",
    "\n",
    "b_temp = dt.brightness_temperature.where(dt.brightness_temperature > 0) * 0.01\n",
    "b_temp2 = dt2.brightness_temperature.where(dt2.brightness_temperature > 0) * 0.01\n",
    "b_temp3 = dt3.brightness_temperature.where(dt3.brightness_temperature > 0) * 0.01\n",
    "b_temp4 = dt4.brightness_temperature.where(dt4.brightness_temperature > 0) * 0.01\n",
    "b_1 = np.minimum(b_temp,b_temp2)\n",
    "b_2 = np.minimum(b_temp3,b_temp4)\n",
    "b_all = np.minimum(b_1, b_2)\n",
    "pb1 = (b_all).hvplot.image(\n",
    "    x='longitude', y='latitude',  #title='Brightness Temperature',\n",
    "    xlabel = 'Longitude (°)', ylabel = 'Latitude (°)', clabel = 'B temp (K)',\n",
    "    frame_height=350, \n",
    "    projection=ccrs.PlateCarree(),\n",
    "    geo=True, project=False, #global_extent=True,\n",
    "    xlim=(-140, -60), ylim=(0, 80),       #get_extent(-170, -20, -60, 60),\n",
    "    framewise=False, coastline=True, dynamic=True,\n",
    "    cmap='greys'\n",
    ")\n",
    "pb1  * san_diego * flight_path * first_rel * gv.feature.coastline(line_width=3)"
   ]
  },
  {
   "cell_type": "code",
   "execution_count": null,
   "metadata": {},
   "outputs": [],
   "source": [
    "dr = xr.open_dataset('/o3p/macc/nldn/data_netcdf_hours_05deg/2018_6_5_1.nc')\n",
    "amp = dr.amplitude.where(dr.amplitude > 0)\n",
    "\n",
    "plnl19 = (amp).hvplot.image(\n",
    "    x='longitude', y='latitude',  #title='NLDN Peak Current', \n",
    "    xlabel = 'Longitude (°)', ylabel = 'Latitude (°)', clabel = 'Peak Current (kA)',\n",
    "    frame_height=350, \n",
    "    projection=ccrs.PlateCarree(), \n",
    "    geo=True, project=False, #global_extent=True,\n",
    "    xlim=(-140, -60), ylim=(0, 80),\n",
    "    framewise=False, coastline=True, dynamic=True,\n",
    "    #cmap='Gnuplot'\n",
    "    cmap='cool'\n",
    ")\n",
    "plnl19 * san_diego * flight_path * first_rel"
   ]
  },
  {
   "cell_type": "code",
   "execution_count": null,
   "metadata": {},
   "outputs": [],
   "source": [
    "pl * plnl19 * san_diego * flight_path * first_rel"
   ]
  },
  {
   "cell_type": "code",
   "execution_count": null,
   "metadata": {},
   "outputs": [],
   "source": [
    "pl * pl11 * plnl19* san_diego * flight_path * first_rel"
   ]
  },
  {
   "cell_type": "code",
   "execution_count": null,
   "metadata": {},
   "outputs": [],
   "source": [
    "pb1  * san_diego * flight_path * first_rel * gv.feature.coastline(line_width=3) * pl11"
   ]
  },
  {
   "cell_type": "code",
   "execution_count": null,
   "metadata": {},
   "outputs": [],
   "source": [
    "pb1  * san_diego * flight_path * first_rel * gv.feature.coastline(line_width=3) * plnl19"
   ]
  },
  {
   "cell_type": "code",
   "execution_count": null,
   "metadata": {},
   "outputs": [],
   "source": [
    "pb1  * san_diego * flight_path * first_rel * gv.feature.coastline(line_width=3) * pl11 * plnl19"
   ]
  },
  {
   "cell_type": "code",
   "execution_count": null,
   "metadata": {},
   "outputs": [],
   "source": [
    "da_all_agregated = da.isel(pointspec=0, time=slice(20,21)).sum(dim=('height', 'time'))\n",
    "pl = da_all_agregated.hvplot.image(\n",
    "    x='longitude', y='latitude',  title='Plume dispersion t-20 + GLM & NLDN', \n",
    "    xlabel='Longitude (°)', ylabel='Latitude (°)', clabel='Res. Time (s)', \n",
    "    frame_height=350, \n",
    "    projection=ccrs.PlateCarree(), \n",
    "    geo=True, project=False, #global_extent=True,\n",
    "    xlim=(-140, -60), ylim=(0, 80), \n",
    "    framewise=False, coastline=True, dynamic=True,\n",
    "    cmap='coolwarm',\n",
    ")\n",
    "pl * san_diego * flight_path * first_rel * frankfurt"
   ]
  },
  {
   "cell_type": "code",
   "execution_count": null,
   "metadata": {},
   "outputs": [],
   "source": [
    "dr = xr.open_dataset('/o3p/macc/test/GLM_array_156_05deg/GLM_array_156_00-01_batch_bis.nc')\n",
    "flash_en = dr.flash_energy.where(dr.flash_energy > 0)\n",
    "flash_num = dr.num_flash.where(dr.num_flash > 0)\n",
    "pl12 = (flash_en).hvplot.image(\n",
    "    x='longitude', y='latitude',  #title='Total flash energy',\n",
    "    xlabel = 'Longitude (°)', ylabel = 'Latitude (°)', clabel = 'Flash energy (J)',\n",
    "    frame_height=350, \n",
    "    projection=ccrs.PlateCarree(),\n",
    "    geo=True, project=False, #global_extent=True,\n",
    "    xlim=(-140, -60), ylim=(0, 80),        #get_extent(-170, -20, -60, 60),\n",
    "    framewise=False, coastline=True, dynamic=True,\n",
    "    cmap='spring'\n",
    ")\n",
    "pl12  * san_diego * flight_path * first_rel"
   ]
  },
  {
   "cell_type": "code",
   "execution_count": null,
   "metadata": {},
   "outputs": [],
   "source": [
    "pl * pl12  * san_diego * flight_path * first_rel"
   ]
  },
  {
   "cell_type": "code",
   "execution_count": null,
   "metadata": {},
   "outputs": [],
   "source": [
    "import geoviews as gv\n",
    "\n",
    "dt = xr.open_dataset('/o3p/macc/test/BTemp/156/BT-156-00-00-00.nc')\n",
    "dt2 = xr.open_dataset('/o3p/macc/test/BTemp/156/BT-156-00-15-00.nc')\n",
    "dt3 = xr.open_dataset('/o3p/macc/test/BTemp/156/BT-156-00-30-00.nc')\n",
    "dt4 = xr.open_dataset('/o3p/macc/test/BTemp/156/BT-156-00-45-00.nc')\n",
    "\n",
    "b_temp = dt.brightness_temperature.where(dt.brightness_temperature > 0) * 0.01\n",
    "b_temp2 = dt2.brightness_temperature.where(dt2.brightness_temperature > 0) * 0.01\n",
    "b_temp3 = dt3.brightness_temperature.where(dt3.brightness_temperature > 0) * 0.01\n",
    "b_temp4 = dt4.brightness_temperature.where(dt4.brightness_temperature > 0) * 0.01\n",
    "b_1 = np.minimum(b_temp,b_temp2)\n",
    "b_2 = np.minimum(b_temp3,b_temp4)\n",
    "b_all = np.minimum(b_1, b_2)\n",
    "pb0 = (b_all).hvplot.image(\n",
    "    x='longitude', y='latitude',  #title='Brightness Temperature',\n",
    "    xlabel = 'Longitude (°)', ylabel = 'Latitude (°)', clabel = 'B temp (K)',\n",
    "    frame_height=350, \n",
    "    projection=ccrs.PlateCarree(),\n",
    "    geo=True, project=False, #global_extent=True,\n",
    "    xlim=(-140, -60), ylim=(0, 80),        #get_extent(-170, -20, -60, 60),\n",
    "    framewise=False, coastline=True, dynamic=True,\n",
    "    cmap='greys'\n",
    ")\n",
    "pb0  * san_diego * flight_path * first_rel * gv.feature.coastline(line_width=3)"
   ]
  },
  {
   "cell_type": "code",
   "execution_count": null,
   "metadata": {},
   "outputs": [],
   "source": [
    "dr = xr.open_dataset('/o3p/macc/nldn/data_netcdf_hours_05deg/2018_6_5_0.nc')\n",
    "amp = dr.amplitude.where(dr.amplitude > 0)\n",
    "\n",
    "plnl20 = (amp).hvplot.image(\n",
    "    x='longitude', y='latitude',  #title='NLDN Peak Current', \n",
    "    xlabel = 'Longitude (°)', ylabel = 'Latitude (°)', clabel = 'Peak Current (kA)',\n",
    "    frame_height=350, \n",
    "    projection=ccrs.PlateCarree(), \n",
    "    geo=True, project=False, #global_extent=True,\n",
    "    xlim=(-140, -60), ylim=(0, 80),  \n",
    "    framewise=False, coastline=True, dynamic=True,\n",
    "    #cmap='Gnuplot'\n",
    "    cmap='cool'\n",
    ")\n",
    "plnl20 * san_diego * flight_path * first_rel"
   ]
  },
  {
   "cell_type": "code",
   "execution_count": null,
   "metadata": {},
   "outputs": [],
   "source": [
    "pl * plnl20 *  san_diego * flight_path * first_rel"
   ]
  },
  {
   "cell_type": "code",
   "execution_count": null,
   "metadata": {},
   "outputs": [],
   "source": [
    "pl * pl12 * plnl20*  san_diego * flight_path * first_rel"
   ]
  },
  {
   "cell_type": "code",
   "execution_count": null,
   "metadata": {},
   "outputs": [],
   "source": [
    "pl * plnl20"
   ]
  },
  {
   "cell_type": "code",
   "execution_count": null,
   "metadata": {},
   "outputs": [],
   "source": [
    "pb0  * san_diego * flight_path * first_rel * gv.feature.coastline(line_width=3) * pl12"
   ]
  },
  {
   "cell_type": "code",
   "execution_count": null,
   "metadata": {},
   "outputs": [],
   "source": [
    "pb0  * san_diego * flight_path * first_rel * gv.feature.coastline(line_width=3) * plnl20"
   ]
  },
  {
   "cell_type": "code",
   "execution_count": null,
   "metadata": {},
   "outputs": [],
   "source": [
    "pb0  * san_diego * flight_path * first_rel * gv.feature.coastline(line_width=3) * pl12 * plnl20"
   ]
  },
  {
   "cell_type": "code",
   "execution_count": null,
   "metadata": {},
   "outputs": [],
   "source": [
    "# Hourly views from -24 hrs to -48 hrs for release 1\n",
    "# Hour is -24 == 24/05/2015 @ 21h00\n",
    "da_all_agregated = da.isel(pointspec=0, time=slice(10,21)).sum(dim=('height', 'time'))\n",
    "pl = da_all_agregated.hvplot.image(\n",
    "    x='longitude', y='latitude',  title='Plume dispersion t-10 -> t-21 h + GLM & NLDN', # + GLM & NLDN\n",
    "    xlabel='Longitude (°)', ylabel='Latitude (°)', clabel='Res. Time (s)', \n",
    "    frame_height=350, \n",
    "    projection=ccrs.PlateCarree(), \n",
    "    geo=True, project=False, #global_extent=True,\n",
    "    xlim=(-120, -90), ylim=(40, 55), \n",
    "    framewise=False, coastline=True, dynamic=True,\n",
    "    cmap='coolwarm',\n",
    ")\n",
    "pl * gv.feature.borders * san_diego * flight_path * first_rel * frankfurt"
   ]
  },
  {
   "cell_type": "code",
   "execution_count": null,
   "metadata": {},
   "outputs": [],
   "source": [
    "da_all_agregated = da.isel(pointspec=0, time=slice(15,16)).sum(dim=('height', 'time'))\n",
    "pl = da_all_agregated.hvplot.image(\n",
    "    x='longitude', y='latitude',  title='Plume dispersion t-15 -> t-16 h', # + GLM & NLDN\n",
    "    xlabel='Longitude (°)', ylabel='Latitude (°)', clabel='Res. Time (s)', \n",
    "    frame_height=350, \n",
    "    projection=ccrs.PlateCarree(), \n",
    "    geo=True, project=False, #global_extent=True,\n",
    "    xlim=(-115, -90), ylim=(44, 54), \n",
    "    framewise=False, coastline=True, dynamic=True,\n",
    "    cmap='coolwarm',\n",
    ")\n",
    "pl * gv.feature.borders * san_diego * flight_path * first_rel * frankfurt"
   ]
  },
  {
   "cell_type": "code",
   "execution_count": null,
   "metadata": {},
   "outputs": [],
   "source": []
  },
  {
   "cell_type": "code",
   "execution_count": null,
   "metadata": {},
   "outputs": [],
   "source": []
  },
  {
   "cell_type": "code",
   "execution_count": null,
   "metadata": {},
   "outputs": [],
   "source": [
    "da_all_agregated = da.isel(pointspec=0, time=slice(10,21)).sum(dim=('height', 'time'))\n",
    "pl = da_all_agregated.hvplot.image(\n",
    "    x='longitude', y='latitude',  title='Plume dispersion t-10 -> t-21 h + GLM & NLDN', # + GLM & NLDN\n",
    "    xlabel='Longitude (°)', ylabel='Latitude (°)', clabel='Res. Time (s)', \n",
    "    frame_height=350, \n",
    "    projection=ccrs.PlateCarree(), \n",
    "    geo=True, project=False, #global_extent=True,\n",
    "    xlim=(-140, -60), ylim=(0, 80), \n",
    "    framewise=False, coastline=True, dynamic=True,\n",
    "    cmap='coolwarm',\n",
    ")\n",
    "pl * gv.feature.borders * san_diego * flight_path * first_rel * frankfurt"
   ]
  },
  {
   "cell_type": "code",
   "execution_count": null,
   "metadata": {},
   "outputs": [],
   "source": [
    "pl * gv.feature.borders * san_diego * flight_path * first_rel * frankfurt * gv.feature.coastline"
   ]
  },
  {
   "cell_type": "code",
   "execution_count": null,
   "metadata": {},
   "outputs": [],
   "source": [
    "pl * gv.feature.borders * pl2 * pl3 * pl4  * pl5 * pl6 * pl7 * pl8 * pl9 * pl10 * pl11 * pl12 * san_diego * flight_path * first_rel"
   ]
  },
  {
   "cell_type": "code",
   "execution_count": null,
   "metadata": {},
   "outputs": [],
   "source": []
  },
  {
   "cell_type": "code",
   "execution_count": null,
   "metadata": {},
   "outputs": [],
   "source": [
    "pl * gv.feature.borders * pl2 * pl3 * pl4  * pl5 * pl6 * pl7 * pl8 * pl9 * pl10 * pl11 * pl12 * plnl10 * plnl13 * plnl14 * plnl15 * plnl16 * plnl17 * plnl18 * plnl19 * plnl20 * san_diego * flight_path * first_rel"
   ]
  },
  {
   "cell_type": "code",
   "execution_count": null,
   "metadata": {},
   "outputs": [],
   "source": [
    "pl * gv.feature.borders * plnl10 * plnl13 * plnl14 * plnl15 * plnl16 * plnl17 * plnl18 * plnl19 * plnl20 * san_diego * flight_path * first_rel"
   ]
  },
  {
   "cell_type": "code",
   "execution_count": null,
   "metadata": {},
   "outputs": [],
   "source": [
    "import geoviews as gv\n",
    "\n",
    "dt0 = xr.open_dataset('/o3p/macc/test/BTemp/156/BT-156-00-00-00.nc')\n",
    "dt02 = xr.open_dataset('/o3p/macc/test/BTemp/156/BT-156-00-15-00.nc')\n",
    "dt03 = xr.open_dataset('/o3p/macc/test/BTemp/156/BT-156-00-30-00.nc')\n",
    "dt04 = xr.open_dataset('/o3p/macc/test/BTemp/156/BT-156-00-45-00.nc')\n",
    "\n",
    "dt1 = xr.open_dataset('/o3p/macc/test/BTemp/156/BT-156-01-00-00.nc')\n",
    "dt12 = xr.open_dataset('/o3p/macc/test/BTemp/156/BT-156-01-15-00.nc')\n",
    "dt13 = xr.open_dataset('/o3p/macc/test/BTemp/156/BT-156-01-30-00.nc')\n",
    "dt14 = xr.open_dataset('/o3p/macc/test/BTemp/156/BT-156-01-45-00.nc')\n",
    "\n",
    "dt2 = xr.open_dataset('/o3p/macc/test/BTemp/156/BT-156-02-00-00.nc')\n",
    "dt22 = xr.open_dataset('/o3p/macc/test/BTemp/156/BT-156-02-15-00.nc')\n",
    "dt23 = xr.open_dataset('/o3p/macc/test/BTemp/156/BT-156-02-30-00.nc')\n",
    "dt24 = xr.open_dataset('/o3p/macc/test/BTemp/156/BT-156-02-45-00.nc')\n",
    "\n",
    "dt3 = xr.open_dataset('/o3p/macc/test/BTemp/156/BT-156-03-00-00.nc')\n",
    "dt32 = xr.open_dataset('/o3p/macc/test/BTemp/156/BT-156-03-15-00.nc')\n",
    "dt33 = xr.open_dataset('/o3p/macc/test/BTemp/156/BT-156-03-30-00.nc')\n",
    "dt34 = xr.open_dataset('/o3p/macc/test/BTemp/156/BT-156-03-45-00.nc')\n",
    "\n",
    "dt4 = xr.open_dataset('/o3p/macc/test/BTemp/156/BT-156-04-00-00.nc')\n",
    "dt42 = xr.open_dataset('/o3p/macc/test/BTemp/156/BT-156-04-15-00.nc')\n",
    "dt43 = xr.open_dataset('/o3p/macc/test/BTemp/156/BT-156-04-30-00.nc')\n",
    "dt44 = xr.open_dataset('/o3p/macc/test/BTemp/156/BT-156-04-45-00.nc')\n",
    "\n",
    "dt5 = xr.open_dataset('/o3p/macc/test/BTemp/156/BT-156-05-00-00.nc')\n",
    "dt52 = xr.open_dataset('/o3p/macc/test/BTemp/156/BT-156-05-15-00.nc')\n",
    "dt53 = xr.open_dataset('/o3p/macc/test/BTemp/156/BT-156-05-30-00.nc')\n",
    "dt54 = xr.open_dataset('/o3p/macc/test/BTemp/156/BT-156-05-45-00.nc')\n",
    "\n",
    "dt6 = xr.open_dataset('/o3p/macc/test/BTemp/156/BT-156-06-00-00.nc')\n",
    "dt62 = xr.open_dataset('/o3p/macc/test/BTemp/156/BT-156-06-15-00.nc')\n",
    "dt63 = xr.open_dataset('/o3p/macc/test/BTemp/156/BT-156-06-30-00.nc')\n",
    "dt64 = xr.open_dataset('/o3p/macc/test/BTemp/156/BT-156-06-45-00.nc')\n",
    "\n",
    "dt7 = xr.open_dataset('/o3p/macc/test/BTemp/156/BT-156-07-00-00.nc')\n",
    "dt72 = xr.open_dataset('/o3p/macc/test/BTemp/156/BT-156-07-15-00.nc')\n",
    "dt73 = xr.open_dataset('/o3p/macc/test/BTemp/156/BT-156-07-30-00.nc')\n",
    "dt74 = xr.open_dataset('/o3p/macc/test/BTemp/156/BT-156-07-45-00.nc')\n",
    "\n",
    "dt8 = xr.open_dataset('/o3p/macc/test/BTemp/156/BT-156-08-00-00.nc')\n",
    "dt82 = xr.open_dataset('/o3p/macc/test/BTemp/156/BT-156-08-15-00.nc')\n",
    "dt83 = xr.open_dataset('/o3p/macc/test/BTemp/156/BT-156-08-30-00.nc')\n",
    "dt84 = xr.open_dataset('/o3p/macc/test/BTemp/156/BT-156-08-45-00.nc')\n",
    "\n",
    "dt9 = xr.open_dataset('/o3p/macc/test/BTemp/156/BT-156-09-00-00.nc')\n",
    "dt92 = xr.open_dataset('/o3p/macc/test/BTemp/156/BT-156-09-15-00.nc')\n",
    "dt93 = xr.open_dataset('/o3p/macc/test/BTemp/156/BT-156-09-30-00.nc')\n",
    "dt94 = xr.open_dataset('/o3p/macc/test/BTemp/156/BT-156-09-45-00.nc')\n",
    "\n",
    "dt10 = xr.open_dataset('/o3p/macc/test/BTemp/156/BT-156-10-00-00.nc')\n",
    "dt102 = xr.open_dataset('/o3p/macc/test/BTemp/156/BT-156-10-15-00.nc')\n",
    "dt103 = xr.open_dataset('/o3p/macc/test/BTemp/156/BT-156-10-30-00.nc')\n",
    "dt104 = xr.open_dataset('/o3p/macc/test/BTemp/156/BT-156-10-45-00.nc')\n",
    "\n",
    "b_temp0 = dt0.brightness_temperature.where(dt0.brightness_temperature > 0) * 0.01\n",
    "b_temp02 = dt02.brightness_temperature.where(dt02.brightness_temperature > 0) * 0.01\n",
    "b_temp03 = dt03.brightness_temperature.where(dt03.brightness_temperature > 0) * 0.01\n",
    "b_temp04 = dt04.brightness_temperature.where(dt04.brightness_temperature > 0) * 0.01\n",
    "\n",
    "b_temp1 = dt1.brightness_temperature.where(dt1.brightness_temperature > 0) * 0.01\n",
    "b_temp12 = dt12.brightness_temperature.where(dt12.brightness_temperature > 0) * 0.01\n",
    "b_temp13 = dt13.brightness_temperature.where(dt13.brightness_temperature > 0) * 0.01\n",
    "b_temp14 = dt14.brightness_temperature.where(dt14.brightness_temperature > 0) * 0.01\n",
    "\n",
    "b_temp2 = dt2.brightness_temperature.where(dt2.brightness_temperature > 0) * 0.01\n",
    "b_temp22 = dt22.brightness_temperature.where(dt22.brightness_temperature > 0) * 0.01\n",
    "b_temp23 = dt23.brightness_temperature.where(dt23.brightness_temperature > 0) * 0.01\n",
    "b_temp24 = dt24.brightness_temperature.where(dt24.brightness_temperature > 0) * 0.01\n",
    "\n",
    "b_temp3 = dt3.brightness_temperature.where(dt3.brightness_temperature > 0) * 0.01\n",
    "b_temp32 = dt32.brightness_temperature.where(dt32.brightness_temperature > 0) * 0.01\n",
    "b_temp33 = dt33.brightness_temperature.where(dt33.brightness_temperature > 0) * 0.01\n",
    "b_temp34 = dt34.brightness_temperature.where(dt34.brightness_temperature > 0) * 0.01\n",
    "\n",
    "b_temp4 = dt4.brightness_temperature.where(dt4.brightness_temperature > 0) * 0.01\n",
    "b_temp42 = dt42.brightness_temperature.where(dt42.brightness_temperature > 0) * 0.01\n",
    "b_temp43 = dt43.brightness_temperature.where(dt43.brightness_temperature > 0) * 0.01\n",
    "b_temp44 = dt44.brightness_temperature.where(dt44.brightness_temperature > 0) * 0.01\n",
    "\n",
    "b_temp5 = dt5.brightness_temperature.where(dt5.brightness_temperature > 0) * 0.01\n",
    "b_temp52 = dt52.brightness_temperature.where(dt52.brightness_temperature > 0) * 0.01\n",
    "b_temp53 = dt53.brightness_temperature.where(dt53.brightness_temperature > 0) * 0.01\n",
    "b_temp54 = dt54.brightness_temperature.where(dt54.brightness_temperature > 0) * 0.01\n",
    "\n",
    "b_temp6 = dt6.brightness_temperature.where(dt6.brightness_temperature > 0) * 0.01\n",
    "b_temp62 = dt62.brightness_temperature.where(dt62.brightness_temperature > 0) * 0.01\n",
    "b_temp63 = dt63.brightness_temperature.where(dt63.brightness_temperature > 0) * 0.01\n",
    "b_temp64 = dt64.brightness_temperature.where(dt4.brightness_temperature > 0) * 0.01\n",
    "\n",
    "b_temp7 = dt7.brightness_temperature.where(dt7.brightness_temperature > 0) * 0.01\n",
    "b_temp72 = dt72.brightness_temperature.where(dt72.brightness_temperature > 0) * 0.01\n",
    "b_temp73 = dt73.brightness_temperature.where(dt73.brightness_temperature > 0) * 0.01\n",
    "b_temp74 = dt74.brightness_temperature.where(dt74.brightness_temperature > 0) * 0.01\n",
    "\n",
    "b_temp8 = dt8.brightness_temperature.where(dt8.brightness_temperature > 0) * 0.01\n",
    "b_temp82 = dt82.brightness_temperature.where(dt82.brightness_temperature > 0) * 0.01\n",
    "b_temp83 = dt83.brightness_temperature.where(dt83.brightness_temperature > 0) * 0.01\n",
    "b_temp84 = dt84.brightness_temperature.where(dt84.brightness_temperature > 0) * 0.01\n",
    "\n",
    "b_temp9 = dt9.brightness_temperature.where(dt9.brightness_temperature > 0) * 0.01\n",
    "b_temp92 = dt92.brightness_temperature.where(dt92.brightness_temperature > 0) * 0.01\n",
    "b_temp93 = dt93.brightness_temperature.where(dt93.brightness_temperature > 0) * 0.01\n",
    "b_temp94 = dt94.brightness_temperature.where(dt94.brightness_temperature > 0) * 0.01\n",
    "\n",
    "b_temp10 = dt10.brightness_temperature.where(dt10.brightness_temperature > 0) * 0.01\n",
    "b_temp102 = dt102.brightness_temperature.where(dt102.brightness_temperature > 0) * 0.01\n",
    "b_temp103 = dt103.brightness_temperature.where(dt103.brightness_temperature > 0) * 0.01\n",
    "b_temp104 = dt104.brightness_temperature.where(dt104.brightness_temperature > 0) * 0.01\n",
    "\n",
    "#b_all = (b_temp0+b_temp02+b_temp03+b_temp04+b_temp1+b_temp12+b_temp13+b_temp14+b_temp2+b_temp22+b_temp23+b_temp24+b_temp3+b_temp32+b_temp33+b_temp34+\n",
    "#        b_temp4+b_temp42+b_temp43+b_temp44+b_temp5+b_temp52+b_temp53+b_temp54+b_temp6+b_temp62+b_temp63+b_temp64+b_temp7+b_temp72+b_temp73+b_temp74+\n",
    "#        b_temp8+b_temp82+b_temp83+b_temp84+b_temp9+b_temp92+b_temp93+b_temp94+b_temp10+b_temp102+b_temp103+b_temp104)/44\n",
    "\n",
    "b_0 = np.minimum(b_temp0,b_temp02)\n",
    "b_01 = np.minimum(b_temp03,b_temp04)\n",
    "b_001 = np.minimum(b_0,b_01)\n",
    "\n",
    "b_1 = np.minimum(b_temp1,b_temp12)\n",
    "b_11 = np.minimum(b_temp13,b_temp14)\n",
    "b_111 = np.minimum(b_1,b_11)\n",
    "\n",
    "b_a1 = np.minimum(b_001,b_111)\n",
    "\n",
    "b_2 = np.minimum(b_temp2,b_temp22)\n",
    "b_22 = np.minimum(b_temp23,b_temp24)\n",
    "b_222 = np.minimum(b_2,b_22)\n",
    "\n",
    "b_3 = np.minimum(b_temp3,b_temp32)\n",
    "b_33 = np.minimum(b_temp33,b_temp34)\n",
    "b_333 = np.minimum(b_3,b_33)\n",
    "\n",
    "b_b1 = np.minimum(b_222,b_333)\n",
    "b_ab = np.minimum(b_a1,b_b1)\n",
    "\n",
    "b_4 = np.minimum(b_temp4,b_temp42)\n",
    "b_44 = np.minimum(b_temp43,b_temp44)\n",
    "b_444 = np.minimum(b_4,b_44)\n",
    "\n",
    "b_5 = np.minimum(b_temp5,b_temp52)\n",
    "b_55 = np.minimum(b_temp53,b_temp54)\n",
    "b_555 = np.minimum(b_5,b_55)\n",
    "\n",
    "b_c1 = np.minimum(b_444,b_555)\n",
    "\n",
    "b_6 = np.minimum(b_temp6,b_temp62)\n",
    "b_66 = np.minimum(b_temp63,b_temp64)\n",
    "b_666 = np.minimum(b_6,b_66)\n",
    "\n",
    "b_7 = np.minimum(b_temp7,b_temp72)\n",
    "b_77 = np.minimum(b_temp73,b_temp74)\n",
    "b_777 = np.minimum(b_7,b_77)\n",
    "\n",
    "b_d1 = np.minimum(b_666,b_777)\n",
    "b_cd = np.minimum(b_c1,b_d1)\n",
    "\n",
    "b_8 = np.minimum(b_temp8,b_temp82)\n",
    "b_88 = np.minimum(b_temp83,b_temp84)\n",
    "b_888 = np.minimum(b_8,b_88)\n",
    "\n",
    "b_9 = np.minimum(b_temp9,b_temp92)\n",
    "b_99 = np.minimum(b_temp93,b_temp94)\n",
    "b_999 = np.minimum(b_9,b_99)\n",
    "\n",
    "b_e1 = np.minimum(b_888,b_999)\n",
    "\n",
    "b_10 = np.minimum(b_temp10,b_temp102)\n",
    "b_101 = np.minimum(b_temp103,b_temp104)\n",
    "b_10101 = np.minimum(b_10,b_101)\n",
    "\n",
    "b_ef = np.minimum(b_e1,b_10101)\n",
    "\n",
    "b_abcd = np.minimum(b_ab,b_cd)\n",
    "b_all = np.minimum(b_abcd,b_ef)\n",
    "\n",
    "b_all = np.minimum(b_1, b_2)\n",
    "pball = (b_all).hvplot.image(\n",
    "    x='longitude', y='latitude',  title='ABI t-10 -> t-21 h + FLEXPART, GLM & NLDN', #FLEXPART\n",
    "    xlabel = 'Longitude (°)', ylabel = 'Latitude (°)', clabel = 'B temp (K)',\n",
    "    frame_height=350, \n",
    "    projection=ccrs.PlateCarree(),\n",
    "    geo=True, project=False, #global_extent=True,\n",
    "    xlim=(-140, -60), ylim=(0, 80),        #get_extent(-170, -20, -60, 60),\n",
    "    framewise=False, coastline=True, dynamic=True,\n",
    "    cmap='greys'\n",
    ")\n",
    "pball * gv.feature.borders(line_width=1) * san_diego * flight_path * first_rel * gv.feature.coastline(line_width=2)"
   ]
  },
  {
   "cell_type": "code",
   "execution_count": null,
   "metadata": {},
   "outputs": [],
   "source": [
    "# Hourly views from -24 hrs to -48 hrs for release 1\n",
    "# Hour is -24 == 24/05/2015 @ 21h00\n",
    "da_all_agregated = da.isel(pointspec=0, time=slice(10,21)).sum(dim=('height', 'time'))\n",
    "pl = da_all_agregated.where(da_all_agregated>0).hvplot.image(\n",
    "    x='longitude', y='latitude',  title='Plume dispersion t-10 -> t-21 h + GLM & NLDN', # + GLM & NLDN\n",
    "    xlabel='Longitude (°)', ylabel='Latitude (°)', clabel='Res. Time (s)', \n",
    "    frame_height=350, \n",
    "    projection=ccrs.PlateCarree(), \n",
    "    geo=True, project=False, #global_extent=True,\n",
    "    xlim=(-140, -60), ylim=(0, 80), \n",
    "    framewise=False, coastline=True, dynamic=True,\n",
    "    cmap='coolwarm',\n",
    ")\n",
    "pl * gv.feature.borders * san_diego * flight_path * first_rel * frankfurt"
   ]
  },
  {
   "cell_type": "code",
   "execution_count": null,
   "metadata": {},
   "outputs": [],
   "source": [
    "pball * gv.feature.borders(line_width=1) * san_diego * flight_path * first_rel * gv.feature.coastline(line_width=2) * pl"
   ]
  },
  {
   "cell_type": "code",
   "execution_count": null,
   "metadata": {},
   "outputs": [],
   "source": [
    "# + GLM & NLDN\n",
    "pball * gv.feature.borders(line_width=1) * pl2 * pl3 * pl4  * pl5 * pl6 * pl7 * pl8 * pl9 * pl10 * pl11 * pl12 * plnl10 * plnl13 * plnl14 * plnl15 * plnl16 * plnl17 * plnl18 * plnl19 * plnl20 * san_diego * flight_path * first_rel * gv.feature.coastline(line_width=2)"
   ]
  },
  {
   "cell_type": "code",
   "execution_count": null,
   "metadata": {},
   "outputs": [],
   "source": [
    "# + GLM & NLDN & Flexpart\n",
    "pball * gv.feature.borders(line_width=1) * pl * pl2 * pl3 * pl4  * pl5 * pl6 * pl7 * pl8 * pl9 * pl10 * pl11 * pl12 * plnl10 * plnl13 * plnl14 * plnl15 * plnl16 * plnl17 * plnl18 * plnl19 * plnl20 * san_diego * flight_path * first_rel * gv.feature.coastline(line_width=2)"
   ]
  },
  {
   "cell_type": "code",
   "execution_count": null,
   "metadata": {},
   "outputs": [],
   "source": [
    "pl + pl * pl2 * pl3 * pl4  * pl5 * pl6 * pl7 * pl8 * pl9 * pl10 * pl11 * pl12 * san_diego * flight_path * first_rel + pb1  * san_diego * flight_path * first_rel * gv.feature.coastline(line_width=3)"
   ]
  },
  {
   "cell_type": "code",
   "execution_count": null,
   "metadata": {},
   "outputs": [],
   "source": [
    "import geoviews as gv\n",
    "\n",
    "dt = xr.open_dataset('/o3p/macc/test/BTemp/156/BT-156-00-00-00.nc')\n",
    "dt2 = xr.open_dataset('/o3p/macc/test/BTemp/156/BT-156-00-15-00.nc')\n",
    "dt3 = xr.open_dataset('/o3p/macc/test/BTemp/156/BT-156-00-30-00.nc')\n",
    "dt4 = xr.open_dataset('/o3p/macc/test/BTemp/156/BT-156-00-45-00.nc')\n",
    "\n",
    "b_temp = dt.brightness_temperature.where(dt.brightness_temperature > 0) * 0.01\n",
    "b_temp2 = dt2.brightness_temperature.where(dt2.brightness_temperature > 0) * 0.01\n",
    "b_temp3 = dt3.brightness_temperature.where(dt3.brightness_temperature > 0) * 0.01\n",
    "b_temp4 = dt4.brightness_temperature.where(dt4.brightness_temperature > 0) * 0.01\n",
    "b_all = (b_temp+b_temp2+b_temp3+b_temp4)/4\n",
    "pb1 = (b_all).hvplot.image(\n",
    "    x='longitude', y='latitude',  title='Brightness Temperature',\n",
    "    xlabel = 'Longitude (°)', ylabel = 'Latitude (°)', clabel = 'B temp (K)',\n",
    "    frame_height=350, \n",
    "    projection=ccrs.PlateCarree(),\n",
    "    geo=True, project=False, #global_extent=True,\n",
    "    xlim=(-140, -20), ylim=(-40, 80),       #get_extent(-170, -20, -60, 60),\n",
    "    framewise=False, coastline=True, dynamic=True,\n",
    "    cmap='greys'\n",
    ")\n",
    "pb1  * san_diego * flight_path * first_rel * gv.feature.coastline(line_width=3)"
   ]
  },
  {
   "cell_type": "code",
   "execution_count": null,
   "metadata": {},
   "outputs": [],
   "source": [
    "pball * gv.feature.borders * pl2 * pl3 * pl4  * pl5 * pl6 * pl7 * pl8 * pl9 * pl10 * pl11 * pl12 * san_diego * flight_path * first_rel "
   ]
  },
  {
   "cell_type": "code",
   "execution_count": null,
   "metadata": {},
   "outputs": [],
   "source": [
    "pball * gv.feature.borders * plnl10 * plnl13 * plnl14 * plnl15 * plnl16 * plnl17 * plnl18 * plnl19 * plnl20 * san_diego * flight_path * first_rel "
   ]
  },
  {
   "cell_type": "code",
   "execution_count": null,
   "metadata": {},
   "outputs": [],
   "source": [
    "pball * gv.feature.borders + pb1 * pl2 * pl3 * pl4  * pl5 * pl6 * pl7 * pl8 * pl9 * pl10 * pl11 * pl12 * san_diego * flight_path * first_rel "
   ]
  },
  {
   "cell_type": "code",
   "execution_count": null,
   "metadata": {},
   "outputs": [],
   "source": [
    "pball * gv.feature.borders * pl2 * pl3 * pl4  * pl5 * pl6 * pl7 * pl8 * pl9 * pl10 * pl11 * pl12 * plnl10 * plnl13 * plnl14 * plnl15 * plnl16 * plnl17 * plnl18 * plnl19 * plnl20 * san_diego * flight_path * first_rel "
   ]
  },
  {
   "cell_type": "code",
   "execution_count": null,
   "metadata": {},
   "outputs": [],
   "source": [
    "dr = xr.open_dataset('/o3p/macc/test/GLM_array_156/GLM_array_156_11-12_batch_bis.nc')\n",
    "flash_en = dr.flash_energy.where(dr.flash_energy > 0)\n",
    "flash_num = dr.num_flash.where(dr.num_flash > 0)"
   ]
  },
  {
   "cell_type": "code",
   "execution_count": null,
   "metadata": {},
   "outputs": [],
   "source": [
    "pl2 = (flash_en).hvplot.image(\n",
    "    x='longitude', y='latitude',  title='Total flash energy',\n",
    "    xlabel = 'Longitude (°)', ylabel = 'Latitude (°)', clabel = 'Flash energy (J)',\n",
    "    frame_height=350, \n",
    "    projection=ccrs.PlateCarree(),\n",
    "    geo=True, project=False, #global_extent=True,\n",
    "    xlim=(-140, -20), ylim=(-40, 80),       #get_extent(-170, -20, -60, 60),\n",
    "    framewise=False, coastline=True, dynamic=True,\n",
    "    cmap='spring'\n",
    ")\n",
    "pl2  * san_diego * flight_path * first_rel"
   ]
  },
  {
   "cell_type": "code",
   "execution_count": null,
   "metadata": {},
   "outputs": [],
   "source": [
    "pl * pl2 * flight_path * first_rel * san_diego\n",
    "# pl * pl3 * flight_path * san_diego"
   ]
  },
  {
   "cell_type": "code",
   "execution_count": null,
   "metadata": {},
   "outputs": [],
   "source": [
    "# Hourly views from -24 hrs to -48 hrs for release 1\n",
    "# Hour is -24 == 24/05/2015 @ 21h00\n",
    "da_all_agregated = da.isel(pointspec=0, time=slice(10,11)).sum(dim=('height', 'time'))\n",
    "pl = da_all_agregated.hvplot.image(\n",
    "    x='longitude', y='latitude',  title='Max residence time 30/06/2015 @ 04h00 and all altitudes', \n",
    "    xlabel='Longitude (°)', ylabel='Latitude (°)', clabel='Res. Time (s)', \n",
    "    frame_height=350, \n",
    "    projection=ccrs.PlateCarree(), \n",
    "    geo=True, project=False, #global_extent=True,\n",
    "    xlim=(-140, -20), ylim=(-40, 80), \n",
    "    framewise=False, coastline=True, dynamic=True,\n",
    "    cmap='coolwarm',\n",
    ")\n",
    "pl * san_diego * flight_path * first_rel * frankfurt"
   ]
  },
  {
   "cell_type": "code",
   "execution_count": null,
   "metadata": {},
   "outputs": [],
   "source": [
    "dr = xr.open_dataset('/o3p/macc/test/GLM_array_156_10-11_batch_bis.nc')\n",
    "flash_en = dr.flash_energy.where(dr.flash_energy > 0)\n",
    "flash_num = dr.num_flash.where(dr.num_flash > 0)"
   ]
  },
  {
   "cell_type": "code",
   "execution_count": null,
   "metadata": {},
   "outputs": [],
   "source": [
    "pl2 = (flash_en).hvplot.image(\n",
    "    x='longitude', y='latitude',  title='Total flash energy',\n",
    "    xlabel = 'Longitude (°)', ylabel = 'Latitude (°)', clabel = 'Flash energy (J)',\n",
    "    frame_height=350, \n",
    "    projection=ccrs.PlateCarree(),\n",
    "    geo=True, project=False, #global_extent=True,\n",
    "    xlim=(-140, -20), ylim=(-40, 80),       #get_extent(-170, -20, -60, 60),\n",
    "    framewise=False, coastline=True, dynamic=True,\n",
    "    cmap='magma'\n",
    ")\n",
    "pl2  * san_diego * flight_path * first_rel"
   ]
  },
  {
   "cell_type": "code",
   "execution_count": null,
   "metadata": {},
   "outputs": [],
   "source": [
    "pl * pl2 * flight_path * first_rel * san_diego\n",
    "# pl * pl3 * flight_path * san_diego"
   ]
  },
  {
   "cell_type": "code",
   "execution_count": null,
   "metadata": {},
   "outputs": [],
   "source": [
    "# Hourly views from -24 hrs to -48 hrs for release 1\n",
    "# Hour is -24 == 24/05/2015 @ 21h00\n",
    "da_all_agregated = da.isel(pointspec=0, time=slice(11,12)).sum(dim=('height', 'time'))\n",
    "pl = da_all_agregated.hvplot.image(\n",
    "    x='longitude', y='latitude',  title='Max residence time 30/06/2015 @ 04h00 and all altitudes', \n",
    "    xlabel='Longitude (°)', ylabel='Latitude (°)', clabel='Res. Time (s)', \n",
    "    frame_height=350, \n",
    "    projection=ccrs.PlateCarree(), \n",
    "    geo=True, project=False, #global_extent=True,\n",
    "    xlim=(-140, -20), ylim=(-40, 80), \n",
    "    framewise=False, coastline=True, dynamic=True,\n",
    "    cmap='coolwarm',\n",
    ")\n",
    "pl * san_diego * flight_path * first_rel * frankfurt"
   ]
  },
  {
   "cell_type": "code",
   "execution_count": null,
   "metadata": {},
   "outputs": [],
   "source": [
    "dr = xr.open_dataset('/o3p/macc/test/GLM_array_156_09-10_batch_bis.nc')\n",
    "flash_en = dr.flash_energy.where(dr.flash_energy > 0)\n",
    "flash_num = dr.num_flash.where(dr.num_flash > 0)"
   ]
  },
  {
   "cell_type": "code",
   "execution_count": null,
   "metadata": {},
   "outputs": [],
   "source": [
    "pl2 = (flash_en).hvplot.image(\n",
    "    x='longitude', y='latitude',  title='Total flash energy',\n",
    "    xlabel = 'Longitude (°)', ylabel = 'Latitude (°)', clabel = 'Flash energy (J)',\n",
    "    frame_height=350, \n",
    "    projection=ccrs.PlateCarree(),\n",
    "    geo=True, project=False, #global_extent=True,\n",
    "    xlim=(-140, -20), ylim=(-40, 80),       #get_extent(-170, -20, -60, 60),\n",
    "    framewise=False, coastline=True, dynamic=True,\n",
    "    cmap='magma'\n",
    ")\n",
    "pl2  * san_diego * flight_path * first_rel"
   ]
  },
  {
   "cell_type": "code",
   "execution_count": null,
   "metadata": {},
   "outputs": [],
   "source": [
    "pl * pl2 * flight_path * first_rel * san_diego\n",
    "# pl * pl3 * flight_path * san_diego"
   ]
  },
  {
   "cell_type": "code",
   "execution_count": null,
   "metadata": {},
   "outputs": [],
   "source": [
    "# Hourly views from -24 hrs to -48 hrs for release 1\n",
    "# Hour is -24 == 24/05/2015 @ 21h00\n",
    "da_all_agregated = da.isel(pointspec=0, time=slice(12,13)).sum(dim=('height', 'time'))\n",
    "pl = da_all_agregated.hvplot.image(\n",
    "    x='longitude', y='latitude',  title='Max residence time 30/06/2015 @ 04h00 and all altitudes', \n",
    "    xlabel='Longitude (°)', ylabel='Latitude (°)', clabel='Res. Time (s)', \n",
    "    frame_height=350, \n",
    "    projection=ccrs.PlateCarree(), \n",
    "    geo=True, project=False, #global_extent=True,\n",
    "    xlim=(-140, -20), ylim=(-40, 80), \n",
    "    framewise=False, coastline=True, dynamic=True,\n",
    "    cmap='coolwarm',\n",
    ")\n",
    "pl * san_diego * flight_path * first_rel * frankfurt"
   ]
  },
  {
   "cell_type": "code",
   "execution_count": null,
   "metadata": {},
   "outputs": [],
   "source": [
    "dr = xr.open_dataset('/o3p/macc/test/GLM_array_156_08-09_batch_bis.nc')\n",
    "flash_en = dr.flash_energy.where(dr.flash_energy > 0)\n",
    "flash_num = dr.num_flash.where(dr.num_flash > 0)"
   ]
  },
  {
   "cell_type": "code",
   "execution_count": null,
   "metadata": {},
   "outputs": [],
   "source": [
    "pl2 = (flash_en).hvplot.image(\n",
    "    x='longitude', y='latitude',  title='Total flash energy',\n",
    "    xlabel = 'Longitude (°)', ylabel = 'Latitude (°)', clabel = 'Flash energy (J)',\n",
    "    frame_height=350, \n",
    "    projection=ccrs.PlateCarree(),\n",
    "    geo=True, project=False, #global_extent=True,\n",
    "    xlim=(-140, -20), ylim=(-40, 80),       #get_extent(-170, -20, -60, 60),\n",
    "    framewise=False, coastline=True, dynamic=True,\n",
    "    cmap='magma'\n",
    ")\n",
    "pl2  * san_diego * flight_path * first_rel"
   ]
  },
  {
   "cell_type": "code",
   "execution_count": null,
   "metadata": {},
   "outputs": [],
   "source": [
    "pl * pl2 * flight_path * first_rel * san_diego\n",
    "# pl * pl3 * flight_path * san_diego"
   ]
  },
  {
   "cell_type": "code",
   "execution_count": null,
   "metadata": {},
   "outputs": [],
   "source": [
    "# Hourly views from -24 hrs to -48 hrs for release 1\n",
    "# Hour is -24 == 24/05/2015 @ 21h00\n",
    "da_all_agregated = da.isel(pointspec=0, time=slice(10,24)).sum(dim=('height', 'time'))\n",
    "pl = da_all_agregated.hvplot.image(\n",
    "    x='longitude', y='latitude',  title='Max residence time 30/06/2015 @ 04h00 and all altitudes', \n",
    "    xlabel='Longitude (°)', ylabel='Latitude (°)', clabel='Res. Time (s)', \n",
    "    frame_height=350, \n",
    "    projection=ccrs.PlateCarree(), \n",
    "    geo=True, project=False, global_extent=True,\n",
    "    #xlim=(-140, -20), ylim=(-60, 60), \n",
    "    framewise=False, coastline=True, dynamic=True,\n",
    "    cmap='coolwarm',\n",
    ")\n",
    "pl * san_diego * flight_path * first_rel * frankfurt"
   ]
  },
  {
   "cell_type": "code",
   "execution_count": null,
   "metadata": {},
   "outputs": [],
   "source": [
    "# Hourly views from -24 hrs to -48 hrs for release 1\n",
    "# Hour is -24 == 24/05/2015 @ 21h00\n",
    "da_all_agregated = da.isel(pointspec=0, time=slice(13,14)).sum(dim=('height', 'time'))\n",
    "pl = da_all_agregated.hvplot.image(\n",
    "    x='longitude', y='latitude',  title='Max residence time 30/06/2015 @ 04h00 and all altitudes', \n",
    "    xlabel='Longitude (°)', ylabel='Latitude (°)', clabel='Res. Time (s)', \n",
    "    frame_height=350, \n",
    "    projection=ccrs.PlateCarree(), \n",
    "    geo=True, project=False, #global_extent=True,\n",
    "    xlim=(-140, -20), ylim=(-40, 80), \n",
    "    framewise=False, coastline=True, dynamic=True,\n",
    "    cmap='coolwarm',\n",
    ")\n",
    "pl * san_diego * flight_path * first_rel * frankfurt"
   ]
  },
  {
   "cell_type": "code",
   "execution_count": null,
   "metadata": {},
   "outputs": [],
   "source": [
    "dr = xr.open_dataset('/o3p/macc/test/GLM_array_156_07-08_batch_bis.nc')\n",
    "flash_en = dr.flash_energy.where(dr.flash_energy > 0)\n",
    "flash_num = dr.num_flash.where(dr.num_flash > 0)"
   ]
  },
  {
   "cell_type": "code",
   "execution_count": null,
   "metadata": {},
   "outputs": [],
   "source": [
    "pl2 = (flash_en).hvplot.image(\n",
    "    x='longitude', y='latitude',  title='Total flash energy',\n",
    "    xlabel = 'Longitude (°)', ylabel = 'Latitude (°)', clabel = 'Flash energy (J)',\n",
    "    frame_height=350, \n",
    "    projection=ccrs.PlateCarree(),\n",
    "    geo=True, project=False, #global_extent=True,\n",
    "    xlim=(-140, -20), ylim=(-40, 80),       #get_extent(-170, -20, -60, 60),\n",
    "    framewise=False, coastline=True, dynamic=True,\n",
    "    cmap='magma'\n",
    ")\n",
    "pl2  * san_diego * flight_path * first_rel"
   ]
  },
  {
   "cell_type": "code",
   "execution_count": null,
   "metadata": {},
   "outputs": [],
   "source": [
    "pl * pl2 * flight_path * first_rel * san_diego\n",
    "# pl * pl3 * flight_path * san_diego"
   ]
  },
  {
   "cell_type": "code",
   "execution_count": null,
   "metadata": {},
   "outputs": [],
   "source": [
    "# Hourly views from -24 hrs to -48 hrs for release 1\n",
    "# Hour is -24 == 24/05/2015 @ 21h00\n",
    "da_all_agregated = da.isel(pointspec=0, time=slice(14,15)).sum(dim=('height', 'time'))\n",
    "pl = da_all_agregated.hvplot.image(\n",
    "    x='longitude', y='latitude',  title='Max residence time 30/06/2015 @ 04h00 and all altitudes', \n",
    "    xlabel='Longitude (°)', ylabel='Latitude (°)', clabel='Res. Time (s)', \n",
    "    frame_height=350, \n",
    "    projection=ccrs.PlateCarree(), \n",
    "    geo=True, project=False, #global_extent=True,\n",
    "    xlim=(-140, -20), ylim=(-40, 80), \n",
    "    framewise=False, coastline=True, dynamic=True,\n",
    "    cmap='coolwarm',\n",
    ")\n",
    "pl * san_diego * flight_path * first_rel * frankfurt"
   ]
  },
  {
   "cell_type": "code",
   "execution_count": null,
   "metadata": {},
   "outputs": [],
   "source": [
    "dr = xr.open_dataset('/o3p/macc/test/GLM_array_156_06-07_batch_bis.nc')\n",
    "flash_en = dr.flash_energy.where(dr.flash_energy > 0)\n",
    "flash_num = dr.num_flash.where(dr.num_flash > 0)"
   ]
  },
  {
   "cell_type": "code",
   "execution_count": null,
   "metadata": {},
   "outputs": [],
   "source": [
    "pl2 = (flash_en).hvplot.image(\n",
    "    x='longitude', y='latitude',  title='Total flash energy',\n",
    "    xlabel = 'Longitude (°)', ylabel = 'Latitude (°)', clabel = 'Flash energy (J)',\n",
    "    frame_height=350, \n",
    "    projection=ccrs.PlateCarree(),\n",
    "    geo=True, project=False, #global_extent=True,\n",
    "    xlim=(-140, -20), ylim=(-40, 80),       #get_extent(-170, -20, -60, 60),\n",
    "    framewise=False, coastline=True, dynamic=True,\n",
    "    cmap='magma'\n",
    ")\n",
    "pl2  * san_diego * flight_path * first_rel"
   ]
  },
  {
   "cell_type": "code",
   "execution_count": null,
   "metadata": {},
   "outputs": [],
   "source": [
    "pl * pl2 * flight_path * first_rel * san_diego\n",
    "# pl * pl3 * flight_path * san_diego"
   ]
  },
  {
   "cell_type": "code",
   "execution_count": null,
   "metadata": {},
   "outputs": [],
   "source": [
    "# Hourly views from -24 hrs to -48 hrs for release 1\n",
    "# Hour is -24 == 24/05/2015 @ 21h00\n",
    "da_all_agregated = da.isel(pointspec=0, time=slice(15,16)).sum(dim=('height', 'time'))\n",
    "pl = da_all_agregated.hvplot.image(\n",
    "    x='longitude', y='latitude',  title='Max residence time 30/06/2015 @ 04h00 and all altitudes', \n",
    "    xlabel='Longitude (°)', ylabel='Latitude (°)', clabel='Res. Time (s)', \n",
    "    frame_height=350, \n",
    "    projection=ccrs.PlateCarree(), \n",
    "    geo=True, project=False, #global_extent=True,\n",
    "    xlim=(-140, -20), ylim=(-40, 80), \n",
    "    framewise=False, coastline=True, dynamic=True,\n",
    "    cmap='coolwarm',\n",
    ")\n",
    "pl * san_diego * flight_path * first_rel * frankfurt"
   ]
  },
  {
   "cell_type": "code",
   "execution_count": null,
   "metadata": {},
   "outputs": [],
   "source": [
    "dr = xr.open_dataset('/o3p/macc/test/GLM_array_156_05-06_batch_bis.nc')\n",
    "flash_en = dr.flash_energy.where(dr.flash_energy > 0)\n",
    "flash_num = dr.num_flash.where(dr.num_flash > 0)"
   ]
  },
  {
   "cell_type": "code",
   "execution_count": null,
   "metadata": {},
   "outputs": [],
   "source": [
    "pl2 = (flash_en).hvplot.image(\n",
    "    x='longitude', y='latitude',  title='Total flash energy',\n",
    "    xlabel = 'Longitude (°)', ylabel = 'Latitude (°)', clabel = 'Flash energy (J)',\n",
    "    frame_height=350, \n",
    "    projection=ccrs.PlateCarree(),\n",
    "    geo=True, project=False, #global_extent=True,\n",
    "    xlim=(-140, -20), ylim=(-40, 80),       #get_extent(-170, -20, -60, 60),\n",
    "    framewise=False, coastline=True, dynamic=True,\n",
    "    cmap='magma'\n",
    ")\n",
    "pl2  * san_diego * flight_path * first_rel"
   ]
  },
  {
   "cell_type": "code",
   "execution_count": null,
   "metadata": {},
   "outputs": [],
   "source": [
    "pl * pl2 * flight_path * first_rel * san_diego\n",
    "# pl * pl3 * flight_path * san_diego"
   ]
  },
  {
   "cell_type": "code",
   "execution_count": null,
   "metadata": {},
   "outputs": [],
   "source": [
    "# Hourly views from -24 hrs to -48 hrs for release 1\n",
    "# Hour is -24 == 24/05/2015 @ 21h00\n",
    "da_all_agregated = da.isel(pointspec=0, time=slice(16,17)).sum(dim=('height', 'time'))\n",
    "pl = da_all_agregated.hvplot.image(\n",
    "    x='longitude', y='latitude',  title='Max residence time 30/06/2015 @ 04h00 and all altitudes', \n",
    "    xlabel='Longitude (°)', ylabel='Latitude (°)', clabel='Res. Time (s)', \n",
    "    frame_height=350, \n",
    "    projection=ccrs.PlateCarree(), \n",
    "    geo=True, project=False, #global_extent=True,\n",
    "    xlim=(-140, -20), ylim=(-40, 80), \n",
    "    framewise=False, coastline=True, dynamic=True,\n",
    "    cmap='coolwarm',\n",
    ")\n",
    "pl * san_diego * flight_path * first_rel * frankfurt"
   ]
  },
  {
   "cell_type": "code",
   "execution_count": null,
   "metadata": {},
   "outputs": [],
   "source": [
    "dr = xr.open_dataset('/o3p/macc/test/GLM_array_156_04-05_batch_bis.nc')\n",
    "flash_en = dr.flash_energy.where(dr.flash_energy > 0)\n",
    "flash_num = dr.num_flash.where(dr.num_flash > 0)"
   ]
  },
  {
   "cell_type": "code",
   "execution_count": null,
   "metadata": {},
   "outputs": [],
   "source": [
    "pl2 = (flash_en).hvplot.image(\n",
    "    x='longitude', y='latitude',  title='Total flash energy',\n",
    "    xlabel = 'Longitude (°)', ylabel = 'Latitude (°)', clabel = 'Flash energy (J)',\n",
    "    frame_height=350, \n",
    "    projection=ccrs.PlateCarree(),\n",
    "    geo=True, project=False, #global_extent=True,\n",
    "    xlim=(-140, -20), ylim=(-40, 80),       #get_extent(-170, -20, -60, 60),\n",
    "    framewise=False, coastline=True, dynamic=True,\n",
    "    cmap='magma'\n",
    ")\n",
    "pl2  * san_diego * flight_path * first_rel"
   ]
  },
  {
   "cell_type": "code",
   "execution_count": null,
   "metadata": {},
   "outputs": [],
   "source": [
    "pl * pl2 * flight_path * first_rel * san_diego\n",
    "# pl * pl3 * flight_path * san_diego"
   ]
  },
  {
   "cell_type": "code",
   "execution_count": null,
   "metadata": {},
   "outputs": [],
   "source": [
    "# Hourly views from -24 hrs to -48 hrs for release 1\n",
    "# Hour is -24 == 24/05/2015 @ 21h00\n",
    "da_all_agregated = da.isel(pointspec=0, time=slice(17,18)).sum(dim=('height', 'time'))\n",
    "pl = da_all_agregated.hvplot.image(\n",
    "    x='longitude', y='latitude',  title='Max residence time 30/06/2015 @ 04h00 and all altitudes', \n",
    "    xlabel='Longitude (°)', ylabel='Latitude (°)', clabel='Res. Time (s)', \n",
    "    frame_height=350, \n",
    "    projection=ccrs.PlateCarree(), \n",
    "    geo=True, project=False, #global_extent=True,\n",
    "    xlim=(-140, -20), ylim=(-40, 80), \n",
    "    framewise=False, coastline=True, dynamic=True,\n",
    "    cmap='coolwarm',\n",
    ")\n",
    "pl * san_diego * flight_path * first_rel * frankfurt"
   ]
  },
  {
   "cell_type": "code",
   "execution_count": null,
   "metadata": {},
   "outputs": [],
   "source": [
    "dr = xr.open_dataset('/o3p/macc/test/GLM_array_156_03-04_batch_bis.nc')\n",
    "flash_en = dr.flash_energy.where(dr.flash_energy > 0)\n",
    "flash_num = dr.num_flash.where(dr.num_flash > 0)"
   ]
  },
  {
   "cell_type": "code",
   "execution_count": null,
   "metadata": {},
   "outputs": [],
   "source": [
    "pl2 = (flash_en).hvplot.image(\n",
    "    x='longitude', y='latitude',  title='Total flash energy',\n",
    "    xlabel = 'Longitude (°)', ylabel = 'Latitude (°)', clabel = 'Flash energy (J)',\n",
    "    frame_height=350, \n",
    "    projection=ccrs.PlateCarree(),\n",
    "    geo=True, project=False, #global_extent=True,\n",
    "    xlim=(-140, -20), ylim=(-40, 80),       #get_extent(-170, -20, -60, 60),\n",
    "    framewise=False, coastline=True, dynamic=True,\n",
    "    cmap='magma'\n",
    ")\n",
    "pl2  * san_diego * flight_path * first_rel"
   ]
  },
  {
   "cell_type": "code",
   "execution_count": null,
   "metadata": {},
   "outputs": [],
   "source": [
    "pl * pl2 * flight_path * first_rel * san_diego\n",
    "# pl * pl3 * flight_path * san_diego"
   ]
  },
  {
   "cell_type": "code",
   "execution_count": null,
   "metadata": {},
   "outputs": [],
   "source": [
    "# Hourly views from -24 hrs to -48 hrs for release 1\n",
    "# Hour is -24 == 24/05/2015 @ 21h00\n",
    "da_all_agregated = da.isel(pointspec=0, time=slice(18,19)).sum(dim=('height', 'time'))\n",
    "pl = da_all_agregated.hvplot.image(\n",
    "    x='longitude', y='latitude',  title='Max residence time 30/06/2015 @ 04h00 and all altitudes', \n",
    "    xlabel='Longitude (°)', ylabel='Latitude (°)', clabel='Res. Time (s)', \n",
    "    frame_height=350, \n",
    "    projection=ccrs.PlateCarree(), \n",
    "    geo=True, project=False, #global_extent=True,\n",
    "    xlim=(-140, -20), ylim=(-40, 80), \n",
    "    framewise=False, coastline=True, dynamic=True,\n",
    "    cmap='coolwarm',\n",
    ")\n",
    "pl * san_diego * flight_path * first_rel * frankfurt"
   ]
  },
  {
   "cell_type": "code",
   "execution_count": null,
   "metadata": {},
   "outputs": [],
   "source": [
    "dr = xr.open_dataset('/o3p/macc/test/GLM_array_156_02-03_batch_bis.nc')\n",
    "flash_en = dr.flash_energy.where(dr.flash_energy > 0)\n",
    "flash_num = dr.num_flash.where(dr.num_flash > 0)"
   ]
  },
  {
   "cell_type": "code",
   "execution_count": null,
   "metadata": {},
   "outputs": [],
   "source": [
    "pl2 = (flash_en).hvplot.image(\n",
    "    x='longitude', y='latitude',  title='Total flash energy',\n",
    "    xlabel = 'Longitude (°)', ylabel = 'Latitude (°)', clabel = 'Flash energy (J)',\n",
    "    frame_height=350, \n",
    "    projection=ccrs.PlateCarree(),\n",
    "    geo=True, project=False, #global_extent=True,\n",
    "    xlim=(-140, -20), ylim=(-40, 80),       #get_extent(-170, -20, -60, 60),\n",
    "    framewise=False, coastline=True, dynamic=True,\n",
    "    cmap='magma'\n",
    ")\n",
    "pl2  * san_diego * flight_path * first_rel"
   ]
  },
  {
   "cell_type": "code",
   "execution_count": null,
   "metadata": {},
   "outputs": [],
   "source": [
    "pl * pl2 * flight_path * first_rel * san_diego\n",
    "# pl * pl3 * flight_path * san_diego"
   ]
  },
  {
   "cell_type": "code",
   "execution_count": null,
   "metadata": {},
   "outputs": [],
   "source": [
    "# Hourly views from -24 hrs to -48 hrs for release 1\n",
    "# Hour is -24 == 24/05/2015 @ 21h00\n",
    "da_all_agregated = da.isel(pointspec=0, time=slice(19,20)).sum(dim=('height', 'time'))\n",
    "pl = da_all_agregated.hvplot.image(\n",
    "    x='longitude', y='latitude',  title='Max residence time 30/06/2015 @ 04h00 and all altitudes', \n",
    "    xlabel='Longitude (°)', ylabel='Latitude (°)', clabel='Res. Time (s)', \n",
    "    frame_height=350, \n",
    "    projection=ccrs.PlateCarree(), \n",
    "    geo=True, project=False, #global_extent=True,\n",
    "    xlim=(-140, -20), ylim=(-40, 80), \n",
    "    framewise=False, coastline=True, dynamic=True,\n",
    "    cmap='coolwarm',\n",
    ")\n",
    "pl * san_diego * flight_path * first_rel * frankfurt"
   ]
  },
  {
   "cell_type": "code",
   "execution_count": null,
   "metadata": {},
   "outputs": [],
   "source": [
    "dr = xr.open_dataset('/o3p/macc/test/GLM_array_156_01-02_batch_bis.nc')\n",
    "flash_en = dr.flash_energy.where(dr.flash_energy > 0)\n",
    "flash_num = dr.num_flash.where(dr.num_flash > 0)"
   ]
  },
  {
   "cell_type": "code",
   "execution_count": null,
   "metadata": {},
   "outputs": [],
   "source": [
    "pl2 = (flash_en).hvplot.image(\n",
    "    x='longitude', y='latitude',  title='Total flash energy',\n",
    "    xlabel = 'Longitude (°)', ylabel = 'Latitude (°)', clabel = 'Flash energy (J)',\n",
    "    frame_height=350, \n",
    "    projection=ccrs.PlateCarree(),\n",
    "    geo=True, project=False, #global_extent=True,\n",
    "    xlim=(-140, -20), ylim=(-40, 80),       #get_extent(-170, -20, -60, 60),\n",
    "    framewise=False, coastline=True, dynamic=True,\n",
    "    cmap='magma'\n",
    ")\n",
    "pl2  * san_diego * flight_path * first_rel"
   ]
  },
  {
   "cell_type": "code",
   "execution_count": null,
   "metadata": {},
   "outputs": [],
   "source": [
    "pl * pl2 * flight_path * first_rel * san_diego\n",
    "# pl * pl3 * flight_path * san_diego"
   ]
  },
  {
   "cell_type": "code",
   "execution_count": null,
   "metadata": {},
   "outputs": [],
   "source": [
    "# Hourly views from -24 hrs to -48 hrs for release 1\n",
    "# Hour is -24 == 24/05/2015 @ 21h00\n",
    "da_all_agregated = da.isel(pointspec=0, time=slice(20,21)).sum(dim=('height', 'time'))\n",
    "pl = da_all_agregated.hvplot.image(\n",
    "    x='longitude', y='latitude',  title='Max residence time 30/06/2015 @ 04h00 and all altitudes', \n",
    "    xlabel='Longitude (°)', ylabel='Latitude (°)', clabel='Res. Time (s)', \n",
    "    frame_height=350, \n",
    "    projection=ccrs.PlateCarree(), \n",
    "    geo=True, project=False, #global_extent=True,\n",
    "    xlim=(-140, -20), ylim=(-40, 80), \n",
    "    framewise=False, coastline=True, dynamic=True,\n",
    "    cmap='coolwarm',\n",
    ")\n",
    "pl * san_diego * flight_path * first_rel * frankfurt"
   ]
  },
  {
   "cell_type": "code",
   "execution_count": null,
   "metadata": {},
   "outputs": [],
   "source": [
    "dr = xr.open_dataset('/o3p/macc/test/GLM_array_156_00-01_batch_bis.nc')\n",
    "flash_en = dr.flash_energy.where(dr.flash_energy > 0)\n",
    "flash_num = dr.num_flash.where(dr.num_flash > 0)"
   ]
  },
  {
   "cell_type": "code",
   "execution_count": null,
   "metadata": {},
   "outputs": [],
   "source": [
    "pl2 = (flash_en).hvplot.image(\n",
    "    x='longitude', y='latitude',  title='Total flash energy',\n",
    "    xlabel = 'Longitude (°)', ylabel = 'Latitude (°)', clabel = 'Flash energy (J)',\n",
    "    frame_height=350, \n",
    "    projection=ccrs.PlateCarree(),\n",
    "    geo=True, project=False, #global_extent=True,\n",
    "    xlim=(-140, -20), ylim=(-40, 80),       #get_extent(-170, -20, -60, 60),\n",
    "    framewise=False, coastline=True, dynamic=True,\n",
    "    cmap='magma'\n",
    ")\n",
    "pl2  * san_diego * flight_path * first_rel"
   ]
  },
  {
   "cell_type": "code",
   "execution_count": null,
   "metadata": {},
   "outputs": [],
   "source": [
    "pl * pl2 * flight_path * first_rel * san_diego\n",
    "# pl * pl3 * flight_path * san_diego"
   ]
  },
  {
   "cell_type": "code",
   "execution_count": null,
   "metadata": {},
   "outputs": [],
   "source": [
    "# Hourly views from -24 hrs to -48 hrs for release 1\n",
    "# Hour is -24 == 24/05/2015 @ 21h00\n",
    "da_all_agregated = da.isel(pointspec=0, time=slice(21,22)).sum(dim=('height', 'time'))\n",
    "pl = da_all_agregated.hvplot.image(\n",
    "    x='longitude', y='latitude',  title='Max residence t-21h and all altitudes', \n",
    "    xlabel='Longitude (°)', ylabel='Latitude (°)', clabel='Res. Time (s)', \n",
    "    frame_height=350, \n",
    "    projection=ccrs.PlateCarree(), \n",
    "    geo=True, project=False, #global_extent=True,\n",
    "    xlim=(-140, -20), ylim=(-40, 80), \n",
    "    framewise=False, coastline=True, dynamic=True,\n",
    "    cmap='coolwarm',\n",
    ")\n",
    "pl * san_diego * flight_path * first_rel * frankfurt"
   ]
  },
  {
   "cell_type": "code",
   "execution_count": null,
   "metadata": {},
   "outputs": [],
   "source": [
    "dr = xr.open_dataset('/o3p/macc/test/GLM_array_155/GLM_array_155_23-00_batch_bis.nc')\n",
    "flash_en = dr.flash_energy.where(dr.flash_energy > 0)\n",
    "flash_num = dr.num_flash.where(dr.num_flash > 0)"
   ]
  },
  {
   "cell_type": "code",
   "execution_count": null,
   "metadata": {},
   "outputs": [],
   "source": [
    "pl21 = (flash_en).hvplot.image(\n",
    "    x='longitude', y='latitude',  title='Total flash energy',\n",
    "    xlabel = 'Longitude (°)', ylabel = 'Latitude (°)', clabel = 'Flash energy (J)',\n",
    "    frame_height=350, \n",
    "    projection=ccrs.PlateCarree(),\n",
    "    geo=True, project=False, #global_extent=True,\n",
    "    xlim=(-140, -20), ylim=(-40, 80),       #get_extent(-170, -20, -60, 60),\n",
    "    framewise=False, coastline=True, dynamic=True,\n",
    "    cmap='spring'\n",
    ")\n",
    "pl21  * san_diego * flight_path * first_rel"
   ]
  },
  {
   "cell_type": "code",
   "execution_count": null,
   "metadata": {},
   "outputs": [],
   "source": [
    "dr = xr.open_dataset('/o3p/macc/nldn/data_netcdf_hours_1deg/2018_6_4_23.nc')\n",
    "amp = dr.amplitude.where(dr.amplitude > 0)\n",
    "\n",
    "plnl21 = (amp).hvplot.image(\n",
    "    x='longitude', y='latitude',  title='NLDN Peak Current', \n",
    "    xlabel = 'Longitude (°)', ylabel = 'Latitude (°)', clabel = 'Peak Current (kA)',\n",
    "    frame_height=350, \n",
    "    projection=ccrs.PlateCarree(), \n",
    "    geo=True, project=False, #global_extent=True,\n",
    "    xlim=(-140, -20), ylim=(-60, 60), \n",
    "    framewise=False, coastline=True, dynamic=True,\n",
    "    #cmap='Gnuplot'\n",
    "    cmap='winter'\n",
    ")\n",
    "plnl21 * san_diego * flight_path * first_rel"
   ]
  },
  {
   "cell_type": "code",
   "execution_count": null,
   "metadata": {},
   "outputs": [],
   "source": [
    "pl * pl21 * flight_path * first_rel * san_diego\n",
    "# pl * pl3 * flight_path * san_diego"
   ]
  },
  {
   "cell_type": "code",
   "execution_count": null,
   "metadata": {},
   "outputs": [],
   "source": [
    "pl * plnl21 * flight_path * first_rel * san_diego"
   ]
  },
  {
   "cell_type": "code",
   "execution_count": null,
   "metadata": {},
   "outputs": [],
   "source": [
    "# Hourly views from -24 hrs to -48 hrs for release 1\n",
    "# Hour is -24 == 24/05/2015 @ 21h00\n",
    "da_all_agregated = da.isel(pointspec=0, time=slice(22,23)).sum(dim=('height', 'time'))\n",
    "pl = da_all_agregated.hvplot.image(\n",
    "    x='longitude', y='latitude',  title='Max residence time t-22h and all altitudes', \n",
    "    xlabel='Longitude (°)', ylabel='Latitude (°)', clabel='Res. Time (s)', \n",
    "    frame_height=350, \n",
    "    projection=ccrs.PlateCarree(), \n",
    "    geo=True, project=False, #global_extent=True,\n",
    "    xlim=(-140, -20), ylim=(-40, 80), \n",
    "    framewise=False, coastline=True, dynamic=True,\n",
    "    cmap='coolwarm',\n",
    ")\n",
    "pl * san_diego * flight_path * first_rel * frankfurt"
   ]
  },
  {
   "cell_type": "code",
   "execution_count": null,
   "metadata": {},
   "outputs": [],
   "source": [
    "dr = xr.open_dataset('/o3p/macc/test/GLM_array_155/GLM_array_155_22-23_batch_bis.nc')\n",
    "flash_en = dr.flash_energy.where(dr.flash_energy > 0)\n",
    "flash_num = dr.num_flash.where(dr.num_flash > 0)"
   ]
  },
  {
   "cell_type": "code",
   "execution_count": null,
   "metadata": {},
   "outputs": [],
   "source": [
    "pl22 = (flash_en).hvplot.image(\n",
    "    x='longitude', y='latitude',  title='Total flash energy',\n",
    "    xlabel = 'Longitude (°)', ylabel = 'Latitude (°)', clabel = 'Flash energy (J)',\n",
    "    frame_height=350, \n",
    "    projection=ccrs.PlateCarree(),\n",
    "    geo=True, project=False, #global_extent=True,\n",
    "    xlim=(-140, -20), ylim=(-40, 80),       #get_extent(-170, -20, -60, 60),\n",
    "    framewise=False, coastline=True, dynamic=True,\n",
    "    cmap='spring'\n",
    ")\n",
    "pl22  * san_diego * flight_path * first_rel"
   ]
  },
  {
   "cell_type": "code",
   "execution_count": null,
   "metadata": {},
   "outputs": [],
   "source": [
    "dr = xr.open_dataset('/o3p/macc/nldn/data_netcdf_hours_1deg/2018_6_4_22.nc')\n",
    "amp = dr.amplitude.where(dr.amplitude > 0)\n",
    "\n",
    "plnl22 = (amp).hvplot.image(\n",
    "    x='longitude', y='latitude',  title='NLDN Peak Current', \n",
    "    xlabel = 'Longitude (°)', ylabel = 'Latitude (°)', clabel = 'Peak Current (kA)',\n",
    "    frame_height=350, \n",
    "    projection=ccrs.PlateCarree(), \n",
    "    geo=True, project=False, #global_extent=True,\n",
    "    xlim=(-140, -20), ylim=(-60, 60), \n",
    "    framewise=False, coastline=True, dynamic=True,\n",
    "    #cmap='Gnuplot'\n",
    "    cmap='winter'\n",
    ")\n",
    "plnl22 * san_diego * flight_path * first_rel"
   ]
  },
  {
   "cell_type": "code",
   "execution_count": null,
   "metadata": {},
   "outputs": [],
   "source": [
    "pl * pl22 * flight_path * first_rel * san_diego\n",
    "# pl * pl3 * flight_path * san_diego"
   ]
  },
  {
   "cell_type": "code",
   "execution_count": null,
   "metadata": {},
   "outputs": [],
   "source": [
    "pl * plnl22 * flight_path * first_rel * san_diego"
   ]
  },
  {
   "cell_type": "code",
   "execution_count": null,
   "metadata": {},
   "outputs": [],
   "source": [
    "# Hourly views from -24 hrs to -48 hrs for release 1\n",
    "# Hour is -24 == 24/05/2015 @ 21h00\n",
    "da_all_agregated = da.isel(pointspec=0, time=slice(23,24)).sum(dim=('height', 'time'))\n",
    "pl = da_all_agregated.hvplot.image(\n",
    "    x='longitude', y='latitude',  title='Max residence time t-23h and all altitudes', \n",
    "    xlabel='Longitude (°)', ylabel='Latitude (°)', clabel='Res. Time (s)', \n",
    "    frame_height=350, \n",
    "    projection=ccrs.PlateCarree(), \n",
    "    geo=True, project=False, #global_extent=True,\n",
    "    xlim=(-140, -20), ylim=(-40, 80), \n",
    "    framewise=False, coastline=True, dynamic=True,\n",
    "    cmap='coolwarm',\n",
    ")\n",
    "pl * san_diego * flight_path * first_rel * frankfurt"
   ]
  },
  {
   "cell_type": "code",
   "execution_count": null,
   "metadata": {},
   "outputs": [],
   "source": [
    "dr = xr.open_dataset('/o3p/macc/test/GLM_array_155/GLM_array_155_21-22_batch_bis.nc')\n",
    "flash_en = dr.flash_energy.where(dr.flash_energy > 0)\n",
    "flash_num = dr.num_flash.where(dr.num_flash > 0)"
   ]
  },
  {
   "cell_type": "code",
   "execution_count": null,
   "metadata": {},
   "outputs": [],
   "source": [
    "pl23 = (flash_en).hvplot.image(\n",
    "    x='longitude', y='latitude',  title='Total flash energy',\n",
    "    xlabel = 'Longitude (°)', ylabel = 'Latitude (°)', clabel = 'Flash energy (J)',\n",
    "    frame_height=350, \n",
    "    projection=ccrs.PlateCarree(),\n",
    "    geo=True, project=False, #global_extent=True,\n",
    "    xlim=(-140, -20), ylim=(-40, 80),       #get_extent(-170, -20, -60, 60),\n",
    "    framewise=False, coastline=True, dynamic=True,\n",
    "    cmap='spring'\n",
    ")\n",
    "pl23  * san_diego * flight_path * first_rel"
   ]
  },
  {
   "cell_type": "code",
   "execution_count": null,
   "metadata": {},
   "outputs": [],
   "source": [
    "dr = xr.open_dataset('/o3p/macc/nldn/data_netcdf_hours_1deg/2018_6_4_21.nc')\n",
    "amp = dr.amplitude.where(dr.amplitude > 0)\n",
    "\n",
    "plnl23 = (amp).hvplot.image(\n",
    "    x='longitude', y='latitude',  title='NLDN Peak Current', \n",
    "    xlabel = 'Longitude (°)', ylabel = 'Latitude (°)', clabel = 'Peak Current (kA)',\n",
    "    frame_height=350, \n",
    "    projection=ccrs.PlateCarree(), \n",
    "    geo=True, project=False, #global_extent=True,\n",
    "    xlim=(-140, -20), ylim=(-60, 60), \n",
    "    framewise=False, coastline=True, dynamic=True,\n",
    "    #cmap='Gnuplot'\n",
    "    cmap='winter'\n",
    ")\n",
    "plnl23 * san_diego * flight_path * first_rel"
   ]
  },
  {
   "cell_type": "code",
   "execution_count": null,
   "metadata": {},
   "outputs": [],
   "source": [
    "pl * pl23 * flight_path * first_rel * san_diego\n",
    "# pl * pl3 * flight_path * san_diego"
   ]
  },
  {
   "cell_type": "code",
   "execution_count": null,
   "metadata": {},
   "outputs": [],
   "source": [
    "pl * plnl23 * flight_path * first_rel * san_diego"
   ]
  },
  {
   "cell_type": "code",
   "execution_count": null,
   "metadata": {},
   "outputs": [],
   "source": [
    "pl * pl23 * plnl23 * flight_path * first_rel * san_diego"
   ]
  },
  {
   "cell_type": "code",
   "execution_count": null,
   "metadata": {},
   "outputs": [],
   "source": [
    "# Hourly views from -24 hrs to -48 hrs for release 1\n",
    "# Hour is -24 == 24/05/2015 @ 21h00\n",
    "da_all_agregated = da.isel(pointspec=0, time=slice(24,25)).sum(dim=('height', 'time'))\n",
    "pl = da_all_agregated.hvplot.image(\n",
    "    x='longitude', y='latitude',  title='Max residence time t-24h and all altitudes', \n",
    "    xlabel='Longitude (°)', ylabel='Latitude (°)', clabel='Res. Time (s)', \n",
    "    frame_height=350, \n",
    "    projection=ccrs.PlateCarree(), \n",
    "    geo=True, project=False, #global_extent=True,\n",
    "    xlim=(-140, -20), ylim=(-40, 80), \n",
    "    framewise=False, coastline=True, dynamic=True,\n",
    "    cmap='coolwarm',\n",
    ")\n",
    "pl * san_diego * flight_path * first_rel * frankfurt"
   ]
  },
  {
   "cell_type": "code",
   "execution_count": null,
   "metadata": {},
   "outputs": [],
   "source": [
    "dr = xr.open_dataset('/o3p/macc/test/GLM_array_155/GLM_array_155_20-21_batch_bis.nc')\n",
    "flash_en = dr.flash_energy.where(dr.flash_energy > 0)\n",
    "flash_num = dr.num_flash.where(dr.num_flash > 0)"
   ]
  },
  {
   "cell_type": "code",
   "execution_count": null,
   "metadata": {},
   "outputs": [],
   "source": [
    "pl24 = (flash_en).hvplot.image(\n",
    "    x='longitude', y='latitude',  title='Total flash energy',\n",
    "    xlabel = 'Longitude (°)', ylabel = 'Latitude (°)', clabel = 'Flash energy (J)',\n",
    "    frame_height=350, \n",
    "    projection=ccrs.PlateCarree(),\n",
    "    geo=True, project=False, #global_extent=True,\n",
    "    xlim=(-140, -20), ylim=(-40, 80),       #get_extent(-170, -20, -60, 60),\n",
    "    framewise=False, coastline=True, dynamic=True,\n",
    "    cmap='spring'\n",
    ")\n",
    "pl24  * san_diego * flight_path * first_rel"
   ]
  },
  {
   "cell_type": "code",
   "execution_count": null,
   "metadata": {},
   "outputs": [],
   "source": [
    "pl * pl24 * flight_path * first_rel * san_diego\n",
    "# pl * pl3 * flight_path * san_diego"
   ]
  },
  {
   "cell_type": "code",
   "execution_count": null,
   "metadata": {},
   "outputs": [],
   "source": [
    "dr = xr.open_dataset('/o3p/macc/nldn/data_netcdf_hours_1deg/2018_6_4_20.nc')\n",
    "amp = dr.amplitude.where(dr.amplitude > 0)\n",
    "\n",
    "plnl24 = (amp).hvplot.image(\n",
    "    x='longitude', y='latitude',  title='NLDN Peak Current', \n",
    "    xlabel = 'Longitude (°)', ylabel = 'Latitude (°)', clabel = 'Peak Current (kA)',\n",
    "    frame_height=350, \n",
    "    projection=ccrs.PlateCarree(), \n",
    "    geo=True, project=False, #global_extent=True,\n",
    "    xlim=(-140, -20), ylim=(-60, 60), \n",
    "    framewise=False, coastline=True, dynamic=True,\n",
    "    #cmap='Gnuplot'\n",
    "    cmap='winter'\n",
    ")\n",
    "plnl24 * san_diego * flight_path * first_rel"
   ]
  },
  {
   "cell_type": "code",
   "execution_count": null,
   "metadata": {},
   "outputs": [],
   "source": [
    "pl * pl24 * san_diego * flight_path * first_rel"
   ]
  },
  {
   "cell_type": "code",
   "execution_count": null,
   "metadata": {},
   "outputs": [],
   "source": [
    "pl * plnl24 * san_diego * flight_path * first_rel"
   ]
  },
  {
   "cell_type": "code",
   "execution_count": null,
   "metadata": {},
   "outputs": [],
   "source": [
    "pl * pl24 * plnl24 * san_diego * flight_path * first_rel"
   ]
  },
  {
   "cell_type": "code",
   "execution_count": null,
   "metadata": {},
   "outputs": [],
   "source": [
    "# Hourly views from -24 hrs to -48 hrs for release 1\n",
    "# Hour is -24 == 24/05/2015 @ 21h00\n",
    "da_all_agregated = da.isel(pointspec=0, time=slice(25,26)).sum(dim=('height', 'time'))\n",
    "pl = da_all_agregated.hvplot.image(\n",
    "    x='longitude', y='latitude',  title='Max residence time t-25h and all altitudes',\n",
    "    xlabel='Longitude (°)', ylabel='Latitude (°)', clabel='Res. Time (s)', \n",
    "    frame_height=350, \n",
    "    projection=ccrs.PlateCarree(), \n",
    "    geo=True, project=False, #global_extent=True,\n",
    "    xlim=(-140, -20), ylim=(-40, 80),\n",
    "    framewise=False, coastline=True, dynamic=True,\n",
    "    cmap='coolwarm',\n",
    ")\n",
    "pl  * flight_path * san_diego * first_rel * frankfurt"
   ]
  },
  {
   "cell_type": "code",
   "execution_count": null,
   "metadata": {},
   "outputs": [],
   "source": [
    "dr = xr.open_dataset('/o3p/macc/test/GLM_array_155/GLM_array_155_19-20_batch_bis.nc')\n",
    "flash_en = dr.flash_energy.where(dr.flash_energy > 0)\n",
    "flash_num = dr.num_flash.where(dr.num_flash > 0)"
   ]
  },
  {
   "cell_type": "code",
   "execution_count": null,
   "metadata": {},
   "outputs": [],
   "source": [
    "pl25 = (flash_en).hvplot.image(\n",
    "    x='longitude', y='latitude',  title='Total flash energy',\n",
    "    xlabel = 'Longitude (°)', ylabel = 'Latitude (°)', clabel = 'Flash energy (J)',\n",
    "    frame_height=350, \n",
    "    projection=ccrs.PlateCarree(),\n",
    "    geo=True, project=False, #global_extent=True,\n",
    "    xlim=(-140, -20), ylim=(-40, 80),       #get_extent(-170, -20, -60, 60),\n",
    "    framewise=False, coastline=True, dynamic=True,\n",
    "    cmap='spring'\n",
    ")\n",
    "pl25  * san_diego * flight_path * first_rel"
   ]
  },
  {
   "cell_type": "code",
   "execution_count": null,
   "metadata": {},
   "outputs": [],
   "source": [
    "dr = xr.open_dataset('/o3p/macc/nldn/data_netcdf_hours_1deg/2018_6_4_19.nc')\n",
    "amp = dr.amplitude.where(dr.amplitude > 0)\n",
    "\n",
    "plnl25 = (amp).hvplot.image(\n",
    "    x='longitude', y='latitude',  title='NLDN Peak Current', \n",
    "    xlabel = 'Longitude (°)', ylabel = 'Latitude (°)', clabel = 'Peak Current (kA)',\n",
    "    frame_height=350, \n",
    "    projection=ccrs.PlateCarree(), \n",
    "    geo=True, project=False, #global_extent=True,\n",
    "    xlim=(-140, -20), ylim=(-60, 60), \n",
    "    framewise=False, coastline=True, dynamic=True,\n",
    "    #cmap='Gnuplot'\n",
    "    cmap='winter'\n",
    ")\n",
    "plnl25 * san_diego * flight_path * first_rel"
   ]
  },
  {
   "cell_type": "code",
   "execution_count": null,
   "metadata": {},
   "outputs": [],
   "source": [
    "pl * pl25 * flight_path * first_rel * san_diego\n",
    "# pl * pl3 * flight_path * san_diego"
   ]
  },
  {
   "cell_type": "code",
   "execution_count": null,
   "metadata": {},
   "outputs": [],
   "source": [
    "pl * plnl25 * flight_path * first_rel * san_diego"
   ]
  },
  {
   "cell_type": "code",
   "execution_count": null,
   "metadata": {},
   "outputs": [],
   "source": [
    "pl * pl25 * plnl25 * flight_path * first_rel * san_diego"
   ]
  },
  {
   "cell_type": "code",
   "execution_count": null,
   "metadata": {},
   "outputs": [],
   "source": [
    "# Hourly views from -24 hrs to -48 hrs for release 1\n",
    "# Hour is -24 == 24/05/2015 @ 18h00\n",
    "da_all_agregated = da.isel(pointspec=0, time=slice(26,27)).sum(dim=('height', 'time'))\n",
    "pl = da_all_agregated.hvplot.image(\n",
    "    x='longitude', y='latitude',  title='Max residence time t-26 and all altitudes',\n",
    "    xlabel='Longitude (°)', ylabel='Latitude (°)', clabel='Res. Time (s)', \n",
    "    frame_height=350, \n",
    "    projection=ccrs.PlateCarree(), \n",
    "    geo=True, project=False, #global_extent=True,\n",
    "    xlim=(-140, -20), ylim=(-40, 80),\n",
    "    framewise=False, coastline=True, dynamic=True,\n",
    "    cmap='coolwarm',\n",
    ")\n",
    "pl  * flight_path * san_diego * first_rel * frankfurt"
   ]
  },
  {
   "cell_type": "code",
   "execution_count": null,
   "metadata": {},
   "outputs": [],
   "source": [
    "# Hourly views from -24 hrs to -48 hrs for release 1\n",
    "# Hour is -24 == 24/05/2015 @ 18h00\n",
    "da_all_agregated = da.isel(pointspec=0, time=slice(27,28)).sum(dim=('height', 'time'))\n",
    "pl = da_all_agregated.hvplot.image(\n",
    "    x='longitude', y='latitude',  title='Max residence time t-27h and all altitudes',\n",
    "    xlabel='Longitude (°)', ylabel='Latitude (°)', clabel='Res. Time (s)', \n",
    "    frame_height=350, \n",
    "    projection=ccrs.PlateCarree(), \n",
    "    geo=True, project=False, #global_extent=True,\n",
    "    xlim=(-140, -20), ylim=(-40, 80),\n",
    "    framewise=False, coastline=True, dynamic=True,\n",
    "    cmap='coolwarm',\n",
    ")\n",
    "pl  * flight_path * san_diego * first_rel * frankfurt"
   ]
  },
  {
   "cell_type": "code",
   "execution_count": null,
   "metadata": {},
   "outputs": [],
   "source": [
    "dr = xr.open_dataset('/o3p/macc/test/GLM_array_155/GLM_array_155_17-18_batch_bis.nc')\n",
    "flash_en = dr.flash_energy.where(dr.flash_energy > 0)\n",
    "flash_num = dr.num_flash.where(dr.num_flash > 0)"
   ]
  },
  {
   "cell_type": "code",
   "execution_count": null,
   "metadata": {},
   "outputs": [],
   "source": [
    "pl27 = (flash_en).hvplot.image(\n",
    "    x='longitude', y='latitude',  title='Total flash energy',\n",
    "    xlabel = 'Longitude (°)', ylabel = 'Latitude (°)', clabel = 'Flash energy (J)',\n",
    "    frame_height=350, \n",
    "    projection=ccrs.PlateCarree(),\n",
    "    geo=True, project=False, #global_extent=True,\n",
    "    xlim=(-140, -20), ylim=(-40, 80),       #get_extent(-170, -20, -60, 60),\n",
    "    framewise=False, coastline=True, dynamic=True,\n",
    "    cmap='spring'\n",
    ")\n",
    "pl27  * san_diego * flight_path * first_rel"
   ]
  },
  {
   "cell_type": "code",
   "execution_count": null,
   "metadata": {},
   "outputs": [],
   "source": [
    "# /o3p/macc/nldn/data_netcdf_hours_1deg/2018_6_4_17.nc does not exist\n"
   ]
  },
  {
   "cell_type": "code",
   "execution_count": null,
   "metadata": {},
   "outputs": [],
   "source": [
    "pl * pl27 * flight_path * first_rel * san_diego\n",
    "# pl * pl3 * flight_path * san_diego"
   ]
  },
  {
   "cell_type": "code",
   "execution_count": null,
   "metadata": {},
   "outputs": [],
   "source": [
    "da_all_agregated = da.isel(pointspec=0, time=slice(28,29)).sum(dim=('height', 'time'))\n",
    "pl = da_all_agregated.hvplot.image(\n",
    "    x='longitude', y='latitude',  title='Max residence time t-28h and all altitudes',\n",
    "    xlabel='Longitude (°)', ylabel='Latitude (°)', clabel='Res. Time (s)', \n",
    "    frame_height=350, \n",
    "    projection=ccrs.PlateCarree(), \n",
    "    geo=True, project=False, #global_extent=True,\n",
    "    xlim=(-140, -20), ylim=(-40, 80),\n",
    "    framewise=False, coastline=True, dynamic=True,\n",
    "    cmap='coolwarm',\n",
    ")\n",
    "pl  * flight_path * san_diego * first_rel * frankfurt"
   ]
  },
  {
   "cell_type": "code",
   "execution_count": null,
   "metadata": {},
   "outputs": [],
   "source": [
    "dr = xr.open_dataset('/o3p/macc/test/GLM_array_155/GLM_array_155_16-17_batch_bis.nc')\n",
    "flash_en = dr.flash_energy.where(dr.flash_energy > 0)\n",
    "flash_num = dr.num_flash.where(dr.num_flash > 0)\n",
    "pl28 = (flash_en).hvplot.image(\n",
    "    x='longitude', y='latitude',  title='Total flash energy',\n",
    "    xlabel = 'Longitude (°)', ylabel = 'Latitude (°)', clabel = 'Flash energy (J)',\n",
    "    frame_height=350, \n",
    "    projection=ccrs.PlateCarree(),\n",
    "    geo=True, project=False, #global_extent=True,\n",
    "    xlim=(-140, -20), ylim=(-40, 80),       #get_extent(-170, -20, -60, 60),\n",
    "    framewise=False, coastline=True, dynamic=True,\n",
    "    cmap='spring'\n",
    ")\n",
    "pl28  * san_diego * flight_path * first_rel"
   ]
  },
  {
   "cell_type": "code",
   "execution_count": null,
   "metadata": {},
   "outputs": [],
   "source": [
    "dr = xr.open_dataset('/o3p/macc/nldn/data_netcdf_hours_1deg/2018_6_4_16.nc')\n",
    "amp = dr.amplitude.where(dr.amplitude > 0)\n",
    "\n",
    "plnl28 = (amp).hvplot.image(\n",
    "    x='longitude', y='latitude',  title='NLDN Peak Current', \n",
    "    xlabel = 'Longitude (°)', ylabel = 'Latitude (°)', clabel = 'Peak Current (kA)',\n",
    "    frame_height=350, \n",
    "    projection=ccrs.PlateCarree(), \n",
    "    geo=True, project=False, #global_extent=True,\n",
    "    xlim=(-140, -20), ylim=(-60, 60), \n",
    "    framewise=False, coastline=True, dynamic=True,\n",
    "    #cmap='Gnuplot'\n",
    "    cmap='winter'\n",
    ")\n",
    "plnl28 * san_diego * flight_path * first_rel"
   ]
  },
  {
   "cell_type": "code",
   "execution_count": null,
   "metadata": {},
   "outputs": [],
   "source": [
    "pl * pl28 * flight_path * san_diego * first_rel * frankfurt"
   ]
  },
  {
   "cell_type": "code",
   "execution_count": null,
   "metadata": {},
   "outputs": [],
   "source": [
    "pl * plnl28 * flight_path * san_diego * first_rel * frankfurt"
   ]
  },
  {
   "cell_type": "code",
   "execution_count": null,
   "metadata": {},
   "outputs": [],
   "source": [
    "pl * pl28 * plnl28 * flight_path * san_diego * first_rel * frankfurt"
   ]
  },
  {
   "cell_type": "code",
   "execution_count": null,
   "metadata": {},
   "outputs": [],
   "source": [
    "da_all_agregated = da.isel(pointspec=0, time=slice(29,30)).sum(dim=('height', 'time'))\n",
    "pl = da_all_agregated.hvplot.image(\n",
    "    x='longitude', y='latitude',  title='Max residence time t-29h and all altitudes',\n",
    "    xlabel='Longitude (°)', ylabel='Latitude (°)', clabel='Res. Time (s)', \n",
    "    frame_height=350, \n",
    "    projection=ccrs.PlateCarree(), \n",
    "    geo=True, project=False, #global_extent=True,\n",
    "    xlim=(-140, -20), ylim=(-60, 60), \n",
    "    framewise=False, coastline=True, dynamic=True,\n",
    "    cmap='coolwarm',\n",
    ")\n",
    "pl  * flight_path * san_diego * first_rel * frankfurt"
   ]
  },
  {
   "cell_type": "code",
   "execution_count": null,
   "metadata": {},
   "outputs": [],
   "source": [
    "dr = xr.open_dataset('/o3p/macc/test/GLM_array_155/GLM_array_155_15-16_batch_bis.nc')\n",
    "flash_en = dr.flash_energy.where(dr.flash_energy > 0)\n",
    "flash_num = dr.num_flash.where(dr.num_flash > 0)\n",
    "pl29 = (flash_en).hvplot.image(\n",
    "    x='longitude', y='latitude',  title='Total flash energy',\n",
    "    xlabel = 'Longitude (°)', ylabel = 'Latitude (°)', clabel = 'Flash energy (J)',\n",
    "    frame_height=350, \n",
    "    projection=ccrs.PlateCarree(),\n",
    "    geo=True, project=False, #global_extent=True,\n",
    "    xlim=(-140, -20), ylim=(-40, 80),       #get_extent(-170, -20, -60, 60),\n",
    "    framewise=False, coastline=True, dynamic=True,\n",
    "    cmap='spring'\n",
    ")\n",
    "pl29  * san_diego * flight_path * first_rel"
   ]
  },
  {
   "cell_type": "code",
   "execution_count": null,
   "metadata": {},
   "outputs": [],
   "source": [
    "dr = xr.open_dataset('/o3p/macc/nldn/data_netcdf_hours_1deg/2018_6_4_15.nc')\n",
    "amp = dr.amplitude.where(dr.amplitude > 0)\n",
    "\n",
    "plnl29 = (amp).hvplot.image(\n",
    "    x='longitude', y='latitude',  title='NLDN Peak Current', \n",
    "    xlabel = 'Longitude (°)', ylabel = 'Latitude (°)', clabel = 'Peak Current (kA)',\n",
    "    frame_height=350, \n",
    "    projection=ccrs.PlateCarree(), \n",
    "    geo=True, project=False, #global_extent=True,\n",
    "    xlim=(-140, -20), ylim=(-60, 60), \n",
    "    framewise=False, coastline=True, dynamic=True,\n",
    "    #cmap='Gnuplot'\n",
    "    cmap='winter'\n",
    ")\n",
    "plnl29 * san_diego * flight_path * first_rel"
   ]
  },
  {
   "cell_type": "code",
   "execution_count": null,
   "metadata": {},
   "outputs": [],
   "source": [
    "pl * pl29 * flight_path * san_diego * first_rel * frankfurt"
   ]
  },
  {
   "cell_type": "code",
   "execution_count": null,
   "metadata": {},
   "outputs": [],
   "source": [
    "pl * plnl29 * flight_path * san_diego * first_rel * frankfurt"
   ]
  },
  {
   "cell_type": "code",
   "execution_count": null,
   "metadata": {},
   "outputs": [],
   "source": [
    "pl * pl29 * plnl29 * flight_path * san_diego * first_rel * frankfurt"
   ]
  },
  {
   "cell_type": "code",
   "execution_count": null,
   "metadata": {},
   "outputs": [],
   "source": [
    "da_all_agregated = da.isel(pointspec=0, time=slice(30,31)).sum(dim=('height', 'time'))\n",
    "pl = da_all_agregated.hvplot.image(\n",
    "    x='longitude', y='latitude',  title='Max residence time t-30h and all altitudes',\n",
    "    xlabel='Longitude (°)', ylabel='Latitude (°)', clabel='Res. Time (s)', \n",
    "    frame_height=350, \n",
    "    projection=ccrs.PlateCarree(), \n",
    "    geo=True, project=False, #global_extent=True,\n",
    "    xlim=(-140, -20), ylim=(-60, 60), \n",
    "    framewise=False, coastline=True, dynamic=True,\n",
    "    cmap='coolwarm',\n",
    ")\n",
    "pl  * flight_path * san_diego * first_rel * frankfurt"
   ]
  },
  {
   "cell_type": "code",
   "execution_count": null,
   "metadata": {},
   "outputs": [],
   "source": [
    "dr = xr.open_dataset('/o3p/macc/test/GLM_array_155/GLM_array_155_14-15_batch_bis.nc')\n",
    "flash_en = dr.flash_energy.where(dr.flash_energy > 0)\n",
    "flash_num = dr.num_flash.where(dr.num_flash > 0)\n",
    "pl30 = (flash_en).hvplot.image(\n",
    "    x='longitude', y='latitude',  title='Total flash energy',\n",
    "    xlabel = 'Longitude (°)', ylabel = 'Latitude (°)', clabel = 'Flash energy (J)',\n",
    "    frame_height=350, \n",
    "    projection=ccrs.PlateCarree(),\n",
    "    geo=True, project=False, #global_extent=True,\n",
    "    xlim=(-140, -20), ylim=(-40, 80),       #get_extent(-170, -20, -60, 60),\n",
    "    framewise=False, coastline=True, dynamic=True,\n",
    "    cmap='spring'\n",
    ")\n",
    "pl30  * san_diego * flight_path * first_rel"
   ]
  },
  {
   "cell_type": "code",
   "execution_count": null,
   "metadata": {},
   "outputs": [],
   "source": [
    "dr = xr.open_dataset('/o3p/macc/nldn/data_netcdf_hours_1deg/2018_6_4_14.nc')\n",
    "amp = dr.amplitude.where(dr.amplitude > 0)\n",
    "\n",
    "plnl30 = (amp).hvplot.image(\n",
    "    x='longitude', y='latitude',  title='NLDN Peak Current', \n",
    "    xlabel = 'Longitude (°)', ylabel = 'Latitude (°)', clabel = 'Peak Current (kA)',\n",
    "    frame_height=350, \n",
    "    projection=ccrs.PlateCarree(), \n",
    "    geo=True, project=False, #global_extent=True,\n",
    "    xlim=(-140, -20), ylim=(-60, 60), \n",
    "    framewise=False, coastline=True, dynamic=True,\n",
    "    #cmap='Gnuplot'\n",
    "    cmap='winter'\n",
    ")\n",
    "plnl30 * san_diego * flight_path * first_rel"
   ]
  },
  {
   "cell_type": "code",
   "execution_count": null,
   "metadata": {},
   "outputs": [],
   "source": [
    "pl * pl30 * flight_path * san_diego * first_rel * frankfurt"
   ]
  },
  {
   "cell_type": "code",
   "execution_count": null,
   "metadata": {},
   "outputs": [],
   "source": [
    "pl * plnl30 * flight_path * san_diego * first_rel * frankfurt"
   ]
  },
  {
   "cell_type": "code",
   "execution_count": null,
   "metadata": {},
   "outputs": [],
   "source": [
    "pl * pl30 * plnl30 * flight_path * san_diego * first_rel * frankfurt"
   ]
  },
  {
   "cell_type": "code",
   "execution_count": null,
   "metadata": {},
   "outputs": [],
   "source": [
    "# Hourly views from -24 hrs to -48 hrs for release 1\n",
    "# Hour is -24 == 24/05/2015 @ 12h00\n",
    "da_all_agregated = da.isel(pointspec=0, time=slice(33,34)).sum(dim=('height', 'time'))\n",
    "pl = da_all_agregated.hvplot.image(\n",
    "    x='longitude', y='latitude',  title='Max residence time for release=1, 29/06/2015 @ 12h00 and all altitudes',\n",
    "    xlabel='Longitude (°)', ylabel='Latitude (°)', clabel='Res. Time (s)', \n",
    "    frame_height=350, \n",
    "    projection=ccrs.PlateCarree(), \n",
    "    geo=True, project=False, global_extent=True,\n",
    "    framewise=False, coastline=True, dynamic=True,\n",
    "    cmap='coolwarm',\n",
    ")\n",
    "pl  * flight_path * san_diego * first_rel * frankfurt"
   ]
  },
  {
   "cell_type": "code",
   "execution_count": null,
   "metadata": {},
   "outputs": [],
   "source": [
    "# Hourly views from -24 hrs to -48 hrs for release 1\n",
    "# Hour is -24 == 24/05/2015 @ 09h00\n",
    "da_all_agregated = da.isel(pointspec=0, time=slice(36,37)).sum(dim=('height', 'time'))\n",
    "pl = da_all_agregated.hvplot.image(\n",
    "    x='longitude', y='latitude',  title='Max residence time for release=1, 29/06/2015 @ 09h00 and all altitudes',\n",
    "    xlabel='Longitude (°)', ylabel='Latitude (°)', clabel='Res. Time (s)', \n",
    "    frame_height=350, \n",
    "    projection=ccrs.PlateCarree(), \n",
    "    geo=True, project=False, global_extent=True,\n",
    "    framewise=False, coastline=True, dynamic=True,\n",
    "    cmap='coolwarm',\n",
    ")\n",
    "pl  * flight_path * san_diego * first_rel * frankfurt"
   ]
  },
  {
   "cell_type": "code",
   "execution_count": null,
   "metadata": {},
   "outputs": [],
   "source": [
    "# Hourly views from -24 hrs to -48 hrs for release 1\n",
    "# Hour is -24 == 24/05/2015 @ 09h00\n",
    "da_all_agregated = da.isel(pointspec=0, time=slice(39,40)).sum(dim=('height', 'time'))\n",
    "pl = da_all_agregated.hvplot.image(\n",
    "    x='longitude', y='latitude',  title='Max residence time for release=1, 29/06/2015 @ 06h00 and all altitudes',\n",
    "    xlabel='Longitude (°)', ylabel='Latitude (°)', clabel='Res. Time (s)', \n",
    "    frame_height=350, \n",
    "    projection=ccrs.PlateCarree(), \n",
    "    geo=True, project=False, global_extent=True,\n",
    "    framewise=False, coastline=True, dynamic=True,\n",
    "    cmap='coolwarm',\n",
    ")\n",
    "pl  * flight_path * san_diego * first_rel * frankfurt"
   ]
  },
  {
   "cell_type": "code",
   "execution_count": null,
   "metadata": {},
   "outputs": [],
   "source": [
    "# Hourly views from -24 hrs to -48 hrs for release 1\n",
    "# Hour is -24 == 24/05/2015 @ 09h00\n",
    "da_all_agregated = da.isel(pointspec=0, time=slice(42,43)).sum(dim=('height', 'time'))\n",
    "pl = da_all_agregated.hvplot.image(\n",
    "    x='longitude', y='latitude',  title='Max residence time for release=1, 29/06/2015 @ 03h00 and all altitudes',\n",
    "    xlabel='Longitude (°)', ylabel='Latitude (°)', clabel='Res. Time (s)', \n",
    "    frame_height=350, \n",
    "    projection=ccrs.PlateCarree(), \n",
    "    geo=True, project=False, global_extent=True,\n",
    "    framewise=False, coastline=True, dynamic=True,\n",
    "    cmap='coolwarm',\n",
    ")\n",
    "pl  * flight_path * san_diego * first_rel * frankfurt"
   ]
  },
  {
   "cell_type": "code",
   "execution_count": null,
   "metadata": {},
   "outputs": [],
   "source": [
    "# Hourly views from -24 hrs to -48 hrs for release 1\n",
    "# Hour is -24 == 24/05/2015 @ 09h00\n",
    "da_all_agregated = da.isel(pointspec=0, time=slice(45,46)).sum(dim=('height', 'time'))\n",
    "pl = da_all_agregated.hvplot.image(\n",
    "    x='longitude', y='latitude',  title='Max residence time for release=1, 29/06/2015 @ 00h00 and all altitudes',\n",
    "    xlabel='Longitude (°)', ylabel='Latitude (°)', clabel='Res. Time (s)', \n",
    "    frame_height=350, \n",
    "    projection=ccrs.PlateCarree(), \n",
    "    geo=True, project=False, global_extent=True,\n",
    "    framewise=False, coastline=True, dynamic=True,\n",
    "    cmap='coolwarm',\n",
    ")\n",
    "pl  * flight_path * san_diego * first_rel * frankfurt"
   ]
  },
  {
   "cell_type": "code",
   "execution_count": null,
   "metadata": {},
   "outputs": [],
   "source": [
    "# Hourly views from -24 hrs to -48 hrs for release 1\n",
    "# Hour is -24 == 24/05/2015 @ 09h00\n",
    "da_all_agregated = da.isel(pointspec=0, time=slice(48,49)).sum(dim=('height', 'time'))\n",
    "pl = da_all_agregated.hvplot.image(\n",
    "    x='longitude', y='latitude',  title='Max residence time for release=1, 28/06/2015 @ 21h00 and all altitudes',\n",
    "    xlabel='Longitude (°)', ylabel='Latitude (°)', clabel='Res. Time (s)', \n",
    "    frame_height=350, \n",
    "    projection=ccrs.PlateCarree(), \n",
    "    geo=True, project=False, global_extent=True,\n",
    "    framewise=False, coastline=True, dynamic=True,\n",
    "    cmap='coolwarm',\n",
    ")\n",
    "pl  * flight_path * san_diego * first_rel * frankfurt"
   ]
  },
  {
   "cell_type": "code",
   "execution_count": null,
   "metadata": {},
   "outputs": [],
   "source": [
    "# Hourly views from -24 hrs to -48 hrs for release 1\n",
    "# Hour is -24 == 24/05/2015 @ 09h00\n",
    "da_all_agregated = da.isel(pointspec=0, time=slice(51,52)).sum(dim=('height', 'time'))\n",
    "pl = da_all_agregated.hvplot.image(\n",
    "    x='longitude', y='latitude',  title='Max residence time for release=1, 28/06/2015 @ 18h00 and all altitudes',\n",
    "    xlabel='Longitude (°)', ylabel='Latitude (°)', clabel='Res. Time (s)', \n",
    "    frame_height=350, \n",
    "    projection=ccrs.PlateCarree(), \n",
    "    geo=True, project=False, global_extent=True,\n",
    "    framewise=False, coastline=True, dynamic=True,\n",
    "    cmap='coolwarm',\n",
    ")\n",
    "pl  * flight_path * san_diego * first_rel * frankfurt"
   ]
  },
  {
   "cell_type": "code",
   "execution_count": null,
   "metadata": {},
   "outputs": [],
   "source": [
    "# Hourly views from -24 hrs to -48 hrs for release 1\n",
    "# Hour is -24 == 24/05/2015 @ 09h00\n",
    "da_all_agregated = da.isel(pointspec=0, time=slice(54,55)).sum(dim=('height', 'time'))\n",
    "pl = da_all_agregated.hvplot.image(\n",
    "    x='longitude', y='latitude',  title='Max residence time for release=1, 28/06/2015 @ 15h00 and all altitudes',\n",
    "    xlabel='Longitude (°)', ylabel='Latitude (°)', clabel='Res. Time (s)', \n",
    "    frame_height=350, \n",
    "    projection=ccrs.PlateCarree(), \n",
    "    geo=True, project=False, global_extent=True,\n",
    "    framewise=False, coastline=True, dynamic=True,\n",
    "    cmap='coolwarm',\n",
    ")\n",
    "pl  * flight_path * san_diego * first_rel * frankfurt"
   ]
  },
  {
   "cell_type": "code",
   "execution_count": null,
   "metadata": {},
   "outputs": [],
   "source": [
    "# Hourly views from -24 hrs to -48 hrs for release 1\n",
    "# Hour is -24 == 24/05/2015 @ 09h00\n",
    "da_all_agregated = da.isel(pointspec=0, time=slice(57,58)).sum(dim=('height', 'time'))\n",
    "pl = da_all_agregated.hvplot.image(\n",
    "    x='longitude', y='latitude',  title='Max residence time for release=1, 28/06/2015 @ 12h00 and all altitudes', \n",
    "    xlabel='Longitude (°)', ylabel='Latitude (°)', clabel='Res. Time (s)', \n",
    "    frame_height=350, \n",
    "    projection=ccrs.PlateCarree(), \n",
    "    geo=True, project=False, global_extent=True,\n",
    "    framewise=False, coastline=True, dynamic=True,\n",
    "    cmap='coolwarm',\n",
    ")\n",
    "pl  * flight_path * san_diego * first_rel * frankfurt"
   ]
  },
  {
   "cell_type": "code",
   "execution_count": null,
   "metadata": {},
   "outputs": [],
   "source": [
    "# Hourly views from -24 hrs to -48 hrs for release 1\n",
    "# Hour is -24 == 24/05/2015 @ 09h00\n",
    "da_all_agregated = da.isel(pointspec=0, time=slice(60,61)).sum(dim=('height', 'time'))\n",
    "pl = da_all_agregated.hvplot.image(\n",
    "    x='longitude', y='latitude',  title='Max residence time for release=1, 28/06/2015 @ 09h00 and all altitudes',\n",
    "    xlabel='Longitude (°)', ylabel='Latitude (°)', clabel='Res. Time (s)', \n",
    "    frame_height=350, \n",
    "    projection=ccrs.PlateCarree(), \n",
    "    geo=True, project=False, global_extent=True,\n",
    "    framewise=False, coastline=True, dynamic=True,\n",
    "    cmap='coolwarm',\n",
    ")\n",
    "pl  * flight_path * san_diego * first_rel * frankfurt"
   ]
  },
  {
   "cell_type": "code",
   "execution_count": null,
   "metadata": {},
   "outputs": [],
   "source": [
    "# Hourly views from -24 hrs to -48 hrs for release 1\n",
    "# Hour is -24 == 24/05/2015 @ 09h00\n",
    "da_all_agregated = da.isel(pointspec=0, time=slice(63,64)).sum(dim=('height', 'time'))\n",
    "pl = da_all_agregated.hvplot.image(\n",
    "    x='longitude', y='latitude',  title='Max residence time for release=1, 28/06/2015 @ 06h00 and all altitudes',\n",
    "    xlabel='Longitude (°)', ylabel='Latitude (°)', clabel='Res. Time (s)', \n",
    "    frame_height=350, \n",
    "    projection=ccrs.PlateCarree(), \n",
    "    geo=True, project=False, global_extent=True,\n",
    "    framewise=False, coastline=True, dynamic=True,\n",
    "    cmap='coolwarm',\n",
    ")\n",
    "pl  * flight_path * san_diego * first_rel * frankfurt"
   ]
  },
  {
   "cell_type": "code",
   "execution_count": null,
   "metadata": {},
   "outputs": [],
   "source": [
    "# Hourly views from -24 hrs to -48 hrs for release 1\n",
    "# Hour is -24 == 24/05/2015 @ 09h00\n",
    "da_all_agregated = da.isel(pointspec=0, time=slice(66,67)).sum(dim=('height', 'time'))\n",
    "pl = da_all_agregated.hvplot.image(\n",
    "    x='longitude', y='latitude',  title='Max residence time for release=1, 28/06/2015 @ 03h00 and all altitudes',\n",
    "    xlabel='Longitude (°)', ylabel='Latitude (°)', clabel='Res. Time (s)', \n",
    "    frame_height=350, \n",
    "    projection=ccrs.PlateCarree(), \n",
    "    geo=True, project=False, global_extent=True,\n",
    "    framewise=False, coastline=True, dynamic=True,\n",
    "    cmap='coolwarm',\n",
    ")\n",
    "pl  * flight_path * san_diego * first_rel * frankfurt"
   ]
  },
  {
   "cell_type": "code",
   "execution_count": null,
   "metadata": {},
   "outputs": [],
   "source": [
    "# Hourly views from -24 hrs to -48 hrs for release 1\n",
    "# Hour is -24 == 24/05/2015 @ 09h00\n",
    "da_all_agregated = da.isel(pointspec=0, time=slice(69,70)).sum(dim=('height', 'time'))\n",
    "pl = da_all_agregated.hvplot.image(\n",
    "    x='longitude', y='latitude',  title='Max residence time for release=1, 28/06/2015 @ 00h00 and all altitudes',\n",
    "    xlabel='Longitude (°)', ylabel='Latitude (°)', clabel='Res. Time (s)', \n",
    "    frame_height=350, \n",
    "    projection=ccrs.PlateCarree(), \n",
    "    geo=True, project=False, global_extent=True,\n",
    "    framewise=False, coastline=True, dynamic=True,\n",
    "    cmap='coolwarm',\n",
    ")\n",
    "pl  * flight_path * san_diego * first_rel * frankfurt"
   ]
  },
  {
   "cell_type": "code",
   "execution_count": null,
   "metadata": {},
   "outputs": [],
   "source": [
    "# Hourly views from -24 hrs to -48 hrs for release 1\n",
    "# Hour is -24 == 24/05/2015 @ 09h00\n",
    "da_all_agregated = da.isel(pointspec=0, time=slice(72,73)).sum(dim=('height', 'time'))\n",
    "pl = da_all_agregated.hvplot.image(\n",
    "    x='longitude', y='latitude',  title='Max residence time for release=1, 27/06/2015 @ 21h00 and all altitudes',\n",
    "    xlabel='Longitude (°)', ylabel='Latitude (°)', clabel='Res. Time (s)', \n",
    "    frame_height=350, \n",
    "    projection=ccrs.PlateCarree(), \n",
    "    geo=True, project=False, global_extent=True,\n",
    "    framewise=False, coastline=True, dynamic=True,\n",
    "    cmap='coolwarm',\n",
    ")\n",
    "pl  * flight_path * san_diego * first_rel * frankfurt"
   ]
  },
  {
   "cell_type": "code",
   "execution_count": null,
   "metadata": {},
   "outputs": [],
   "source": [
    "# Hourly views from -24 hrs to -48 hrs for release 1\n",
    "# Hour is -24 == 24/05/2015 @ 09h00\n",
    "da_all_agregated = da.isel(pointspec=0, time=slice(75,76)).sum(dim=('height', 'time'))\n",
    "pl = da_all_agregated.hvplot.image(\n",
    "    x='longitude', y='latitude',  title='Max residence time for release=1, 27/06/2015 @ 18h00 and all altitudes',\n",
    "    xlabel='Longitude (°)', ylabel='Latitude (°)', clabel='Res. Time (s)', \n",
    "    frame_height=350, \n",
    "    projection=ccrs.PlateCarree(), \n",
    "    geo=True, project=False, global_extent=True,\n",
    "    framewise=False, coastline=True, dynamic=True,\n",
    "    cmap='coolwarm',\n",
    ")\n",
    "pl  * flight_path * san_diego * first_rel * frankfurt"
   ]
  },
  {
   "cell_type": "code",
   "execution_count": null,
   "metadata": {},
   "outputs": [],
   "source": [
    "# Hourly views from -24 hrs to -48 hrs for release 1\n",
    "# Hour is -24 == 24/05/2015 @ 09h00\n",
    "da_all_agregated = da.isel(pointspec=0, time=slice(78,79)).sum(dim=('height', 'time'))\n",
    "pl = da_all_agregated.hvplot.image(\n",
    "    x='longitude', y='latitude',  title='Max residence time for release=1, 27/06/2015 @ 15h00 and all altitudes',\n",
    "    xlabel='Longitude (°)', ylabel='Latitude (°)', clabel='Res. Time (s)', \n",
    "    frame_height=350, \n",
    "    projection=ccrs.PlateCarree(), \n",
    "    geo=True, project=False, global_extent=True,\n",
    "    framewise=False, coastline=True, dynamic=True,\n",
    "    cmap='coolwarm',\n",
    ")\n",
    "pl  * flight_path * san_diego * first_rel * frankfurt"
   ]
  },
  {
   "cell_type": "code",
   "execution_count": null,
   "metadata": {},
   "outputs": [],
   "source": [
    "# Hourly views from -24 hrs to -48 hrs for release 1\n",
    "# Hour is -24 == 24/05/2015 @ 09h00\n",
    "da_all_agregated = da.isel(pointspec=0, time=slice(80,100)).sum(dim=('height', 'time'))\n",
    "pl = da_all_agregated.hvplot.image(\n",
    "    x='longitude', y='latitude',  title='Plume dispersion t-80 -> t-100 hrs all altitudes',\n",
    "    xlabel='Longitude (°)', ylabel='Latitude (°)', clabel='Res. Time (s)', \n",
    "    frame_height=350, \n",
    "    projection=ccrs.PlateCarree(), \n",
    "    geo=True, project=False, global_extent=True,\n",
    "    framewise=False, coastline=True, dynamic=True,\n",
    "    cmap='coolwarm',\n",
    ")\n",
    "pl  * flight_path * san_diego * first_rel * frankfurt"
   ]
  },
  {
   "cell_type": "code",
   "execution_count": null,
   "metadata": {},
   "outputs": [],
   "source": []
  },
  {
   "cell_type": "code",
   "execution_count": null,
   "metadata": {},
   "outputs": [],
   "source": []
  },
  {
   "cell_type": "code",
   "execution_count": null,
   "metadata": {},
   "outputs": [],
   "source": []
  },
  {
   "cell_type": "code",
   "execution_count": null,
   "metadata": {},
   "outputs": [],
   "source": []
  },
  {
   "cell_type": "code",
   "execution_count": null,
   "metadata": {},
   "outputs": [],
   "source": []
  },
  {
   "cell_type": "code",
   "execution_count": null,
   "metadata": {},
   "outputs": [],
   "source": []
  },
  {
   "cell_type": "code",
   "execution_count": null,
   "metadata": {},
   "outputs": [],
   "source": []
  },
  {
   "cell_type": "code",
   "execution_count": null,
   "metadata": {},
   "outputs": [],
   "source": []
  },
  {
   "cell_type": "code",
   "execution_count": null,
   "metadata": {},
   "outputs": [],
   "source": []
  },
  {
   "cell_type": "code",
   "execution_count": null,
   "metadata": {},
   "outputs": [],
   "source": []
  },
  {
   "cell_type": "code",
   "execution_count": null,
   "metadata": {},
   "outputs": [],
   "source": []
  }
 ],
 "metadata": {
  "kernelspec": {
   "display_name": "Python 3 (ipykernel)",
   "language": "python",
   "name": "python3"
  },
  "language_info": {
   "codemirror_mode": {
    "name": "ipython",
    "version": 3
   },
   "file_extension": ".py",
   "mimetype": "text/x-python",
   "name": "python",
   "nbconvert_exporter": "python",
   "pygments_lexer": "ipython3",
   "version": "3.10.11"
  }
 },
 "nbformat": 4,
 "nbformat_minor": 4
}
