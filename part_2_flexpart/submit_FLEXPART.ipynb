{
 "cells": [
  {
   "cell_type": "code",
   "execution_count": null,
   "metadata": {},
   "outputs": [],
   "source": [
    "# submit_FLEXPART.ipynb\n",
    "\n",
    "# Checks all the required meteo files are available.\n",
    "# If so, checks AVAILABLE, COMMAND, pathnames and RELEASES are in the FLEXPART directory\n",
    "# And then launches the FLEXPART executable to submit the batch job\n",
    "# Otherwise warnings are given.\n",
    "\n",
    "# C. Mackay September 2022 (Catherine.Mackay@aero.obs-mip.fr)\n",
    "# https://github.com/ckmackay/SOFT-IO-LI.git\n",
    "\n",
    "# Suggestions/improvements to be made:\n",
    "\n",
    "# These functions exist in FLEXPART_auto.ipynb and just need to be uncommented it to launch \n",
    "# automatically if meteo files are already stored locally.\n",
    "\"\"\" Remarques\n",
    "    - faire une boucle pour que ça lance FLEXPART pour tous les vols trouvés, pour l'instant juste 1 par 1\n",
    "<!> Relancer FLEXPART quand j'aurais fait la modif pour quand il y a juste NO ou juste NO2\n",
    "\"\"\"\n"
   ]
  },
  {
   "cell_type": "code",
   "execution_count": 1,
   "metadata": {},
   "outputs": [],
   "source": [
    "import os\n",
    "import os.path\n",
    "from os.path import exists\n",
    "import subprocess"
   ]
  },
  {
   "cell_type": "code",
   "execution_count": 21,
   "metadata": {},
   "outputs": [],
   "source": [
    "# Check paths\n",
    "flexpart_path = '/o3p/macc/flexpart10.4/flexpart_v10.4_3d7eebf/src/exercises/soft-io-li/'\n",
    "flight_dir = 'temp2' # dossier du vol donné ########################################## (<!> PAS loop pour tous les lancer à la suite pour l'instant)\n",
    "meteo_path='/o3p/wolp/ECMWF/ERA5/050deg_1h_T319_eta1/'"
   ]
  },
  {
   "cell_type": "code",
   "execution_count": 72,
   "metadata": {},
   "outputs": [],
   "source": [
    "# Change directory to FLEXPART directory for given flight, check files to mlaunch FLEXPART are in place and execute flexpart.sh\n",
    "# Change back to current working directory\n",
    "\n",
    "def launch_FLEXPART():\n",
    "\n",
    "    cwd = os. getcwd()\n",
    "    os.chdir(flexpart_path+flight_dir)\n",
    "\n",
    "    if (os.path.exists(flexpart_path+flight_dir+'/options/RELEASES'))==True & (os.path.exists(flexpart_path+flight_dir+'/AVAILABLE'))==True & (os.path.exists(flexpart_path+flight_dir+'/pathnames'))==True & (os.path.exists(flexpart_path+flight_dir+'/options/COMMAND'))==True :  \n",
    "        print(\"Files for running FLEXPART exist\")\n",
    "\n",
    "        output = subprocess.Popen(['sbatch -p o3pwork '+flexpart_path+flight_dir+\"/flexpart.sh\"],shell=True)\n",
    "        print(\"FLEXPART process submitted to o3pwork queue on nuwa\")\n",
    "    \n",
    "    os.chdir(cwd)\n"
   ]
  },
  {
   "cell_type": "code",
   "execution_count": 73,
   "metadata": {},
   "outputs": [],
   "source": [
    "with open(flexpart_path+flight_dir+'/AVAILABLE', 'r+') as f:\n",
    "        list_of_lines = f.readlines()\n",
    "        \n",
    "ERA5_file=[]\n",
    "file_info=[]\n",
    "count = 0\n",
    "for i in range(3, len(list_of_lines)-1):\n",
    "    file_info = list_of_lines[i].split(\" \")\n",
    "    ERA5_file=(str(file_info[7]))\n",
    "    #print(meteo_path+ERA5_file)\n",
    "    if (os.path.exists(meteo_path+str(ERA5_file)))==True:\n",
    "        count = count+1\n",
    "        #print(\"ERA5 file present\")\n",
    "    else:\n",
    "        print(\"***WARNING*** ERA5_file missing\", meteo_path+ERA5_file)\n",
    "        \n",
    "if count==240:\n",
    "    print(\"All meteo files present\")\n",
    "    print(\"Launching FLEXPART!!!\")\n",
    "    launch_FLEXPART()\n",
    "else:\n",
    "    missing = 240-count\n",
    "    print(\"WARNING:\", missing, \"meteo files missing!\")"
   ]
  }
 ],
 "metadata": {
  "kernelspec": {
   "display_name": "Python 3 (ipykernel)",
   "language": "python",
   "name": "python3"
  },
  "language_info": {
   "codemirror_mode": {
    "name": "ipython",
    "version": 3
   },
   "file_extension": ".py",
   "mimetype": "text/x-python",
   "name": "python",
   "nbconvert_exporter": "python",
   "pygments_lexer": "ipython3",
   "version": "3.10.11"
  }
 },
 "nbformat": 4,
 "nbformat_minor": 4
}
