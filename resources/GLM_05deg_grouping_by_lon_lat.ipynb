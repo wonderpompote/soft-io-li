{
 "cells": [
  {
   "cell_type": "code",
   "execution_count": 10,
   "metadata": {},
   "outputs": [],
   "source": [
    "# GLM_05deg_grouping_by_lon_lat.ipynb \n",
    "\n",
    "# This programme opens the GLM files and grids the data into 0.5° x 0.5° grids,\n",
    "# the same as the FLEXPART output. It then saves the output in netCDF format.\n",
    "\n",
    "# C. Mackay March 2023 (Catherine.Mackay@aero.obs-mip.fr)\n",
    "# https://github.com/ckmackay/SOFT-IO-LI.git\n",
    "\n",
    "#Suggestions/improvements to be made:\n",
    "\n",
    "# could automatically loop over several days if required.\n",
    "\n",
    "# lon et lat en dur !!"
   ]
  },
  {
   "cell_type": "code",
   "execution_count": 2,
   "metadata": {},
   "outputs": [],
   "source": [
    "import numpy as np\n",
    "import xarray as xr\n",
    "import tqdm\n",
    "import pathlib\n",
    "import os.path"
   ]
  },
  {
   "cell_type": "code",
   "execution_count": 3,
   "metadata": {},
   "outputs": [],
   "source": [
    "idir = \"/o3p/macc/glm/OR_GLM-L2-LCFA_G16_s2018154\""
   ]
  },
  {
   "cell_type": "code",
   "execution_count": 4,
   "metadata": {},
   "outputs": [
    {
     "name": "stdout",
     "output_type": "stream",
     "text": [
      "23\n"
     ]
    }
   ],
   "source": [
    "#So as to avoid the problem of missing files, get filenames from the input directory and only use these\n",
    "\n",
    "filenames=[]\n",
    "s = []\n",
    "filenames = os.listdir(idir)\n",
    "print(len(filenames))\n"
   ]
  },
  {
   "cell_type": "code",
   "execution_count": 6,
   "metadata": {},
   "outputs": [
    {
     "name": "stdout",
     "output_type": "stream",
     "text": [
      "['GLM_array_154_00-01.nc', 'GLM_array_154_01-02.nc', 'GLM_array_154_02-03.nc', 'GLM_array_154_03-04.nc', 'GLM_array_154_04-05.nc', 'GLM_array_154_05-06.nc', 'GLM_array_154_06-07.nc', 'GLM_array_154_07-08.nc', 'GLM_array_154_08-09.nc', 'GLM_array_154_09-10.nc', 'GLM_array_154_10-11.nc', 'GLM_array_154_11-12.nc', 'GLM_array_154_12-13.nc', 'GLM_array_154_13-14.nc', 'GLM_array_154_14-15.nc', 'GLM_array_154_15-16.nc', 'GLM_array_154_16-17.nc', 'GLM_array_154_17-18.nc', 'GLM_array_154_19-20.nc', 'GLM_array_154_20-21.nc', 'GLM_array_154_21-22.nc', 'GLM_array_154_22-23.nc', 'GLM_array_154_23-00.nc']\n"
     ]
    }
   ],
   "source": [
    "#################\n",
    "print(sorted(filenames))\n",
    "#################"
   ]
  },
  {
   "cell_type": "code",
   "execution_count": 16,
   "metadata": {},
   "outputs": [],
   "source": [
    "#latitude = np.linspace(-89.5, 89.5, 180) # 1.0° resolution\n",
    "#longitude = np.linspace(-178.5, 180.5, 360) # 1.0° resolution"
   ]
  },
  {
   "cell_type": "code",
   "execution_count": 5,
   "metadata": {},
   "outputs": [],
   "source": [
    "latitude = np.linspace(-89.75, 89.75, 360) # 0.5°resolution\n",
    "longitude = np.linspace(-179.75, 179.75, 720) # 0.5°resolution"
   ]
  },
  {
   "cell_type": "code",
   "execution_count": 18,
   "metadata": {},
   "outputs": [],
   "source": [
    "#latitude = np.linspace(-89.75, 90, 720) # 0.25°resolution\n",
    "#longitude = np.linspace(-179.75, 180, 1440) # 0.25°resolution"
   ]
  },
  {
   "cell_type": "code",
   "execution_count": null,
   "metadata": {
    "tags": []
   },
   "outputs": [],
   "source": [
    "for i in range(len(filenames)):\n",
    "    f = filenames[i].split('_')\n",
    "    print(filenames[i])\n",
    "    s = (f[3].split('.'))\n",
    "    print(s[0])\n",
    "    dr = xr.Dataset(data_vars={'flash_energy': (['latitude', 'longitude'], np.zeros(shape=(len(latitude), len(longitude)))), \n",
    "                           'num_flash': (['latitude', 'longitude'], np.zeros(shape=(len(latitude), len(longitude)), dtype=int))}, # we want num_flash to be integer\n",
    "                coords={'latitude': latitude, \n",
    "                        'longitude': longitude})\n",
    "\n",
    "    \"\"\" pourquoi fait dr en deux fois ? pourrait juste faire en une avec ça ?? \"\"\";\n",
    "    #Just keep flash and group information\n",
    "    dr = xr.Dataset(data_vars={'flash_energy': (['latitude', 'longitude'], np.zeros(shape=(len(latitude), len(longitude)))), \n",
    "                           'num_flash': (['latitude', 'longitude'], np.zeros(shape=(len(latitude), len(longitude)), dtype=int)),\n",
    "                          'group_energy': (['latitude', 'longitude'], np.zeros(shape=(len(latitude), len(longitude)))), \n",
    "                           'num_group': (['latitude', 'longitude'], np.zeros(shape=(len(latitude), len(longitude)), dtype=int))}, # we want num_flash to be integer\n",
    "                coords={'latitude': latitude, \n",
    "                        'longitude': longitude})\n",
    "\n",
    "    # open glm dataset and add latitute, longitude coordinates (0.5 deg)\n",
    "    with xr.open_dataset(str(pathlib.PurePath(idir, 'GLM_array_154_'+s[0]+'.nc'))) as ds:\n",
    "        ds_with_lat_lon_bins = ds.assign_coords({'latitude': dr.latitude.sel(latitude=ds.flash_lat, method='nearest'), \n",
    "                                                 'longitude': dr.longitude.sel(longitude=ds.flash_lon, method='nearest')})\n",
    "        # group flashes by latitude\n",
    "        flash_energy_by_lat = ds_with_lat_lon_bins.flash_energy.groupby('latitude')\n",
    "        # for each 0.5deg latitude, group flashes by longitude, calculate flash_energy_sum and put it in dr dataset with nb of flashes for each latitude-longitude group\n",
    "        for lat, flash_energy_for_lat in tqdm.tqdm(flash_energy_by_lat):\n",
    "            flash_energy_for_lat_by_lon = flash_energy_for_lat.groupby('longitude')\n",
    "            flash_energy_sum = flash_energy_for_lat_by_lon.sum()          \n",
    "            dr.flash_energy.loc[dict(latitude=lat, longitude=flash_energy_sum.longitude)] = flash_energy_sum            \n",
    "            flash_energy_count = flash_energy_for_lat_by_lon.count()\n",
    "            dr.num_flash.loc[dict(latitude=lat, longitude=flash_energy_count.longitude)] = flash_energy_count\n",
    "\n",
    "    dr.to_netcdf('/o3p/macc/test/GLM_array_154_05deg/GLM_array_154_'+s[0]+'_batch_bis.nc')  \n",
    "\n"
   ]
  },
  {
   "cell_type": "code",
   "execution_count": 25,
   "metadata": {},
   "outputs": [],
   "source": [
    "# let's compare with the results obtained by other methods:\n",
    "#dr2 = xr.load_dataset('/home/macc/test/GLM_array_test/test_GLM_array_151_20-21_batch_bis.nc')\n",
    "#dr3 = xr.load_dataset('/home/macc/test/GLM_array_151/GLM_array_151_20-21_batch_bis.nc')\n",
    "#xr.testing.assert_allclose(dr, dr2)\n",
    "#xr.testing.assert_allclose(dr, dr3)\n",
    "#xr.testing.assert_allclose(dr2, dr3)"
   ]
  },
  {
   "cell_type": "code",
   "execution_count": null,
   "metadata": {},
   "outputs": [],
   "source": []
  },
  {
   "cell_type": "code",
   "execution_count": null,
   "metadata": {},
   "outputs": [],
   "source": []
  },
  {
   "cell_type": "code",
   "execution_count": null,
   "metadata": {},
   "outputs": [],
   "source": []
  }
 ],
 "metadata": {
  "kernelspec": {
   "display_name": "Python 3 (ipykernel)",
   "language": "python",
   "name": "python3"
  },
  "language_info": {
   "codemirror_mode": {
    "name": "ipython",
    "version": 3
   },
   "file_extension": ".py",
   "mimetype": "text/x-python",
   "name": "python",
   "nbconvert_exporter": "python",
   "pygments_lexer": "ipython3",
   "version": "3.10.11"
  }
 },
 "nbformat": 4,
 "nbformat_minor": 4
}
