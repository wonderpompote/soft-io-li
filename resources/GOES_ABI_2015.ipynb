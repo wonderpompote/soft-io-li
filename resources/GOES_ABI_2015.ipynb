{
 "cells": [
  {
   "cell_type": "code",
   "execution_count": null,
   "metadata": {},
   "outputs": [],
   "source": [
    "# GOES_ABI.ipynb - for 2015 data (there are changes in the ABI data format between 2015 and 2018)\n",
    "\n",
    "# This programme opens the ABI files (which are in HDF format) and grids the data into 0.5° x 0.5° grids,\n",
    "# the same as the FLEXPART output. It then saves the output in netCDF format.\n",
    "\n",
    "# C. Mackay March 2023 (Catherine.Mackay@aero.obs-mip.fr)\n",
    "# https://github.com/ckmackay/SOFT-IO-LI.git\n",
    "\n",
    "#Suggestions/improvements to be made:\n",
    "\n",
    "# could automatically loop over several days if required.\n"
   ]
  },
  {
   "cell_type": "code",
   "execution_count": null,
   "metadata": {},
   "outputs": [],
   "source": [
    "import numpy as np\n",
    "import pandas as pd\n",
    "import os.path\n",
    "from datetime import datetime\n",
    "import xarray as xr\n",
    "from io import StringIO\n",
    "import dask.array as da\n",
    "from pyhdf import SD"
   ]
  },
  {
   "cell_type": "code",
   "execution_count": null,
   "metadata": {},
   "outputs": [],
   "source": [
    "from pyhdf import SD\n",
    "dsets = ['Latitude', 'Longitude', 'Brightness_Temperature']\n",
    "def open_hdf4(url):\n",
    "    hdf = SD.SD(str(url))\n",
    "    #print(hdf)\n",
    "    dic = {}\n",
    "    for dsets, (dims, *_) in hdf.datasets().items():\n",
    "        #for v in dsets:\n",
    "         #   print(v)\n",
    "        hdf_v = hdf.select(dsets)\n",
    "        #print(hdf_v)\n",
    "        fill_value = hdf_v.getfillvalue()\n",
    "        val = hdf_v.get()\n",
    "        val = np.where(val != fill_value, val, np.nan)\n",
    "        dic[dsets] = (dims, val)\n",
    "    ds = xr.Dataset(dic)\n",
    "    return ds"
   ]
  },
  {
   "cell_type": "code",
   "execution_count": null,
   "metadata": {},
   "outputs": [],
   "source": [
    "#inputs\n",
    "\n",
    "day = '185'\n",
    "date = '2015-07-04'\n",
    "idir = \"/o3p/macc/test/ABI/2015/\"+day+\"/\"\n",
    "#print(idir)"
   ]
  },
  {
   "cell_type": "code",
   "execution_count": null,
   "metadata": {},
   "outputs": [
    {
     "name": "stdout",
     "output_type": "stream",
     "text": [
      "83\n"
     ]
    }
   ],
   "source": [
    "#So as to avoid the problem of missing files, get filenames from the input directory and only use these\n",
    "\n",
    "filenames=[]\n",
    "filenames = os.listdir(idir)\n",
    "print(len(filenames))"
   ]
  },
  {
   "cell_type": "code",
   "execution_count": null,
   "metadata": {},
   "outputs": [
    {
     "name": "stdout",
     "output_type": "stream",
     "text": [
      "---- bt -----\n",
      " <xarray.Dataset>\n",
      "Dimensions:                 (NbLines: 2806, NbColumns: 2806, NbCounts: 65536)\n",
      "Dimensions without coordinates: NbLines, NbColumns, NbCounts\n",
      "Data variables:\n",
      "    Brightness_Temperature  (NbLines, NbColumns) float64 nan nan nan ... nan nan\n",
      "    ScanTime                (NbLines) float32 -46.38 -45.92 ... 1.246e+03\n",
      "    SDS_To_Input_Count      (NbCounts) float64 nan nan nan nan ... nan nan nan\n",
      "    SDS_To_Native_Count     (NbCounts) float64 5.554e+04 nan nan ... nan nan nan\n",
      "\n",
      "----- bt_da -----\n",
      " <xarray.DataArray 'Brightness_Temperature' (Nlin: 2806, Ncol: 2806)>\n",
      "array([[nan, nan, nan, ..., nan, nan, nan],\n",
      "       [nan, nan, nan, ..., nan, nan, nan],\n",
      "       [nan, nan, nan, ..., nan, nan, nan],\n",
      "       ...,\n",
      "       [nan, nan, nan, ..., nan, nan, nan],\n",
      "       [nan, nan, nan, ..., nan, nan, nan],\n",
      "       [nan, nan, nan, ..., nan, nan, nan]])\n",
      "Dimensions without coordinates: Nlin, Ncol\n"
     ]
    }
   ],
   "source": [
    "\n",
    "coords = open_hdf4(\"/o3p/macc/test/ABI/2015/GOES-0750.C1.4km.hdf\")\n",
    "for i in range(len(filenames)):    \n",
    "    f = filenames[i].split('T')\n",
    "    s = f[1].split('_')\n",
    "    #print(s[0])\n",
    "    bt = open_hdf4('/o3p/macc/test/ABI/2015/'+day+'/'+filenames[i])\n",
    "    bt_da = bt.Brightness_Temperature.rename(dict(NbLines='Nlin', NbColumns='Ncol'))\n",
    "    ds = coords.assign(Brightness_Temperature=bt_da)\n",
    "    \n",
    "    latitude = np.linspace(-89.95, 89.95, 1800)\n",
    "    longitude = np.linspace(-178.95, 180.95, 3600)\n",
    "\n",
    "    lat_coord = xr.DataArray(latitude, coords={'latitude': latitude}, dims=['latitude'])\n",
    "    lon_coord = xr.DataArray(longitude, coords={'longitude': longitude}, dims=['longitude'])\n",
    "\n",
    "    # Enrich the dataset ds with extra non-dim coordinates (which behaves like variables more or less): latitude and longitude.\n",
    "    # They are a coarsed version of flash_lat, flash_lon, as we align them to 1.0/1.0 deg grid.\n",
    "    # This is done using the method .sel of the DataArray lat_coord / lon_coord; note the parameter method='nearest'.\n",
    "    ds['latitude'] = lat_coord.sel(latitude=ds.Latitude, method='nearest').where(ds.Latitude.notnull())\n",
    "    ds['longitude'] = lon_coord.sel(longitude=ds.Longitude, method='nearest').where(ds.Longitude.notnull())\n",
    "    # Let's get rid of auxilary, non-dimensional coordinates (like flash_lat, flash_lon, flash_id, etc.), as we will no longer need them.\n",
    "    # This is however an optional step.\n",
    "    ds = ds.reset_coords(drop=True)\n",
    "\n",
    "    # Since the variables in the dataset depends only on one dimension, it is straighforwad to convert it to a pandas' dataframe.\n",
    "    # The reason for doing this is that pandas, contrary to xarray, supports multivariable grouping (xarray allows grouping along a single variable only).\n",
    "    df = ds.to_dataframe()\n",
    "    df = df[['Brightness_Temperature', 'latitude', 'longitude']]\n",
    "    df = df.reset_index(drop=True)\n",
    "    # Do grouping and extract the flash_energy variable...\n",
    "    brightness_temperature_grouped = df.groupby(by=['latitude', 'longitude'], sort=True)['Brightness_Temperature']\n",
    "    # ...and perform aggregation we need\n",
    "    brightness_temperature_binned = brightness_temperature_grouped.mean()\n",
    "    brightness_temperature_binned = pd.DataFrame.from_dict({'brightness_temperature': brightness_temperature_binned})\n",
    "    # Convert back the resulting pandas' dataframe into xarray's dataset\n",
    "    dr_loc = xr.Dataset.from_dataframe(brightness_temperature_binned)\n",
    "    dr = xr.Dataset(data_vars={'brightness_temperature': (['latitude', 'longitude'], np.full(shape=(len(latitude), len(longitude)), fill_value=np.nan))}, \n",
    "                coords={'latitude': latitude, \n",
    "                        'longitude': longitude})\n",
    "    for v in dr: # iterate thru the variables 'flash_energy', 'num_flash'\n",
    "        dr[v].loc[dict(longitude=dr_loc.longitude, latitude=dr_loc.latitude)] = dr_loc[v] # performs the embedding\n",
    "    dr.to_netcdf('/o3p/macc/test/BTemp/2015/'+day+'_all/BT-'+day+'-'+s[0]+'.nc')\n",
    "    print(\"Done\", [i])"
   ]
  },
  {
   "cell_type": "code",
   "execution_count": null,
   "metadata": {},
   "outputs": [],
   "source": [
    "#Testing\n",
    "# let's compare with the results obtained by other methods:\n",
    "#dr2 = xr.load_dataset('/home/macc/151/BTemp/151/BT-151-02-30.nc')\n",
    "#dr3 = xr.load_dataset('/home/macc/151/BTemp/151/BT-151-02-30-00.nc')\n",
    "#xr.testing.assert_allclose(dr, dr2)\n",
    "#xr.testing.assert_allclose(dr, dr3)\n",
    "#xr.testing.assert_allclose(dr2, dr3)"
   ]
  },
  {
   "cell_type": "code",
   "execution_count": null,
   "metadata": {},
   "outputs": [],
   "source": []
  },
  {
   "cell_type": "code",
   "execution_count": null,
   "metadata": {},
   "outputs": [],
   "source": []
  }
 ],
 "metadata": {
  "kernelspec": {
   "display_name": "Python 3 (ipykernel)",
   "language": "python",
   "name": "python3"
  },
  "language_info": {
   "codemirror_mode": {
    "name": "ipython",
    "version": 3
   },
   "file_extension": ".py",
   "mimetype": "text/x-python",
   "name": "python",
   "nbconvert_exporter": "python",
   "pygments_lexer": "ipython3",
   "version": "3.10.11"
  }
 },
 "nbformat": 4,
 "nbformat_minor": 4
}
